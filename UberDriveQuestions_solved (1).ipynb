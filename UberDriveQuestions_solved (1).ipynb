{
  "nbformat": 4,
  "nbformat_minor": 0,
  "metadata": {
    "kernelspec": {
      "display_name": "Python 3",
      "language": "python",
      "name": "python3"
    },
    "language_info": {
      "codemirror_mode": {
        "name": "ipython",
        "version": 3
      },
      "file_extension": ".py",
      "mimetype": "text/x-python",
      "name": "python",
      "nbconvert_exporter": "python",
      "pygments_lexer": "ipython3",
      "version": "3.7.3"
    },
    "colab": {
      "name": "UberDriveQuestions - 2 - solved.ipynb",
      "provenance": []
    }
  },
  "cells": [
    {
      "cell_type": "markdown",
      "metadata": {
        "id": "M5WmqA0NL8Gh",
        "colab_type": "text"
      },
      "source": [
        "# Import the dataset and Load the dataset. Load the necessary libraries."
      ]
    },
    {
      "cell_type": "code",
      "metadata": {
        "scrolled": false,
        "id": "g1qEPrGoL8Gl",
        "colab_type": "code",
        "colab": {}
      },
      "source": [
        "import numpy as np\n",
        "import pandas as pd\n",
        "import matplotlib.pyplot as plt\n",
        "import seaborn as sns"
      ],
      "execution_count": 0,
      "outputs": []
    },
    {
      "cell_type": "code",
      "metadata": {
        "id": "_-iYTS-eL8Gs",
        "colab_type": "code",
        "colab": {}
      },
      "source": [
        "# Get the data\n",
        "uber_drives = pd.read_csv(\"C:/Users/vasu1/OneDrive/Desktop/uberdrive.csv\")"
      ],
      "execution_count": 0,
      "outputs": []
    },
    {
      "cell_type": "markdown",
      "metadata": {
        "id": "AdviwetoL8Gv",
        "colab_type": "text"
      },
      "source": [
        "## Q1. Show the last 10 records of the dataset. "
      ]
    },
    {
      "cell_type": "code",
      "metadata": {
        "id": "701IBEJ-L8Gw",
        "colab_type": "code",
        "colab": {},
        "outputId": "fc79489b-e771-4052-830d-653042c865db"
      },
      "source": [
        "uber_drives.tail(10)"
      ],
      "execution_count": 0,
      "outputs": [
        {
          "output_type": "execute_result",
          "data": {
            "text/html": [
              "<div>\n",
              "<style scoped>\n",
              "    .dataframe tbody tr th:only-of-type {\n",
              "        vertical-align: middle;\n",
              "    }\n",
              "\n",
              "    .dataframe tbody tr th {\n",
              "        vertical-align: top;\n",
              "    }\n",
              "\n",
              "    .dataframe thead th {\n",
              "        text-align: right;\n",
              "    }\n",
              "</style>\n",
              "<table border=\"1\" class=\"dataframe\">\n",
              "  <thead>\n",
              "    <tr style=\"text-align: right;\">\n",
              "      <th></th>\n",
              "      <th>START_DATE*</th>\n",
              "      <th>END_DATE*</th>\n",
              "      <th>CATEGORY*</th>\n",
              "      <th>START*</th>\n",
              "      <th>STOP*</th>\n",
              "      <th>MILES*</th>\n",
              "      <th>PURPOSE*</th>\n",
              "    </tr>\n",
              "  </thead>\n",
              "  <tbody>\n",
              "    <tr>\n",
              "      <th>1146</th>\n",
              "      <td>12/30/2016 11:31</td>\n",
              "      <td>12/30/2016 11:56</td>\n",
              "      <td>Business</td>\n",
              "      <td>Kar?chi</td>\n",
              "      <td>Kar?chi</td>\n",
              "      <td>2.9</td>\n",
              "      <td>Errand/Supplies</td>\n",
              "    </tr>\n",
              "    <tr>\n",
              "      <th>1147</th>\n",
              "      <td>12/30/2016 15:41</td>\n",
              "      <td>12/30/2016 16:03</td>\n",
              "      <td>Business</td>\n",
              "      <td>Kar?chi</td>\n",
              "      <td>Kar?chi</td>\n",
              "      <td>4.6</td>\n",
              "      <td>Errand/Supplies</td>\n",
              "    </tr>\n",
              "    <tr>\n",
              "      <th>1148</th>\n",
              "      <td>12/30/2016 16:45</td>\n",
              "      <td>12/30/2016 17:08</td>\n",
              "      <td>Business</td>\n",
              "      <td>Kar?chi</td>\n",
              "      <td>Kar?chi</td>\n",
              "      <td>4.6</td>\n",
              "      <td>Meeting</td>\n",
              "    </tr>\n",
              "    <tr>\n",
              "      <th>1149</th>\n",
              "      <td>12/30/2016 23:06</td>\n",
              "      <td>12/30/2016 23:10</td>\n",
              "      <td>Business</td>\n",
              "      <td>Kar?chi</td>\n",
              "      <td>Kar?chi</td>\n",
              "      <td>0.8</td>\n",
              "      <td>Customer Visit</td>\n",
              "    </tr>\n",
              "    <tr>\n",
              "      <th>1150</th>\n",
              "      <td>12/31/2016 1:07</td>\n",
              "      <td>12/31/2016 1:14</td>\n",
              "      <td>Business</td>\n",
              "      <td>Kar?chi</td>\n",
              "      <td>Kar?chi</td>\n",
              "      <td>0.7</td>\n",
              "      <td>Meeting</td>\n",
              "    </tr>\n",
              "    <tr>\n",
              "      <th>1151</th>\n",
              "      <td>12/31/2016 13:24</td>\n",
              "      <td>12/31/2016 13:42</td>\n",
              "      <td>Business</td>\n",
              "      <td>Kar?chi</td>\n",
              "      <td>Unknown Location</td>\n",
              "      <td>3.9</td>\n",
              "      <td>Temporary Site</td>\n",
              "    </tr>\n",
              "    <tr>\n",
              "      <th>1152</th>\n",
              "      <td>12/31/2016 15:03</td>\n",
              "      <td>12/31/2016 15:38</td>\n",
              "      <td>Business</td>\n",
              "      <td>Unknown Location</td>\n",
              "      <td>Unknown Location</td>\n",
              "      <td>16.2</td>\n",
              "      <td>Meeting</td>\n",
              "    </tr>\n",
              "    <tr>\n",
              "      <th>1153</th>\n",
              "      <td>12/31/2016 21:32</td>\n",
              "      <td>12/31/2016 21:50</td>\n",
              "      <td>Business</td>\n",
              "      <td>Katunayake</td>\n",
              "      <td>Gampaha</td>\n",
              "      <td>6.4</td>\n",
              "      <td>Temporary Site</td>\n",
              "    </tr>\n",
              "    <tr>\n",
              "      <th>1154</th>\n",
              "      <td>12/31/2016 22:08</td>\n",
              "      <td>12/31/2016 23:51</td>\n",
              "      <td>Business</td>\n",
              "      <td>Gampaha</td>\n",
              "      <td>Ilukwatta</td>\n",
              "      <td>48.2</td>\n",
              "      <td>Temporary Site</td>\n",
              "    </tr>\n",
              "    <tr>\n",
              "      <th>1155</th>\n",
              "      <td>Totals</td>\n",
              "      <td>NaN</td>\n",
              "      <td>NaN</td>\n",
              "      <td>NaN</td>\n",
              "      <td>NaN</td>\n",
              "      <td>12204.7</td>\n",
              "      <td>NaN</td>\n",
              "    </tr>\n",
              "  </tbody>\n",
              "</table>\n",
              "</div>"
            ],
            "text/plain": [
              "           START_DATE*         END_DATE* CATEGORY*            START*  \\\n",
              "1146  12/30/2016 11:31  12/30/2016 11:56  Business           Kar?chi   \n",
              "1147  12/30/2016 15:41  12/30/2016 16:03  Business           Kar?chi   \n",
              "1148  12/30/2016 16:45  12/30/2016 17:08  Business           Kar?chi   \n",
              "1149  12/30/2016 23:06  12/30/2016 23:10  Business           Kar?chi   \n",
              "1150   12/31/2016 1:07   12/31/2016 1:14  Business           Kar?chi   \n",
              "1151  12/31/2016 13:24  12/31/2016 13:42  Business           Kar?chi   \n",
              "1152  12/31/2016 15:03  12/31/2016 15:38  Business  Unknown Location   \n",
              "1153  12/31/2016 21:32  12/31/2016 21:50  Business        Katunayake   \n",
              "1154  12/31/2016 22:08  12/31/2016 23:51  Business           Gampaha   \n",
              "1155            Totals               NaN       NaN               NaN   \n",
              "\n",
              "                 STOP*   MILES*         PURPOSE*  \n",
              "1146           Kar?chi      2.9  Errand/Supplies  \n",
              "1147           Kar?chi      4.6  Errand/Supplies  \n",
              "1148           Kar?chi      4.6          Meeting  \n",
              "1149           Kar?chi      0.8   Customer Visit  \n",
              "1150           Kar?chi      0.7          Meeting  \n",
              "1151  Unknown Location      3.9   Temporary Site  \n",
              "1152  Unknown Location     16.2          Meeting  \n",
              "1153           Gampaha      6.4   Temporary Site  \n",
              "1154         Ilukwatta     48.2   Temporary Site  \n",
              "1155               NaN  12204.7              NaN  "
            ]
          },
          "metadata": {
            "tags": []
          },
          "execution_count": 295
        }
      ]
    },
    {
      "cell_type": "markdown",
      "metadata": {
        "id": "S_ztTUxlL8G0",
        "colab_type": "text"
      },
      "source": [
        "## Q2. Show the first 10 records of the dataset. "
      ]
    },
    {
      "cell_type": "code",
      "metadata": {
        "id": "TflQremGL8G1",
        "colab_type": "code",
        "colab": {},
        "outputId": "f0698ffd-9c81-4304-c3e6-98139998f9a1"
      },
      "source": [
        "uber_drives.head(10)"
      ],
      "execution_count": 0,
      "outputs": [
        {
          "output_type": "execute_result",
          "data": {
            "text/html": [
              "<div>\n",
              "<style scoped>\n",
              "    .dataframe tbody tr th:only-of-type {\n",
              "        vertical-align: middle;\n",
              "    }\n",
              "\n",
              "    .dataframe tbody tr th {\n",
              "        vertical-align: top;\n",
              "    }\n",
              "\n",
              "    .dataframe thead th {\n",
              "        text-align: right;\n",
              "    }\n",
              "</style>\n",
              "<table border=\"1\" class=\"dataframe\">\n",
              "  <thead>\n",
              "    <tr style=\"text-align: right;\">\n",
              "      <th></th>\n",
              "      <th>START_DATE*</th>\n",
              "      <th>END_DATE*</th>\n",
              "      <th>CATEGORY*</th>\n",
              "      <th>START*</th>\n",
              "      <th>STOP*</th>\n",
              "      <th>MILES*</th>\n",
              "      <th>PURPOSE*</th>\n",
              "    </tr>\n",
              "  </thead>\n",
              "  <tbody>\n",
              "    <tr>\n",
              "      <th>0</th>\n",
              "      <td>01-01-2016 21:11</td>\n",
              "      <td>01-01-2016 21:17</td>\n",
              "      <td>Business</td>\n",
              "      <td>Fort Pierce</td>\n",
              "      <td>Fort Pierce</td>\n",
              "      <td>5.1</td>\n",
              "      <td>Meal/Entertain</td>\n",
              "    </tr>\n",
              "    <tr>\n",
              "      <th>1</th>\n",
              "      <td>01-02-2016 01:25</td>\n",
              "      <td>01-02-2016 01:37</td>\n",
              "      <td>Business</td>\n",
              "      <td>Fort Pierce</td>\n",
              "      <td>Fort Pierce</td>\n",
              "      <td>5.0</td>\n",
              "      <td>NaN</td>\n",
              "    </tr>\n",
              "    <tr>\n",
              "      <th>2</th>\n",
              "      <td>01-02-2016 20:25</td>\n",
              "      <td>01-02-2016 20:38</td>\n",
              "      <td>Business</td>\n",
              "      <td>Fort Pierce</td>\n",
              "      <td>Fort Pierce</td>\n",
              "      <td>4.8</td>\n",
              "      <td>Errand/Supplies</td>\n",
              "    </tr>\n",
              "    <tr>\n",
              "      <th>3</th>\n",
              "      <td>01-05-2016 17:31</td>\n",
              "      <td>01-05-2016 17:45</td>\n",
              "      <td>Business</td>\n",
              "      <td>Fort Pierce</td>\n",
              "      <td>Fort Pierce</td>\n",
              "      <td>4.7</td>\n",
              "      <td>Meeting</td>\n",
              "    </tr>\n",
              "    <tr>\n",
              "      <th>4</th>\n",
              "      <td>01-06-2016 14:42</td>\n",
              "      <td>01-06-2016 15:49</td>\n",
              "      <td>Business</td>\n",
              "      <td>Fort Pierce</td>\n",
              "      <td>West Palm Beach</td>\n",
              "      <td>63.7</td>\n",
              "      <td>Customer Visit</td>\n",
              "    </tr>\n",
              "    <tr>\n",
              "      <th>5</th>\n",
              "      <td>01-06-2016 17:15</td>\n",
              "      <td>01-06-2016 17:19</td>\n",
              "      <td>Business</td>\n",
              "      <td>West Palm Beach</td>\n",
              "      <td>West Palm Beach</td>\n",
              "      <td>4.3</td>\n",
              "      <td>Meal/Entertain</td>\n",
              "    </tr>\n",
              "    <tr>\n",
              "      <th>6</th>\n",
              "      <td>01-06-2016 17:30</td>\n",
              "      <td>01-06-2016 17:35</td>\n",
              "      <td>Business</td>\n",
              "      <td>West Palm Beach</td>\n",
              "      <td>Palm Beach</td>\n",
              "      <td>7.1</td>\n",
              "      <td>Meeting</td>\n",
              "    </tr>\n",
              "    <tr>\n",
              "      <th>7</th>\n",
              "      <td>01-07-2016 13:27</td>\n",
              "      <td>01-07-2016 13:33</td>\n",
              "      <td>Business</td>\n",
              "      <td>Cary</td>\n",
              "      <td>Cary</td>\n",
              "      <td>0.8</td>\n",
              "      <td>Meeting</td>\n",
              "    </tr>\n",
              "    <tr>\n",
              "      <th>8</th>\n",
              "      <td>01-10-2016 08:05</td>\n",
              "      <td>01-10-2016 08:25</td>\n",
              "      <td>Business</td>\n",
              "      <td>Cary</td>\n",
              "      <td>Morrisville</td>\n",
              "      <td>8.3</td>\n",
              "      <td>Meeting</td>\n",
              "    </tr>\n",
              "    <tr>\n",
              "      <th>9</th>\n",
              "      <td>01-10-2016 12:17</td>\n",
              "      <td>01-10-2016 12:44</td>\n",
              "      <td>Business</td>\n",
              "      <td>Jamaica</td>\n",
              "      <td>New York</td>\n",
              "      <td>16.5</td>\n",
              "      <td>Customer Visit</td>\n",
              "    </tr>\n",
              "  </tbody>\n",
              "</table>\n",
              "</div>"
            ],
            "text/plain": [
              "        START_DATE*         END_DATE* CATEGORY*           START*  \\\n",
              "0  01-01-2016 21:11  01-01-2016 21:17  Business      Fort Pierce   \n",
              "1  01-02-2016 01:25  01-02-2016 01:37  Business      Fort Pierce   \n",
              "2  01-02-2016 20:25  01-02-2016 20:38  Business      Fort Pierce   \n",
              "3  01-05-2016 17:31  01-05-2016 17:45  Business      Fort Pierce   \n",
              "4  01-06-2016 14:42  01-06-2016 15:49  Business      Fort Pierce   \n",
              "5  01-06-2016 17:15  01-06-2016 17:19  Business  West Palm Beach   \n",
              "6  01-06-2016 17:30  01-06-2016 17:35  Business  West Palm Beach   \n",
              "7  01-07-2016 13:27  01-07-2016 13:33  Business             Cary   \n",
              "8  01-10-2016 08:05  01-10-2016 08:25  Business             Cary   \n",
              "9  01-10-2016 12:17  01-10-2016 12:44  Business          Jamaica   \n",
              "\n",
              "             STOP*  MILES*         PURPOSE*  \n",
              "0      Fort Pierce     5.1   Meal/Entertain  \n",
              "1      Fort Pierce     5.0              NaN  \n",
              "2      Fort Pierce     4.8  Errand/Supplies  \n",
              "3      Fort Pierce     4.7          Meeting  \n",
              "4  West Palm Beach    63.7   Customer Visit  \n",
              "5  West Palm Beach     4.3   Meal/Entertain  \n",
              "6       Palm Beach     7.1          Meeting  \n",
              "7             Cary     0.8          Meeting  \n",
              "8      Morrisville     8.3          Meeting  \n",
              "9         New York    16.5   Customer Visit  "
            ]
          },
          "metadata": {
            "tags": []
          },
          "execution_count": 296
        }
      ]
    },
    {
      "cell_type": "markdown",
      "metadata": {
        "id": "M3AxK7B3L8G4",
        "colab_type": "text"
      },
      "source": [
        "## Q3. Show the dimension of the dataset. "
      ]
    },
    {
      "cell_type": "code",
      "metadata": {
        "id": "V1VrB98IL8G5",
        "colab_type": "code",
        "colab": {},
        "outputId": "82b81341-62ff-4d3d-916a-c320870bdb8c"
      },
      "source": [
        "print(uber_drives.shape)"
      ],
      "execution_count": 0,
      "outputs": [
        {
          "output_type": "stream",
          "text": [
            "(1156, 7)\n"
          ],
          "name": "stdout"
        }
      ]
    },
    {
      "cell_type": "markdown",
      "metadata": {
        "id": "v2EE9fGUL8G9",
        "colab_type": "text"
      },
      "source": [
        "## Q4. Show the size of the dataset. "
      ]
    },
    {
      "cell_type": "code",
      "metadata": {
        "id": "7Dxr6rF5L8G-",
        "colab_type": "code",
        "colab": {},
        "outputId": "416648ac-a8aa-41d0-b382-2d85c9001646"
      },
      "source": [
        "print(uber_drives.size)"
      ],
      "execution_count": 0,
      "outputs": [
        {
          "output_type": "stream",
          "text": [
            "8092\n"
          ],
          "name": "stdout"
        }
      ]
    },
    {
      "cell_type": "markdown",
      "metadata": {
        "id": "nCEZtlo6L8HC",
        "colab_type": "text"
      },
      "source": [
        "## Q5. Print the information about all the variables of the data set. "
      ]
    },
    {
      "cell_type": "code",
      "metadata": {
        "id": "sdoRL1s2L8HD",
        "colab_type": "code",
        "colab": {},
        "outputId": "e0fd0925-8c65-431c-c5a6-83d7fbe9466b"
      },
      "source": [
        "print(uber_drives.info())"
      ],
      "execution_count": 0,
      "outputs": [
        {
          "output_type": "stream",
          "text": [
            "<class 'pandas.core.frame.DataFrame'>\n",
            "RangeIndex: 1156 entries, 0 to 1155\n",
            "Data columns (total 7 columns):\n",
            "START_DATE*    1156 non-null object\n",
            "END_DATE*      1155 non-null object\n",
            "CATEGORY*      1155 non-null object\n",
            "START*         1155 non-null object\n",
            "STOP*          1155 non-null object\n",
            "MILES*         1156 non-null float64\n",
            "PURPOSE*       653 non-null object\n",
            "dtypes: float64(1), object(6)\n",
            "memory usage: 63.3+ KB\n",
            "None\n"
          ],
          "name": "stdout"
        }
      ]
    },
    {
      "cell_type": "markdown",
      "metadata": {
        "id": "3glMKpPOL8HH",
        "colab_type": "text"
      },
      "source": [
        "## Q6. Check for missing values. "
      ]
    },
    {
      "cell_type": "code",
      "metadata": {
        "id": "F5tjMVERL8HI",
        "colab_type": "code",
        "colab": {},
        "outputId": "6650a4bb-c83a-4343-c217-a08836d04a77"
      },
      "source": [
        "uber_drives.isnull().values.any()"
      ],
      "execution_count": 0,
      "outputs": [
        {
          "output_type": "execute_result",
          "data": {
            "text/plain": [
              "True"
            ]
          },
          "metadata": {
            "tags": []
          },
          "execution_count": 300
        }
      ]
    },
    {
      "cell_type": "markdown",
      "metadata": {
        "id": "Z2w-hYdlL8HL",
        "colab_type": "text"
      },
      "source": [
        "## Q7. How many missing values are present?"
      ]
    },
    {
      "cell_type": "code",
      "metadata": {
        "id": "EE9DG2AML8HM",
        "colab_type": "code",
        "colab": {},
        "outputId": "e27c3427-07e8-43d7-b501-2c0e70820766"
      },
      "source": [
        "uber_drives.isnull().values.sum()"
      ],
      "execution_count": 0,
      "outputs": [
        {
          "output_type": "execute_result",
          "data": {
            "text/plain": [
              "507"
            ]
          },
          "metadata": {
            "tags": []
          },
          "execution_count": 301
        }
      ]
    },
    {
      "cell_type": "markdown",
      "metadata": {
        "id": "J3bOqdJ-L8HQ",
        "colab_type": "text"
      },
      "source": [
        "## Q8. Get the initial data (name it 'df') with dropping the NA values. "
      ]
    },
    {
      "cell_type": "code",
      "metadata": {
        "id": "uqgdUui_L8HR",
        "colab_type": "code",
        "colab": {},
        "outputId": "697b2558-9c77-43a0-fe46-86015e98f773"
      },
      "source": [
        "df = uber_drives.dropna()\n",
        "df.isnull().values.any()"
      ],
      "execution_count": 0,
      "outputs": [
        {
          "output_type": "execute_result",
          "data": {
            "text/plain": [
              "False"
            ]
          },
          "metadata": {
            "tags": []
          },
          "execution_count": 304
        }
      ]
    },
    {
      "cell_type": "markdown",
      "metadata": {
        "id": "qaBX0pdrL8HV",
        "colab_type": "text"
      },
      "source": [
        "## Q9. Get the summary of data."
      ]
    },
    {
      "cell_type": "code",
      "metadata": {
        "id": "P8B_0ghDL8HW",
        "colab_type": "code",
        "colab": {},
        "outputId": "d902589b-8906-406b-9202-3df9d82dc443"
      },
      "source": [
        "uber_drives.describe()"
      ],
      "execution_count": 0,
      "outputs": [
        {
          "output_type": "execute_result",
          "data": {
            "text/html": [
              "<div>\n",
              "<style scoped>\n",
              "    .dataframe tbody tr th:only-of-type {\n",
              "        vertical-align: middle;\n",
              "    }\n",
              "\n",
              "    .dataframe tbody tr th {\n",
              "        vertical-align: top;\n",
              "    }\n",
              "\n",
              "    .dataframe thead th {\n",
              "        text-align: right;\n",
              "    }\n",
              "</style>\n",
              "<table border=\"1\" class=\"dataframe\">\n",
              "  <thead>\n",
              "    <tr style=\"text-align: right;\">\n",
              "      <th></th>\n",
              "      <th>MILES*</th>\n",
              "    </tr>\n",
              "  </thead>\n",
              "  <tbody>\n",
              "    <tr>\n",
              "      <th>count</th>\n",
              "      <td>1156.000000</td>\n",
              "    </tr>\n",
              "    <tr>\n",
              "      <th>mean</th>\n",
              "      <td>21.115398</td>\n",
              "    </tr>\n",
              "    <tr>\n",
              "      <th>std</th>\n",
              "      <td>359.299007</td>\n",
              "    </tr>\n",
              "    <tr>\n",
              "      <th>min</th>\n",
              "      <td>0.500000</td>\n",
              "    </tr>\n",
              "    <tr>\n",
              "      <th>25%</th>\n",
              "      <td>2.900000</td>\n",
              "    </tr>\n",
              "    <tr>\n",
              "      <th>50%</th>\n",
              "      <td>6.000000</td>\n",
              "    </tr>\n",
              "    <tr>\n",
              "      <th>75%</th>\n",
              "      <td>10.400000</td>\n",
              "    </tr>\n",
              "    <tr>\n",
              "      <th>max</th>\n",
              "      <td>12204.700000</td>\n",
              "    </tr>\n",
              "  </tbody>\n",
              "</table>\n",
              "</div>"
            ],
            "text/plain": [
              "             MILES*\n",
              "count   1156.000000\n",
              "mean      21.115398\n",
              "std      359.299007\n",
              "min        0.500000\n",
              "25%        2.900000\n",
              "50%        6.000000\n",
              "75%       10.400000\n",
              "max    12204.700000"
            ]
          },
          "metadata": {
            "tags": []
          },
          "execution_count": 305
        }
      ]
    },
    {
      "cell_type": "markdown",
      "metadata": {
        "id": "iWejfnGFL8Ha",
        "colab_type": "text"
      },
      "source": [
        "## Q10. Check the information of the new dataframe. "
      ]
    },
    {
      "cell_type": "code",
      "metadata": {
        "id": "oSGJYWTAL8Hb",
        "colab_type": "code",
        "colab": {},
        "outputId": "125b7d2e-82d0-4880-de26-150af79149e7"
      },
      "source": [
        "df.info()"
      ],
      "execution_count": 0,
      "outputs": [
        {
          "output_type": "stream",
          "text": [
            "<class 'pandas.core.frame.DataFrame'>\n",
            "Int64Index: 653 entries, 0 to 1154\n",
            "Data columns (total 7 columns):\n",
            "START_DATE*    653 non-null object\n",
            "END_DATE*      653 non-null object\n",
            "CATEGORY*      653 non-null object\n",
            "START*         653 non-null object\n",
            "STOP*          653 non-null object\n",
            "MILES*         653 non-null float64\n",
            "PURPOSE*       653 non-null object\n",
            "dtypes: float64(1), object(6)\n",
            "memory usage: 40.8+ KB\n"
          ],
          "name": "stdout"
        }
      ]
    },
    {
      "cell_type": "markdown",
      "metadata": {
        "id": "kZAg-S_BL8He",
        "colab_type": "text"
      },
      "source": [
        "## Q11. Get the unique start destinations. "
      ]
    },
    {
      "cell_type": "code",
      "metadata": {
        "id": "2JPMZ_N5L8He",
        "colab_type": "code",
        "colab": {}
      },
      "source": [
        "start_destination = uber_drives[\"START*\"].dropna()\n",
        "unique_start = set(start_destination) # set function provides unique values"
      ],
      "execution_count": 0,
      "outputs": []
    },
    {
      "cell_type": "markdown",
      "metadata": {
        "id": "ky4sWBZnL8Hh",
        "colab_type": "text"
      },
      "source": [
        "## Q12. What is the total number of unique start destinations? "
      ]
    },
    {
      "cell_type": "code",
      "metadata": {
        "id": "VQTyRZOyL8Hi",
        "colab_type": "code",
        "colab": {},
        "outputId": "b0614b34-6388-4fd1-9f51-5d81a3d64fb5"
      },
      "source": [
        "len(unique_start)"
      ],
      "execution_count": 0,
      "outputs": [
        {
          "output_type": "execute_result",
          "data": {
            "text/plain": [
              "177"
            ]
          },
          "metadata": {
            "tags": []
          },
          "execution_count": 307
        }
      ]
    },
    {
      "cell_type": "markdown",
      "metadata": {
        "id": "TdEY-_byL8Hl",
        "colab_type": "text"
      },
      "source": [
        "## Q13. Print the total number of unique stop destinations. "
      ]
    },
    {
      "cell_type": "code",
      "metadata": {
        "id": "JTRWWdyRL8Hm",
        "colab_type": "code",
        "colab": {},
        "outputId": "eb00adc8-8563-4963-96d7-657bd4cabd9a"
      },
      "source": [
        "stop_destination = uber_drives[\"STOP*\"].dropna()\n",
        "unique_stop = set(stop_destination)\n",
        "len(unique_stop)"
      ],
      "execution_count": 0,
      "outputs": [
        {
          "output_type": "execute_result",
          "data": {
            "text/plain": [
              "188"
            ]
          },
          "metadata": {
            "tags": []
          },
          "execution_count": 308
        }
      ]
    },
    {
      "cell_type": "markdown",
      "metadata": {
        "id": "b1L14_58L8Hq",
        "colab_type": "text"
      },
      "source": [
        "## Q14. Print all the Uber trips that has the starting point of San Fransisco. "
      ]
    },
    {
      "cell_type": "code",
      "metadata": {
        "id": "8w1O4BZlL8Hr",
        "colab_type": "code",
        "colab": {},
        "outputId": "3b07b43c-9d3f-4d50-97ec-1b8b3ad99673"
      },
      "source": [
        "uber_drives.loc[uber_drives[\"START*\"] == \"San Francisco\"]"
      ],
      "execution_count": 0,
      "outputs": [
        {
          "output_type": "execute_result",
          "data": {
            "text/html": [
              "<div>\n",
              "<style scoped>\n",
              "    .dataframe tbody tr th:only-of-type {\n",
              "        vertical-align: middle;\n",
              "    }\n",
              "\n",
              "    .dataframe tbody tr th {\n",
              "        vertical-align: top;\n",
              "    }\n",
              "\n",
              "    .dataframe thead th {\n",
              "        text-align: right;\n",
              "    }\n",
              "</style>\n",
              "<table border=\"1\" class=\"dataframe\">\n",
              "  <thead>\n",
              "    <tr style=\"text-align: right;\">\n",
              "      <th></th>\n",
              "      <th>START_DATE*</th>\n",
              "      <th>END_DATE*</th>\n",
              "      <th>CATEGORY*</th>\n",
              "      <th>START*</th>\n",
              "      <th>STOP*</th>\n",
              "      <th>MILES*</th>\n",
              "      <th>PURPOSE*</th>\n",
              "    </tr>\n",
              "  </thead>\n",
              "  <tbody>\n",
              "    <tr>\n",
              "      <th>362</th>\n",
              "      <td>05-09-2016 14:39</td>\n",
              "      <td>05-09-2016 15:06</td>\n",
              "      <td>Business</td>\n",
              "      <td>San Francisco</td>\n",
              "      <td>Palo Alto</td>\n",
              "      <td>20.5</td>\n",
              "      <td>Between Offices</td>\n",
              "    </tr>\n",
              "    <tr>\n",
              "      <th>440</th>\n",
              "      <td>6/14/2016 16:09</td>\n",
              "      <td>6/14/2016 16:39</td>\n",
              "      <td>Business</td>\n",
              "      <td>San Francisco</td>\n",
              "      <td>Emeryville</td>\n",
              "      <td>11.6</td>\n",
              "      <td>Meeting</td>\n",
              "    </tr>\n",
              "    <tr>\n",
              "      <th>836</th>\n",
              "      <td>10/19/2016 14:02</td>\n",
              "      <td>10/19/2016 14:31</td>\n",
              "      <td>Business</td>\n",
              "      <td>San Francisco</td>\n",
              "      <td>Berkeley</td>\n",
              "      <td>10.8</td>\n",
              "      <td>NaN</td>\n",
              "    </tr>\n",
              "    <tr>\n",
              "      <th>917</th>\n",
              "      <td>11-07-2016 19:17</td>\n",
              "      <td>11-07-2016 19:57</td>\n",
              "      <td>Business</td>\n",
              "      <td>San Francisco</td>\n",
              "      <td>Berkeley</td>\n",
              "      <td>13.2</td>\n",
              "      <td>Between Offices</td>\n",
              "    </tr>\n",
              "    <tr>\n",
              "      <th>919</th>\n",
              "      <td>11-08-2016 12:16</td>\n",
              "      <td>11-08-2016 12:49</td>\n",
              "      <td>Business</td>\n",
              "      <td>San Francisco</td>\n",
              "      <td>Berkeley</td>\n",
              "      <td>11.3</td>\n",
              "      <td>Meeting</td>\n",
              "    </tr>\n",
              "    <tr>\n",
              "      <th>927</th>\n",
              "      <td>11-09-2016 18:40</td>\n",
              "      <td>11-09-2016 19:17</td>\n",
              "      <td>Business</td>\n",
              "      <td>San Francisco</td>\n",
              "      <td>Oakland</td>\n",
              "      <td>12.7</td>\n",
              "      <td>Customer Visit</td>\n",
              "    </tr>\n",
              "    <tr>\n",
              "      <th>933</th>\n",
              "      <td>11-10-2016 15:17</td>\n",
              "      <td>11-10-2016 15:22</td>\n",
              "      <td>Business</td>\n",
              "      <td>San Francisco</td>\n",
              "      <td>Oakland</td>\n",
              "      <td>9.9</td>\n",
              "      <td>Temporary Site</td>\n",
              "    </tr>\n",
              "    <tr>\n",
              "      <th>966</th>\n",
              "      <td>11/15/2016 20:44</td>\n",
              "      <td>11/15/2016 21:00</td>\n",
              "      <td>Business</td>\n",
              "      <td>San Francisco</td>\n",
              "      <td>Berkeley</td>\n",
              "      <td>11.8</td>\n",
              "      <td>Temporary Site</td>\n",
              "    </tr>\n",
              "  </tbody>\n",
              "</table>\n",
              "</div>"
            ],
            "text/plain": [
              "          START_DATE*         END_DATE* CATEGORY*         START*       STOP*  \\\n",
              "362  05-09-2016 14:39  05-09-2016 15:06  Business  San Francisco   Palo Alto   \n",
              "440   6/14/2016 16:09   6/14/2016 16:39  Business  San Francisco  Emeryville   \n",
              "836  10/19/2016 14:02  10/19/2016 14:31  Business  San Francisco    Berkeley   \n",
              "917  11-07-2016 19:17  11-07-2016 19:57  Business  San Francisco    Berkeley   \n",
              "919  11-08-2016 12:16  11-08-2016 12:49  Business  San Francisco    Berkeley   \n",
              "927  11-09-2016 18:40  11-09-2016 19:17  Business  San Francisco     Oakland   \n",
              "933  11-10-2016 15:17  11-10-2016 15:22  Business  San Francisco     Oakland   \n",
              "966  11/15/2016 20:44  11/15/2016 21:00  Business  San Francisco    Berkeley   \n",
              "\n",
              "     MILES*         PURPOSE*  \n",
              "362    20.5  Between Offices  \n",
              "440    11.6          Meeting  \n",
              "836    10.8              NaN  \n",
              "917    13.2  Between Offices  \n",
              "919    11.3          Meeting  \n",
              "927    12.7   Customer Visit  \n",
              "933     9.9   Temporary Site  \n",
              "966    11.8   Temporary Site  "
            ]
          },
          "metadata": {
            "tags": []
          },
          "execution_count": 309
        }
      ]
    },
    {
      "cell_type": "markdown",
      "metadata": {
        "id": "uGhK7440L8H1",
        "colab_type": "text"
      },
      "source": [
        "## Q15. What is the most popular starting point for the Uber drivers?"
      ]
    },
    {
      "cell_type": "code",
      "metadata": {
        "id": "0-fyx-JLL8H4",
        "colab_type": "code",
        "colab": {},
        "outputId": "4cdf4ae1-4348-4e77-c43a-996c22f47d60"
      },
      "source": [
        "starting_point = uber_drives[\"START*\"].dropna()\n",
        "df = pd.DataFrame(starting_point.value_counts())\n",
        "df.sort_values([\"START*\"], ascending = False)\n",
        "\n",
        "df = df.reset_index()\n",
        "df = df.rename(columns = {'index':'starting_destination', 'START*':'Count'})\n",
        "df.loc[df['Count'] == max(df['Count'])]"
      ],
      "execution_count": 0,
      "outputs": [
        {
          "output_type": "execute_result",
          "data": {
            "text/html": [
              "<div>\n",
              "<style scoped>\n",
              "    .dataframe tbody tr th:only-of-type {\n",
              "        vertical-align: middle;\n",
              "    }\n",
              "\n",
              "    .dataframe tbody tr th {\n",
              "        vertical-align: top;\n",
              "    }\n",
              "\n",
              "    .dataframe thead th {\n",
              "        text-align: right;\n",
              "    }\n",
              "</style>\n",
              "<table border=\"1\" class=\"dataframe\">\n",
              "  <thead>\n",
              "    <tr style=\"text-align: right;\">\n",
              "      <th></th>\n",
              "      <th>starting_destination</th>\n",
              "      <th>Count</th>\n",
              "    </tr>\n",
              "  </thead>\n",
              "  <tbody>\n",
              "    <tr>\n",
              "      <th>0</th>\n",
              "      <td>Cary</td>\n",
              "      <td>201</td>\n",
              "    </tr>\n",
              "  </tbody>\n",
              "</table>\n",
              "</div>"
            ],
            "text/plain": [
              "  starting_destination  Count\n",
              "0                 Cary    201"
            ]
          },
          "metadata": {
            "tags": []
          },
          "execution_count": 310
        }
      ]
    },
    {
      "cell_type": "markdown",
      "metadata": {
        "id": "k0lD5GMkL8H_",
        "colab_type": "text"
      },
      "source": [
        "## Q16. What is the most popular dropping point for the Uber drivers? "
      ]
    },
    {
      "cell_type": "code",
      "metadata": {
        "id": "1VcjLwnDL8IA",
        "colab_type": "code",
        "colab": {},
        "outputId": "cff5bf27-2653-432d-83c2-a7397d063bdd"
      },
      "source": [
        "stopping_point = uber_drives[\"STOP*\"].dropna()\n",
        "df = pd.DataFrame(stopping_point.value_counts())\n",
        "df.sort_values([\"STOP*\"], ascending = False)\n",
        "\n",
        "df = df.reset_index()\n",
        "df = df.rename(columns = {'index':'stopping_destination', 'STOP*':'Count'})\n",
        "df.loc[df['Count'] == max(df['Count'])]"
      ],
      "execution_count": 0,
      "outputs": [
        {
          "output_type": "execute_result",
          "data": {
            "text/html": [
              "<div>\n",
              "<style scoped>\n",
              "    .dataframe tbody tr th:only-of-type {\n",
              "        vertical-align: middle;\n",
              "    }\n",
              "\n",
              "    .dataframe tbody tr th {\n",
              "        vertical-align: top;\n",
              "    }\n",
              "\n",
              "    .dataframe thead th {\n",
              "        text-align: right;\n",
              "    }\n",
              "</style>\n",
              "<table border=\"1\" class=\"dataframe\">\n",
              "  <thead>\n",
              "    <tr style=\"text-align: right;\">\n",
              "      <th></th>\n",
              "      <th>stopping_destination</th>\n",
              "      <th>Count</th>\n",
              "    </tr>\n",
              "  </thead>\n",
              "  <tbody>\n",
              "    <tr>\n",
              "      <th>0</th>\n",
              "      <td>Cary</td>\n",
              "      <td>203</td>\n",
              "    </tr>\n",
              "  </tbody>\n",
              "</table>\n",
              "</div>"
            ],
            "text/plain": [
              "  stopping_destination  Count\n",
              "0                 Cary    203"
            ]
          },
          "metadata": {
            "tags": []
          },
          "execution_count": 311
        }
      ]
    },
    {
      "cell_type": "markdown",
      "metadata": {
        "id": "gegDZ4MAL8ID",
        "colab_type": "text"
      },
      "source": [
        "## Q17. List the most frequent routes(same START & END points) taken by Uber drivers. "
      ]
    },
    {
      "cell_type": "code",
      "metadata": {
        "id": "p68-Kn67L8IE",
        "colab_type": "code",
        "colab": {},
        "outputId": "a0f18fc9-9c6b-4a2a-a00f-9b4a18c97c3e"
      },
      "source": [
        "df = uber_drives.dropna()\n",
        "df = pd.DataFrame(df.groupby(['START*', 'STOP*']).size())\n",
        "df = df.rename(columns = {0:'Count'})\n",
        "df = df.sort_values(['Count'], ascending = False)\n",
        "df.loc[df['Count'] == max(df['Count'])]"
      ],
      "execution_count": 0,
      "outputs": [
        {
          "output_type": "execute_result",
          "data": {
            "text/html": [
              "<div>\n",
              "<style scoped>\n",
              "    .dataframe tbody tr th:only-of-type {\n",
              "        vertical-align: middle;\n",
              "    }\n",
              "\n",
              "    .dataframe tbody tr th {\n",
              "        vertical-align: top;\n",
              "    }\n",
              "\n",
              "    .dataframe thead th {\n",
              "        text-align: right;\n",
              "    }\n",
              "</style>\n",
              "<table border=\"1\" class=\"dataframe\">\n",
              "  <thead>\n",
              "    <tr style=\"text-align: right;\">\n",
              "      <th></th>\n",
              "      <th></th>\n",
              "      <th>Count</th>\n",
              "    </tr>\n",
              "    <tr>\n",
              "      <th>START*</th>\n",
              "      <th>STOP*</th>\n",
              "      <th></th>\n",
              "    </tr>\n",
              "  </thead>\n",
              "  <tbody>\n",
              "    <tr>\n",
              "      <th>Cary</th>\n",
              "      <th>Morrisville</th>\n",
              "      <td>52</td>\n",
              "    </tr>\n",
              "  </tbody>\n",
              "</table>\n",
              "</div>"
            ],
            "text/plain": [
              "                    Count\n",
              "START* STOP*             \n",
              "Cary   Morrisville     52"
            ]
          },
          "metadata": {
            "tags": []
          },
          "execution_count": 312
        }
      ]
    },
    {
      "cell_type": "markdown",
      "metadata": {
        "id": "Q4wgWg93L8IH",
        "colab_type": "text"
      },
      "source": [
        "## Q18. List out all the trips undertaken by the Uber drivers in the month of January.\n",
        "## (date format is Month,Day,Year) "
      ]
    },
    {
      "cell_type": "code",
      "metadata": {
        "id": "Tn6ey7GLL8II",
        "colab_type": "code",
        "colab": {},
        "outputId": "0d82b3cf-c34d-4c32-d16c-218651782e5b"
      },
      "source": [
        "uber_drives.head()"
      ],
      "execution_count": 0,
      "outputs": [
        {
          "output_type": "execute_result",
          "data": {
            "text/html": [
              "<div>\n",
              "<style scoped>\n",
              "    .dataframe tbody tr th:only-of-type {\n",
              "        vertical-align: middle;\n",
              "    }\n",
              "\n",
              "    .dataframe tbody tr th {\n",
              "        vertical-align: top;\n",
              "    }\n",
              "\n",
              "    .dataframe thead th {\n",
              "        text-align: right;\n",
              "    }\n",
              "</style>\n",
              "<table border=\"1\" class=\"dataframe\">\n",
              "  <thead>\n",
              "    <tr style=\"text-align: right;\">\n",
              "      <th></th>\n",
              "      <th>START_DATE*</th>\n",
              "      <th>END_DATE*</th>\n",
              "      <th>CATEGORY*</th>\n",
              "      <th>START*</th>\n",
              "      <th>STOP*</th>\n",
              "      <th>MILES*</th>\n",
              "      <th>PURPOSE*</th>\n",
              "    </tr>\n",
              "  </thead>\n",
              "  <tbody>\n",
              "    <tr>\n",
              "      <th>0</th>\n",
              "      <td>01-01-2016 21:11</td>\n",
              "      <td>01-01-2016 21:17</td>\n",
              "      <td>Business</td>\n",
              "      <td>Fort Pierce</td>\n",
              "      <td>Fort Pierce</td>\n",
              "      <td>5.1</td>\n",
              "      <td>Meal/Entertain</td>\n",
              "    </tr>\n",
              "    <tr>\n",
              "      <th>1</th>\n",
              "      <td>01-02-2016 01:25</td>\n",
              "      <td>01-02-2016 01:37</td>\n",
              "      <td>Business</td>\n",
              "      <td>Fort Pierce</td>\n",
              "      <td>Fort Pierce</td>\n",
              "      <td>5.0</td>\n",
              "      <td>NaN</td>\n",
              "    </tr>\n",
              "    <tr>\n",
              "      <th>2</th>\n",
              "      <td>01-02-2016 20:25</td>\n",
              "      <td>01-02-2016 20:38</td>\n",
              "      <td>Business</td>\n",
              "      <td>Fort Pierce</td>\n",
              "      <td>Fort Pierce</td>\n",
              "      <td>4.8</td>\n",
              "      <td>Errand/Supplies</td>\n",
              "    </tr>\n",
              "    <tr>\n",
              "      <th>3</th>\n",
              "      <td>01-05-2016 17:31</td>\n",
              "      <td>01-05-2016 17:45</td>\n",
              "      <td>Business</td>\n",
              "      <td>Fort Pierce</td>\n",
              "      <td>Fort Pierce</td>\n",
              "      <td>4.7</td>\n",
              "      <td>Meeting</td>\n",
              "    </tr>\n",
              "    <tr>\n",
              "      <th>4</th>\n",
              "      <td>01-06-2016 14:42</td>\n",
              "      <td>01-06-2016 15:49</td>\n",
              "      <td>Business</td>\n",
              "      <td>Fort Pierce</td>\n",
              "      <td>West Palm Beach</td>\n",
              "      <td>63.7</td>\n",
              "      <td>Customer Visit</td>\n",
              "    </tr>\n",
              "  </tbody>\n",
              "</table>\n",
              "</div>"
            ],
            "text/plain": [
              "        START_DATE*         END_DATE* CATEGORY*       START*            STOP*  \\\n",
              "0  01-01-2016 21:11  01-01-2016 21:17  Business  Fort Pierce      Fort Pierce   \n",
              "1  01-02-2016 01:25  01-02-2016 01:37  Business  Fort Pierce      Fort Pierce   \n",
              "2  01-02-2016 20:25  01-02-2016 20:38  Business  Fort Pierce      Fort Pierce   \n",
              "3  01-05-2016 17:31  01-05-2016 17:45  Business  Fort Pierce      Fort Pierce   \n",
              "4  01-06-2016 14:42  01-06-2016 15:49  Business  Fort Pierce  West Palm Beach   \n",
              "\n",
              "   MILES*         PURPOSE*  \n",
              "0     5.1   Meal/Entertain  \n",
              "1     5.0              NaN  \n",
              "2     4.8  Errand/Supplies  \n",
              "3     4.7          Meeting  \n",
              "4    63.7   Customer Visit  "
            ]
          },
          "metadata": {
            "tags": []
          },
          "execution_count": 313
        }
      ]
    },
    {
      "cell_type": "code",
      "metadata": {
        "id": "OrDnefrjL8IN",
        "colab_type": "code",
        "colab": {}
      },
      "source": [
        "uber_drives['START_DATE*'] = pd.to_datetime(uber_drives['START_DATE*'].head(1155))\n",
        "uber_drives['END_DATE*'] = pd.to_datetime(uber_drives['END_DATE*'].head(1155))"
      ],
      "execution_count": 0,
      "outputs": []
    },
    {
      "cell_type": "code",
      "metadata": {
        "id": "7t50p-_EL8IQ",
        "colab_type": "code",
        "colab": {},
        "outputId": "3df59e70-6c7b-46d5-fced-e25fe322fcf3"
      },
      "source": [
        "jan = uber_drives.loc[uber_drives['START_DATE*'].dt.month == 1][['START_DATE*', 'END_DATE*', 'CATEGORY*', 'START*', \n",
        "                                                                 'STOP*', 'MILES*', 'PURPOSE*']]\n",
        "jan"
      ],
      "execution_count": 0,
      "outputs": [
        {
          "output_type": "execute_result",
          "data": {
            "text/html": [
              "<div>\n",
              "<style scoped>\n",
              "    .dataframe tbody tr th:only-of-type {\n",
              "        vertical-align: middle;\n",
              "    }\n",
              "\n",
              "    .dataframe tbody tr th {\n",
              "        vertical-align: top;\n",
              "    }\n",
              "\n",
              "    .dataframe thead th {\n",
              "        text-align: right;\n",
              "    }\n",
              "</style>\n",
              "<table border=\"1\" class=\"dataframe\">\n",
              "  <thead>\n",
              "    <tr style=\"text-align: right;\">\n",
              "      <th></th>\n",
              "      <th>START_DATE*</th>\n",
              "      <th>END_DATE*</th>\n",
              "      <th>CATEGORY*</th>\n",
              "      <th>START*</th>\n",
              "      <th>STOP*</th>\n",
              "      <th>MILES*</th>\n",
              "      <th>PURPOSE*</th>\n",
              "    </tr>\n",
              "  </thead>\n",
              "  <tbody>\n",
              "    <tr>\n",
              "      <th>0</th>\n",
              "      <td>2016-01-01 21:11:00</td>\n",
              "      <td>2016-01-01 21:17:00</td>\n",
              "      <td>Business</td>\n",
              "      <td>Fort Pierce</td>\n",
              "      <td>Fort Pierce</td>\n",
              "      <td>5.1</td>\n",
              "      <td>Meal/Entertain</td>\n",
              "    </tr>\n",
              "    <tr>\n",
              "      <th>1</th>\n",
              "      <td>2016-01-02 01:25:00</td>\n",
              "      <td>2016-01-02 01:37:00</td>\n",
              "      <td>Business</td>\n",
              "      <td>Fort Pierce</td>\n",
              "      <td>Fort Pierce</td>\n",
              "      <td>5.0</td>\n",
              "      <td>NaN</td>\n",
              "    </tr>\n",
              "    <tr>\n",
              "      <th>2</th>\n",
              "      <td>2016-01-02 20:25:00</td>\n",
              "      <td>2016-01-02 20:38:00</td>\n",
              "      <td>Business</td>\n",
              "      <td>Fort Pierce</td>\n",
              "      <td>Fort Pierce</td>\n",
              "      <td>4.8</td>\n",
              "      <td>Errand/Supplies</td>\n",
              "    </tr>\n",
              "    <tr>\n",
              "      <th>3</th>\n",
              "      <td>2016-01-05 17:31:00</td>\n",
              "      <td>2016-01-05 17:45:00</td>\n",
              "      <td>Business</td>\n",
              "      <td>Fort Pierce</td>\n",
              "      <td>Fort Pierce</td>\n",
              "      <td>4.7</td>\n",
              "      <td>Meeting</td>\n",
              "    </tr>\n",
              "    <tr>\n",
              "      <th>4</th>\n",
              "      <td>2016-01-06 14:42:00</td>\n",
              "      <td>2016-01-06 15:49:00</td>\n",
              "      <td>Business</td>\n",
              "      <td>Fort Pierce</td>\n",
              "      <td>West Palm Beach</td>\n",
              "      <td>63.7</td>\n",
              "      <td>Customer Visit</td>\n",
              "    </tr>\n",
              "    <tr>\n",
              "      <th>5</th>\n",
              "      <td>2016-01-06 17:15:00</td>\n",
              "      <td>2016-01-06 17:19:00</td>\n",
              "      <td>Business</td>\n",
              "      <td>West Palm Beach</td>\n",
              "      <td>West Palm Beach</td>\n",
              "      <td>4.3</td>\n",
              "      <td>Meal/Entertain</td>\n",
              "    </tr>\n",
              "    <tr>\n",
              "      <th>6</th>\n",
              "      <td>2016-01-06 17:30:00</td>\n",
              "      <td>2016-01-06 17:35:00</td>\n",
              "      <td>Business</td>\n",
              "      <td>West Palm Beach</td>\n",
              "      <td>Palm Beach</td>\n",
              "      <td>7.1</td>\n",
              "      <td>Meeting</td>\n",
              "    </tr>\n",
              "    <tr>\n",
              "      <th>7</th>\n",
              "      <td>2016-01-07 13:27:00</td>\n",
              "      <td>2016-01-07 13:33:00</td>\n",
              "      <td>Business</td>\n",
              "      <td>Cary</td>\n",
              "      <td>Cary</td>\n",
              "      <td>0.8</td>\n",
              "      <td>Meeting</td>\n",
              "    </tr>\n",
              "    <tr>\n",
              "      <th>8</th>\n",
              "      <td>2016-01-10 08:05:00</td>\n",
              "      <td>2016-01-10 08:25:00</td>\n",
              "      <td>Business</td>\n",
              "      <td>Cary</td>\n",
              "      <td>Morrisville</td>\n",
              "      <td>8.3</td>\n",
              "      <td>Meeting</td>\n",
              "    </tr>\n",
              "    <tr>\n",
              "      <th>9</th>\n",
              "      <td>2016-01-10 12:17:00</td>\n",
              "      <td>2016-01-10 12:44:00</td>\n",
              "      <td>Business</td>\n",
              "      <td>Jamaica</td>\n",
              "      <td>New York</td>\n",
              "      <td>16.5</td>\n",
              "      <td>Customer Visit</td>\n",
              "    </tr>\n",
              "    <tr>\n",
              "      <th>10</th>\n",
              "      <td>2016-01-10 15:08:00</td>\n",
              "      <td>2016-01-10 15:51:00</td>\n",
              "      <td>Business</td>\n",
              "      <td>New York</td>\n",
              "      <td>Queens</td>\n",
              "      <td>10.8</td>\n",
              "      <td>Meeting</td>\n",
              "    </tr>\n",
              "    <tr>\n",
              "      <th>11</th>\n",
              "      <td>2016-01-10 18:18:00</td>\n",
              "      <td>2016-01-10 18:53:00</td>\n",
              "      <td>Business</td>\n",
              "      <td>Elmhurst</td>\n",
              "      <td>New York</td>\n",
              "      <td>7.5</td>\n",
              "      <td>Meeting</td>\n",
              "    </tr>\n",
              "    <tr>\n",
              "      <th>12</th>\n",
              "      <td>2016-01-10 19:12:00</td>\n",
              "      <td>2016-01-10 19:32:00</td>\n",
              "      <td>Business</td>\n",
              "      <td>Midtown</td>\n",
              "      <td>East Harlem</td>\n",
              "      <td>6.2</td>\n",
              "      <td>Meeting</td>\n",
              "    </tr>\n",
              "    <tr>\n",
              "      <th>13</th>\n",
              "      <td>2016-01-11 08:55:00</td>\n",
              "      <td>2016-01-11 09:21:00</td>\n",
              "      <td>Business</td>\n",
              "      <td>East Harlem</td>\n",
              "      <td>NoMad</td>\n",
              "      <td>6.4</td>\n",
              "      <td>Temporary Site</td>\n",
              "    </tr>\n",
              "    <tr>\n",
              "      <th>14</th>\n",
              "      <td>2016-01-11 11:56:00</td>\n",
              "      <td>2016-01-11 12:03:00</td>\n",
              "      <td>Business</td>\n",
              "      <td>Flatiron District</td>\n",
              "      <td>Midtown</td>\n",
              "      <td>1.6</td>\n",
              "      <td>Errand/Supplies</td>\n",
              "    </tr>\n",
              "    <tr>\n",
              "      <th>15</th>\n",
              "      <td>2016-01-11 13:32:00</td>\n",
              "      <td>2016-01-11 13:46:00</td>\n",
              "      <td>Business</td>\n",
              "      <td>Midtown</td>\n",
              "      <td>Midtown East</td>\n",
              "      <td>1.7</td>\n",
              "      <td>Meal/Entertain</td>\n",
              "    </tr>\n",
              "    <tr>\n",
              "      <th>16</th>\n",
              "      <td>2016-01-11 14:30:00</td>\n",
              "      <td>2016-01-11 14:43:00</td>\n",
              "      <td>Business</td>\n",
              "      <td>Midtown East</td>\n",
              "      <td>Midtown</td>\n",
              "      <td>1.9</td>\n",
              "      <td>Meal/Entertain</td>\n",
              "    </tr>\n",
              "    <tr>\n",
              "      <th>17</th>\n",
              "      <td>2016-01-12 12:33:00</td>\n",
              "      <td>2016-01-12 12:49:00</td>\n",
              "      <td>Business</td>\n",
              "      <td>Midtown</td>\n",
              "      <td>Hudson Square</td>\n",
              "      <td>1.9</td>\n",
              "      <td>Meal/Entertain</td>\n",
              "    </tr>\n",
              "    <tr>\n",
              "      <th>18</th>\n",
              "      <td>2016-01-12 12:53:00</td>\n",
              "      <td>2016-01-12 13:09:00</td>\n",
              "      <td>Business</td>\n",
              "      <td>Hudson Square</td>\n",
              "      <td>Lower Manhattan</td>\n",
              "      <td>4.0</td>\n",
              "      <td>Meal/Entertain</td>\n",
              "    </tr>\n",
              "    <tr>\n",
              "      <th>19</th>\n",
              "      <td>2016-01-12 14:42:00</td>\n",
              "      <td>2016-01-12 14:56:00</td>\n",
              "      <td>Business</td>\n",
              "      <td>Lower Manhattan</td>\n",
              "      <td>Hudson Square</td>\n",
              "      <td>1.8</td>\n",
              "      <td>Errand/Supplies</td>\n",
              "    </tr>\n",
              "    <tr>\n",
              "      <th>20</th>\n",
              "      <td>2016-01-12 15:13:00</td>\n",
              "      <td>2016-01-12 15:28:00</td>\n",
              "      <td>Business</td>\n",
              "      <td>Hudson Square</td>\n",
              "      <td>Hell's Kitchen</td>\n",
              "      <td>2.4</td>\n",
              "      <td>Customer Visit</td>\n",
              "    </tr>\n",
              "    <tr>\n",
              "      <th>21</th>\n",
              "      <td>2016-01-12 15:42:00</td>\n",
              "      <td>2016-01-12 15:54:00</td>\n",
              "      <td>Business</td>\n",
              "      <td>Hell's Kitchen</td>\n",
              "      <td>Midtown</td>\n",
              "      <td>2.0</td>\n",
              "      <td>Errand/Supplies</td>\n",
              "    </tr>\n",
              "    <tr>\n",
              "      <th>22</th>\n",
              "      <td>2016-01-12 16:02:00</td>\n",
              "      <td>2016-01-12 17:00:00</td>\n",
              "      <td>Business</td>\n",
              "      <td>New York</td>\n",
              "      <td>Queens County</td>\n",
              "      <td>15.1</td>\n",
              "      <td>Meeting</td>\n",
              "    </tr>\n",
              "    <tr>\n",
              "      <th>23</th>\n",
              "      <td>2016-01-13 13:54:00</td>\n",
              "      <td>2016-01-13 14:07:00</td>\n",
              "      <td>Business</td>\n",
              "      <td>Downtown</td>\n",
              "      <td>Gulfton</td>\n",
              "      <td>11.2</td>\n",
              "      <td>Meeting</td>\n",
              "    </tr>\n",
              "    <tr>\n",
              "      <th>24</th>\n",
              "      <td>2016-01-13 15:00:00</td>\n",
              "      <td>2016-01-13 15:28:00</td>\n",
              "      <td>Business</td>\n",
              "      <td>Gulfton</td>\n",
              "      <td>Downtown</td>\n",
              "      <td>11.8</td>\n",
              "      <td>Meeting</td>\n",
              "    </tr>\n",
              "    <tr>\n",
              "      <th>25</th>\n",
              "      <td>2016-01-14 16:29:00</td>\n",
              "      <td>2016-01-14 17:05:00</td>\n",
              "      <td>Business</td>\n",
              "      <td>Houston</td>\n",
              "      <td>Houston</td>\n",
              "      <td>21.9</td>\n",
              "      <td>Customer Visit</td>\n",
              "    </tr>\n",
              "    <tr>\n",
              "      <th>26</th>\n",
              "      <td>2016-01-14 21:39:00</td>\n",
              "      <td>2016-01-14 21:45:00</td>\n",
              "      <td>Business</td>\n",
              "      <td>Eagan Park</td>\n",
              "      <td>Jamestown Court</td>\n",
              "      <td>3.9</td>\n",
              "      <td>Errand/Supplies</td>\n",
              "    </tr>\n",
              "    <tr>\n",
              "      <th>27</th>\n",
              "      <td>2016-01-15 00:41:00</td>\n",
              "      <td>2016-01-15 01:01:00</td>\n",
              "      <td>Business</td>\n",
              "      <td>Morrisville</td>\n",
              "      <td>Cary</td>\n",
              "      <td>8.0</td>\n",
              "      <td>Errand/Supplies</td>\n",
              "    </tr>\n",
              "    <tr>\n",
              "      <th>28</th>\n",
              "      <td>2016-01-15 11:43:00</td>\n",
              "      <td>2016-01-15 12:03:00</td>\n",
              "      <td>Business</td>\n",
              "      <td>Cary</td>\n",
              "      <td>Durham</td>\n",
              "      <td>10.4</td>\n",
              "      <td>Meal/Entertain</td>\n",
              "    </tr>\n",
              "    <tr>\n",
              "      <th>29</th>\n",
              "      <td>2016-01-15 13:26:00</td>\n",
              "      <td>2016-01-15 13:44:00</td>\n",
              "      <td>Business</td>\n",
              "      <td>Durham</td>\n",
              "      <td>Cary</td>\n",
              "      <td>10.4</td>\n",
              "      <td>Meal/Entertain</td>\n",
              "    </tr>\n",
              "    <tr>\n",
              "      <th>...</th>\n",
              "      <td>...</td>\n",
              "      <td>...</td>\n",
              "      <td>...</td>\n",
              "      <td>...</td>\n",
              "      <td>...</td>\n",
              "      <td>...</td>\n",
              "      <td>...</td>\n",
              "    </tr>\n",
              "    <tr>\n",
              "      <th>31</th>\n",
              "      <td>2016-01-18 16:13:00</td>\n",
              "      <td>2016-01-18 16:24:00</td>\n",
              "      <td>Business</td>\n",
              "      <td>Farmington Woods</td>\n",
              "      <td>Whitebridge</td>\n",
              "      <td>4.7</td>\n",
              "      <td>Meal/Entertain</td>\n",
              "    </tr>\n",
              "    <tr>\n",
              "      <th>32</th>\n",
              "      <td>2016-01-19 09:09:00</td>\n",
              "      <td>2016-01-19 09:23:00</td>\n",
              "      <td>Business</td>\n",
              "      <td>Whitebridge</td>\n",
              "      <td>Lake Wellingborough</td>\n",
              "      <td>7.2</td>\n",
              "      <td>NaN</td>\n",
              "    </tr>\n",
              "    <tr>\n",
              "      <th>33</th>\n",
              "      <td>2016-01-19 10:55:00</td>\n",
              "      <td>2016-01-19 11:09:00</td>\n",
              "      <td>Business</td>\n",
              "      <td>Lake Wellingborough</td>\n",
              "      <td>Whitebridge</td>\n",
              "      <td>7.6</td>\n",
              "      <td>Temporary Site</td>\n",
              "    </tr>\n",
              "    <tr>\n",
              "      <th>34</th>\n",
              "      <td>2016-01-20 10:36:00</td>\n",
              "      <td>2016-01-20 11:11:00</td>\n",
              "      <td>Business</td>\n",
              "      <td>Cary</td>\n",
              "      <td>Raleigh</td>\n",
              "      <td>17.1</td>\n",
              "      <td>Meeting</td>\n",
              "    </tr>\n",
              "    <tr>\n",
              "      <th>35</th>\n",
              "      <td>2016-01-20 11:48:00</td>\n",
              "      <td>2016-01-20 12:19:00</td>\n",
              "      <td>Business</td>\n",
              "      <td>Fayetteville Street</td>\n",
              "      <td>Umstead</td>\n",
              "      <td>15.1</td>\n",
              "      <td>Meeting</td>\n",
              "    </tr>\n",
              "    <tr>\n",
              "      <th>36</th>\n",
              "      <td>2016-01-20 13:25:00</td>\n",
              "      <td>2016-01-20 14:19:00</td>\n",
              "      <td>Business</td>\n",
              "      <td>Raleigh</td>\n",
              "      <td>Cary</td>\n",
              "      <td>40.2</td>\n",
              "      <td>Customer Visit</td>\n",
              "    </tr>\n",
              "    <tr>\n",
              "      <th>37</th>\n",
              "      <td>2016-01-21 14:25:00</td>\n",
              "      <td>2016-01-21 14:29:00</td>\n",
              "      <td>Business</td>\n",
              "      <td>Cary</td>\n",
              "      <td>Cary</td>\n",
              "      <td>1.6</td>\n",
              "      <td>Errand/Supplies</td>\n",
              "    </tr>\n",
              "    <tr>\n",
              "      <th>38</th>\n",
              "      <td>2016-01-21 14:43:00</td>\n",
              "      <td>2016-01-21 14:51:00</td>\n",
              "      <td>Business</td>\n",
              "      <td>Cary</td>\n",
              "      <td>Cary</td>\n",
              "      <td>2.4</td>\n",
              "      <td>Meal/Entertain</td>\n",
              "    </tr>\n",
              "    <tr>\n",
              "      <th>39</th>\n",
              "      <td>2016-01-21 16:01:00</td>\n",
              "      <td>2016-01-21 16:06:00</td>\n",
              "      <td>Business</td>\n",
              "      <td>Cary</td>\n",
              "      <td>Cary</td>\n",
              "      <td>1.0</td>\n",
              "      <td>Meal/Entertain</td>\n",
              "    </tr>\n",
              "    <tr>\n",
              "      <th>40</th>\n",
              "      <td>2016-01-26 10:41:00</td>\n",
              "      <td>2016-01-26 10:50:00</td>\n",
              "      <td>Business</td>\n",
              "      <td>Whitebridge</td>\n",
              "      <td>Hazelwood</td>\n",
              "      <td>2.0</td>\n",
              "      <td>Meal/Entertain</td>\n",
              "    </tr>\n",
              "    <tr>\n",
              "      <th>41</th>\n",
              "      <td>2016-01-26 12:33:00</td>\n",
              "      <td>2016-01-26 12:41:00</td>\n",
              "      <td>Business</td>\n",
              "      <td>Hazelwood</td>\n",
              "      <td>Whitebridge</td>\n",
              "      <td>2.3</td>\n",
              "      <td>Errand/Supplies</td>\n",
              "    </tr>\n",
              "    <tr>\n",
              "      <th>42</th>\n",
              "      <td>2016-01-26 16:24:00</td>\n",
              "      <td>2016-01-26 16:32:00</td>\n",
              "      <td>Business</td>\n",
              "      <td>Whitebridge</td>\n",
              "      <td>Westpark Place</td>\n",
              "      <td>1.9</td>\n",
              "      <td>Errand/Supplies</td>\n",
              "    </tr>\n",
              "    <tr>\n",
              "      <th>43</th>\n",
              "      <td>2016-01-26 17:17:00</td>\n",
              "      <td>2016-01-26 17:22:00</td>\n",
              "      <td>Business</td>\n",
              "      <td>Cary</td>\n",
              "      <td>Cary</td>\n",
              "      <td>1.4</td>\n",
              "      <td>Errand/Supplies</td>\n",
              "    </tr>\n",
              "    <tr>\n",
              "      <th>44</th>\n",
              "      <td>2016-01-26 17:27:00</td>\n",
              "      <td>2016-01-26 17:29:00</td>\n",
              "      <td>Business</td>\n",
              "      <td>Cary</td>\n",
              "      <td>Cary</td>\n",
              "      <td>0.5</td>\n",
              "      <td>Errand/Supplies</td>\n",
              "    </tr>\n",
              "    <tr>\n",
              "      <th>45</th>\n",
              "      <td>2016-01-27 09:24:00</td>\n",
              "      <td>2016-01-27 09:31:00</td>\n",
              "      <td>Business</td>\n",
              "      <td>Cary</td>\n",
              "      <td>Cary</td>\n",
              "      <td>1.8</td>\n",
              "      <td>Meeting</td>\n",
              "    </tr>\n",
              "    <tr>\n",
              "      <th>46</th>\n",
              "      <td>2016-01-27 10:19:00</td>\n",
              "      <td>2016-01-27 10:48:00</td>\n",
              "      <td>Business</td>\n",
              "      <td>Cary</td>\n",
              "      <td>Raleigh</td>\n",
              "      <td>18.7</td>\n",
              "      <td>Customer Visit</td>\n",
              "    </tr>\n",
              "    <tr>\n",
              "      <th>47</th>\n",
              "      <td>2016-01-27 12:34:00</td>\n",
              "      <td>2016-01-27 12:44:00</td>\n",
              "      <td>Business</td>\n",
              "      <td>Fairmont</td>\n",
              "      <td>Meredith Townes</td>\n",
              "      <td>3.4</td>\n",
              "      <td>Customer Visit</td>\n",
              "    </tr>\n",
              "    <tr>\n",
              "      <th>48</th>\n",
              "      <td>2016-01-27 14:05:00</td>\n",
              "      <td>2016-01-27 14:13:00</td>\n",
              "      <td>Business</td>\n",
              "      <td>Raleigh</td>\n",
              "      <td>Raleigh</td>\n",
              "      <td>2.7</td>\n",
              "      <td>Customer Visit</td>\n",
              "    </tr>\n",
              "    <tr>\n",
              "      <th>49</th>\n",
              "      <td>2016-01-27 14:46:00</td>\n",
              "      <td>2016-01-27 15:08:00</td>\n",
              "      <td>Business</td>\n",
              "      <td>Raleigh</td>\n",
              "      <td>Cary</td>\n",
              "      <td>12.9</td>\n",
              "      <td>Customer Visit</td>\n",
              "    </tr>\n",
              "    <tr>\n",
              "      <th>50</th>\n",
              "      <td>2016-01-28 12:28:00</td>\n",
              "      <td>2016-01-28 13:00:00</td>\n",
              "      <td>Business</td>\n",
              "      <td>Cary</td>\n",
              "      <td>Raleigh</td>\n",
              "      <td>19.0</td>\n",
              "      <td>Temporary Site</td>\n",
              "    </tr>\n",
              "    <tr>\n",
              "      <th>51</th>\n",
              "      <td>2016-01-28 15:11:00</td>\n",
              "      <td>2016-01-28 15:31:00</td>\n",
              "      <td>Business</td>\n",
              "      <td>Meredith Townes</td>\n",
              "      <td>Leesville Hollow</td>\n",
              "      <td>14.7</td>\n",
              "      <td>Meeting</td>\n",
              "    </tr>\n",
              "    <tr>\n",
              "      <th>52</th>\n",
              "      <td>2016-01-28 16:21:00</td>\n",
              "      <td>2016-01-28 16:51:00</td>\n",
              "      <td>Business</td>\n",
              "      <td>Raleigh</td>\n",
              "      <td>Cary</td>\n",
              "      <td>15.7</td>\n",
              "      <td>Meeting</td>\n",
              "    </tr>\n",
              "    <tr>\n",
              "      <th>53</th>\n",
              "      <td>2016-01-29 09:31:00</td>\n",
              "      <td>2016-01-29 09:45:00</td>\n",
              "      <td>Business</td>\n",
              "      <td>Cary</td>\n",
              "      <td>Cary</td>\n",
              "      <td>4.6</td>\n",
              "      <td>Customer Visit</td>\n",
              "    </tr>\n",
              "    <tr>\n",
              "      <th>54</th>\n",
              "      <td>2016-01-29 10:56:00</td>\n",
              "      <td>2016-01-29 11:07:00</td>\n",
              "      <td>Business</td>\n",
              "      <td>Cary</td>\n",
              "      <td>Cary</td>\n",
              "      <td>5.2</td>\n",
              "      <td>Meeting</td>\n",
              "    </tr>\n",
              "    <tr>\n",
              "      <th>55</th>\n",
              "      <td>2016-01-29 11:43:00</td>\n",
              "      <td>2016-01-29 12:03:00</td>\n",
              "      <td>Business</td>\n",
              "      <td>Cary</td>\n",
              "      <td>Durham</td>\n",
              "      <td>10.4</td>\n",
              "      <td>Meeting</td>\n",
              "    </tr>\n",
              "    <tr>\n",
              "      <th>56</th>\n",
              "      <td>2016-01-29 13:24:00</td>\n",
              "      <td>2016-01-29 13:47:00</td>\n",
              "      <td>Business</td>\n",
              "      <td>Durham</td>\n",
              "      <td>Cary</td>\n",
              "      <td>10.1</td>\n",
              "      <td>Meeting</td>\n",
              "    </tr>\n",
              "    <tr>\n",
              "      <th>57</th>\n",
              "      <td>2016-01-29 18:31:00</td>\n",
              "      <td>2016-01-29 18:52:00</td>\n",
              "      <td>Business</td>\n",
              "      <td>Cary</td>\n",
              "      <td>Apex</td>\n",
              "      <td>5.8</td>\n",
              "      <td>Errand/Supplies</td>\n",
              "    </tr>\n",
              "    <tr>\n",
              "      <th>58</th>\n",
              "      <td>2016-01-29 21:21:00</td>\n",
              "      <td>2016-01-29 21:40:00</td>\n",
              "      <td>Business</td>\n",
              "      <td>Apex</td>\n",
              "      <td>Cary</td>\n",
              "      <td>5.5</td>\n",
              "      <td>Meal/Entertain</td>\n",
              "    </tr>\n",
              "    <tr>\n",
              "      <th>59</th>\n",
              "      <td>2016-01-30 16:21:00</td>\n",
              "      <td>2016-01-30 16:33:00</td>\n",
              "      <td>Business</td>\n",
              "      <td>Cary</td>\n",
              "      <td>Apex</td>\n",
              "      <td>5.7</td>\n",
              "      <td>Errand/Supplies</td>\n",
              "    </tr>\n",
              "    <tr>\n",
              "      <th>60</th>\n",
              "      <td>2016-01-30 18:09:00</td>\n",
              "      <td>2016-01-30 18:24:00</td>\n",
              "      <td>Business</td>\n",
              "      <td>Apex</td>\n",
              "      <td>Cary</td>\n",
              "      <td>5.7</td>\n",
              "      <td>Customer Visit</td>\n",
              "    </tr>\n",
              "  </tbody>\n",
              "</table>\n",
              "<p>61 rows × 7 columns</p>\n",
              "</div>"
            ],
            "text/plain": [
              "           START_DATE*           END_DATE* CATEGORY*               START*  \\\n",
              "0  2016-01-01 21:11:00 2016-01-01 21:17:00  Business          Fort Pierce   \n",
              "1  2016-01-02 01:25:00 2016-01-02 01:37:00  Business          Fort Pierce   \n",
              "2  2016-01-02 20:25:00 2016-01-02 20:38:00  Business          Fort Pierce   \n",
              "3  2016-01-05 17:31:00 2016-01-05 17:45:00  Business          Fort Pierce   \n",
              "4  2016-01-06 14:42:00 2016-01-06 15:49:00  Business          Fort Pierce   \n",
              "5  2016-01-06 17:15:00 2016-01-06 17:19:00  Business      West Palm Beach   \n",
              "6  2016-01-06 17:30:00 2016-01-06 17:35:00  Business      West Palm Beach   \n",
              "7  2016-01-07 13:27:00 2016-01-07 13:33:00  Business                 Cary   \n",
              "8  2016-01-10 08:05:00 2016-01-10 08:25:00  Business                 Cary   \n",
              "9  2016-01-10 12:17:00 2016-01-10 12:44:00  Business              Jamaica   \n",
              "10 2016-01-10 15:08:00 2016-01-10 15:51:00  Business             New York   \n",
              "11 2016-01-10 18:18:00 2016-01-10 18:53:00  Business             Elmhurst   \n",
              "12 2016-01-10 19:12:00 2016-01-10 19:32:00  Business              Midtown   \n",
              "13 2016-01-11 08:55:00 2016-01-11 09:21:00  Business          East Harlem   \n",
              "14 2016-01-11 11:56:00 2016-01-11 12:03:00  Business    Flatiron District   \n",
              "15 2016-01-11 13:32:00 2016-01-11 13:46:00  Business              Midtown   \n",
              "16 2016-01-11 14:30:00 2016-01-11 14:43:00  Business         Midtown East   \n",
              "17 2016-01-12 12:33:00 2016-01-12 12:49:00  Business              Midtown   \n",
              "18 2016-01-12 12:53:00 2016-01-12 13:09:00  Business        Hudson Square   \n",
              "19 2016-01-12 14:42:00 2016-01-12 14:56:00  Business      Lower Manhattan   \n",
              "20 2016-01-12 15:13:00 2016-01-12 15:28:00  Business        Hudson Square   \n",
              "21 2016-01-12 15:42:00 2016-01-12 15:54:00  Business       Hell's Kitchen   \n",
              "22 2016-01-12 16:02:00 2016-01-12 17:00:00  Business             New York   \n",
              "23 2016-01-13 13:54:00 2016-01-13 14:07:00  Business             Downtown   \n",
              "24 2016-01-13 15:00:00 2016-01-13 15:28:00  Business              Gulfton   \n",
              "25 2016-01-14 16:29:00 2016-01-14 17:05:00  Business              Houston   \n",
              "26 2016-01-14 21:39:00 2016-01-14 21:45:00  Business           Eagan Park   \n",
              "27 2016-01-15 00:41:00 2016-01-15 01:01:00  Business          Morrisville   \n",
              "28 2016-01-15 11:43:00 2016-01-15 12:03:00  Business                 Cary   \n",
              "29 2016-01-15 13:26:00 2016-01-15 13:44:00  Business               Durham   \n",
              "..                 ...                 ...       ...                  ...   \n",
              "31 2016-01-18 16:13:00 2016-01-18 16:24:00  Business     Farmington Woods   \n",
              "32 2016-01-19 09:09:00 2016-01-19 09:23:00  Business          Whitebridge   \n",
              "33 2016-01-19 10:55:00 2016-01-19 11:09:00  Business  Lake Wellingborough   \n",
              "34 2016-01-20 10:36:00 2016-01-20 11:11:00  Business                 Cary   \n",
              "35 2016-01-20 11:48:00 2016-01-20 12:19:00  Business  Fayetteville Street   \n",
              "36 2016-01-20 13:25:00 2016-01-20 14:19:00  Business              Raleigh   \n",
              "37 2016-01-21 14:25:00 2016-01-21 14:29:00  Business                 Cary   \n",
              "38 2016-01-21 14:43:00 2016-01-21 14:51:00  Business                 Cary   \n",
              "39 2016-01-21 16:01:00 2016-01-21 16:06:00  Business                 Cary   \n",
              "40 2016-01-26 10:41:00 2016-01-26 10:50:00  Business          Whitebridge   \n",
              "41 2016-01-26 12:33:00 2016-01-26 12:41:00  Business            Hazelwood   \n",
              "42 2016-01-26 16:24:00 2016-01-26 16:32:00  Business          Whitebridge   \n",
              "43 2016-01-26 17:17:00 2016-01-26 17:22:00  Business                 Cary   \n",
              "44 2016-01-26 17:27:00 2016-01-26 17:29:00  Business                 Cary   \n",
              "45 2016-01-27 09:24:00 2016-01-27 09:31:00  Business                 Cary   \n",
              "46 2016-01-27 10:19:00 2016-01-27 10:48:00  Business                 Cary   \n",
              "47 2016-01-27 12:34:00 2016-01-27 12:44:00  Business             Fairmont   \n",
              "48 2016-01-27 14:05:00 2016-01-27 14:13:00  Business              Raleigh   \n",
              "49 2016-01-27 14:46:00 2016-01-27 15:08:00  Business              Raleigh   \n",
              "50 2016-01-28 12:28:00 2016-01-28 13:00:00  Business                 Cary   \n",
              "51 2016-01-28 15:11:00 2016-01-28 15:31:00  Business      Meredith Townes   \n",
              "52 2016-01-28 16:21:00 2016-01-28 16:51:00  Business              Raleigh   \n",
              "53 2016-01-29 09:31:00 2016-01-29 09:45:00  Business                 Cary   \n",
              "54 2016-01-29 10:56:00 2016-01-29 11:07:00  Business                 Cary   \n",
              "55 2016-01-29 11:43:00 2016-01-29 12:03:00  Business                 Cary   \n",
              "56 2016-01-29 13:24:00 2016-01-29 13:47:00  Business               Durham   \n",
              "57 2016-01-29 18:31:00 2016-01-29 18:52:00  Business                 Cary   \n",
              "58 2016-01-29 21:21:00 2016-01-29 21:40:00  Business                 Apex   \n",
              "59 2016-01-30 16:21:00 2016-01-30 16:33:00  Business                 Cary   \n",
              "60 2016-01-30 18:09:00 2016-01-30 18:24:00  Business                 Apex   \n",
              "\n",
              "                  STOP*  MILES*         PURPOSE*  \n",
              "0           Fort Pierce     5.1   Meal/Entertain  \n",
              "1           Fort Pierce     5.0              NaN  \n",
              "2           Fort Pierce     4.8  Errand/Supplies  \n",
              "3           Fort Pierce     4.7          Meeting  \n",
              "4       West Palm Beach    63.7   Customer Visit  \n",
              "5       West Palm Beach     4.3   Meal/Entertain  \n",
              "6            Palm Beach     7.1          Meeting  \n",
              "7                  Cary     0.8          Meeting  \n",
              "8           Morrisville     8.3          Meeting  \n",
              "9              New York    16.5   Customer Visit  \n",
              "10               Queens    10.8          Meeting  \n",
              "11             New York     7.5          Meeting  \n",
              "12          East Harlem     6.2          Meeting  \n",
              "13                NoMad     6.4   Temporary Site  \n",
              "14              Midtown     1.6  Errand/Supplies  \n",
              "15         Midtown East     1.7   Meal/Entertain  \n",
              "16              Midtown     1.9   Meal/Entertain  \n",
              "17        Hudson Square     1.9   Meal/Entertain  \n",
              "18      Lower Manhattan     4.0   Meal/Entertain  \n",
              "19        Hudson Square     1.8  Errand/Supplies  \n",
              "20       Hell's Kitchen     2.4   Customer Visit  \n",
              "21              Midtown     2.0  Errand/Supplies  \n",
              "22        Queens County    15.1          Meeting  \n",
              "23              Gulfton    11.2          Meeting  \n",
              "24             Downtown    11.8          Meeting  \n",
              "25              Houston    21.9   Customer Visit  \n",
              "26      Jamestown Court     3.9  Errand/Supplies  \n",
              "27                 Cary     8.0  Errand/Supplies  \n",
              "28               Durham    10.4   Meal/Entertain  \n",
              "29                 Cary    10.4   Meal/Entertain  \n",
              "..                  ...     ...              ...  \n",
              "31          Whitebridge     4.7   Meal/Entertain  \n",
              "32  Lake Wellingborough     7.2              NaN  \n",
              "33          Whitebridge     7.6   Temporary Site  \n",
              "34              Raleigh    17.1          Meeting  \n",
              "35              Umstead    15.1          Meeting  \n",
              "36                 Cary    40.2   Customer Visit  \n",
              "37                 Cary     1.6  Errand/Supplies  \n",
              "38                 Cary     2.4   Meal/Entertain  \n",
              "39                 Cary     1.0   Meal/Entertain  \n",
              "40            Hazelwood     2.0   Meal/Entertain  \n",
              "41          Whitebridge     2.3  Errand/Supplies  \n",
              "42       Westpark Place     1.9  Errand/Supplies  \n",
              "43                 Cary     1.4  Errand/Supplies  \n",
              "44                 Cary     0.5  Errand/Supplies  \n",
              "45                 Cary     1.8          Meeting  \n",
              "46              Raleigh    18.7   Customer Visit  \n",
              "47      Meredith Townes     3.4   Customer Visit  \n",
              "48              Raleigh     2.7   Customer Visit  \n",
              "49                 Cary    12.9   Customer Visit  \n",
              "50              Raleigh    19.0   Temporary Site  \n",
              "51     Leesville Hollow    14.7          Meeting  \n",
              "52                 Cary    15.7          Meeting  \n",
              "53                 Cary     4.6   Customer Visit  \n",
              "54                 Cary     5.2          Meeting  \n",
              "55               Durham    10.4          Meeting  \n",
              "56                 Cary    10.1          Meeting  \n",
              "57                 Apex     5.8  Errand/Supplies  \n",
              "58                 Cary     5.5   Meal/Entertain  \n",
              "59                 Apex     5.7  Errand/Supplies  \n",
              "60                 Cary     5.7   Customer Visit  \n",
              "\n",
              "[61 rows x 7 columns]"
            ]
          },
          "metadata": {
            "tags": []
          },
          "execution_count": 317
        }
      ]
    },
    {
      "cell_type": "code",
      "metadata": {
        "id": "evqOwxyyL8IS",
        "colab_type": "code",
        "colab": {}
      },
      "source": [
        "# Doing the same for other months\n",
        "\n",
        "feb = uber_drives.loc[uber_drives['START_DATE*'].dt.month == 2][['START_DATE*', 'END_DATE*', 'CATEGORY*', 'START*', 'STOP*', 'MILES*', 'PURPOSE*']]\n",
        "mar = uber_drives.loc[uber_drives['START_DATE*'].dt.month == 3][['START_DATE*', 'END_DATE*', 'CATEGORY*', 'START*', 'STOP*', 'MILES*', 'PURPOSE*']]\n",
        "apr = uber_drives.loc[uber_drives['START_DATE*'].dt.month == 4][['START_DATE*', 'END_DATE*', 'CATEGORY*', 'START*', 'STOP*', 'MILES*', 'PURPOSE*']]\n",
        "may = uber_drives.loc[uber_drives['START_DATE*'].dt.month == 5][['START_DATE*', 'END_DATE*', 'CATEGORY*', 'START*', 'STOP*', 'MILES*', 'PURPOSE*']]\n",
        "jun = uber_drives.loc[uber_drives['START_DATE*'].dt.month == 6][['START_DATE*', 'END_DATE*', 'CATEGORY*', 'START*', 'STOP*', 'MILES*', 'PURPOSE*']]\n",
        "jul = uber_drives.loc[uber_drives['START_DATE*'].dt.month == 7][['START_DATE*', 'END_DATE*', 'CATEGORY*', 'START*', 'STOP*', 'MILES*', 'PURPOSE*']]\n",
        "aug = uber_drives.loc[uber_drives['START_DATE*'].dt.month == 8][['START_DATE*', 'END_DATE*', 'CATEGORY*', 'START*', 'STOP*', 'MILES*', 'PURPOSE*']]\n",
        "sep = uber_drives.loc[uber_drives['START_DATE*'].dt.month == 9][['START_DATE*', 'END_DATE*', 'CATEGORY*', 'START*', 'STOP*', 'MILES*', 'PURPOSE*']]\n",
        "oct = uber_drives.loc[uber_drives['START_DATE*'].dt.month == 10][['START_DATE*', 'END_DATE*', 'CATEGORY*', 'START*', 'STOP*', 'MILES*', 'PURPOSE*']]\n",
        "nov = uber_drives.loc[uber_drives['START_DATE*'].dt.month == 11][['START_DATE*', 'END_DATE*', 'CATEGORY*', 'START*', 'STOP*', 'MILES*', 'PURPOSE*']]\n",
        "dec = uber_drives.loc[uber_drives['START_DATE*'].dt.month == 12][['START_DATE*', 'END_DATE*', 'CATEGORY*', 'START*', 'STOP*', 'MILES*', 'PURPOSE*']]"
      ],
      "execution_count": 0,
      "outputs": []
    },
    {
      "cell_type": "markdown",
      "metadata": {
        "id": "wvwcHOOqL8IV",
        "colab_type": "text"
      },
      "source": [
        "## Q19. Print the miles travelled by the Uber drivers on each day in the month of January. "
      ]
    },
    {
      "cell_type": "code",
      "metadata": {
        "id": "sjEN2rNLL8IW",
        "colab_type": "code",
        "colab": {},
        "outputId": "334547f6-dc04-41d0-9078-656349c5737b"
      },
      "source": [
        "miles_by_day = pd.DataFrame(jan['MILES*'].groupby(uber_drives['START_DATE*'].dt.day).sum())\n",
        "miles_by_day = miles_by_day.reset_index()\n",
        "miles_by_day = miles_by_day.rename(columns = {'START_DATE*':'day'})\n",
        "miles_by_day['day'] = miles_by_day['day'].astype(int)\n",
        "miles_by_day"
      ],
      "execution_count": 0,
      "outputs": [
        {
          "output_type": "execute_result",
          "data": {
            "text/html": [
              "<div>\n",
              "<style scoped>\n",
              "    .dataframe tbody tr th:only-of-type {\n",
              "        vertical-align: middle;\n",
              "    }\n",
              "\n",
              "    .dataframe tbody tr th {\n",
              "        vertical-align: top;\n",
              "    }\n",
              "\n",
              "    .dataframe thead th {\n",
              "        text-align: right;\n",
              "    }\n",
              "</style>\n",
              "<table border=\"1\" class=\"dataframe\">\n",
              "  <thead>\n",
              "    <tr style=\"text-align: right;\">\n",
              "      <th></th>\n",
              "      <th>day</th>\n",
              "      <th>MILES*</th>\n",
              "    </tr>\n",
              "  </thead>\n",
              "  <tbody>\n",
              "    <tr>\n",
              "      <th>0</th>\n",
              "      <td>1</td>\n",
              "      <td>5.1</td>\n",
              "    </tr>\n",
              "    <tr>\n",
              "      <th>1</th>\n",
              "      <td>2</td>\n",
              "      <td>9.8</td>\n",
              "    </tr>\n",
              "    <tr>\n",
              "      <th>2</th>\n",
              "      <td>5</td>\n",
              "      <td>4.7</td>\n",
              "    </tr>\n",
              "    <tr>\n",
              "      <th>3</th>\n",
              "      <td>6</td>\n",
              "      <td>75.1</td>\n",
              "    </tr>\n",
              "    <tr>\n",
              "      <th>4</th>\n",
              "      <td>7</td>\n",
              "      <td>0.8</td>\n",
              "    </tr>\n",
              "    <tr>\n",
              "      <th>5</th>\n",
              "      <td>10</td>\n",
              "      <td>49.3</td>\n",
              "    </tr>\n",
              "    <tr>\n",
              "      <th>6</th>\n",
              "      <td>11</td>\n",
              "      <td>11.6</td>\n",
              "    </tr>\n",
              "    <tr>\n",
              "      <th>7</th>\n",
              "      <td>12</td>\n",
              "      <td>27.2</td>\n",
              "    </tr>\n",
              "    <tr>\n",
              "      <th>8</th>\n",
              "      <td>13</td>\n",
              "      <td>23.0</td>\n",
              "    </tr>\n",
              "    <tr>\n",
              "      <th>9</th>\n",
              "      <td>14</td>\n",
              "      <td>25.8</td>\n",
              "    </tr>\n",
              "    <tr>\n",
              "      <th>10</th>\n",
              "      <td>15</td>\n",
              "      <td>28.8</td>\n",
              "    </tr>\n",
              "    <tr>\n",
              "      <th>11</th>\n",
              "      <td>18</td>\n",
              "      <td>9.5</td>\n",
              "    </tr>\n",
              "    <tr>\n",
              "      <th>12</th>\n",
              "      <td>19</td>\n",
              "      <td>14.8</td>\n",
              "    </tr>\n",
              "    <tr>\n",
              "      <th>13</th>\n",
              "      <td>20</td>\n",
              "      <td>72.4</td>\n",
              "    </tr>\n",
              "    <tr>\n",
              "      <th>14</th>\n",
              "      <td>21</td>\n",
              "      <td>5.0</td>\n",
              "    </tr>\n",
              "    <tr>\n",
              "      <th>15</th>\n",
              "      <td>26</td>\n",
              "      <td>8.1</td>\n",
              "    </tr>\n",
              "    <tr>\n",
              "      <th>16</th>\n",
              "      <td>27</td>\n",
              "      <td>39.5</td>\n",
              "    </tr>\n",
              "    <tr>\n",
              "      <th>17</th>\n",
              "      <td>28</td>\n",
              "      <td>49.4</td>\n",
              "    </tr>\n",
              "    <tr>\n",
              "      <th>18</th>\n",
              "      <td>29</td>\n",
              "      <td>41.6</td>\n",
              "    </tr>\n",
              "    <tr>\n",
              "      <th>19</th>\n",
              "      <td>30</td>\n",
              "      <td>11.4</td>\n",
              "    </tr>\n",
              "  </tbody>\n",
              "</table>\n",
              "</div>"
            ],
            "text/plain": [
              "    day  MILES*\n",
              "0     1     5.1\n",
              "1     2     9.8\n",
              "2     5     4.7\n",
              "3     6    75.1\n",
              "4     7     0.8\n",
              "5    10    49.3\n",
              "6    11    11.6\n",
              "7    12    27.2\n",
              "8    13    23.0\n",
              "9    14    25.8\n",
              "10   15    28.8\n",
              "11   18     9.5\n",
              "12   19    14.8\n",
              "13   20    72.4\n",
              "14   21     5.0\n",
              "15   26     8.1\n",
              "16   27    39.5\n",
              "17   28    49.4\n",
              "18   29    41.6\n",
              "19   30    11.4"
            ]
          },
          "metadata": {
            "tags": []
          },
          "execution_count": 319
        }
      ]
    },
    {
      "cell_type": "code",
      "metadata": {
        "id": "f5IyVch_L8IY",
        "colab_type": "code",
        "colab": {},
        "outputId": "2812fec1-9d61-4dd6-8523-355855870fbb"
      },
      "source": [
        "round(jan['MILES*'].sum())"
      ],
      "execution_count": 0,
      "outputs": [
        {
          "output_type": "execute_result",
          "data": {
            "text/plain": [
              "513.0"
            ]
          },
          "metadata": {
            "tags": []
          },
          "execution_count": 320
        }
      ]
    },
    {
      "cell_type": "markdown",
      "metadata": {
        "id": "dTQSen5bL8Ib",
        "colab_type": "text"
      },
      "source": [
        "## Q20. Create a dataframe with months on the horizontal axis and days (31) on the vertical axis. The entries of this data frame should be the miles travelled on each day of each month. "
      ]
    },
    {
      "cell_type": "code",
      "metadata": {
        "id": "cbpAVUXhL8Ic",
        "colab_type": "code",
        "colab": {},
        "outputId": "7eb80d85-2fdd-432d-a53f-8dd93189fbf7"
      },
      "source": [
        "mbd_jan = pd.DataFrame(jan['MILES*'].groupby(uber_drives['START_DATE*'].dt.day).sum())\n",
        "mbd_feb = pd.DataFrame(feb['MILES*'].groupby(uber_drives['START_DATE*'].dt.day).sum())\n",
        "mbd_mar = pd.DataFrame(mar['MILES*'].groupby(uber_drives['START_DATE*'].dt.day).sum())\n",
        "mbd_apr = pd.DataFrame(apr['MILES*'].groupby(uber_drives['START_DATE*'].dt.day).sum())\n",
        "mbd_may = pd.DataFrame(may['MILES*'].groupby(uber_drives['START_DATE*'].dt.day).sum())\n",
        "mbd_jun = pd.DataFrame(jun['MILES*'].groupby(uber_drives['START_DATE*'].dt.day).sum())\n",
        "mbd_jul = pd.DataFrame(jul['MILES*'].groupby(uber_drives['START_DATE*'].dt.day).sum())\n",
        "mbd_aug = pd.DataFrame(aug['MILES*'].groupby(uber_drives['START_DATE*'].dt.day).sum())\n",
        "mbd_sep = pd.DataFrame(sep['MILES*'].groupby(uber_drives['START_DATE*'].dt.day).sum())\n",
        "mbd_oct = pd.DataFrame(oct['MILES*'].groupby(uber_drives['START_DATE*'].dt.day).sum())\n",
        "mbd_nov = pd.DataFrame(nov['MILES*'].groupby(uber_drives['START_DATE*'].dt.day).sum())\n",
        "mbd_dec = pd.DataFrame(dec['MILES*'].groupby(uber_drives['START_DATE*'].dt.day).sum())\n",
        "\n",
        "df = pd.concat([mbd_jan['MILES*'], mbd_feb['MILES*'], mbd_mar['MILES*'], mbd_apr['MILES*'], mbd_may['MILES*'],\n",
        "               mbd_jun['MILES*'], mbd_jul['MILES*'], mbd_aug['MILES*'], mbd_sep['MILES*'], mbd_oct['MILES*'],\n",
        "               mbd_nov['MILES*'], mbd_dec['MILES*']], axis = 1)\n",
        "\n",
        "df.columns = ['Jan', 'Feb','Mar','Apr','May','Jun','Jul','Aug','Sep','Oct','Nov','Dec']\n",
        "df = df.reset_index()\n",
        "df = df.rename(columns = {'START_DATE*':'day'})\n",
        "df['day'] = df['day'].astype(int)\n",
        "df.fillna(0, inplace = True)\n",
        "df"
      ],
      "execution_count": 0,
      "outputs": [
        {
          "output_type": "execute_result",
          "data": {
            "text/html": [
              "<div>\n",
              "<style scoped>\n",
              "    .dataframe tbody tr th:only-of-type {\n",
              "        vertical-align: middle;\n",
              "    }\n",
              "\n",
              "    .dataframe tbody tr th {\n",
              "        vertical-align: top;\n",
              "    }\n",
              "\n",
              "    .dataframe thead th {\n",
              "        text-align: right;\n",
              "    }\n",
              "</style>\n",
              "<table border=\"1\" class=\"dataframe\">\n",
              "  <thead>\n",
              "    <tr style=\"text-align: right;\">\n",
              "      <th></th>\n",
              "      <th>day</th>\n",
              "      <th>Jan</th>\n",
              "      <th>Feb</th>\n",
              "      <th>Mar</th>\n",
              "      <th>Apr</th>\n",
              "      <th>May</th>\n",
              "      <th>Jun</th>\n",
              "      <th>Jul</th>\n",
              "      <th>Aug</th>\n",
              "      <th>Sep</th>\n",
              "      <th>Oct</th>\n",
              "      <th>Nov</th>\n",
              "      <th>Dec</th>\n",
              "    </tr>\n",
              "  </thead>\n",
              "  <tbody>\n",
              "    <tr>\n",
              "      <th>0</th>\n",
              "      <td>1</td>\n",
              "      <td>5.1</td>\n",
              "      <td>46.6</td>\n",
              "      <td>16.0</td>\n",
              "      <td>47.5</td>\n",
              "      <td>21.2</td>\n",
              "      <td>16.3</td>\n",
              "      <td>54.9</td>\n",
              "      <td>40.9</td>\n",
              "      <td>25.8</td>\n",
              "      <td>0.0</td>\n",
              "      <td>39.8</td>\n",
              "      <td>16.8</td>\n",
              "    </tr>\n",
              "    <tr>\n",
              "      <th>1</th>\n",
              "      <td>2</td>\n",
              "      <td>9.8</td>\n",
              "      <td>15.9</td>\n",
              "      <td>0.0</td>\n",
              "      <td>486.6</td>\n",
              "      <td>6.1</td>\n",
              "      <td>0.0</td>\n",
              "      <td>20.0</td>\n",
              "      <td>15.3</td>\n",
              "      <td>22.1</td>\n",
              "      <td>0.0</td>\n",
              "      <td>20.5</td>\n",
              "      <td>16.7</td>\n",
              "    </tr>\n",
              "    <tr>\n",
              "      <th>2</th>\n",
              "      <td>3</td>\n",
              "      <td>0.0</td>\n",
              "      <td>0.0</td>\n",
              "      <td>34.6</td>\n",
              "      <td>159.3</td>\n",
              "      <td>2.5</td>\n",
              "      <td>38.4</td>\n",
              "      <td>16.1</td>\n",
              "      <td>4.6</td>\n",
              "      <td>0.0</td>\n",
              "      <td>27.6</td>\n",
              "      <td>14.3</td>\n",
              "      <td>11.4</td>\n",
              "    </tr>\n",
              "    <tr>\n",
              "      <th>3</th>\n",
              "      <td>4</td>\n",
              "      <td>0.0</td>\n",
              "      <td>35.9</td>\n",
              "      <td>79.9</td>\n",
              "      <td>0.0</td>\n",
              "      <td>32.7</td>\n",
              "      <td>0.0</td>\n",
              "      <td>39.2</td>\n",
              "      <td>0.0</td>\n",
              "      <td>0.0</td>\n",
              "      <td>43.7</td>\n",
              "      <td>19.9</td>\n",
              "      <td>6.3</td>\n",
              "    </tr>\n",
              "    <tr>\n",
              "      <th>4</th>\n",
              "      <td>5</td>\n",
              "      <td>4.7</td>\n",
              "      <td>20.8</td>\n",
              "      <td>33.7</td>\n",
              "      <td>7.9</td>\n",
              "      <td>30.0</td>\n",
              "      <td>41.7</td>\n",
              "      <td>30.2</td>\n",
              "      <td>4.6</td>\n",
              "      <td>17.2</td>\n",
              "      <td>0.0</td>\n",
              "      <td>7.2</td>\n",
              "      <td>7.9</td>\n",
              "    </tr>\n",
              "    <tr>\n",
              "      <th>5</th>\n",
              "      <td>6</td>\n",
              "      <td>75.1</td>\n",
              "      <td>23.6</td>\n",
              "      <td>0.0</td>\n",
              "      <td>8.0</td>\n",
              "      <td>39.3</td>\n",
              "      <td>38.6</td>\n",
              "      <td>32.5</td>\n",
              "      <td>14.6</td>\n",
              "      <td>69.1</td>\n",
              "      <td>162.7</td>\n",
              "      <td>54.2</td>\n",
              "      <td>0.0</td>\n",
              "    </tr>\n",
              "    <tr>\n",
              "      <th>6</th>\n",
              "      <td>7</td>\n",
              "      <td>0.8</td>\n",
              "      <td>23.5</td>\n",
              "      <td>42.4</td>\n",
              "      <td>12.2</td>\n",
              "      <td>0.0</td>\n",
              "      <td>20.3</td>\n",
              "      <td>29.6</td>\n",
              "      <td>10.4</td>\n",
              "      <td>0.0</td>\n",
              "      <td>61.5</td>\n",
              "      <td>25.0</td>\n",
              "      <td>24.5</td>\n",
              "    </tr>\n",
              "    <tr>\n",
              "      <th>7</th>\n",
              "      <td>8</td>\n",
              "      <td>0.0</td>\n",
              "      <td>7.0</td>\n",
              "      <td>16.4</td>\n",
              "      <td>58.7</td>\n",
              "      <td>0.0</td>\n",
              "      <td>43.7</td>\n",
              "      <td>40.4</td>\n",
              "      <td>19.9</td>\n",
              "      <td>0.0</td>\n",
              "      <td>11.6</td>\n",
              "      <td>30.1</td>\n",
              "      <td>10.8</td>\n",
              "    </tr>\n",
              "    <tr>\n",
              "      <th>8</th>\n",
              "      <td>9</td>\n",
              "      <td>0.0</td>\n",
              "      <td>27.1</td>\n",
              "      <td>0.0</td>\n",
              "      <td>0.0</td>\n",
              "      <td>56.3</td>\n",
              "      <td>0.0</td>\n",
              "      <td>26.4</td>\n",
              "      <td>39.2</td>\n",
              "      <td>0.0</td>\n",
              "      <td>7.7</td>\n",
              "      <td>41.1</td>\n",
              "      <td>38.4</td>\n",
              "    </tr>\n",
              "    <tr>\n",
              "      <th>9</th>\n",
              "      <td>10</td>\n",
              "      <td>49.3</td>\n",
              "      <td>0.0</td>\n",
              "      <td>25.1</td>\n",
              "      <td>0.0</td>\n",
              "      <td>17.2</td>\n",
              "      <td>36.6</td>\n",
              "      <td>30.1</td>\n",
              "      <td>35.2</td>\n",
              "      <td>2.8</td>\n",
              "      <td>11.2</td>\n",
              "      <td>31.6</td>\n",
              "      <td>37.3</td>\n",
              "    </tr>\n",
              "    <tr>\n",
              "      <th>10</th>\n",
              "      <td>11</td>\n",
              "      <td>11.6</td>\n",
              "      <td>42.6</td>\n",
              "      <td>7.1</td>\n",
              "      <td>0.0</td>\n",
              "      <td>33.7</td>\n",
              "      <td>30.3</td>\n",
              "      <td>0.0</td>\n",
              "      <td>73.0</td>\n",
              "      <td>18.4</td>\n",
              "      <td>17.1</td>\n",
              "      <td>94.5</td>\n",
              "      <td>9.9</td>\n",
              "    </tr>\n",
              "    <tr>\n",
              "      <th>11</th>\n",
              "      <td>12</td>\n",
              "      <td>27.2</td>\n",
              "      <td>66.0</td>\n",
              "      <td>4.1</td>\n",
              "      <td>41.6</td>\n",
              "      <td>0.0</td>\n",
              "      <td>9.6</td>\n",
              "      <td>22.4</td>\n",
              "      <td>3.7</td>\n",
              "      <td>16.8</td>\n",
              "      <td>18.4</td>\n",
              "      <td>22.4</td>\n",
              "      <td>18.2</td>\n",
              "    </tr>\n",
              "    <tr>\n",
              "      <th>12</th>\n",
              "      <td>13</td>\n",
              "      <td>23.0</td>\n",
              "      <td>11.6</td>\n",
              "      <td>50.5</td>\n",
              "      <td>0.0</td>\n",
              "      <td>0.0</td>\n",
              "      <td>35.8</td>\n",
              "      <td>30.1</td>\n",
              "      <td>8.4</td>\n",
              "      <td>0.7</td>\n",
              "      <td>24.7</td>\n",
              "      <td>20.9</td>\n",
              "      <td>8.3</td>\n",
              "    </tr>\n",
              "    <tr>\n",
              "      <th>13</th>\n",
              "      <td>14</td>\n",
              "      <td>25.8</td>\n",
              "      <td>38.8</td>\n",
              "      <td>4.7</td>\n",
              "      <td>29.0</td>\n",
              "      <td>6.2</td>\n",
              "      <td>35.8</td>\n",
              "      <td>210.4</td>\n",
              "      <td>0.0</td>\n",
              "      <td>0.7</td>\n",
              "      <td>45.9</td>\n",
              "      <td>94.4</td>\n",
              "      <td>12.8</td>\n",
              "    </tr>\n",
              "    <tr>\n",
              "      <th>14</th>\n",
              "      <td>15</td>\n",
              "      <td>28.8</td>\n",
              "      <td>0.0</td>\n",
              "      <td>4.8</td>\n",
              "      <td>28.5</td>\n",
              "      <td>0.0</td>\n",
              "      <td>27.7</td>\n",
              "      <td>50.6</td>\n",
              "      <td>71.3</td>\n",
              "      <td>0.9</td>\n",
              "      <td>6.2</td>\n",
              "      <td>26.6</td>\n",
              "      <td>10.6</td>\n",
              "    </tr>\n",
              "    <tr>\n",
              "      <th>15</th>\n",
              "      <td>16</td>\n",
              "      <td>0.0</td>\n",
              "      <td>79.1</td>\n",
              "      <td>5.8</td>\n",
              "      <td>12.1</td>\n",
              "      <td>0.0</td>\n",
              "      <td>58.7</td>\n",
              "      <td>115.0</td>\n",
              "      <td>44.9</td>\n",
              "      <td>1.6</td>\n",
              "      <td>33.7</td>\n",
              "      <td>5.4</td>\n",
              "      <td>0.0</td>\n",
              "    </tr>\n",
              "    <tr>\n",
              "      <th>16</th>\n",
              "      <td>17</td>\n",
              "      <td>0.0</td>\n",
              "      <td>38.3</td>\n",
              "      <td>211.3</td>\n",
              "      <td>0.0</td>\n",
              "      <td>7.4</td>\n",
              "      <td>12.2</td>\n",
              "      <td>195.3</td>\n",
              "      <td>48.3</td>\n",
              "      <td>0.0</td>\n",
              "      <td>52.4</td>\n",
              "      <td>16.3</td>\n",
              "      <td>10.1</td>\n",
              "    </tr>\n",
              "    <tr>\n",
              "      <th>17</th>\n",
              "      <td>18</td>\n",
              "      <td>9.5</td>\n",
              "      <td>57.4</td>\n",
              "      <td>25.6</td>\n",
              "      <td>0.0</td>\n",
              "      <td>16.0</td>\n",
              "      <td>8.7</td>\n",
              "      <td>38.9</td>\n",
              "      <td>7.6</td>\n",
              "      <td>9.4</td>\n",
              "      <td>33.5</td>\n",
              "      <td>14.4</td>\n",
              "      <td>24.3</td>\n",
              "    </tr>\n",
              "    <tr>\n",
              "      <th>18</th>\n",
              "      <td>19</td>\n",
              "      <td>14.8</td>\n",
              "      <td>70.7</td>\n",
              "      <td>163.9</td>\n",
              "      <td>16.2</td>\n",
              "      <td>2.9</td>\n",
              "      <td>11.9</td>\n",
              "      <td>26.8</td>\n",
              "      <td>40.8</td>\n",
              "      <td>70.7</td>\n",
              "      <td>36.7</td>\n",
              "      <td>34.9</td>\n",
              "      <td>59.4</td>\n",
              "    </tr>\n",
              "    <tr>\n",
              "      <th>19</th>\n",
              "      <td>20</td>\n",
              "      <td>72.4</td>\n",
              "      <td>87.8</td>\n",
              "      <td>33.3</td>\n",
              "      <td>0.0</td>\n",
              "      <td>19.4</td>\n",
              "      <td>0.0</td>\n",
              "      <td>5.6</td>\n",
              "      <td>0.0</td>\n",
              "      <td>26.1</td>\n",
              "      <td>95.4</td>\n",
              "      <td>66.8</td>\n",
              "      <td>55.6</td>\n",
              "    </tr>\n",
              "    <tr>\n",
              "      <th>20</th>\n",
              "      <td>21</td>\n",
              "      <td>5.0</td>\n",
              "      <td>114.3</td>\n",
              "      <td>36.3</td>\n",
              "      <td>0.0</td>\n",
              "      <td>0.0</td>\n",
              "      <td>35.9</td>\n",
              "      <td>11.6</td>\n",
              "      <td>49.1</td>\n",
              "      <td>0.0</td>\n",
              "      <td>13.2</td>\n",
              "      <td>18.2</td>\n",
              "      <td>164.5</td>\n",
              "    </tr>\n",
              "    <tr>\n",
              "      <th>21</th>\n",
              "      <td>22</td>\n",
              "      <td>0.0</td>\n",
              "      <td>8.1</td>\n",
              "      <td>32.5</td>\n",
              "      <td>56.5</td>\n",
              "      <td>5.5</td>\n",
              "      <td>0.0</td>\n",
              "      <td>62.2</td>\n",
              "      <td>102.1</td>\n",
              "      <td>0.0</td>\n",
              "      <td>39.9</td>\n",
              "      <td>28.8</td>\n",
              "      <td>106.1</td>\n",
              "    </tr>\n",
              "    <tr>\n",
              "      <th>22</th>\n",
              "      <td>23</td>\n",
              "      <td>0.0</td>\n",
              "      <td>0.0</td>\n",
              "      <td>3.3</td>\n",
              "      <td>12.5</td>\n",
              "      <td>7.2</td>\n",
              "      <td>0.0</td>\n",
              "      <td>43.1</td>\n",
              "      <td>60.8</td>\n",
              "      <td>2.9</td>\n",
              "      <td>62.5</td>\n",
              "      <td>12.4</td>\n",
              "      <td>27.2</td>\n",
              "    </tr>\n",
              "    <tr>\n",
              "      <th>23</th>\n",
              "      <td>24</td>\n",
              "      <td>0.0</td>\n",
              "      <td>3.2</td>\n",
              "      <td>4.2</td>\n",
              "      <td>9.2</td>\n",
              "      <td>0.0</td>\n",
              "      <td>51.1</td>\n",
              "      <td>0.0</td>\n",
              "      <td>121.4</td>\n",
              "      <td>10.6</td>\n",
              "      <td>34.0</td>\n",
              "      <td>0.0</td>\n",
              "      <td>32.7</td>\n",
              "    </tr>\n",
              "    <tr>\n",
              "      <th>24</th>\n",
              "      <td>25</td>\n",
              "      <td>0.0</td>\n",
              "      <td>18.1</td>\n",
              "      <td>655.3</td>\n",
              "      <td>0.0</td>\n",
              "      <td>0.0</td>\n",
              "      <td>54.7</td>\n",
              "      <td>16.0</td>\n",
              "      <td>107.4</td>\n",
              "      <td>0.0</td>\n",
              "      <td>34.2</td>\n",
              "      <td>21.4</td>\n",
              "      <td>5.2</td>\n",
              "    </tr>\n",
              "    <tr>\n",
              "      <th>25</th>\n",
              "      <td>26</td>\n",
              "      <td>8.1</td>\n",
              "      <td>36.6</td>\n",
              "      <td>16.7</td>\n",
              "      <td>0.0</td>\n",
              "      <td>0.0</td>\n",
              "      <td>32.6</td>\n",
              "      <td>9.3</td>\n",
              "      <td>45.5</td>\n",
              "      <td>0.0</td>\n",
              "      <td>4.2</td>\n",
              "      <td>31.3</td>\n",
              "      <td>28.8</td>\n",
              "    </tr>\n",
              "    <tr>\n",
              "      <th>26</th>\n",
              "      <td>27</td>\n",
              "      <td>39.5</td>\n",
              "      <td>0.0</td>\n",
              "      <td>29.0</td>\n",
              "      <td>9.7</td>\n",
              "      <td>7.4</td>\n",
              "      <td>115.5</td>\n",
              "      <td>32.1</td>\n",
              "      <td>261.0</td>\n",
              "      <td>218.5</td>\n",
              "      <td>36.5</td>\n",
              "      <td>6.2</td>\n",
              "      <td>27.0</td>\n",
              "    </tr>\n",
              "    <tr>\n",
              "      <th>27</th>\n",
              "      <td>28</td>\n",
              "      <td>49.4</td>\n",
              "      <td>14.5</td>\n",
              "      <td>56.5</td>\n",
              "      <td>50.7</td>\n",
              "      <td>22.1</td>\n",
              "      <td>38.4</td>\n",
              "      <td>2.3</td>\n",
              "      <td>33.7</td>\n",
              "      <td>20.5</td>\n",
              "      <td>352.7</td>\n",
              "      <td>0.0</td>\n",
              "      <td>44.5</td>\n",
              "    </tr>\n",
              "    <tr>\n",
              "      <th>28</th>\n",
              "      <td>29</td>\n",
              "      <td>41.6</td>\n",
              "      <td>20.7</td>\n",
              "      <td>39.6</td>\n",
              "      <td>52.3</td>\n",
              "      <td>0.0</td>\n",
              "      <td>38.4</td>\n",
              "      <td>4.4</td>\n",
              "      <td>38.2</td>\n",
              "      <td>12.6</td>\n",
              "      <td>116.4</td>\n",
              "      <td>0.0</td>\n",
              "      <td>74.9</td>\n",
              "    </tr>\n",
              "    <tr>\n",
              "      <th>29</th>\n",
              "      <td>30</td>\n",
              "      <td>11.4</td>\n",
              "      <td>0.0</td>\n",
              "      <td>28.8</td>\n",
              "      <td>14.5</td>\n",
              "      <td>0.0</td>\n",
              "      <td>9.9</td>\n",
              "      <td>27.3</td>\n",
              "      <td>33.6</td>\n",
              "      <td>54.4</td>\n",
              "      <td>390.2</td>\n",
              "      <td>18.3</td>\n",
              "      <td>15.7</td>\n",
              "    </tr>\n",
              "    <tr>\n",
              "      <th>30</th>\n",
              "      <td>31</td>\n",
              "      <td>0.0</td>\n",
              "      <td>0.0</td>\n",
              "      <td>32.5</td>\n",
              "      <td>0.0</td>\n",
              "      <td>30.7</td>\n",
              "      <td>0.0</td>\n",
              "      <td>1.8</td>\n",
              "      <td>0.0</td>\n",
              "      <td>0.0</td>\n",
              "      <td>36.2</td>\n",
              "      <td>0.0</td>\n",
              "      <td>75.4</td>\n",
              "    </tr>\n",
              "  </tbody>\n",
              "</table>\n",
              "</div>"
            ],
            "text/plain": [
              "    day   Jan    Feb    Mar    Apr   May    Jun    Jul    Aug    Sep    Oct  \\\n",
              "0     1   5.1   46.6   16.0   47.5  21.2   16.3   54.9   40.9   25.8    0.0   \n",
              "1     2   9.8   15.9    0.0  486.6   6.1    0.0   20.0   15.3   22.1    0.0   \n",
              "2     3   0.0    0.0   34.6  159.3   2.5   38.4   16.1    4.6    0.0   27.6   \n",
              "3     4   0.0   35.9   79.9    0.0  32.7    0.0   39.2    0.0    0.0   43.7   \n",
              "4     5   4.7   20.8   33.7    7.9  30.0   41.7   30.2    4.6   17.2    0.0   \n",
              "5     6  75.1   23.6    0.0    8.0  39.3   38.6   32.5   14.6   69.1  162.7   \n",
              "6     7   0.8   23.5   42.4   12.2   0.0   20.3   29.6   10.4    0.0   61.5   \n",
              "7     8   0.0    7.0   16.4   58.7   0.0   43.7   40.4   19.9    0.0   11.6   \n",
              "8     9   0.0   27.1    0.0    0.0  56.3    0.0   26.4   39.2    0.0    7.7   \n",
              "9    10  49.3    0.0   25.1    0.0  17.2   36.6   30.1   35.2    2.8   11.2   \n",
              "10   11  11.6   42.6    7.1    0.0  33.7   30.3    0.0   73.0   18.4   17.1   \n",
              "11   12  27.2   66.0    4.1   41.6   0.0    9.6   22.4    3.7   16.8   18.4   \n",
              "12   13  23.0   11.6   50.5    0.0   0.0   35.8   30.1    8.4    0.7   24.7   \n",
              "13   14  25.8   38.8    4.7   29.0   6.2   35.8  210.4    0.0    0.7   45.9   \n",
              "14   15  28.8    0.0    4.8   28.5   0.0   27.7   50.6   71.3    0.9    6.2   \n",
              "15   16   0.0   79.1    5.8   12.1   0.0   58.7  115.0   44.9    1.6   33.7   \n",
              "16   17   0.0   38.3  211.3    0.0   7.4   12.2  195.3   48.3    0.0   52.4   \n",
              "17   18   9.5   57.4   25.6    0.0  16.0    8.7   38.9    7.6    9.4   33.5   \n",
              "18   19  14.8   70.7  163.9   16.2   2.9   11.9   26.8   40.8   70.7   36.7   \n",
              "19   20  72.4   87.8   33.3    0.0  19.4    0.0    5.6    0.0   26.1   95.4   \n",
              "20   21   5.0  114.3   36.3    0.0   0.0   35.9   11.6   49.1    0.0   13.2   \n",
              "21   22   0.0    8.1   32.5   56.5   5.5    0.0   62.2  102.1    0.0   39.9   \n",
              "22   23   0.0    0.0    3.3   12.5   7.2    0.0   43.1   60.8    2.9   62.5   \n",
              "23   24   0.0    3.2    4.2    9.2   0.0   51.1    0.0  121.4   10.6   34.0   \n",
              "24   25   0.0   18.1  655.3    0.0   0.0   54.7   16.0  107.4    0.0   34.2   \n",
              "25   26   8.1   36.6   16.7    0.0   0.0   32.6    9.3   45.5    0.0    4.2   \n",
              "26   27  39.5    0.0   29.0    9.7   7.4  115.5   32.1  261.0  218.5   36.5   \n",
              "27   28  49.4   14.5   56.5   50.7  22.1   38.4    2.3   33.7   20.5  352.7   \n",
              "28   29  41.6   20.7   39.6   52.3   0.0   38.4    4.4   38.2   12.6  116.4   \n",
              "29   30  11.4    0.0   28.8   14.5   0.0    9.9   27.3   33.6   54.4  390.2   \n",
              "30   31   0.0    0.0   32.5    0.0  30.7    0.0    1.8    0.0    0.0   36.2   \n",
              "\n",
              "     Nov    Dec  \n",
              "0   39.8   16.8  \n",
              "1   20.5   16.7  \n",
              "2   14.3   11.4  \n",
              "3   19.9    6.3  \n",
              "4    7.2    7.9  \n",
              "5   54.2    0.0  \n",
              "6   25.0   24.5  \n",
              "7   30.1   10.8  \n",
              "8   41.1   38.4  \n",
              "9   31.6   37.3  \n",
              "10  94.5    9.9  \n",
              "11  22.4   18.2  \n",
              "12  20.9    8.3  \n",
              "13  94.4   12.8  \n",
              "14  26.6   10.6  \n",
              "15   5.4    0.0  \n",
              "16  16.3   10.1  \n",
              "17  14.4   24.3  \n",
              "18  34.9   59.4  \n",
              "19  66.8   55.6  \n",
              "20  18.2  164.5  \n",
              "21  28.8  106.1  \n",
              "22  12.4   27.2  \n",
              "23   0.0   32.7  \n",
              "24  21.4    5.2  \n",
              "25  31.3   28.8  \n",
              "26   6.2   27.0  \n",
              "27   0.0   44.5  \n",
              "28   0.0   74.9  \n",
              "29  18.3   15.7  \n",
              "30   0.0   75.4  "
            ]
          },
          "metadata": {
            "tags": []
          },
          "execution_count": 321
        }
      ]
    },
    {
      "cell_type": "markdown",
      "metadata": {
        "id": "ShKM9_tYL8Ig",
        "colab_type": "text"
      },
      "source": [
        "## Q21. Find the sum of the total miles travelled throughout the all the months and sort the list in descending order."
      ]
    },
    {
      "cell_type": "code",
      "metadata": {
        "id": "VhDVv86PL8Ih",
        "colab_type": "code",
        "colab": {},
        "outputId": "1cc60143-278c-402d-b49e-f7cdafd9734d"
      },
      "source": [
        "df.sum(axis = 0).sort_values(ascending = False)"
      ],
      "execution_count": 0,
      "outputs": [
        {
          "output_type": "execute_result",
          "data": {
            "text/plain": [
              "Oct    1810.0\n",
              "Mar    1693.9\n",
              "Aug    1335.5\n",
              "Jul    1224.6\n",
              "Apr    1113.0\n",
              "Dec     981.3\n",
              "Feb     908.2\n",
              "Jun     842.8\n",
              "Nov     816.9\n",
              "Sep     601.8\n",
              "Jan     512.9\n",
              "day     496.0\n",
              "May     363.8\n",
              "dtype: float64"
            ]
          },
          "metadata": {
            "tags": []
          },
          "execution_count": 322
        }
      ]
    },
    {
      "cell_type": "markdown",
      "metadata": {
        "id": "Bs1QZZoBL8Ij",
        "colab_type": "text"
      },
      "source": [
        "## Q22. Find the total number of miles driven by an Uber driver in a day.\n",
        "## E.g. Sum of the total miles driven in Day 1 of all the months. \n",
        "## We have to the find the total for 31 days. "
      ]
    },
    {
      "cell_type": "code",
      "metadata": {
        "id": "-E-9D14uL8Ik",
        "colab_type": "code",
        "colab": {},
        "outputId": "34d5d507-196c-4931-a672-89700f775294"
      },
      "source": [
        "df.sum(axis = 1).sort_values(ascending = False)"
      ],
      "execution_count": 0,
      "outputs": [
        {
          "output_type": "execute_result",
          "data": {
            "text/plain": [
              "24    937.3\n",
              "26    809.4\n",
              "27    713.3\n",
              "29    634.1\n",
              "1     615.0\n",
              "16    608.6\n",
              "18    568.7\n",
              "5     523.7\n",
              "13    518.5\n",
              "19    482.4\n",
              "20    469.1\n",
              "28    468.1\n",
              "21    463.7\n",
              "15    372.3\n",
              "10    349.2\n",
              "0     331.9\n",
              "2     311.8\n",
              "23    290.4\n",
              "9     286.4\n",
              "14    271.0\n",
              "17    263.3\n",
              "11    262.4\n",
              "3     261.6\n",
              "6     257.2\n",
              "22    254.9\n",
              "7     246.6\n",
              "8     245.2\n",
              "25    239.1\n",
              "12    227.0\n",
              "4     210.9\n",
              "30    207.6\n",
              "dtype: float64"
            ]
          },
          "metadata": {
            "tags": []
          },
          "execution_count": 323
        }
      ]
    },
    {
      "cell_type": "markdown",
      "metadata": {
        "id": "oI3FN53aL8In",
        "colab_type": "text"
      },
      "source": [
        "## Q23. Plot a bar graph of total miles vs months. "
      ]
    },
    {
      "cell_type": "code",
      "metadata": {
        "id": "tHH08BdrL8In",
        "colab_type": "code",
        "colab": {}
      },
      "source": [
        "df.head(10)"
      ],
      "execution_count": 0,
      "outputs": []
    },
    {
      "cell_type": "code",
      "metadata": {
        "id": "Z3SkDvHbL8Ir",
        "colab_type": "code",
        "colab": {},
        "outputId": "086ebcf7-c9c3-4293-b2ee-53392297fd92"
      },
      "source": [
        "# with matplotlib\n",
        "\n",
        "#df.set_index('day', inplace = True)\n",
        "df.sum(axis = 0).plot(kind = 'bar')  \n",
        "plt.show()"
      ],
      "execution_count": 0,
      "outputs": [
        {
          "output_type": "display_data",
          "data": {
            "image/png": "[encoded data removed]",
            "text/plain": [
              "<Figure size 432x288 with 1 Axes>"
            ]
          },
          "metadata": {
            "tags": [],
            "needs_background": "light"
          }
        }
      ]
    },
    {
      "cell_type": "code",
      "metadata": {
        "id": "NunQyshDL8Iu",
        "colab_type": "code",
        "colab": {},
        "outputId": "46b798b9-c596-4f50-cc89-ce216df5b7ce"
      },
      "source": [
        "# with seaborn\n",
        "\n",
        "sns.barplot(x = pd.DataFrame(df.sum()).reset_index()['index'], y = pd.DataFrame(df.sum()).reset_index()[0])"
      ],
      "execution_count": 0,
      "outputs": [
        {
          "output_type": "execute_result",
          "data": {
            "text/plain": [
              "<matplotlib.axes._subplots.AxesSubplot at 0x1c359ce0390>"
            ]
          },
          "metadata": {
            "tags": []
          },
          "execution_count": 325
        },
        {
          "output_type": "display_data",
          "data": {
            "image/png": "[encoded data removed]",
            "text/plain": [
              "<Figure size 432x288 with 1 Axes>"
            ]
          },
          "metadata": {
            "tags": [],
            "needs_background": "light"
          }
        }
      ]
    },
    {
      "cell_type": "markdown",
      "metadata": {
        "id": "pVb21ZaSL8Iz",
        "colab_type": "text"
      },
      "source": [
        "## Q24. Plot a graph of miles per day vs days. Plot the different months in different colours and make a legend of the colours used. "
      ]
    },
    {
      "cell_type": "code",
      "metadata": {
        "id": "dbCvCxI6L8I0",
        "colab_type": "code",
        "colab": {},
        "outputId": "2e068f62-85e5-4ca6-80ac-e52d9280488e"
      },
      "source": [
        "df.plot()\n",
        "plt.show()"
      ],
      "execution_count": 0,
      "outputs": [
        {
          "output_type": "display_data",
          "data": {
            "image/png": "[encoded data removed]",
            "text/plain": [
              "<Figure size 432x288 with 1 Axes>"
            ]
          },
          "metadata": {
            "tags": [],
            "needs_background": "light"
          }
        }
      ]
    },
    {
      "cell_type": "code",
      "metadata": {
        "id": "XxdVcgXKL8I3",
        "colab_type": "code",
        "colab": {},
        "outputId": "8ba6f538-f169-469c-c54d-3ed31a20ae88"
      },
      "source": [
        "uber_drives.head(10)\n",
        "months = pd.to_datetime(uber_drives['START_DATE*'].head(1155)).dt.month\n",
        "days = pd.to_datetime(uber_drives['START_DATE*'].head(1155)).dt.day\n",
        "uber_drives['MONTH*'] = months\n",
        "uber_drives['DAY*'] = days\n",
        "uber_drives.head(10)"
      ],
      "execution_count": 0,
      "outputs": [
        {
          "output_type": "execute_result",
          "data": {
            "text/html": [
              "<div>\n",
              "<style scoped>\n",
              "    .dataframe tbody tr th:only-of-type {\n",
              "        vertical-align: middle;\n",
              "    }\n",
              "\n",
              "    .dataframe tbody tr th {\n",
              "        vertical-align: top;\n",
              "    }\n",
              "\n",
              "    .dataframe thead th {\n",
              "        text-align: right;\n",
              "    }\n",
              "</style>\n",
              "<table border=\"1\" class=\"dataframe\">\n",
              "  <thead>\n",
              "    <tr style=\"text-align: right;\">\n",
              "      <th></th>\n",
              "      <th>START_DATE*</th>\n",
              "      <th>END_DATE*</th>\n",
              "      <th>CATEGORY*</th>\n",
              "      <th>START*</th>\n",
              "      <th>STOP*</th>\n",
              "      <th>MILES*</th>\n",
              "      <th>PURPOSE*</th>\n",
              "      <th>MONTH*</th>\n",
              "      <th>DAY*</th>\n",
              "    </tr>\n",
              "  </thead>\n",
              "  <tbody>\n",
              "    <tr>\n",
              "      <th>0</th>\n",
              "      <td>2016-01-01 21:11:00</td>\n",
              "      <td>2016-01-01 21:17:00</td>\n",
              "      <td>Business</td>\n",
              "      <td>Fort Pierce</td>\n",
              "      <td>Fort Pierce</td>\n",
              "      <td>5.1</td>\n",
              "      <td>Meal/Entertain</td>\n",
              "      <td>1.0</td>\n",
              "      <td>1.0</td>\n",
              "    </tr>\n",
              "    <tr>\n",
              "      <th>1</th>\n",
              "      <td>2016-01-02 01:25:00</td>\n",
              "      <td>2016-01-02 01:37:00</td>\n",
              "      <td>Business</td>\n",
              "      <td>Fort Pierce</td>\n",
              "      <td>Fort Pierce</td>\n",
              "      <td>5.0</td>\n",
              "      <td>NaN</td>\n",
              "      <td>1.0</td>\n",
              "      <td>2.0</td>\n",
              "    </tr>\n",
              "    <tr>\n",
              "      <th>2</th>\n",
              "      <td>2016-01-02 20:25:00</td>\n",
              "      <td>2016-01-02 20:38:00</td>\n",
              "      <td>Business</td>\n",
              "      <td>Fort Pierce</td>\n",
              "      <td>Fort Pierce</td>\n",
              "      <td>4.8</td>\n",
              "      <td>Errand/Supplies</td>\n",
              "      <td>1.0</td>\n",
              "      <td>2.0</td>\n",
              "    </tr>\n",
              "    <tr>\n",
              "      <th>3</th>\n",
              "      <td>2016-01-05 17:31:00</td>\n",
              "      <td>2016-01-05 17:45:00</td>\n",
              "      <td>Business</td>\n",
              "      <td>Fort Pierce</td>\n",
              "      <td>Fort Pierce</td>\n",
              "      <td>4.7</td>\n",
              "      <td>Meeting</td>\n",
              "      <td>1.0</td>\n",
              "      <td>5.0</td>\n",
              "    </tr>\n",
              "    <tr>\n",
              "      <th>4</th>\n",
              "      <td>2016-01-06 14:42:00</td>\n",
              "      <td>2016-01-06 15:49:00</td>\n",
              "      <td>Business</td>\n",
              "      <td>Fort Pierce</td>\n",
              "      <td>West Palm Beach</td>\n",
              "      <td>63.7</td>\n",
              "      <td>Customer Visit</td>\n",
              "      <td>1.0</td>\n",
              "      <td>6.0</td>\n",
              "    </tr>\n",
              "    <tr>\n",
              "      <th>5</th>\n",
              "      <td>2016-01-06 17:15:00</td>\n",
              "      <td>2016-01-06 17:19:00</td>\n",
              "      <td>Business</td>\n",
              "      <td>West Palm Beach</td>\n",
              "      <td>West Palm Beach</td>\n",
              "      <td>4.3</td>\n",
              "      <td>Meal/Entertain</td>\n",
              "      <td>1.0</td>\n",
              "      <td>6.0</td>\n",
              "    </tr>\n",
              "    <tr>\n",
              "      <th>6</th>\n",
              "      <td>2016-01-06 17:30:00</td>\n",
              "      <td>2016-01-06 17:35:00</td>\n",
              "      <td>Business</td>\n",
              "      <td>West Palm Beach</td>\n",
              "      <td>Palm Beach</td>\n",
              "      <td>7.1</td>\n",
              "      <td>Meeting</td>\n",
              "      <td>1.0</td>\n",
              "      <td>6.0</td>\n",
              "    </tr>\n",
              "    <tr>\n",
              "      <th>7</th>\n",
              "      <td>2016-01-07 13:27:00</td>\n",
              "      <td>2016-01-07 13:33:00</td>\n",
              "      <td>Business</td>\n",
              "      <td>Cary</td>\n",
              "      <td>Cary</td>\n",
              "      <td>0.8</td>\n",
              "      <td>Meeting</td>\n",
              "      <td>1.0</td>\n",
              "      <td>7.0</td>\n",
              "    </tr>\n",
              "    <tr>\n",
              "      <th>8</th>\n",
              "      <td>2016-01-10 08:05:00</td>\n",
              "      <td>2016-01-10 08:25:00</td>\n",
              "      <td>Business</td>\n",
              "      <td>Cary</td>\n",
              "      <td>Morrisville</td>\n",
              "      <td>8.3</td>\n",
              "      <td>Meeting</td>\n",
              "      <td>1.0</td>\n",
              "      <td>10.0</td>\n",
              "    </tr>\n",
              "    <tr>\n",
              "      <th>9</th>\n",
              "      <td>2016-01-10 12:17:00</td>\n",
              "      <td>2016-01-10 12:44:00</td>\n",
              "      <td>Business</td>\n",
              "      <td>Jamaica</td>\n",
              "      <td>New York</td>\n",
              "      <td>16.5</td>\n",
              "      <td>Customer Visit</td>\n",
              "      <td>1.0</td>\n",
              "      <td>10.0</td>\n",
              "    </tr>\n",
              "  </tbody>\n",
              "</table>\n",
              "</div>"
            ],
            "text/plain": [
              "          START_DATE*           END_DATE* CATEGORY*           START*  \\\n",
              "0 2016-01-01 21:11:00 2016-01-01 21:17:00  Business      Fort Pierce   \n",
              "1 2016-01-02 01:25:00 2016-01-02 01:37:00  Business      Fort Pierce   \n",
              "2 2016-01-02 20:25:00 2016-01-02 20:38:00  Business      Fort Pierce   \n",
              "3 2016-01-05 17:31:00 2016-01-05 17:45:00  Business      Fort Pierce   \n",
              "4 2016-01-06 14:42:00 2016-01-06 15:49:00  Business      Fort Pierce   \n",
              "5 2016-01-06 17:15:00 2016-01-06 17:19:00  Business  West Palm Beach   \n",
              "6 2016-01-06 17:30:00 2016-01-06 17:35:00  Business  West Palm Beach   \n",
              "7 2016-01-07 13:27:00 2016-01-07 13:33:00  Business             Cary   \n",
              "8 2016-01-10 08:05:00 2016-01-10 08:25:00  Business             Cary   \n",
              "9 2016-01-10 12:17:00 2016-01-10 12:44:00  Business          Jamaica   \n",
              "\n",
              "             STOP*  MILES*         PURPOSE*  MONTH*  DAY*  \n",
              "0      Fort Pierce     5.1   Meal/Entertain     1.0   1.0  \n",
              "1      Fort Pierce     5.0              NaN     1.0   2.0  \n",
              "2      Fort Pierce     4.8  Errand/Supplies     1.0   2.0  \n",
              "3      Fort Pierce     4.7          Meeting     1.0   5.0  \n",
              "4  West Palm Beach    63.7   Customer Visit     1.0   6.0  \n",
              "5  West Palm Beach     4.3   Meal/Entertain     1.0   6.0  \n",
              "6       Palm Beach     7.1          Meeting     1.0   6.0  \n",
              "7             Cary     0.8          Meeting     1.0   7.0  \n",
              "8      Morrisville     8.3          Meeting     1.0  10.0  \n",
              "9         New York    16.5   Customer Visit     1.0  10.0  "
            ]
          },
          "metadata": {
            "tags": []
          },
          "execution_count": 327
        }
      ]
    },
    {
      "cell_type": "code",
      "metadata": {
        "id": "H2pcLAoCL8I6",
        "colab_type": "code",
        "colab": {},
        "outputId": "9a021ea6-b813-4850-f5d0-293b97847023"
      },
      "source": [
        "uber_drives.loc[uber_drives['MONTH*'] == 1.0, 'MONTH*'] = 'Jan'\n",
        "uber_drives.loc[uber_drives['MONTH*'] == 2.0, 'MONTH*'] = 'Feb'\n",
        "uber_drives.loc[uber_drives['MONTH*'] == 3.0, 'MONTH*'] = 'Mar'\n",
        "uber_drives.loc[uber_drives['MONTH*'] == 4.0, 'MONTH*'] = 'Apr'\n",
        "uber_drives.loc[uber_drives['MONTH*'] == 5.0, 'MONTH*'] = 'May'\n",
        "uber_drives.loc[uber_drives['MONTH*'] == 6.0, 'MONTH*'] = 'Jun'\n",
        "uber_drives.loc[uber_drives['MONTH*'] == 7.0, 'MONTH*'] = 'Jul'\n",
        "uber_drives.loc[uber_drives['MONTH*'] == 8.0, 'MONTH*'] = 'Aug'\n",
        "uber_drives.loc[uber_drives['MONTH*'] == 9.0, 'MONTH*'] = 'Sep'\n",
        "uber_drives.loc[uber_drives['MONTH*'] == 10.0, 'MONTH*'] = 'Oct'\n",
        "uber_drives.loc[uber_drives['MONTH*'] == 11.0, 'MONTH*'] = 'Nov'\n",
        "uber_drives.loc[uber_drives['MONTH*'] == 12.0, 'MONTH*'] = 'Dec'\n",
        "uber_drives.head()"
      ],
      "execution_count": 0,
      "outputs": [
        {
          "output_type": "execute_result",
          "data": {
            "text/html": [
              "<div>\n",
              "<style scoped>\n",
              "    .dataframe tbody tr th:only-of-type {\n",
              "        vertical-align: middle;\n",
              "    }\n",
              "\n",
              "    .dataframe tbody tr th {\n",
              "        vertical-align: top;\n",
              "    }\n",
              "\n",
              "    .dataframe thead th {\n",
              "        text-align: right;\n",
              "    }\n",
              "</style>\n",
              "<table border=\"1\" class=\"dataframe\">\n",
              "  <thead>\n",
              "    <tr style=\"text-align: right;\">\n",
              "      <th></th>\n",
              "      <th>START_DATE*</th>\n",
              "      <th>END_DATE*</th>\n",
              "      <th>CATEGORY*</th>\n",
              "      <th>START*</th>\n",
              "      <th>STOP*</th>\n",
              "      <th>MILES*</th>\n",
              "      <th>PURPOSE*</th>\n",
              "      <th>MONTH*</th>\n",
              "      <th>DAY*</th>\n",
              "    </tr>\n",
              "  </thead>\n",
              "  <tbody>\n",
              "    <tr>\n",
              "      <th>0</th>\n",
              "      <td>2016-01-01 21:11:00</td>\n",
              "      <td>2016-01-01 21:17:00</td>\n",
              "      <td>Business</td>\n",
              "      <td>Fort Pierce</td>\n",
              "      <td>Fort Pierce</td>\n",
              "      <td>5.1</td>\n",
              "      <td>Meal/Entertain</td>\n",
              "      <td>Jan</td>\n",
              "      <td>1.0</td>\n",
              "    </tr>\n",
              "    <tr>\n",
              "      <th>1</th>\n",
              "      <td>2016-01-02 01:25:00</td>\n",
              "      <td>2016-01-02 01:37:00</td>\n",
              "      <td>Business</td>\n",
              "      <td>Fort Pierce</td>\n",
              "      <td>Fort Pierce</td>\n",
              "      <td>5.0</td>\n",
              "      <td>NaN</td>\n",
              "      <td>Jan</td>\n",
              "      <td>2.0</td>\n",
              "    </tr>\n",
              "    <tr>\n",
              "      <th>2</th>\n",
              "      <td>2016-01-02 20:25:00</td>\n",
              "      <td>2016-01-02 20:38:00</td>\n",
              "      <td>Business</td>\n",
              "      <td>Fort Pierce</td>\n",
              "      <td>Fort Pierce</td>\n",
              "      <td>4.8</td>\n",
              "      <td>Errand/Supplies</td>\n",
              "      <td>Jan</td>\n",
              "      <td>2.0</td>\n",
              "    </tr>\n",
              "    <tr>\n",
              "      <th>3</th>\n",
              "      <td>2016-01-05 17:31:00</td>\n",
              "      <td>2016-01-05 17:45:00</td>\n",
              "      <td>Business</td>\n",
              "      <td>Fort Pierce</td>\n",
              "      <td>Fort Pierce</td>\n",
              "      <td>4.7</td>\n",
              "      <td>Meeting</td>\n",
              "      <td>Jan</td>\n",
              "      <td>5.0</td>\n",
              "    </tr>\n",
              "    <tr>\n",
              "      <th>4</th>\n",
              "      <td>2016-01-06 14:42:00</td>\n",
              "      <td>2016-01-06 15:49:00</td>\n",
              "      <td>Business</td>\n",
              "      <td>Fort Pierce</td>\n",
              "      <td>West Palm Beach</td>\n",
              "      <td>63.7</td>\n",
              "      <td>Customer Visit</td>\n",
              "      <td>Jan</td>\n",
              "      <td>6.0</td>\n",
              "    </tr>\n",
              "  </tbody>\n",
              "</table>\n",
              "</div>"
            ],
            "text/plain": [
              "          START_DATE*           END_DATE* CATEGORY*       START*  \\\n",
              "0 2016-01-01 21:11:00 2016-01-01 21:17:00  Business  Fort Pierce   \n",
              "1 2016-01-02 01:25:00 2016-01-02 01:37:00  Business  Fort Pierce   \n",
              "2 2016-01-02 20:25:00 2016-01-02 20:38:00  Business  Fort Pierce   \n",
              "3 2016-01-05 17:31:00 2016-01-05 17:45:00  Business  Fort Pierce   \n",
              "4 2016-01-06 14:42:00 2016-01-06 15:49:00  Business  Fort Pierce   \n",
              "\n",
              "             STOP*  MILES*         PURPOSE* MONTH*  DAY*  \n",
              "0      Fort Pierce     5.1   Meal/Entertain    Jan   1.0  \n",
              "1      Fort Pierce     5.0              NaN    Jan   2.0  \n",
              "2      Fort Pierce     4.8  Errand/Supplies    Jan   2.0  \n",
              "3      Fort Pierce     4.7          Meeting    Jan   5.0  \n",
              "4  West Palm Beach    63.7   Customer Visit    Jan   6.0  "
            ]
          },
          "metadata": {
            "tags": []
          },
          "execution_count": 328
        }
      ]
    },
    {
      "cell_type": "code",
      "metadata": {
        "id": "Re4cyyaYL8I9",
        "colab_type": "code",
        "colab": {},
        "outputId": "26ad25d7-302c-45c7-e365-4b170de97b1e"
      },
      "source": [
        "sns.lineplot(x = uber_drives['DAY*'], y = uber_drives['MILES*'], hue = uber_drives['MONTH*'])"
      ],
      "execution_count": 0,
      "outputs": [
        {
          "output_type": "execute_result",
          "data": {
            "text/plain": [
              "<matplotlib.axes._subplots.AxesSubplot at 0x1c359e0b208>"
            ]
          },
          "metadata": {
            "tags": []
          },
          "execution_count": 329
        },
        {
          "output_type": "display_data",
          "data": {
            "image/png": "[encoded data removed]",
            "text/plain": [
              "<Figure size 432x288 with 1 Axes>"
            ]
          },
          "metadata": {
            "tags": [],
            "needs_background": "light"
          }
        }
      ]
    },
    {
      "cell_type": "markdown",
      "metadata": {
        "id": "CYcB-8UZL8I_",
        "colab_type": "text"
      },
      "source": [
        "## Q25. Make the following ranges of miles [\"<5\",\"5-10\",\"10-20\",\"20-35\",\">35\"]. Keep these in the horizontal axis and count of trips in the vertical axis. Plot a bar plot. "
      ]
    },
    {
      "cell_type": "code",
      "metadata": {
        "id": "Yf92FDyAL8JC",
        "colab_type": "code",
        "colab": {},
        "outputId": "f186a5ca-c4f2-48dc-c917-3a02eb3adedf"
      },
      "source": [
        "range_ = [\"<5\",\"5-10\",\"10-20\",\"20-35\",\">35\"]\n",
        "\n",
        "dict_range = dict()\n",
        "for x in range_:\n",
        "    dict_range[x] = 0\n",
        "\n",
        "for i in uber_drives['MILES*']:\n",
        "    if i < 5:\n",
        "        dict_range[\"<5\"] += 1\n",
        "    elif i < 10:\n",
        "        dict_range[\"5-10\"] += 1\n",
        "    elif i < 20:\n",
        "        dict_range[\"10-20\"] += 1\n",
        "    elif i < 35:\n",
        "        dict_range[\"20-35\"] += 1\n",
        "    else:\n",
        "        dict_range[\">35\"] += 1\n",
        "    \n",
        "miles = pd.Series(dict_range)\n",
        "miles.sort_values(inplace=True, ascending=False)\n",
        "\n",
        "X = plt.bar(range(1,len(miles.index)+1),miles.values)\n",
        "plt.title(\"Miles\")\n",
        "plt.xlabel(\"Miles\")\n",
        "plt.ylabel(\"Count of Trips\")\n",
        "plt.xticks(range(1,len(miles.index)+1),miles.index)\n",
        "plt.show()"
      ],
      "execution_count": 0,
      "outputs": [
        {
          "output_type": "display_data",
          "data": {
            "image/png": "[encoded data removed]",
            "text/plain": [
              "<Figure size 432x288 with 1 Axes>"
            ]
          },
          "metadata": {
            "tags": [],
            "needs_background": "light"
          }
        }
      ]
    },
    {
      "cell_type": "code",
      "metadata": {
        "id": "27RcyuHjL8JI",
        "colab_type": "code",
        "colab": {},
        "outputId": "287d0504-8e4d-4384-b2d6-6804da2fd09c"
      },
      "source": [
        "df = pd.DataFrame(miles)\n",
        "df = df.reset_index()\n",
        "df = df.rename(columns = {0:'Count', 'index':'Range'})\n",
        "sns.barplot(x = df['Range'], y = df['Count'])"
      ],
      "execution_count": 0,
      "outputs": [
        {
          "output_type": "execute_result",
          "data": {
            "text/plain": [
              "<matplotlib.axes._subplots.AxesSubplot at 0x1c359f259b0>"
            ]
          },
          "metadata": {
            "tags": []
          },
          "execution_count": 331
        },
        {
          "output_type": "display_data",
          "data": {
            "image/png": "[encoded data removed]",
            "text/plain": [
              "<Figure size 432x288 with 1 Axes>"
            ]
          },
          "metadata": {
            "tags": [],
            "needs_background": "light"
          }
        }
      ]
    },
    {
      "cell_type": "markdown",
      "metadata": {
        "id": "eg4TsVCIL8JP",
        "colab_type": "text"
      },
      "source": [
        "## Q26. Print all types of purposes for the trip in an array. "
      ]
    },
    {
      "cell_type": "code",
      "metadata": {
        "id": "tmMgcd88L8JQ",
        "colab_type": "code",
        "colab": {},
        "outputId": "c991ffeb-0d54-44ad-9174-7b85144670f5"
      },
      "source": [
        "print(np.array(uber_drives['PURPOSE*'].dropna().unique()))\n",
        "uber_drives['MILES*'].groupby(uber_drives['PURPOSE*']).sum()"
      ],
      "execution_count": 0,
      "outputs": [
        {
          "output_type": "stream",
          "text": [
            "['Meal/Entertain' 'Errand/Supplies' 'Meeting' 'Customer Visit'\n",
            " 'Temporary Site' 'Between Offices' 'Charity ($)' 'Commute' 'Moving'\n",
            " 'Airport/Travel']\n"
          ],
          "name": "stdout"
        },
        {
          "output_type": "execute_result",
          "data": {
            "text/plain": [
              "PURPOSE*\n",
              "Airport/Travel       16.5\n",
              "Between Offices     197.0\n",
              "Charity ($)          15.1\n",
              "Commute             180.2\n",
              "Customer Visit     2089.5\n",
              "Errand/Supplies     508.0\n",
              "Meal/Entertain      911.7\n",
              "Meeting            2851.3\n",
              "Moving               18.2\n",
              "Temporary Site      523.7\n",
              "Name: MILES*, dtype: float64"
            ]
          },
          "metadata": {
            "tags": []
          },
          "execution_count": 332
        }
      ]
    },
    {
      "cell_type": "markdown",
      "metadata": {
        "id": "jO_UnnEWL8JT",
        "colab_type": "text"
      },
      "source": [
        "## Q27. Plot a bar graph of Purposes vs Distance. "
      ]
    },
    {
      "cell_type": "code",
      "metadata": {
        "id": "VKeUMt38L8JU",
        "colab_type": "code",
        "colab": {},
        "outputId": "466168a7-787d-4f21-8c50-d29473d4835e"
      },
      "source": [
        "df = pd.DataFrame(uber_drives['MILES*'].groupby(uber_drives['PURPOSE*']).sum())\n",
        "df.plot(kind = 'bar')\n",
        "plt.show()"
      ],
      "execution_count": 0,
      "outputs": [
        {
          "output_type": "display_data",
          "data": {
            "image/png": "[encoded data removed]",
            "text/plain": [
              "<Figure size 432x288 with 1 Axes>"
            ]
          },
          "metadata": {
            "tags": [],
            "needs_background": "light"
          }
        }
      ]
    },
    {
      "cell_type": "code",
      "metadata": {
        "id": "kJDeHlk7L8JW",
        "colab_type": "code",
        "colab": {},
        "outputId": "88f13888-d5b0-4dcd-a5d7-4c604ba8d38c"
      },
      "source": [
        "df = df.reset_index()\n",
        "sns.barplot(x = df['MILES*'], y = df['PURPOSE*'])"
      ],
      "execution_count": 0,
      "outputs": [
        {
          "output_type": "execute_result",
          "data": {
            "text/plain": [
              "<matplotlib.axes._subplots.AxesSubplot at 0x1c35a091e10>"
            ]
          },
          "metadata": {
            "tags": []
          },
          "execution_count": 334
        },
        {
          "output_type": "display_data",
          "data": {
            "image/png": "[encoded data removed]",
            "text/plain": [
              "<Figure size 432x288 with 1 Axes>"
            ]
          },
          "metadata": {
            "tags": [],
            "needs_background": "light"
          }
        }
      ]
    },
    {
      "cell_type": "markdown",
      "metadata": {
        "id": "Kf1ljWkJL8Jc",
        "colab_type": "text"
      },
      "source": [
        "## Q28. Print a dataframe of Purposes and the distance travelled for that particular Purpose. "
      ]
    },
    {
      "cell_type": "code",
      "metadata": {
        "id": "l7sjWITsL8Jd",
        "colab_type": "code",
        "colab": {},
        "outputId": "b169ce65-9d98-4e05-e36d-d300fbf2d993"
      },
      "source": [
        "df"
      ],
      "execution_count": 0,
      "outputs": [
        {
          "output_type": "execute_result",
          "data": {
            "text/html": [
              "<div>\n",
              "<style scoped>\n",
              "    .dataframe tbody tr th:only-of-type {\n",
              "        vertical-align: middle;\n",
              "    }\n",
              "\n",
              "    .dataframe tbody tr th {\n",
              "        vertical-align: top;\n",
              "    }\n",
              "\n",
              "    .dataframe thead th {\n",
              "        text-align: right;\n",
              "    }\n",
              "</style>\n",
              "<table border=\"1\" class=\"dataframe\">\n",
              "  <thead>\n",
              "    <tr style=\"text-align: right;\">\n",
              "      <th></th>\n",
              "      <th>PURPOSE*</th>\n",
              "      <th>MILES*</th>\n",
              "    </tr>\n",
              "  </thead>\n",
              "  <tbody>\n",
              "    <tr>\n",
              "      <th>0</th>\n",
              "      <td>Airport/Travel</td>\n",
              "      <td>16.5</td>\n",
              "    </tr>\n",
              "    <tr>\n",
              "      <th>1</th>\n",
              "      <td>Between Offices</td>\n",
              "      <td>197.0</td>\n",
              "    </tr>\n",
              "    <tr>\n",
              "      <th>2</th>\n",
              "      <td>Charity ($)</td>\n",
              "      <td>15.1</td>\n",
              "    </tr>\n",
              "    <tr>\n",
              "      <th>3</th>\n",
              "      <td>Commute</td>\n",
              "      <td>180.2</td>\n",
              "    </tr>\n",
              "    <tr>\n",
              "      <th>4</th>\n",
              "      <td>Customer Visit</td>\n",
              "      <td>2089.5</td>\n",
              "    </tr>\n",
              "    <tr>\n",
              "      <th>5</th>\n",
              "      <td>Errand/Supplies</td>\n",
              "      <td>508.0</td>\n",
              "    </tr>\n",
              "    <tr>\n",
              "      <th>6</th>\n",
              "      <td>Meal/Entertain</td>\n",
              "      <td>911.7</td>\n",
              "    </tr>\n",
              "    <tr>\n",
              "      <th>7</th>\n",
              "      <td>Meeting</td>\n",
              "      <td>2851.3</td>\n",
              "    </tr>\n",
              "    <tr>\n",
              "      <th>8</th>\n",
              "      <td>Moving</td>\n",
              "      <td>18.2</td>\n",
              "    </tr>\n",
              "    <tr>\n",
              "      <th>9</th>\n",
              "      <td>Temporary Site</td>\n",
              "      <td>523.7</td>\n",
              "    </tr>\n",
              "  </tbody>\n",
              "</table>\n",
              "</div>"
            ],
            "text/plain": [
              "          PURPOSE*  MILES*\n",
              "0   Airport/Travel    16.5\n",
              "1  Between Offices   197.0\n",
              "2      Charity ($)    15.1\n",
              "3          Commute   180.2\n",
              "4   Customer Visit  2089.5\n",
              "5  Errand/Supplies   508.0\n",
              "6   Meal/Entertain   911.7\n",
              "7          Meeting  2851.3\n",
              "8           Moving    18.2\n",
              "9   Temporary Site   523.7"
            ]
          },
          "metadata": {
            "tags": []
          },
          "execution_count": 335
        }
      ]
    },
    {
      "cell_type": "markdown",
      "metadata": {
        "id": "as6NAptML8Jh",
        "colab_type": "text"
      },
      "source": [
        "## Q29. Plot number of trips vs Category of trips."
      ]
    },
    {
      "cell_type": "code",
      "metadata": {
        "id": "RRyTO09iL8Ji",
        "colab_type": "code",
        "colab": {},
        "outputId": "da383185-1605-43b6-c126-0cd8b8262ae7"
      },
      "source": [
        "uber_drives.head()\n",
        "\n",
        "df = pd.DataFrame(uber_drives['CATEGORY*'].value_counts())\n",
        "df.reset_index()\n",
        "\n",
        "df.plot(kind = 'bar')\n",
        "plt.show()\n",
        "df"
      ],
      "execution_count": 0,
      "outputs": [
        {
          "output_type": "display_data",
          "data": {
            "image/png": "[encoded data removed]",
            "text/plain": [
              "<Figure size 432x288 with 1 Axes>"
            ]
          },
          "metadata": {
            "tags": [],
            "needs_background": "light"
          }
        },
        {
          "output_type": "execute_result",
          "data": {
            "text/html": [
              "<div>\n",
              "<style scoped>\n",
              "    .dataframe tbody tr th:only-of-type {\n",
              "        vertical-align: middle;\n",
              "    }\n",
              "\n",
              "    .dataframe tbody tr th {\n",
              "        vertical-align: top;\n",
              "    }\n",
              "\n",
              "    .dataframe thead th {\n",
              "        text-align: right;\n",
              "    }\n",
              "</style>\n",
              "<table border=\"1\" class=\"dataframe\">\n",
              "  <thead>\n",
              "    <tr style=\"text-align: right;\">\n",
              "      <th></th>\n",
              "      <th>CATEGORY*</th>\n",
              "    </tr>\n",
              "  </thead>\n",
              "  <tbody>\n",
              "    <tr>\n",
              "      <th>Business</th>\n",
              "      <td>1078</td>\n",
              "    </tr>\n",
              "    <tr>\n",
              "      <th>Personal</th>\n",
              "      <td>77</td>\n",
              "    </tr>\n",
              "  </tbody>\n",
              "</table>\n",
              "</div>"
            ],
            "text/plain": [
              "          CATEGORY*\n",
              "Business       1078\n",
              "Personal         77"
            ]
          },
          "metadata": {
            "tags": []
          },
          "execution_count": 336
        }
      ]
    },
    {
      "cell_type": "code",
      "metadata": {
        "id": "PsTA_ehoL8Jm",
        "colab_type": "code",
        "colab": {},
        "outputId": "1f4da5e7-f6cc-4431-f1a4-c73103c8bdd3"
      },
      "source": [
        "df = pd.DataFrame(df.reset_index())\n",
        "df = df.rename(columns = {'index':'Category', 'CATEGORY*': 'Count'})\n",
        "sns.barplot(x = df['Category'], y = df['Count'])"
      ],
      "execution_count": 0,
      "outputs": [
        {
          "output_type": "execute_result",
          "data": {
            "text/plain": [
              "<matplotlib.axes._subplots.AxesSubplot at 0x1c359dcfb70>"
            ]
          },
          "metadata": {
            "tags": []
          },
          "execution_count": 337
        },
        {
          "output_type": "display_data",
          "data": {
            "image/png": "[encoded data removed]",
            "text/plain": [
              "<Figure size 432x288 with 1 Axes>"
            ]
          },
          "metadata": {
            "tags": [],
            "needs_background": "light"
          }
        }
      ]
    },
    {
      "cell_type": "markdown",
      "metadata": {
        "id": "Jc6zZKPOL8Jq",
        "colab_type": "text"
      },
      "source": [
        "# Q30. What is proportion of trips that is Business and what is the proportion of trips that is Personal? "
      ]
    },
    {
      "cell_type": "code",
      "metadata": {
        "id": "Os0mD0MPL8Jr",
        "colab_type": "code",
        "colab": {},
        "outputId": "9aa7c0aa-3eb4-4b80-adea-e69041326f68"
      },
      "source": [
        "df = uber_drives.groupby(['CATEGORY*']).sum()\n",
        "Business = df.iloc[0,0]/(df.iloc[0,0] + df.iloc[1,0])\n",
        "Personal = df.iloc[1,0]/(df.iloc[0,0] + df.iloc[1,0])\n",
        "#df\n",
        "print(\"Business:\", Business)\n",
        "print(\"Personal:\", Personal)"
      ],
      "execution_count": 0,
      "outputs": [
        {
          "output_type": "stream",
          "text": [
            "Business: 0.9411947856153777\n",
            "Personal: 0.05880521438462235\n"
          ],
          "name": "stdout"
        }
      ]
    }
  ]
}