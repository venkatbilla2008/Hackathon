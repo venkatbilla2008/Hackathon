{
 "cells": [
  {
   "cell_type": "code",
   "execution_count": 1,
   "metadata": {},
   "outputs": [],
   "source": [
    "import os\n",
    "import numpy as np\n",
    "import pandas as pd\n",
    "import matplotlib.pyplot as plt\n",
    "%matplotlib inline\n",
    "import seaborn as sns\n",
    "import datetime\n",
    "from sklearn.preprocessing import LabelEncoder\n",
    "from math import sqrt\n",
    "\n",
    "pd.set_option('display.max_columns', 0)\n",
    "pd.set_option('display.max_rows', 500)\n",
    "\n",
    "from sklearn.metrics import confusion_matrix\n",
    "from sklearn.metrics import classification_report\n",
    "from sklearn.metrics import accuracy_score\n",
    "from sklearn.model_selection import train_test_split\n",
    "from sklearn.linear_model import LogisticRegression\n",
    "from sklearn.neighbors import KNeighborsClassifier\n",
    "from sklearn.metrics import precision_recall_curve, auc, roc_auc_score, roc_curve, recall_score\n",
    "\n",
    "\n",
    "from sklearn import tree\n",
    "from sklearn.preprocessing import StandardScaler\n",
    "from sklearn.preprocessing import PolynomialFeatures\n",
    "from sklearn.tree import DecisionTreeClassifier\n",
    "from sklearn.tree import DecisionTreeRegressor\n"
   ]
  },
  {
   "cell_type": "code",
   "execution_count": 2,
   "metadata": {},
   "outputs": [],
   "source": [
    "churn_df=pd.read_csv(\"D:/Inceptez Technologies/HACKATHON_14_JULY_2019/churn.csv\")"
   ]
  },
  {
   "cell_type": "code",
   "execution_count": 3,
   "metadata": {},
   "outputs": [
    {
     "data": {
      "text/plain": [
       "(3333, 21)"
      ]
     },
     "execution_count": 3,
     "metadata": {},
     "output_type": "execute_result"
    }
   ],
   "source": [
    "churn_df.shape"
   ]
  },
  {
   "cell_type": "code",
   "execution_count": 4,
   "metadata": {},
   "outputs": [
    {
     "data": {
      "text/plain": [
       "State             0\n",
       "Account Length    0\n",
       "Area Code         0\n",
       "Phone             0\n",
       "Int'l Plan        0\n",
       "VMail Plan        0\n",
       "VMail Message     0\n",
       "Day Mins          0\n",
       "Day Calls         0\n",
       "Day Charge        0\n",
       "Eve Mins          0\n",
       "Eve Calls         0\n",
       "Eve Charge        0\n",
       "Night Mins        0\n",
       "Night Calls       0\n",
       "Night Charge      0\n",
       "Intl Mins         0\n",
       "Intl Calls        0\n",
       "Intl Charge       0\n",
       "CustServ Calls    0\n",
       "Churn?            0\n",
       "dtype: int64"
      ]
     },
     "execution_count": 4,
     "metadata": {},
     "output_type": "execute_result"
    }
   ],
   "source": [
    "churn_df.isna().sum()"
   ]
  },
  {
   "cell_type": "code",
   "execution_count": 5,
   "metadata": {},
   "outputs": [
    {
     "data": {
      "text/plain": [
       "float64    8\n",
       "int64      8\n",
       "object     5\n",
       "dtype: int64"
      ]
     },
     "execution_count": 5,
     "metadata": {},
     "output_type": "execute_result"
    }
   ],
   "source": [
    "churn_df.dtypes.value_counts()"
   ]
  },
  {
   "cell_type": "code",
   "execution_count": 6,
   "metadata": {},
   "outputs": [
    {
     "data": {
      "text/plain": [
       "Index(['State', 'Account Length', 'Area Code', 'Phone', 'Intl Plan',\n",
       "       'VMail Plan', 'VMail Message', 'Day Mins', 'Day Calls', 'Day Charge',\n",
       "       'Eve Mins', 'Eve Calls', 'Eve Charge', 'Night Mins', 'Night Calls',\n",
       "       'Night Charge', 'Intl Mins', 'Intl Calls', 'Intl Charge',\n",
       "       'CustServ Calls', 'churn'],\n",
       "      dtype='object')"
      ]
     },
     "execution_count": 6,
     "metadata": {},
     "output_type": "execute_result"
    }
   ],
   "source": [
    "churn_df=churn_df.rename(columns={'Churn?':'churn'})\n",
    "churn_df=churn_df.rename(columns={\"Int'l Plan\":\"Intl Plan\"})\n",
    "churn_df.columns"
   ]
  },
  {
   "cell_type": "code",
   "execution_count": 7,
   "metadata": {},
   "outputs": [
    {
     "data": {
      "text/plain": [
       "False.    2850\n",
       "True.      483\n",
       "Name: churn, dtype: int64"
      ]
     },
     "execution_count": 7,
     "metadata": {},
     "output_type": "execute_result"
    }
   ],
   "source": [
    "churn_df['churn'].value_counts()"
   ]
  },
  {
   "cell_type": "code",
   "execution_count": 8,
   "metadata": {},
   "outputs": [
    {
     "data": {
      "text/plain": [
       "0    2411\n",
       "1     922\n",
       "Name: VMail Plan, dtype: int64"
      ]
     },
     "execution_count": 8,
     "metadata": {},
     "output_type": "execute_result"
    }
   ],
   "source": [
    "churn_df['churn']=churn_df['churn'].apply(lambda x:1 if x==\"True.\" else 0 )\n",
    "churn_df['Intl Plan']=churn_df['Intl Plan'].apply(lambda x:1 if x==\"yes\" else 0 )\n",
    "churn_df['VMail Plan']=churn_df['VMail Plan'].apply(lambda x:1 if x==\"yes\" else 0 )\n",
    "churn_df['VMail Plan'].value_counts()\n"
   ]
  },
  {
   "cell_type": "code",
   "execution_count": 9,
   "metadata": {},
   "outputs": [
    {
     "data": {
      "text/html": [
       "<div>\n",
       "<style scoped>\n",
       "    .dataframe tbody tr th:only-of-type {\n",
       "        vertical-align: middle;\n",
       "    }\n",
       "\n",
       "    .dataframe tbody tr th {\n",
       "        vertical-align: top;\n",
       "    }\n",
       "\n",
       "    .dataframe thead th {\n",
       "        text-align: right;\n",
       "    }\n",
       "</style>\n",
       "<table border=\"1\" class=\"dataframe\">\n",
       "  <thead>\n",
       "    <tr style=\"text-align: right;\">\n",
       "      <th></th>\n",
       "      <th>State</th>\n",
       "      <th>Account Length</th>\n",
       "      <th>Area Code</th>\n",
       "      <th>Phone</th>\n",
       "      <th>Intl Plan</th>\n",
       "      <th>VMail Plan</th>\n",
       "      <th>VMail Message</th>\n",
       "      <th>Day Mins</th>\n",
       "      <th>Day Calls</th>\n",
       "      <th>Day Charge</th>\n",
       "      <th>Eve Mins</th>\n",
       "      <th>Eve Calls</th>\n",
       "      <th>Eve Charge</th>\n",
       "      <th>Night Mins</th>\n",
       "      <th>Night Calls</th>\n",
       "      <th>Night Charge</th>\n",
       "      <th>Intl Mins</th>\n",
       "      <th>Intl Calls</th>\n",
       "      <th>Intl Charge</th>\n",
       "      <th>CustServ Calls</th>\n",
       "      <th>churn</th>\n",
       "    </tr>\n",
       "  </thead>\n",
       "  <tbody>\n",
       "    <tr>\n",
       "      <th>0</th>\n",
       "      <td>KS</td>\n",
       "      <td>128</td>\n",
       "      <td>415</td>\n",
       "      <td>382-4657</td>\n",
       "      <td>0</td>\n",
       "      <td>1</td>\n",
       "      <td>25</td>\n",
       "      <td>265.1</td>\n",
       "      <td>110</td>\n",
       "      <td>45.07</td>\n",
       "      <td>197.4</td>\n",
       "      <td>99</td>\n",
       "      <td>16.78</td>\n",
       "      <td>244.7</td>\n",
       "      <td>91</td>\n",
       "      <td>11.01</td>\n",
       "      <td>10.0</td>\n",
       "      <td>3</td>\n",
       "      <td>2.70</td>\n",
       "      <td>1</td>\n",
       "      <td>0</td>\n",
       "    </tr>\n",
       "    <tr>\n",
       "      <th>1</th>\n",
       "      <td>OH</td>\n",
       "      <td>107</td>\n",
       "      <td>415</td>\n",
       "      <td>371-7191</td>\n",
       "      <td>0</td>\n",
       "      <td>1</td>\n",
       "      <td>26</td>\n",
       "      <td>161.6</td>\n",
       "      <td>123</td>\n",
       "      <td>27.47</td>\n",
       "      <td>195.5</td>\n",
       "      <td>103</td>\n",
       "      <td>16.62</td>\n",
       "      <td>254.4</td>\n",
       "      <td>103</td>\n",
       "      <td>11.45</td>\n",
       "      <td>13.7</td>\n",
       "      <td>3</td>\n",
       "      <td>3.70</td>\n",
       "      <td>1</td>\n",
       "      <td>0</td>\n",
       "    </tr>\n",
       "    <tr>\n",
       "      <th>2</th>\n",
       "      <td>NJ</td>\n",
       "      <td>137</td>\n",
       "      <td>415</td>\n",
       "      <td>358-1921</td>\n",
       "      <td>0</td>\n",
       "      <td>0</td>\n",
       "      <td>0</td>\n",
       "      <td>243.4</td>\n",
       "      <td>114</td>\n",
       "      <td>41.38</td>\n",
       "      <td>121.2</td>\n",
       "      <td>110</td>\n",
       "      <td>10.30</td>\n",
       "      <td>162.6</td>\n",
       "      <td>104</td>\n",
       "      <td>7.32</td>\n",
       "      <td>12.2</td>\n",
       "      <td>5</td>\n",
       "      <td>3.29</td>\n",
       "      <td>0</td>\n",
       "      <td>0</td>\n",
       "    </tr>\n",
       "    <tr>\n",
       "      <th>3</th>\n",
       "      <td>OH</td>\n",
       "      <td>84</td>\n",
       "      <td>408</td>\n",
       "      <td>375-9999</td>\n",
       "      <td>1</td>\n",
       "      <td>0</td>\n",
       "      <td>0</td>\n",
       "      <td>299.4</td>\n",
       "      <td>71</td>\n",
       "      <td>50.90</td>\n",
       "      <td>61.9</td>\n",
       "      <td>88</td>\n",
       "      <td>5.26</td>\n",
       "      <td>196.9</td>\n",
       "      <td>89</td>\n",
       "      <td>8.86</td>\n",
       "      <td>6.6</td>\n",
       "      <td>7</td>\n",
       "      <td>1.78</td>\n",
       "      <td>2</td>\n",
       "      <td>0</td>\n",
       "    </tr>\n",
       "    <tr>\n",
       "      <th>4</th>\n",
       "      <td>OK</td>\n",
       "      <td>75</td>\n",
       "      <td>415</td>\n",
       "      <td>330-6626</td>\n",
       "      <td>1</td>\n",
       "      <td>0</td>\n",
       "      <td>0</td>\n",
       "      <td>166.7</td>\n",
       "      <td>113</td>\n",
       "      <td>28.34</td>\n",
       "      <td>148.3</td>\n",
       "      <td>122</td>\n",
       "      <td>12.61</td>\n",
       "      <td>186.9</td>\n",
       "      <td>121</td>\n",
       "      <td>8.41</td>\n",
       "      <td>10.1</td>\n",
       "      <td>3</td>\n",
       "      <td>2.73</td>\n",
       "      <td>3</td>\n",
       "      <td>0</td>\n",
       "    </tr>\n",
       "    <tr>\n",
       "      <th>5</th>\n",
       "      <td>AL</td>\n",
       "      <td>118</td>\n",
       "      <td>510</td>\n",
       "      <td>391-8027</td>\n",
       "      <td>1</td>\n",
       "      <td>0</td>\n",
       "      <td>0</td>\n",
       "      <td>223.4</td>\n",
       "      <td>98</td>\n",
       "      <td>37.98</td>\n",
       "      <td>220.6</td>\n",
       "      <td>101</td>\n",
       "      <td>18.75</td>\n",
       "      <td>203.9</td>\n",
       "      <td>118</td>\n",
       "      <td>9.18</td>\n",
       "      <td>6.3</td>\n",
       "      <td>6</td>\n",
       "      <td>1.70</td>\n",
       "      <td>0</td>\n",
       "      <td>0</td>\n",
       "    </tr>\n",
       "    <tr>\n",
       "      <th>6</th>\n",
       "      <td>MA</td>\n",
       "      <td>121</td>\n",
       "      <td>510</td>\n",
       "      <td>355-9993</td>\n",
       "      <td>0</td>\n",
       "      <td>1</td>\n",
       "      <td>24</td>\n",
       "      <td>218.2</td>\n",
       "      <td>88</td>\n",
       "      <td>37.09</td>\n",
       "      <td>348.5</td>\n",
       "      <td>108</td>\n",
       "      <td>29.62</td>\n",
       "      <td>212.6</td>\n",
       "      <td>118</td>\n",
       "      <td>9.57</td>\n",
       "      <td>7.5</td>\n",
       "      <td>7</td>\n",
       "      <td>2.03</td>\n",
       "      <td>3</td>\n",
       "      <td>0</td>\n",
       "    </tr>\n",
       "    <tr>\n",
       "      <th>7</th>\n",
       "      <td>MO</td>\n",
       "      <td>147</td>\n",
       "      <td>415</td>\n",
       "      <td>329-9001</td>\n",
       "      <td>1</td>\n",
       "      <td>0</td>\n",
       "      <td>0</td>\n",
       "      <td>157.0</td>\n",
       "      <td>79</td>\n",
       "      <td>26.69</td>\n",
       "      <td>103.1</td>\n",
       "      <td>94</td>\n",
       "      <td>8.76</td>\n",
       "      <td>211.8</td>\n",
       "      <td>96</td>\n",
       "      <td>9.53</td>\n",
       "      <td>7.1</td>\n",
       "      <td>6</td>\n",
       "      <td>1.92</td>\n",
       "      <td>0</td>\n",
       "      <td>0</td>\n",
       "    </tr>\n",
       "    <tr>\n",
       "      <th>8</th>\n",
       "      <td>LA</td>\n",
       "      <td>117</td>\n",
       "      <td>408</td>\n",
       "      <td>335-4719</td>\n",
       "      <td>0</td>\n",
       "      <td>0</td>\n",
       "      <td>0</td>\n",
       "      <td>184.5</td>\n",
       "      <td>97</td>\n",
       "      <td>31.37</td>\n",
       "      <td>351.6</td>\n",
       "      <td>80</td>\n",
       "      <td>29.89</td>\n",
       "      <td>215.8</td>\n",
       "      <td>90</td>\n",
       "      <td>9.71</td>\n",
       "      <td>8.7</td>\n",
       "      <td>4</td>\n",
       "      <td>2.35</td>\n",
       "      <td>1</td>\n",
       "      <td>0</td>\n",
       "    </tr>\n",
       "    <tr>\n",
       "      <th>9</th>\n",
       "      <td>WV</td>\n",
       "      <td>141</td>\n",
       "      <td>415</td>\n",
       "      <td>330-8173</td>\n",
       "      <td>1</td>\n",
       "      <td>1</td>\n",
       "      <td>37</td>\n",
       "      <td>258.6</td>\n",
       "      <td>84</td>\n",
       "      <td>43.96</td>\n",
       "      <td>222.0</td>\n",
       "      <td>111</td>\n",
       "      <td>18.87</td>\n",
       "      <td>326.4</td>\n",
       "      <td>97</td>\n",
       "      <td>14.69</td>\n",
       "      <td>11.2</td>\n",
       "      <td>5</td>\n",
       "      <td>3.02</td>\n",
       "      <td>0</td>\n",
       "      <td>0</td>\n",
       "    </tr>\n",
       "  </tbody>\n",
       "</table>\n",
       "</div>"
      ],
      "text/plain": [
       "  State  Account Length  Area Code     Phone  Intl Plan  ...  Intl Mins  Intl Calls  Intl Charge  CustServ Calls  churn\n",
       "0    KS             128        415  382-4657          0  ...       10.0           3         2.70               1      0\n",
       "1    OH             107        415  371-7191          0  ...       13.7           3         3.70               1      0\n",
       "2    NJ             137        415  358-1921          0  ...       12.2           5         3.29               0      0\n",
       "3    OH              84        408  375-9999          1  ...        6.6           7         1.78               2      0\n",
       "4    OK              75        415  330-6626          1  ...       10.1           3         2.73               3      0\n",
       "5    AL             118        510  391-8027          1  ...        6.3           6         1.70               0      0\n",
       "6    MA             121        510  355-9993          0  ...        7.5           7         2.03               3      0\n",
       "7    MO             147        415  329-9001          1  ...        7.1           6         1.92               0      0\n",
       "8    LA             117        408  335-4719          0  ...        8.7           4         2.35               1      0\n",
       "9    WV             141        415  330-8173          1  ...       11.2           5         3.02               0      0\n",
       "\n",
       "[10 rows x 21 columns]"
      ]
     },
     "execution_count": 9,
     "metadata": {},
     "output_type": "execute_result"
    }
   ],
   "source": [
    "churn_df.head(10)"
   ]
  },
  {
   "cell_type": "code",
   "execution_count": 10,
   "metadata": {},
   "outputs": [],
   "source": [
    "churn_df_dropped=churn_df.drop(['State','Area Code','Phone'],axis=1)"
   ]
  },
  {
   "cell_type": "code",
   "execution_count": 11,
   "metadata": {},
   "outputs": [
    {
     "data": {
      "text/plain": [
       "Index(['Account Length', 'Intl Plan', 'VMail Plan', 'VMail Message',\n",
       "       'Day Mins', 'Day Calls', 'Day Charge', 'Eve Mins', 'Eve Calls',\n",
       "       'Eve Charge', 'Night Mins', 'Night Calls', 'Night Charge', 'Intl Mins',\n",
       "       'Intl Calls', 'Intl Charge', 'CustServ Calls', 'churn'],\n",
       "      dtype='object')"
      ]
     },
     "execution_count": 11,
     "metadata": {},
     "output_type": "execute_result"
    }
   ],
   "source": [
    "churn_df_dropped.columns"
   ]
  },
  {
   "cell_type": "code",
   "execution_count": 12,
   "metadata": {},
   "outputs": [],
   "source": [
    "X=churn_df_dropped.drop(columns=['churn'])\n",
    "y=churn_df_dropped[['churn']]"
   ]
  },
  {
   "cell_type": "code",
   "execution_count": 13,
   "metadata": {},
   "outputs": [],
   "source": [
    "X_train, X_test, y_train, y_test = train_test_split(\n",
    "X, y, test_size = 0.2, random_state = 100)\n",
    "\n",
    "#y_train = y_train.ravel()\n",
    "#y_test = y_test.ravel()"
   ]
  },
  {
   "cell_type": "code",
   "execution_count": 14,
   "metadata": {},
   "outputs": [
    {
     "name": "stderr",
     "output_type": "stream",
     "text": [
      "C:\\Users\\Venkat\\Anaconda3_1\\lib\\site-packages\\sklearn\\linear_model\\logistic.py:432: FutureWarning: Default solver will be changed to 'lbfgs' in 0.22. Specify a solver to silence this warning.\n",
      "  FutureWarning)\n",
      "C:\\Users\\Venkat\\Anaconda3_1\\lib\\site-packages\\sklearn\\utils\\validation.py:724: DataConversionWarning: A column-vector y was passed when a 1d array was expected. Please change the shape of y to (n_samples, ), for example using ravel().\n",
      "  y = column_or_1d(y, warn=True)\n"
     ]
    },
    {
     "name": "stdout",
     "output_type": "stream",
     "text": [
      "Accuracy of Logistic regression for train 0.8522130532633159\n",
      "Accuracy of Logistic regression for train 0.8860569715142429\n"
     ]
    }
   ],
   "source": [
    "# using logistic regression\n",
    "from sklearn import metrics\n",
    "logreg = LogisticRegression()\n",
    "logreg.fit(X_train, y_train)\n",
    "train_Pred = logreg.predict(X_train)\n",
    "test_pred = logreg.predict(X_test)\n",
    "print(\"Accuracy of Logistic regression for train\",metrics.accuracy_score(y_train,train_Pred))\n",
    "print(\"Accuracy of Logistic regression for train\",metrics.accuracy_score(y_test,test_pred))"
   ]
  },
  {
   "cell_type": "code",
   "execution_count": 15,
   "metadata": {},
   "outputs": [
    {
     "name": "stdout",
     "output_type": "stream",
     "text": [
      "Accuracy for train : 88.9722430607652  and test : 91.30434782608695 % for K-Value: 4\n",
      "Accuracy for train : 89.12228057014254  and test : 90.4047976011994 % for K-Value: 5\n",
      "Accuracy for train : 88.6721680420105  and test : 91.00449775112443 % for K-Value: 6\n",
      "Accuracy for train : 88.55963990997749  and test : 90.4047976011994 % for K-Value: 7\n",
      "Accuracy for train : 88.44711177794449  and test : 90.4047976011994 % for K-Value: 8\n",
      "Accuracy for train : 88.7846961740435  and test : 90.25487256371814 % for K-Value: 9\n",
      "Accuracy for train : 87.95948987246813  and test : 90.85457271364318 % for K-Value: 10\n",
      "Accuracy for train : 88.29707426856714  and test : 90.85457271364318 % for K-Value: 11\n",
      "Accuracy for train : 87.69692423105776  and test : 90.70464767616193 % for K-Value: 12\n",
      "Accuracy for train : 87.95948987246813  and test : 90.85457271364318 % for K-Value: 13\n",
      "Accuracy for train : 87.80945236309077  and test : 90.85457271364318 % for K-Value: 14\n",
      "Accuracy for train : 87.88447111777946  and test : 90.85457271364318 % for K-Value: 15\n",
      "Accuracy for train : 87.7344336084021  and test : 91.1544227886057 % for K-Value: 16\n",
      "Accuracy for train : 87.77194298574643  and test : 91.1544227886057 % for K-Value: 17\n",
      "Accuracy for train : 87.54688672168042  and test : 90.70464767616193 % for K-Value: 18\n",
      "Accuracy for train : 87.77194298574643  and test : 90.70464767616193 % for K-Value: 19\n",
      "Accuracy for train : 87.35933983495873  and test : 90.85457271364318 % for K-Value: 20\n",
      "Accuracy for train : 87.54688672168042  and test : 90.70464767616193 % for K-Value: 21\n",
      "Accuracy for train : 87.24681170292573  and test : 90.25487256371814 % for K-Value: 22\n",
      "Accuracy for train : 87.54688672168042  and test : 90.55472263868066 % for K-Value: 23\n",
      "Accuracy for train : 87.20930232558139  and test : 90.25487256371814 % for K-Value: 24\n",
      "Accuracy for train : 87.50937734433609  and test : 90.4047976011994 % for K-Value: 25\n",
      "Accuracy for train : 87.20930232558139  and test : 90.4047976011994 % for K-Value: 26\n",
      "Accuracy for train : 87.3218304576144  and test : 90.55472263868066 % for K-Value: 27\n",
      "Accuracy for train : 87.17179294823706  and test : 90.4047976011994 % for K-Value: 28\n",
      "Accuracy for train : 87.3218304576144  and test : 90.55472263868066 % for K-Value: 29\n",
      "Accuracy for train : 87.05926481620405  and test : 90.10494752623688 % for K-Value: 30\n",
      "Accuracy for train : 87.17179294823706  and test : 90.25487256371814 % for K-Value: 31\n",
      "Accuracy for train : 86.98424606151538  and test : 90.10494752623688 % for K-Value: 32\n",
      "Accuracy for train : 87.13428357089272  and test : 90.10494752623688 % for K-Value: 33\n",
      "Accuracy for train : 86.98424606151538  and test : 90.10494752623688 % for K-Value: 34\n",
      "Accuracy for train : 86.98424606151538  and test : 90.25487256371814 % for K-Value: 35\n",
      "Accuracy for train : 86.90922730682671  and test : 90.10494752623688 % for K-Value: 36\n",
      "Accuracy for train : 86.90922730682671  and test : 90.10494752623688 % for K-Value: 37\n",
      "Accuracy for train : 86.75918979744937  and test : 90.10494752623688 % for K-Value: 38\n",
      "Accuracy for train : 86.94673668417104  and test : 90.10494752623688 % for K-Value: 39\n",
      "Accuracy for train : 86.7966991747937  and test : 90.10494752623688 % for K-Value: 40\n",
      "Accuracy for train : 86.94673668417104  and test : 90.25487256371814 % for K-Value: 41\n",
      "Accuracy for train : 86.75918979744937  and test : 90.25487256371814 % for K-Value: 42\n",
      "Accuracy for train : 86.7966991747937  and test : 90.25487256371814 % for K-Value: 43\n",
      "Accuracy for train : 86.64666166541636  and test : 90.25487256371814 % for K-Value: 44\n",
      "Accuracy for train : 86.87171792948237  and test : 90.25487256371814 % for K-Value: 45\n",
      "Accuracy for train : 86.6841710427607  and test : 90.25487256371814 % for K-Value: 46\n",
      "Accuracy for train : 86.72168042010503  and test : 90.25487256371814 % for K-Value: 47\n",
      "Accuracy for train : 86.60915228807202  and test : 90.4047976011994 % for K-Value: 48\n",
      "Accuracy for train : 86.57164291072769  and test : 90.4047976011994 % for K-Value: 49\n",
      "Accuracy for train : 86.60915228807202  and test : 90.25487256371814 % for K-Value: 50\n",
      "Accuracy for train : 86.64666166541636  and test : 90.10494752623688 % for K-Value: 51\n",
      "Accuracy for train : 86.53413353338335  and test : 90.10494752623688 % for K-Value: 52\n",
      "Accuracy for train : 86.60915228807202  and test : 90.10494752623688 % for K-Value: 53\n",
      "Accuracy for train : 86.53413353338335  and test : 90.10494752623688 % for K-Value: 54\n",
      "Accuracy for train : 86.53413353338335  and test : 90.25487256371814 % for K-Value: 55\n",
      "Accuracy for train : 86.53413353338335  and test : 90.10494752623688 % for K-Value: 56\n",
      "Accuracy for train : 86.57164291072769  and test : 90.25487256371814 % for K-Value: 57\n",
      "Accuracy for train : 86.53413353338335  and test : 90.10494752623688 % for K-Value: 58\n"
     ]
    }
   ],
   "source": [
    "y_train=np.ravel(y_train)\n",
    "y_test=np.ravel(y_test)\n",
    "accuracy_train_dict={}\n",
    "accuracy_test_dict={}\n",
    "df_len=round(sqrt(len(churn_df_dropped)))\n",
    "for k in range(3,df_len):\n",
    "    K_value = k+1\n",
    "    neigh = KNeighborsClassifier(n_neighbors = K_value, weights='uniform', algorithm='auto')\n",
    "    neigh.fit(X_train, y_train) \n",
    "    y_pred_train = neigh.predict(X_train)\n",
    "    y_pred_test = neigh.predict(X_test)    \n",
    "    train_accuracy=accuracy_score(y_train,y_pred_train)*100\n",
    "    test_accuracy=accuracy_score(y_test,y_pred_test)*100\n",
    "    accuracy_train_dict.update(({k:train_accuracy}))\n",
    "    accuracy_test_dict.update(({k:test_accuracy}))\n",
    "    print (\"Accuracy for train :\",train_accuracy ,\" and test :\",test_accuracy,\"% for K-Value:\",K_value)"
   ]
  },
  {
   "cell_type": "code",
   "execution_count": 16,
   "metadata": {},
   "outputs": [
    {
     "name": "stdout",
     "output_type": "stream",
     "text": [
      "Accuracy of Naive bayes train set 0.8672168042010503\n",
      "Accuracy of Naive bayes test set 0.8680659670164917\n"
     ]
    }
   ],
   "source": [
    "# using Naive bayes\n",
    "from sklearn.naive_bayes import GaussianNB\n",
    "NB=GaussianNB()\n",
    "NB.fit(X_train, y_train)\n",
    "train_pred=NB.predict(X_train)\n",
    "test_pred=NB.predict(X_test)\n",
    "print(\"Accuracy of Naive bayes train set\",accuracy_score(train_pred,y_train))\n",
    "print(\"Accuracy of Naive bayes test set\",accuracy_score(test_pred,y_test))"
   ]
  },
  {
   "cell_type": "code",
   "execution_count": 17,
   "metadata": {},
   "outputs": [
    {
     "name": "stdout",
     "output_type": "stream",
     "text": [
      "\n",
      "AdaBoost  - Train accuracy 0.9\n",
      "\n",
      "AdaBoost  - Test accuracy 0.895\n"
     ]
    }
   ],
   "source": [
    "## Boosting\n",
    "import matplotlib.pyplot as plt\n",
    "# Adaboost Classifier\n",
    "from sklearn.tree import DecisionTreeClassifier\n",
    "from sklearn.ensemble import AdaBoostClassifier\n",
    "dtree = DecisionTreeClassifier(criterion='gini',max_depth=1)\n",
    "\n",
    "adabst_fit = AdaBoostClassifier(base_estimator= dtree,\n",
    "        n_estimators=5000,learning_rate=0.05,random_state=42)\n",
    "\n",
    "adabst_fit.fit(X_train, y_train)\n",
    "\n",
    "#print (\"\\nAdaBoost - Train Confusion Matrix\\n\\n\",pd.crosstab(y_train,adabst_fit.predict(X_train),rownames = [\"Actuall\"],colnames = [\"Predicted\"]))      \n",
    "print (\"\\nAdaBoost  - Train accuracy\",round(accuracy_score(y_train,adabst_fit.predict(X_train)),3))\n",
    "#print (\"\\nAdaBoost  - Train Classification Report\\n\",classification_report(y_train,adabst_fit.predict(X_train)))\n",
    "\n",
    "#print (\"\\n\\nAdaBoost  - Test Confusion Matrix\\n\\n\",pd.crosstab(y_test,adabst_fit.predict(X_test),rownames = [\"Actuall\"],colnames = [\"Predicted\"]))      \n",
    "print (\"\\nAdaBoost  - Test accuracy\",round(accuracy_score(y_test,adabst_fit.predict(X_test)),3))\n",
    "#print (\"\\nAdaBoost - Test Classification Report\\n\",classification_report(y_test,adabst_fit.predict(X_test)))"
   ]
  },
  {
   "cell_type": "code",
   "execution_count": 18,
   "metadata": {},
   "outputs": [
    {
     "name": "stdout",
     "output_type": "stream",
     "text": [
      "\n",
      "Gradient Boost - Train accuracy 0.909\n",
      "\n",
      "Gradient Boost - Test accuracy 0.889\n"
     ]
    }
   ],
   "source": [
    "# Gradientboost Classifier\n",
    "from sklearn.ensemble import GradientBoostingClassifier\n",
    "\n",
    "gbc_fit = GradientBoostingClassifier(loss='deviance',learning_rate=0.05,n_estimators=5000,\n",
    "                                     min_samples_split=2,min_samples_leaf=1,max_depth=1,random_state=42 )\n",
    "gbc_fit.fit(X_train,y_train)\n",
    "\n",
    "#print (\"\\nGradient Boost - Train Confusion Matrix\\n\\n\",pd.crosstab(y_train,gbc_fit.predict(X_train),rownames = [\"Actuall\"],colnames = [\"Predicted\"]))      \n",
    "print (\"\\nGradient Boost - Train accuracy\",round(accuracy_score(y_train,gbc_fit.predict(X_train)),3))\n",
    "#print (\"\\nGradient Boost  - Train Classification Report\\n\",classification_report(y_train,gbc_fit.predict(X_train)))\n",
    "\n",
    "#print (\"\\n\\nGradient Boost - Test Confusion Matrix\\n\\n\",pd.crosstab(y_test,gbc_fit.predict(X_test),rownames = [\"Actuall\"],colnames = [\"Predicted\"]))      \n",
    "print (\"\\nGradient Boost - Test accuracy\",round(accuracy_score(y_test,gbc_fit.predict(X_test)),3))\n",
    "#print (\"\\nGradient Boost - Test Classification Report\\n\",classification_report(y_test,gbc_fit.predict(X_test)))\n"
   ]
  },
  {
   "cell_type": "code",
   "execution_count": 19,
   "metadata": {},
   "outputs": [
    {
     "name": "stdout",
     "output_type": "stream",
     "text": [
      "\n",
      "XGBoost - Train accuracy 0.998\n",
      "\n",
      "XGBoost - Test accuracy 0.951\n"
     ]
    }
   ],
   "source": [
    "# Xgboost Classifier\n",
    "import xgboost as xgb\n",
    "\n",
    "xgb_fit = xgb.XGBClassifier(max_depth=2, n_estimators=5000, learning_rate=0.05)\n",
    "xgb_fit.fit(X_train, y_train)\n",
    "\n",
    "#print (\"\\nXGBoost - Train Confusion Matrix\\n\\n\",pd.crosstab(y_train,xgb_fit.predict(X_train),rownames = [\"Actuall\"],colnames = [\"Predicted\"]))      \n",
    "print (\"\\nXGBoost - Train accuracy\",round(accuracy_score(y_train,xgb_fit.predict(X_train)),3))\n",
    "#print (\"\\nXGBoost  - Train Classification Report\\n\",classification_report(y_train,xgb_fit.predict(X_train)))\n",
    "\n",
    "#print (\"\\n\\nXGBoost - Test Confusion Matrix\\n\\n\",pd.crosstab(y_test,xgb_fit.predict(X_test),rownames = [\"Actuall\"],colnames = [\"Predicted\"]))      \n",
    "print (\"\\nXGBoost - Test accuracy\",round(accuracy_score(y_test,xgb_fit.predict(X_test)),3))\n",
    "#print (\"\\nXGBoost - Test Classification Report\\n\",classification_report(y_test,xgb_fit.predict(X_test)))"
   ]
  },
  {
   "cell_type": "code",
   "execution_count": 20,
   "metadata": {},
   "outputs": [
    {
     "name": "stderr",
     "output_type": "stream",
     "text": [
      "C:\\Users\\Venkat\\Anaconda3_1\\lib\\site-packages\\sklearn\\model_selection\\_split.py:1978: FutureWarning: The default value of cv will change from 3 to 5 in version 0.22. Specify it explicitly to silence this warning.\n",
      "  warnings.warn(CV_WARNING, FutureWarning)\n"
     ]
    },
    {
     "name": "stdout",
     "output_type": "stream",
     "text": [
      "DecisionTreeClassifier(class_weight=None, criterion='entropy', max_depth=13,\n",
      "                       max_features='log2', max_leaf_nodes=None,\n",
      "                       min_impurity_decrease=0.0, min_impurity_split=None,\n",
      "                       min_samples_leaf=9, min_samples_split=7,\n",
      "                       min_weight_fraction_leaf=0.0, presort=False,\n",
      "                       random_state=None, splitter='best')\n"
     ]
    }
   ],
   "source": [
    "from sklearn.metrics import make_scorer, accuracy_score\n",
    "from sklearn.model_selection import GridSearchCV\n",
    "\n",
    "# Choose the type of classifier. \n",
    "clf = DecisionTreeClassifier()\n",
    "\n",
    "\n",
    "# Choose some parameter combinations to try\n",
    "parameters = {'max_features': ['log2', 'sqrt','auto'], \n",
    "              'criterion': ['entropy', 'gini'],\n",
    "              'max_depth': [i for i in range(1,20)], \n",
    "              'min_samples_split': [i for i in range(2,10)],\n",
    "              'min_samples_leaf': [i for i in range(2,10)]\n",
    "             }\n",
    "\n",
    "# Type of scoring used to compare parameter combinations\n",
    "acc_scorer = make_scorer(accuracy_score)\n",
    "\n",
    "# Run the grid search\n",
    "grid_obj = GridSearchCV(clf, parameters, scoring=acc_scorer)\n",
    "grid_obj = grid_obj.fit(X_train, y_train)\n",
    "\n",
    "# Set the clf to the best combination of parameters\n",
    "clf = grid_obj.best_estimator_\n",
    "\n",
    "# Fit the best algorithm to the data. \n",
    "print(clf.fit(X_train, y_train))\n",
    "\n"
   ]
  },
  {
   "cell_type": "code",
   "execution_count": 23,
   "metadata": {},
   "outputs": [
    {
     "name": "stdout",
     "output_type": "stream",
     "text": [
      "Accuracy score of train is  0.9508627156789198\n",
      "Accuracy score of test is  0.9430284857571214\n"
     ]
    }
   ],
   "source": [
    "#Predict target value and find accuracy score\n",
    "y_pred_train = clf.predict(X_train)\n",
    "print(\"Accuracy score of train is \",accuracy_score(y_train, y_pred_train))\n",
    "y_pred = clf.predict(X_test)\n",
    "print(\"Accuracy score of test is \",accuracy_score(y_test, y_pred))"
   ]
  },
  {
   "cell_type": "code",
   "execution_count": null,
   "metadata": {},
   "outputs": [],
   "source": []
  },
  {
   "cell_type": "code",
   "execution_count": null,
   "metadata": {},
   "outputs": [],
   "source": []
  },
  {
   "cell_type": "code",
   "execution_count": null,
   "metadata": {},
   "outputs": [],
   "source": []
  }
 ],
 "metadata": {
  "kernelspec": {
   "display_name": "Python 3",
   "language": "python",
   "name": "python3"
  },
  "language_info": {
   "codemirror_mode": {
    "name": "ipython",
    "version": 3
   },
   "file_extension": ".py",
   "mimetype": "text/x-python",
   "name": "python",
   "nbconvert_exporter": "python",
   "pygments_lexer": "ipython3",
   "version": "3.7.3"
  }
 },
 "nbformat": 4,
 "nbformat_minor": 2
}
