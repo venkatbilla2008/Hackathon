{
  "nbformat": 4,
  "nbformat_minor": 0,
  "metadata": {
    "accelerator": "GPU",
    "anaconda-cloud": {},
    "colab": {
      "name": "01 - Sentiment Analysis - Basic DNN Models.ipynb",
      "version": "0.3.2",
      "provenance": [],
      "collapsed_sections": []
    },
    "kernelspec": {
      "display_name": "Python 3",
      "language": "python",
      "name": "python3"
    },
    "language_info": {
      "codemirror_mode": {
        "name": "ipython",
        "version": 3
      },
      "file_extension": ".py",
      "mimetype": "text/x-python",
      "name": "python",
      "nbconvert_exporter": "python",
      "pygments_lexer": "ipython3",
      "version": "3.6.4"
    }
  },
  "cells": [
    {
      "cell_type": "code",
      "metadata": {
        "colab_type": "code",
        "outputId": "d5d1e291-d097-455a-de81-0ad7f9a8e903",
        "id": "Zu2BQBRN5jwQ",
        "colab": {
          "base_uri": "https://localhost:8080/",
          "height": 421
        }
      },
      "source": [
        "!pip install contractions\n",
        "!pip install textsearch\n",
        "!pip install tqdm\n",
        "import nltk\n",
        "nltk.download('punkt')"
      ],
      "execution_count": 1,
      "outputs": [
        {
          "output_type": "stream",
          "text": [
            "Collecting contractions\n",
            "  Downloading https://files.pythonhosted.org/packages/f5/2a/ba0a3812e2a1de2cc4ee0ded0bdb750a7cef1631c13c78a4fc4ab042adec/contractions-0.0.21-py2.py3-none-any.whl\n",
            "Installing collected packages: contractions\n",
            "Successfully installed contractions-0.0.21\n",
            "Collecting textsearch\n",
            "  Downloading https://files.pythonhosted.org/packages/42/a8/03407021f9555043de5492a2bd7a35c56cc03c2510092b5ec018cae1bbf1/textsearch-0.0.17-py2.py3-none-any.whl\n",
            "Collecting Unidecode (from textsearch)\n",
            "\u001b[?25l  Downloading https://files.pythonhosted.org/packages/d0/42/d9edfed04228bacea2d824904cae367ee9efd05e6cce7ceaaedd0b0ad964/Unidecode-1.1.1-py2.py3-none-any.whl (238kB)\n",
            "\u001b[K     |████████████████████████████████| 245kB 4.1MB/s \n",
            "\u001b[?25hCollecting pyahocorasick (from textsearch)\n",
            "\u001b[?25l  Downloading https://files.pythonhosted.org/packages/f4/9f/f0d8e8850e12829eea2e778f1c90e3c53a9a799b7f412082a5d21cd19ae1/pyahocorasick-1.4.0.tar.gz (312kB)\n",
            "\u001b[K     |████████████████████████████████| 317kB 52.1MB/s \n",
            "\u001b[?25hBuilding wheels for collected packages: pyahocorasick\n",
            "  Building wheel for pyahocorasick (setup.py) ... \u001b[?25l\u001b[?25hdone\n",
            "  Created wheel for pyahocorasick: filename=pyahocorasick-1.4.0-cp36-cp36m-linux_x86_64.whl size=81703 sha256=d7543b064cd2f823e66947453f135a9da6b489195ed02d25e431c1c1c77e220a\n",
            "  Stored in directory: /root/.cache/pip/wheels/0a/90/61/87a55f5b459792fbb2b7ba6b31721b06ff5cf6bde541b40994\n",
            "Successfully built pyahocorasick\n",
            "Installing collected packages: Unidecode, pyahocorasick, textsearch\n",
            "Successfully installed Unidecode-1.1.1 pyahocorasick-1.4.0 textsearch-0.0.17\n",
            "Requirement already satisfied: tqdm in /usr/local/lib/python3.6/dist-packages (4.28.1)\n",
            "[nltk_data] Downloading package punkt to /root/nltk_data...\n",
            "[nltk_data]   Unzipping tokenizers/punkt.zip.\n"
          ],
          "name": "stdout"
        },
        {
          "output_type": "execute_result",
          "data": {
            "text/plain": [
              "True"
            ]
          },
          "metadata": {
            "tags": []
          },
          "execution_count": 1
        }
      ]
    },
    {
      "cell_type": "markdown",
      "metadata": {
        "colab_type": "text",
        "id": "UMFvLtEHRaFM"
      },
      "source": [
        "# Load and View Dataset"
      ]
    },
    {
      "cell_type": "code",
      "metadata": {
        "colab_type": "code",
        "id": "qgphrYufRaFR",
        "outputId": "10893950-4c74-461c-9b51-77a09ee3eb17",
        "colab": {
          "base_uri": "https://localhost:8080/",
          "height": 167
        }
      },
      "source": [
        "import pandas as pd\n",
        "train_df=pd.read_csv('/content/review_train.csv')\n",
        "test_df=pd.read_csv('/content/review_test.csv')\n",
        "train_df[\"source\"] = \"train\"\n",
        "test_df[\"source\"] = \"test\"\n",
        "dataset = pd.concat([train_df,test_df])\n",
        "dataset.info()"
      ],
      "execution_count": 2,
      "outputs": [
        {
          "output_type": "stream",
          "text": [
            "<class 'pandas.core.frame.DataFrame'>\n",
            "Int64Index: 18532 entries, 0 to 3706\n",
            "Data columns (total 4 columns):\n",
            "Text         18532 non-null object\n",
            "Score        18532 non-null int64\n",
            "Sentiment    18532 non-null int64\n",
            "source       18532 non-null object\n",
            "dtypes: int64(2), object(2)\n",
            "memory usage: 723.9+ KB\n"
          ],
          "name": "stdout"
        }
      ]
    },
    {
      "cell_type": "code",
      "metadata": {
        "colab_type": "code",
        "id": "5nkEEGExRaFc",
        "outputId": "766b169c-f8e0-4c79-d81e-661a6d6e4323",
        "colab": {
          "base_uri": "https://localhost:8080/",
          "height": 196
        }
      },
      "source": [
        "dataset.head()"
      ],
      "execution_count": 3,
      "outputs": [
        {
          "output_type": "execute_result",
          "data": {
            "text/html": [
              "<div>\n",
              "<style scoped>\n",
              "    .dataframe tbody tr th:only-of-type {\n",
              "        vertical-align: middle;\n",
              "    }\n",
              "\n",
              "    .dataframe tbody tr th {\n",
              "        vertical-align: top;\n",
              "    }\n",
              "\n",
              "    .dataframe thead th {\n",
              "        text-align: right;\n",
              "    }\n",
              "</style>\n",
              "<table border=\"1\" class=\"dataframe\">\n",
              "  <thead>\n",
              "    <tr style=\"text-align: right;\">\n",
              "      <th></th>\n",
              "      <th>Text</th>\n",
              "      <th>Score</th>\n",
              "      <th>Sentiment</th>\n",
              "      <th>source</th>\n",
              "    </tr>\n",
              "  </thead>\n",
              "  <tbody>\n",
              "    <tr>\n",
              "      <th>0</th>\n",
              "      <td>I got a free sample of these once, and now--we...</td>\n",
              "      <td>5</td>\n",
              "      <td>1</td>\n",
              "      <td>train</td>\n",
              "    </tr>\n",
              "    <tr>\n",
              "      <th>1</th>\n",
              "      <td>I used to get this Tea when I lived in Washing...</td>\n",
              "      <td>4</td>\n",
              "      <td>1</td>\n",
              "      <td>train</td>\n",
              "    </tr>\n",
              "    <tr>\n",
              "      <th>2</th>\n",
              "      <td>This is my all time favorite 'grab and go' sna...</td>\n",
              "      <td>5</td>\n",
              "      <td>1</td>\n",
              "      <td>train</td>\n",
              "    </tr>\n",
              "    <tr>\n",
              "      <th>3</th>\n",
              "      <td>This flavor is very good and unexpected.  The ...</td>\n",
              "      <td>4</td>\n",
              "      <td>1</td>\n",
              "      <td>train</td>\n",
              "    </tr>\n",
              "    <tr>\n",
              "      <th>4</th>\n",
              "      <td>thrilled to have this assortment as i got the ...</td>\n",
              "      <td>4</td>\n",
              "      <td>1</td>\n",
              "      <td>train</td>\n",
              "    </tr>\n",
              "  </tbody>\n",
              "</table>\n",
              "</div>"
            ],
            "text/plain": [
              "                                                Text  Score  Sentiment source\n",
              "0  I got a free sample of these once, and now--we...      5          1  train\n",
              "1  I used to get this Tea when I lived in Washing...      4          1  train\n",
              "2  This is my all time favorite 'grab and go' sna...      5          1  train\n",
              "3  This flavor is very good and unexpected.  The ...      4          1  train\n",
              "4  thrilled to have this assortment as i got the ...      4          1  train"
            ]
          },
          "metadata": {
            "tags": []
          },
          "execution_count": 3
        }
      ]
    },
    {
      "cell_type": "markdown",
      "metadata": {
        "colab_type": "text",
        "id": "-V1NWGhcRaFi"
      },
      "source": [
        "# Build Train and Test Datasets"
      ]
    },
    {
      "cell_type": "code",
      "metadata": {
        "colab_type": "code",
        "id": "7JP10IEYRaFj",
        "colab": {}
      },
      "source": [
        "# build train and test datasets\n",
        "texts = dataset['Text'].values\n",
        "sentiments = dataset['Sentiment'].values\n",
        "scores = dataset['Score'].values\n",
        "\n",
        "\n",
        "train_texts = texts[:17000]\n",
        "train_sentiments = sentiments[:17000]\n",
        "train_scores = scores[:17000]\n",
        "\n",
        "\n",
        "test_texts = texts[1532:]\n",
        "test_sentiments = sentiments[1532:]\n",
        "test_scores = scores[1532:]"
      ],
      "execution_count": 0,
      "outputs": []
    },
    {
      "cell_type": "markdown",
      "metadata": {
        "colab_type": "text",
        "id": "i45AFxXNRaFn"
      },
      "source": [
        "# Text Wrangling & Normalization"
      ]
    },
    {
      "cell_type": "code",
      "metadata": {
        "colab_type": "code",
        "id": "oHZ0lEGNRaFo",
        "colab": {}
      },
      "source": [
        "import contractions\n",
        "from bs4 import BeautifulSoup\n",
        "import numpy as np\n",
        "import re\n",
        "import tqdm\n",
        "import unicodedata\n",
        "\n",
        "\n",
        "def strip_html_tags(text):\n",
        "  soup = BeautifulSoup(text, \"html.parser\")\n",
        "  [s.extract() for s in soup(['iframe', 'script'])]\n",
        "  stripped_text = soup.get_text()\n",
        "  stripped_text = re.sub(r'[\\r|\\n|\\r\\n]+', '\\n', stripped_text)\n",
        "  return stripped_text\n",
        "\n",
        "def remove_accented_chars(text):\n",
        "  text = unicodedata.normalize('NFKD', text).encode('ascii', 'ignore').decode('utf-8', 'ignore')\n",
        "  return text\n",
        "\n",
        "def pre_process_corpus(docs):\n",
        "  norm_docs = []\n",
        "  for doc in tqdm.tqdm(docs):\n",
        "    doc = strip_html_tags(doc)\n",
        "    doc = doc.translate(doc.maketrans(\"\\n\\t\\r\", \"   \"))\n",
        "    doc = doc.lower()\n",
        "    doc = remove_accented_chars(doc)\n",
        "    doc = contractions.fix(doc)\n",
        "    # lower case and remove special characters\\whitespaces\n",
        "    doc = re.sub(r'[^a-zA-Z0-9\\s]', '', doc, re.I|re.A)\n",
        "    doc = re.sub(' +', ' ', doc)\n",
        "    doc = doc.strip()  \n",
        "    norm_docs.append(doc)\n",
        "  \n",
        "  return norm_docs"
      ],
      "execution_count": 0,
      "outputs": []
    },
    {
      "cell_type": "code",
      "metadata": {
        "colab_type": "code",
        "id": "CO3ESug2RaFr",
        "outputId": "f71762af-0433-43c4-c559-a1d28a918eb4",
        "colab": {
          "base_uri": "https://localhost:8080/",
          "height": 84
        }
      },
      "source": [
        "%%time\n",
        "\n",
        "norm_train_reviews = pre_process_corpus(train_texts)\n",
        "norm_test_reviews = pre_process_corpus(test_texts)"
      ],
      "execution_count": 23,
      "outputs": [
        {
          "output_type": "stream",
          "text": [
            "100%|██████████| 17000/17000 [00:04<00:00, 3836.83it/s]\n",
            "100%|██████████| 17000/17000 [00:04<00:00, 3822.97it/s]"
          ],
          "name": "stderr"
        },
        {
          "output_type": "stream",
          "text": [
            "CPU times: user 8.76 s, sys: 99.7 ms, total: 8.86 s\n",
            "Wall time: 8.89 s\n"
          ],
          "name": "stdout"
        },
        {
          "output_type": "stream",
          "text": [
            "\n"
          ],
          "name": "stderr"
        }
      ]
    },
    {
      "cell_type": "code",
      "metadata": {
        "id": "DpE_-j1UXdnO",
        "colab_type": "code",
        "colab": {
          "base_uri": "https://localhost:8080/",
          "height": 1000
        },
        "outputId": "18d321d8-0966-4915-e367-7c6f4f0c2aa3"
      },
      "source": [
        "norm_test_reviews"
      ],
      "execution_count": 24,
      "outputs": [
        {
          "output_type": "execute_result",
          "data": {
            "text/plain": [
              "['i have 3 subscriptions to 3 different kinds of coffeei like them allthe coffee is always fresh andwith amazon shipping for freea bargain',\n",
              " 'she my cat is happy with this stuff and the price was good for my budget so that makes two of us',\n",
              " 'if you are a dirty martini drinker then this is the best olive juice to use we like them really cold and really dirtylove the dirty sue well packed and always arrives in good time',\n",
              " 'for years the only lus i could find at my local market were the usa lus which are not as good as the belgium biscuits so i was happy to find them at amazon this past july 2012 and bought the case of six boxes unfortunately they did not taste fresh and had an expiration date of december 2012 that explained the stale taste but i chose not to return them instead i nuke two in the microwave for 5 or 6 seconds and it sort of revives the flavorwell last week sept 14 2012 i found the belgium lu at my local supermarket and bought a single box that box expires december 2013 over a year from now and the cookies definitely taste better moral of the story buy them where you can read the expiration date i surmise that having a year or two shelf life should be about right',\n",
              " 'my dogs favorite treat they pass up the other treats for the dried beef liver i love the fact it is low in fat and healthy',\n",
              " 'i purchased this for my girlfriend who loved this stuff over the xmas period now she has a supply which should last several months',\n",
              " 'great taste and very moist plenty of chocolate to satisfy cravings be sure to seal them in a plastic bagcontainer after opening or they will dry out within a day or twoi would give this 5 stars if the cookies were individually wrapped or had a resealable inner bag the plastic tray they are shipped in makes the inner package awkward to reseal and a large freezer bag is needed to accommodate the whole thing i usually end up repackaging them into a quart sized bag after opening',\n",
              " 'this is a great way to start the day gives me lots of energy and i do not feel hungry also a good way to keep your weight under control if you like the standard special k this is a nice twist on it',\n",
              " 'this is great for your little one no artificial flavors or additives but i found out after buying the stage 1 that stage 2 is cheaper you get more',\n",
              " 'whether for sore muscles or high blood pressure this stuff is easy to use and seems to be absorbed quickly by the body it really helps',\n",
              " 'this is by far one of the best breakfast blends i have tried the beans chosen are a perfect meld with a low acidity starbucks did their job right in selecting beans for their taste rather than supply a typical pattern in many coffee house brands is to throw together a low grade more plentiful bean with a few mid to high range beans and then pawn it off as a quality brew at a higher price this often results in a coffee blend without taste starbucks however did their taste test on this blend and came out with a true winnerthe beans are roasted much lighter than your typical starbucks type beyond french roast this also helps in creating a coffee that is less acidic yet while lightly roasted the beans have been roasted enough so that the oils will be released when put through a drip maker or coffee press a problem usually encountered with lighter roast their is a defint natural sweetness in the beans that are enhanced with the use of fat free milk the lactose sugar of the milk bean the only additional sweetener need a full fat milk or cream would mask the complexity of the sutler flavors here and leave you with coffee that is on the taste par with any store brand stale canned bean typethis coffees blend and flavor would make it great choice for a hearty comforting breakfast of bacon and eggs where the flavor of the foods are enhanced by a milder coffee that leaves the food as the star and not an attention grabbing bitter coffee',\n",
              " 'i decided to order the raw nuts and roast them myself tasted great and am going to order a 2nd batch',\n",
              " 'this coffee is awesome a great way to start your day very close to a starbucks or a 2nd cup montreal cd coffee i enjoy my emeril big easy bold coffee on my drive to work everyday it is so good makes me want to get a keurig system for at work so i can enjoy more during the dayalso i highly suggest joining the automatic orderdelivery service amazon offers you pick what you want delivered on a recurring basis and bam there it is at your door just when you need it and the prices are great',\n",
              " 'from everything I have read you need to get the right size or your dog can pop out the treat we have a 16 lb pomboston mix she can not get the treat out of the medium i can see all the teeth marks in the everlasting treat she is really working it i fill the other side with some of her daily kibble and she will roll it around and get her kibble out I have put in other treats and she will go after them too the flaps are rather thick which makes it hard for the treats to come out good for keeping the interest but not so good for younger dogs that lose interest quickly she would have ignored this a month or two ago at 8 months she can play with it longer i put in easy things to get out now I will make it harder in a week or two this treat and the inserts are on the expensive side but it seems durable enough and she likes it',\n",
              " 'if you like tangy spicy and i do one of the best tasting mayonnaise that I have ever had not best price if you are merely comparing cost and ounce to dollars and cents and comparing this highquality specialized one to a cheap storebrand generic one but if quality and flavor matter to you this is a very good product',\n",
              " 'these are the best ramen noodles you can buy they are fantastic i could almost eat them every day i have been eating them for over 20 years so for me they are totally comfort food my favorite thing to add to them is an egg just crack in an egg while the noodles are cooking it is also fun to add any leftover meat you have in the fridge just slice it up and put it on top',\n",
              " 'the cherry berry variety is great for baking low calorie muffins or scones no sugar the corn variety is good for a office snack portion controlled only 70 calories and more nutritious than chips i have not tried the others but plan to will try different varieties for scones and muffins lower sugar than raisins or craisins or dried berries good stuff',\n",
              " 'i was a die hard teavana fan until they discontinued retired several of my favorite teasincluding assam gold rain ftgfop though i had some left i decided to give this a try and waspleasantly surprised it is full bodied w slight astringent qualities balanced by sweet notes atthe start w a nice malty finishi drink it straight up w raw sugar or raw honeyit is about the same price as teavanas assam was if you buy it on amazon i will be buying more soonmy friends and family love it also by the way',\n",
              " 'koala crisp is a delicious gluten free cereal it is crispy and has a nice chocolate flavor it is cheaper than a lot of gluten free cereals i have seen close to almost half the price it is a bit higher in sugar content but sometimes we all want something sweet and there is more in the box than some cereals the ones that are twice the price does not seem fair does it anyway there is a fun game board for kids on the inside of the box highly recommended',\n",
              " 'i discovered this line of tea recently during a stay at an upscale hotel it was love at first sip i could not believe the fabulous taste i then began researching where i could find this divine tea i found it on amazon i wish amazon would keep it in stock the green tea tropical is my favorite but all of mighty leafs teas are wonderful',\n",
              " 'first of i did not really know what to expect when i ordered this coffee come to find out the single serve pods are flat round cushions that require a special coffee maker i own a keurig and ecobrew refillable cups that i really like so i decided to open the pod and dump the grounds into the ecobrew cup instead it worked like a charm and on the 6cc setting i got to enjoy a very bold brew with no aidic aftertaste',\n",
              " 'i can easily finish a bag of these cashews in one sitting the cashews are slightly glazed and sweet with a great crunchy texture i have to buy these nuts in bulk because my whole family loves them i also have a hard time finding them in the stores so i was very pleased to see amazon selling them and at a great price highly recommend this product',\n",
              " 'bananas taste very delicious cream puffs after the openings have a very strong taste of the banana flavor the taste is very light the shape of a box in his pocket contained plum puffs filled with very fullamount to enoughdelicious strawberry apple',\n",
              " 'I have ordered a number of different kinds of kind bars and kind plus bars beforethese cranberry almond antioxidents kind plus bars are by far the most sticky i have ever had the wrapping sticks to the product the product sticks to your fingers and pretty soon you are a bit messy you really need a wetwipe for this productthe product itself is quite delicious however so just know that while it is yummy and crunchy and chewy you would do yourself a favor by knowing about the stickiness ahead of time oh and do not get it in your hair or in your childs hair by accident',\n",
              " 'weruva is the best food around and i feed it to all my cats including the three ferals that live outside they need good nutrition too in case of an emergency I would eat it myself but probably add a little salt thank you for making a great food',\n",
              " 'the flavor was not bad but to be to the pointomg was salty might be ok if you are using as a sauce to spruce up ground beefbut aside from that too salty',\n",
              " 'my cat was adopted from humane society as an adult she demonstrated signs of allergies by excessive grooming that created red bare spots i moved her to a limited ingredient diet on suggestion of my vet and it does seem to help she has fewer times when she engages in this excessive grooming and her fur is in much better condition a major plus is that she will eat this food i had tried previously to move her to other cat foods including blue buffalo and wellness core without success she has been on this food for about two years and is just back from her annual check up with good marks for her health',\n",
              " 'my 50lb beaglehound mix loved them definitely a good choice if you want to give your dog a real treat and not a frozen carrot or an ice cube and your dog is on a diet i wish they lasted longer though our dog is foodmotivated so eats quickly so maybe it will last longer for your dog but she finished this in about 3 minutesthe treats are not superlarge either I would say they are just right for my dog so for a bigger dog they might be a bit small but not a choking hazard or anything i do not think',\n",
              " 'it is close to the taste of fresh coffee moreover it is cheap and convenient i can have quick coffee every morning',\n",
              " 'my old favorite was the original flavor cheezeit which had a strong cheddar flavor and lots of crunchmy new favorite is the mozzarella flavor cheeseit because it has a true mozzarella cheese taste as well as that old time crunch that everybody in my family loveswe generally eat the original flavor as a snack right out of the box or along with soup tomato soup in particularthe mozzarella flavor as a plain snack right out of the box was good but we still prefer the original thus the 4 stars but i used them in the following ways as welltopped a caesar salad with a few crackers in place of croutons and that worked great tastewise topped off some tomato soup with a few crackers at the dinner table and that did not work quite as well taste wise crushed approx 23 cup of these and used them as a bread crumb coating for a baked chicken breast parmesan topped with tomato sauce very good since the mozzarella flavor really came throughnutritionally and calorically they are about the same as the original flavorall in all I would say if you like the old original cheezeit flavor you will enjoy the new mozzarella flavor too',\n",
              " 'bakery on mains nutty cranberry maple is my favorite cereal I have been buying it for several years i throw it in my suitcase when i travel so that i can count on having a glutenfree delicious breakfast even in a hotel',\n",
              " 'i received a package with 93 tea bags instead of 100but tea is tasty stash company please count better',\n",
              " 'mrs dash is great to use in tuna salad chicken salad all the spices less the salt gives these salads a great taste it is also a good bargain since the supermarkets only sell the very small jar carol',\n",
              " 'i first tried these last year and absolutely fell in love the only fresh mushrooms we can get here are the very basics so to add these is heavenlysoups stews egg dishes gravies meatloaf these mushrooms make just about everything taste betterand it is so easy i rinse them quickly before letting them soak as I am a bit lazy and did not want to filter the liquid as they recommend on their website I have never had any problem i use the liquid as well and if i do not use it in that recipe i save it for another it is that goodi cheat and use my keurig to soak them in a 4 cup vessel with 2 of the large size cups perfect every time i usually grab two very large handfuls of the porcinis to reconstitutebewarei accidentally ordered from the wrong vendor a few days ago and got a huge bag of literally garbage it smelled so odd was discolored dyed and just gross i can only think it was the victim of some warehouse flood or something amazon refunded my money and i ordered from here again and just got the most fragrant delicious mushrooms I will never make that mistake againplease enjoy these they are wonderful and I am so glad i can get them from amazon',\n",
              " 'gimborn freeze dried treats 21 oz beef liver is one of my dogs favorite treats so i was happy to find them in a large size container i received my order very quickly and was happy with the service i received',\n",
              " 'this is great because it does not have any calories however it is kinda of pricey for noodles if you buy in size you can get a better deal at online asian storesedit if you go to a local asian grocery store they are super cheap 1 per bag',\n",
              " 'i love this tea not only is it good for your immune system but it helps acheive a clear complexion which is why i bought it in the first place it also is a powerful antioxidant i highly recommend it if you are looking for beauty on the inside and out',\n",
              " 'i really liked this coffee and must say it did not last long in the office two bags of this coffee was gone within a week and a half i plan to order more soon',\n",
              " 'how sweet it is and it is value priced so compact portable convenient and if you are weight conscious it is great because it is zero calorie and zero carb so it will not affect your weight',\n",
              " 'soon after we adopted our dog i realized she did not seem to enjoy treats or at least the treats we bought her she would eat them but she did not love them so i set out to find something new came across these rolls in a nearby pet store sliced them up for treats gave her one she was in love awesome for training because she will do whatever you want for one small piece we also grate it up for her dry food which she then gobbles down very happy pup very happy owner the price is not bad for us because our dog is 16 lbs one 1lb roll lasts almost a month for her',\n",
              " 'this is by far turning out to be one of my very favorite flavored coffees i love the aromatic smell of this when it is brewing going to have to buy some more soon',\n",
              " 'i do not use any other sweet pickle relish since trying this i store it upside down in the fridge so it is always ready to go i mainly use it in egg salad and tuna salad it adds a zip but it is really not too hot maybe i do not use enough of it to get a bite from it good on any sandwiches hot dogs burgers thousand island dressing and my favorites tuna and egg saladsthis is not sold in stores around here and I have never found it in stores i saw it on amazon and took a chance and so glad i did it is a mainstay for us please keep carrying this amazon it is a nice sweet pickle relishgood flavor colors are bright not a lot of liquid squeezes out of the oversized top easilyjust a slight hotness to it i really do not understand why this is not on grocery shelves',\n",
              " 'though i did not purchase this through amazon i did get this recently from thw grocery store and have to admit I am really disappointed i followed the instructions the first evening exactly as instructed with the included paper and no results the second day i brewed just a little longer still no luck basing this off some other comments from other users here on amazon then today i only did 6oz not 12 as the paper instructs and even brewed this for 6 minutes still nothingi really wanted this to work for me like it has for others i had heard good things and was so excited but still no luck i guess I am one of those people this does not affect I will keep trying it daily till i run out but looks like I will have to try something elseas for taste its not bad just tastes like tea leaves not deliciously fantastic but not nosepinchingly undrinkable good luck to anyone else hope you have more success with this than i did',\n",
              " 'i have bought these many times for my two hungry golden retrievers this is one of their favorite treats they have had before the rice balls that are on the ends of these dumbbells and the treat in the middle is an added bonus they are crunchy so it helps keep their teeth clean will be back buying these as they go thru these quickly',\n",
              " 'this cookies are amazingly good i got a free sample in my mom vox box from influenster and am glad i got to try them out I am usually not a fan of oatmeal cookies but these were so soft and moist and had me wanting more not only are they good but they are good for you they are low in fat and high in fiber so they make for a good afternoon snack or evening dessert i can not wait to go buy more at the store',\n",
              " 'i liked this a lot and will keep this in my tea stock the bergamot is strong and compliments the full bodied earl grey tea well',\n",
              " 'i bought these for my 12 month old son he loves blueberries so i thought these would be great to have on the go or when we do not have fresh berries to eat they are a little crunchy then the other kinds they make and do stain your hands but they still taste great',\n",
              " 'if you want to replace coffee that is itor mix it with coffee and it is just delicious in both way',\n",
              " 'i love the idea of amazon delivering things like this direct to my door and my dog cody loves it but then again he will eat about anything he is outside this very moment trying to catch eat cicadas so he is not exactly a connoisseurhowever i have some problems with this product first the price is a bit high currently 21 on amazon but only 15 at target or walmartsecond i really question the quality of ingredients in the first 10 or 15 ingredients there are only two real foods wheat is 5 and beef is 7 and I am not even certain that wheat is an essential ingredient otherwise it is all filler corn is not good for dogs not digestible for any mammals actually sugar is not good for dogs chicken byproduct means groundup bones fat tendons things like that and there are a lot of petroleumbased dyes preservatives etcmost importantly for about the same price 135 per pound you can buy the good stuff for example prairie natural dry dog food is only 148 per poundmy recommendation regardless whether you feed your pet the cheap stuff or not is to supplement your pets diet with scraps from your kitchen we never ever feed our dog from the table or while we are cooking but instead we will peel the fat off chicken or keep little chunks of veggies keep it in the fridge for his next meal this will save you money and ensure your dog gets some fresh foods in hisher diet some essential enzymes etc',\n",
              " 'after drinking cheap coffee for years i tried more expensive coffees this is the coffee i like the best and i return to time after time',\n",
              " 'this product was very easy to prepare one warning to those unfamiliar with gf doughit is more like a very thick muffin batterwhile wheat flour has that stretchiness this does not simply because it is glutenfree i think if i had been more prepared for the consistency it would not have seemed so oddthat said it was easy to mix i did it by hand and it did rise a bit during the waiting periodi added dried oregano and chopped fresh garlic to mine and will add more seasonings next time i make itspreading the batter is not hard if you are prepared i used a cookie sheet and made one rectangular pizza from one package make sure you oilspray the pan and you will need to spread the mixture using wet hands again since this is not wheat you will be doing more spreading and patting down than stretchingyou bake the crust first and then add toppings i used jarred spag sauce sliced mushrooms sliced onions and shredded mozz cheese baked it for about 18 minutes and it was perfectthis will not fool anyone into thinking this is a traditional wheat pizza dough there is no comparison as wheat has totally different characteristics than these ingredients but this product is great really it does not have much of any taste at all and you can add whatever herbs and spices you want to the mixture to customize it the texture was slightly crunchy and even my husband loved itsince this is my first gf mix i have no other point of reference so i can not give it 5 stars but i will continue to use this product on a regular basis and I am looking forward to trying the allpurpose flour i ordered at the same time',\n",
              " 'our dog callie loves these treats her auntie from connecticut sent her these for her birthday and she loved them so much that after she ran out we found them at amazon of course we bought 2 more bags callie sniffed the box they came in and got all excited she has the nose of a lab she is a 60 pound dog and these little treats go a long long ways they are small in size but get so much reward for the bite one bag will lasts for several weeks because you choose how much to give you can give 1 or 10 the bag never seems to finish there is a lot of enjoyment out of one of these little bags because you can teach your dog tricks and reward them with like i say 110 little bits we love them also because they are healthier than other treats she loves them because they are good that is all that matters by the way you can not beat the price',\n",
              " 'the mix worked great except i would blend it in a bowl then pour the mixture into a tall glass to coat the hot dogs the instructions said to mix it into a tall glass but the coating was flavorful and stayed on the hot dogs',\n",
              " 'these gels are great but the last time i ordered them several had burst open during the shipping process i assume because they froze it was a huge mess to clean up these things are great but make sure to have them shipped in abovefreezing temperatures',\n",
              " 'dry taste like cardboard to me i will not be buying these again not very good I am still in search for the perfect sugar free cookies',\n",
              " 'i must have the pickiest fiveyear old shih tsu in the world she has been a picky eater since a puppy she loves these chicken treats and probably would like me to give them to her instead of her food of course i do not but really enjoy watching her enjoy my yorkie puppy eats everything and adores these treats as well they come running as soon as i say chicken treats',\n",
              " 'ever since trident white changed their formula to create a better flavor which i do not care for at all I have been on the search for a newer better sugarfree gum my dentist recommended spry so i thought I would give it a chance it is pricier than most of the sugarfree gums i frequent but it came recommended by an oral expert so i figured it would be worth a trynot worth itliterally after less than 4 minutes the flavor is completely gone and the gum itself reverts to a stale slightly metallic toughtochew state of existence I am not sure how much teeth cleaning the xylitol in the gum itself is doing because it seems to lose flavor so fast correct me if I am wrong but xylitol is a sweetener so if the sweetness of the gum is lost after a good or bad 3 minutes then there really was not that much xylitol to begin withalso further research showed that you actually need more xylitol than the amount in the gum itself before it proves to be beneficialgiven how much xylitol is in the spry gum it is neither good nor bad to be chewing spry and what tips that balance towards no thanks is the fact that it is not worth its valuethis is useful information for those who want to chew gum to freshen their breath or prolong the feeling of minty goodness in their mouth for more than just a couple of minutes',\n",
              " 'in the 7 years I have been using amazon this is the first review I have ever written why now i just have to let others know that this protein shake is incredible in every way the taste organic certification and nutritional profile is hands down the best readytodrink I have ever come across my wife and i were shocked at that there is organic whey protein very hard to find and that wonderful fruit and veggie blend I am a personal trainer so i recommend this to all my clients now as an ideal replenisher i feel a considerable difference in my energy and health I will be using subscribe and save from now on for this i highly highly recommend this drink if your looking to an alternative to all the junk out there',\n",
              " 'it is a very rich salt because of the lava mixed in the equation strong adds awesome taste to food dishes and vegetable beverages i highly recommned this salt',\n",
              " 'i love it when amazon offers deals like this this came quickly and worked great for snacks for my daughters kindergarten class',\n",
              " 'hi folks I am very surprised that no one has tried this sauce and felt moved to write a review I will try and do it justice first you will notice the texture it is lite with chunks of tomato you get the feeling that you are the one making it reducing the sauce but you stop before it goes too far the texture is unlike any other i have ever experienced being use to the industrial blender smooth and heavy feel of typical commercial sauces i knew i was on to something when i first spread this one once you have baked it up with you favorite topping you will absolutely melt when you taste it i said to myself where have you been all my life again the taste is lite and zesty definitely say hello how do you like me now i hope you will give it a try i plan on hunting down and trying their other sauces good luck and enjoy',\n",
              " 'i bought this product for a leavein conditioner and it works great hair feels and looks so silky soft after i wash it out could not be happier it smells great too i hope amazon never stops selling this product',\n",
              " 'the best buy date on this package was january of 2012 which is oddly peculiar given that i ordered it in june other than that the flavor is okay but since it is expired the gum becomes melty and gooey rather quickly definitely not worth the money',\n",
              " 'this stuff is great believe it or not it is wonderful spread on crusty bread with a thin slice of blue cheese on top worth the price',\n",
              " 'despite what the picture shows you do not get ground mustard powder it is the seeds each pound comes in a foil bag that should last for years if stored in a cool placei only opened one bag but i did not see any extras in the bag just mustard seed this is so much cheaper than buying from the grocery store i was paying 250 for 15 oz there here it is not even 4lb',\n",
              " 'i absolutely love popcorn and believe i have tried almost every type available for my dollar this is the best popcorn you can get outside a movie theater hands down worth every cent',\n",
              " 'i bought these for my husband for healthy snacking in the eveningand they are great high in fiber and protein but low in calories per serving even my 5 year old who does not eat anythingwill eat these pretzelsthey are crispy and slightly nutty tasting i will always have a case on hand',\n",
              " 'i have 4 dogs we are very picky on their foodbecause of that we give them iamsbut i know they get tired of the same food so we always get a filler food to add in the bottom of their iams gives them something to look forward tothey are picky eaters usually what they like the best if kibble n bits anything else they will leave some at the bottom but tried this because I have heard chef michaels is healthier then other brandsthe dogs love it eat every bit of iti do not give a lot where i have to worry about digestion changes which is nice but will keep an eye out to get more of this to add to their bowls',\n",
              " 'i love dark chocolate and the scharffen bergen is a yummy treat and a great bar of bittersweet dark chocolate i have not heard of this usa based company and would highly recommend trying this brand of chocolate nice smooth bar that melts in your mouth with a delicious floral flavor and just the right amount of bittersweetness it is right up there with the more upscale brands and does not have a lot of sugar junk or additives they even designed the breaks triangularly so it is easy to snap off a piece overall a great product at a price of around 260 a bar with the 500 coupon amazon is offering as of today',\n",
              " 'i bought an 18 pack of these a month ago twelve are left i cannot get my girls to drink this stuff even though they just love quik chocolate or strawberry to me it tastes the same and rather good albeit sugary fortunately i paid 10 for the pack and the expiration date is in august it is now early june so they will drink it all eventually',\n",
              " 'i ordered a sprout bag made of hemp and this nut milk bag i received this bag first and not paying much attention i sprouted soft wheat berries in it awesome i sprouted in the hemp bad as well but the sprouting went more than a day faster in this bag i am ordering another one so i can use it to make nut milk',\n",
              " 'fast shipping and great price though i have to admit that i thought it was in a nicer box but all i was looking for was the tea thank you',\n",
              " 'it seems like this will make life much easier i have not had this product long but used a regular recipe to make an applecake i just replaced the regular flour with the gluten free it was very tasty i would not have known it was gf flour if someone had served that cake to me',\n",
              " 'it would be tremendously helpful to know the expiration dates of these food items or is it written somewhere and I have missed it thanks',\n",
              " 'my weiner dogs have a dingo mini bone every day it is the last thing they do before they go to bedthey love them',\n",
              " 'kashi golean crunch is really good seriously truly tasty it is got a real crunch to it as the name makes clear but after the initial crunch it is got this understated sweetness about it a mixture of cinnamon and maybe a little honey mmmm a bowl is very filling and heres the amazing part it actually keeps me full for hours as for the clumps that some people are complaining about those are my favorite part it is just a characteristic of the cereal kind of like how sometimes pizza will have a bubble of dough in it mmmm love the bubble love the clumpshighly recommended',\n",
              " 'my kids and i have tasted several annies snacks including the chocolatevanilla bunny cookies and the cheesy bunnies but these chocolate bunny grahams are our favorite by far they have a subtle chocolate flavor that is not too sweet or overpowering and the bunnies are not crumbly or greasy my kids love these and i do too',\n",
              " 'i agree with the other reviewer but i think cereal marshmallows are gross and never liked teddy grahams that much anyway',\n",
              " 'it took a bit longer than i expected to get it in but it was certainly worth it they are chewy just enough and this really is quite a bit of gummy colas they would have lasted longer buy my sister got ahold of the bag and ate half in one sitting lol they are that good',\n",
              " 'i agree the shipping rate is terrible at the amazon sourceif you like this product shop online at low carbyou they have a flat rate shipping charge of 800',\n",
              " 'i really like effect of the dough enhancer i have used it lot it preserves what ever recipe it is used in i will encourage any one to purchase this product from amazon',\n",
              " 'i just bought this not knowing how it would tast like but when i first put into my mouth it had right texture it just melts in your mouth the color of snack reminded me of pesto you can smell a hint of parselyas well just right amount of sodium not too salty hoping to try other tastes',\n",
              " 'we really enjoyed this mustard i have been searching for a mild honey mustard and finally found it on amazon after many searches the one i got from emerils was just too hot and spicy for us this one is delicious keep stccking this branc amazon the rest of the choices look too spicy and or hot in comparison to this one',\n",
              " 'i tried one bite of this cracker and had to throw it away for fear of cracking my teeth buy the wasa 7 grain instead the 7 grain is light and crispy',\n",
              " 'i have been eating marzipan for many years and its always hard to find in stores i have been ordering 2 boxes every week for a while and only one box was not realy fresh they have a nice flavor and just the right amount of suger',\n",
              " 'edamame is a great snack it is got all the salty crunchy spicy of unhealthy snacks but it is solid protein and healthy all around i used to be able to get these locally but no one carries them anymore but amazons price is about the same when you get supersaver shipping and it is very convenient',\n",
              " 'i have a 3 year old poodle the vet told me she was a little on the heavy side i was recommended these dog food she loves it and I have noticed that she has already dropped some pounds the only con it is a little pricey but if your loooking for a good deal shop here pets mart and pet co will charge you 700 or more in shipping amazon gave me free shipping you can not beat that and usually the stores will not carry such a large bag def a good product if your dog is unactive and overweight',\n",
              " 'every single morning i get a trente huge tazo passion iced tea no sugar no honey no lemon just plain it is delicious i still get a kick out of the pretty color the price amazon is selling the tea for is pretty great were i not as lazy as i am i would totally buy it here and save myself some bucks on the iced beverage front',\n",
              " 'my dog would only eat royal canin so we would buy the 25lbs from stores but this 10 pound bag is much cheaper compared to buying the 25lbs about 15 each highly recommended',\n",
              " 'first let me say that my husband likes this just fine i think it is awful we bought it for a recipe the aroma of cheap pine incense overwhelms the tea aroma when you open the can and the same is true of the made tea one word yuck i do not want to use it in the recipe I am sure it would overwhelm all of the other flavors',\n",
              " 'these chopped dates are great for baking theye a little too sweet for me as a snack they are coated with some sort of sugar but they are perfect in recipes and the bag is very easy to open and is resealable nice and moist and they do not stick together',\n",
              " 'i bought 3 different flavors as I am gluten free and they seemed safe the pb j was the best although it is kind of expensive when you are getting mostly peanuts but tasted pretty darned good the almons wcranberries is pretty good too the barbecue i did not like at all they taste strictly like chipotle you cannot taste any ranch or barbecue taste',\n",
              " 'sadly there are too few organic dog food companies out therebut natural balance is a good one and how great that it arrived 2 days after i ordered awesome',\n",
              " 'these are great and i love the bulk purchase with amazon worst danger is that you want to eat more than you should because they are really very good',\n",
              " '5 star rated by a number of independent experts arrives as detailed every timemy best friendsoulmate loves this kibble as his food and as a treat he is a weimeraner and his muscles have bulked up his weight and definition have become awesome his poop is as good as poop gets his fur is much softer and smoother his energy and playtime has become off the chain greatno single food is best for every one of our family members i would guess that if you are already using a 4 or 5 star rated kibble and your soulmate is happy and healthy there is prolly no need to change up there are many really good foods available congrats to you in providing a healthy diethowever if you have been duped into buying the crap foods that receive less than 4 stars you will be amazed at how many huge names are rated a 1 star garbage i will refrain from naming a couple of dozen sold everywhere including most sold by vets i beg you to sample this awesome product i have found this kibble to be merely twice as expensive as the cheapest garbage one can buy at the local dollar general store the longlasting benefits to my soulmate are worth at least 10 times thata massively recommended product from amazon',\n",
              " 'its good for bran slightly sweet i usually eat half a serving of bran and half a serving of another cerealmy husband teases me because it kinda looks like hamster pellets',\n",
              " 'this is an awesome sauce for a quick dish of pad thai for two per packet my family loves when i make pad thai with all the fixings I have tried a lot of store bought sauces and this is ranked at the top is this restaurant quaility no if you want that go to a good thai restaurant i do not always want to travel 50 miles into chicago to seek one out i would highly recommend this for a good pad thai meal at home',\n",
              " 'if you are reading this review you have got problemsgopher problems i did too until i bought a two pack of these traps from amazon before the traps i tried wishing them away flooding the tunnels with water and even used the poison from lowes in the pointy tube container but nothing worked the varmit was tunneling all over my yard and killing plants and grass everywhere but after watching a video on youtube i decided to buy the twin pack of traps and selected a fresh area where it was working i dug down and found the tunnel now the video said to use 2 traps one on each slide of the tunnel but i just used one and together with a small amount of peanut buttersuccess i got him her and the trap worked exactly as statedmy advice is tie a line to the trap and secure it to a stake so it will not drag it off but knock on wood my yard is gopher free and if another one finds my yard a buffet I am ready good luck',\n",
              " 'a fabulous compilation of cinnamon and crunch sweet and glulten free pricey but worth it',\n",
              " 'tastes terrible i should have known given that it was on sale but i am throwing the rest of the case out i have tried it twice now and once poured it out thinking i had a bad one and the 2nd time bearly held it down',\n",
              " 'what is salmon trout salmon and trout are two different fish is this a mistake or a new species I am unaware of',\n",
              " 'i remembered how good this tasted now yuumm worth trying folks mmmmmm i had missed it the only thing i take issue with that is that with this price for shipping i will have to spare my mantis that i buy on here because the shipping is costly if I am not remembering wrong we used to buy these from stores back in the country like 3 bucks for the most depending on the store sale stores were selling like 2 a packagei think that price is super good for what this tastes like cook it up with some garlic yogurt and some sizzling butter with red pepper and mint seasoning mixand enjoy',\n",
              " 'to sum it up i liked these chips but i would not go out of my way to buy them that is not a bad thing since i would chose them over other chips they are just not a must have flavor is good multilayered in that you can pretty much taste the individual ingredients the oat bran the grains salt level is good to compare tostitos regular tortilla chips can be extremely salty whereas these are not flavor is also more dimensional than the tostitos multigrain chips but not that far apart the ingredients are obviously much better they do look nice with their textured nuts and such in them so they would look much better than your average chip if you were hosting a nice party',\n",
              " 'I have been searching since the days that kashi stopped producing their meal replacement shake mix for something that tastes just as good and is just as good for you I have tried both available flavors of orgain and i find the chocolate to have no remnant of soy protein in its taste the shake tastes great at room temp and amazing chilled i appreciate that there is some remnants of veggies and fruit in the shake toopotential downsidesit is not all oil sugar and proteinalthough its mostly that so it is not exactly as good as sitting down and eating a sandwich the shake is only made in premeasured little boxes so there is no opportunity to save some money with a tub of a dry mix the shakes are expensive too the trade off is better ingredients instead of unpronounceable and artificial junk found in say slimfast although that too is mostly oil sugar and proteinjust from worse ingredient sources the shake is also not vegan if that is something you are looking for there is currently only 2 flavors of the shake too so if varietys your thing this is not a good shake to try out long termi still rate this 5 stars for the ingredients the taste and the fairly extensive nutrition content i wish this had more veggies and fruit in it thoughvs 50 mg each of a fruit and veggie blend',\n",
              " 'this product is great i am so glad we found it here we used it in our presto stirring popper and get a full bowl every time it is so good right out of the popper in fact that we do not have to do anything to it my daughter lives to put nacho cheese flavoring on her popcorn and since using this she has not added any at all just cut the top dump in even out and pop super easy',\n",
              " 'at the prices amz makes this available it is a great way to make noodles without any cooking effort but do not imagine you will be able to taste the shrimp there are only 2 or three about the size of a 3 in this type face but you can add some bay shrimp bought already cooked when you add the boiling water and get a good meal still under 35 ounces and a buck plus some water good diet item as well as a time saver',\n",
              " 'if your pooch is pampered this is the way to go all the walmart stores quit stocking these and so did target so i had to start looking around to find a better value this is it they arrived quickly and sre actually boxes not bags it is a good product at a great price',\n",
              " 'shame on me for not looking at the other reviews from starwest botanicals organic products where many customers are dissatisfied about the fact that the product comes from china it is certified organic by the chinese which as we all know means that it is certified to be made from fertilizer and small animal parts just like the milk they feed their childrennot worth the trouble to return i will be dumping this in the trash and hoping that any resident rodent population partakes in the leavings',\n",
              " 'i tried other coconut water and i really love this one delicious and healthy coconut water if somebody did not like it then can send it to me i will be happy to drink it for you mir i going to order it again and againoh la la do not care about the bad reviewes',\n",
              " 'this fine flavor tea had a wonderful kickand left my family and i wanting more it broke us of coffee honest to god I am about ready to order directly from the vendor but i like the amazon price and prime services if it was in stock I would subscribe a definite must have for any energy seeking tea drinker who love deep dark mint',\n",
              " 'my older kids will not eat it if we paid them and it tastes kinda borderline to me but my 15 month old who is picky loves it i try to feed my kids food i prepare from my own kitchen but this little guy was not getting enough iron the doc has put him on a high iron diet he always analyzes his food visually and will not let us pry open his mouth if it does not pass inspection but he willingly tasted this before he saw the green puree and was instantly sold i suspect he likes the cool delivery system I am checking with the manufacturer to see if it really is 120 dv for iron or if it is a misprint update yes ellas reports that it was a misprint and the company is working hard to fix the problem 4 is the actual number that fits more with spinachs dvs only way to get that high is to add iron supplements glad i checked got a quick and honest answer from them hope they are able to fix labeling issues soon it is still on our list of foods to boost iron levelsi found some on sale in a local grocery store amazons price came pretty close and is still cheaper than other online places I have found including the manufacturers websiteeach kid has their own tastes so do not write it off because it looks or tastes nasty to others worth a try at least once it might help to not look disgusted when you give it to your kids seems to be a good product now the frugal mom in me is trying to figure out if i can trick him by making my own puree and using a syringe to refill the bag so he will eat',\n",
              " 'our 12 yr old lab has been a finnicky eater for the past few years I have tried anything and everything to get her to eat this food was new at our grocery store and i thought I would give it a try she loves it this is the first dry dog food she eats without any extras fruit veggies meats etc yesterday the first day she ate approx 4 cups of this food typically she does not eat that much well let us see if that was a fluke this morning she ate another 2 cups this food is not really dry it is a bit moist it smells great i can not believe our dog is eating it much less so much of it i plan on getting the larger size bag from amazon and trying some of the treats',\n",
              " 'i cannot belive this product is still being sold at amazon costco etc the fda has put out numerous warnings about chicken jerky treats from china go to their website to see i would not feed this product to any animal period yes dogs like them but is it worth the risk there are jerky treats made in the yousa or better yet you can make them yourself either in the oven or in a dehydrator i use the oven method cut chicken breast into strips hang from metal scewers and bake at 200 for 4 hours and you have dried chicken jerky easy less expensive and good for your pet',\n",
              " 'i have no idea why people rate this tea so high it has no right orange color rather brownish taste is dull tea has no darjeelingspecific tingling aftertaste and it is not even cheap enough to be good for the price i would say bagged twinning tastes better not to mention tazo or mighty leaf internet is full of better lose leaf teas',\n",
              " 'my one doxie will not eat either the chicken or beef flavored pill pockets but he will eat the duck and pea flavor this is also the formula to buy if your dog has allergies the product smells quite strong when you first open the pouch i suspect the peas give it that distinct odor i do not need to use the entire pocket per pill so i break a section off of the capsule just large enough to encapsulate the size pill i need to administer forming the soft pliable substance around it it is most economical to buy the capsule size so i do so but they also come in a smaller pill size shapei have not purchased the pill pockets for my cats yet and do not know how they would be received but this product has helped me give my dogs medication even when the pill is supposedly chewable and liverflavored my dogs will generally not take their medication willingly unless i disguise it first these can make your life with your pet easier shop around for the best price as these can be a bit expensive if you have to use them frequently',\n",
              " 'if you like flavored coffee creamer coffee mate is the best I have been using the flavored coffeemate products for years I have used the store brands but they are just ok in my opinion not as rich and and not as flavorfulof course the big plus for store brands is that they are usually 12 the price of coffee mate i work from home and i drink alot of coffee so when i found this bulk discount on amazon i jumped on it best of both worlds quality and price',\n",
              " 'i am not happy with the organic liver for dogs it is too mushy and should be mixed with dry food my two poodles will not touch it i gave the remaining cans to my son and his two dogs labs',\n",
              " 'wow note no wheat corn soy artificial colors flavors and no added fat or byproducts on the label the first ingredient is peanut butter made in usamy chihuahua loves these things although they are small they are not as tiny as the berrybuddies we tried first i do not even know what to do with those they fall out at alarming rates from the buddytoys holethese he can chew it is like he is eating peanut butter for a moment he does not just woof them down he actually eats them i give him one at a time and he sits and chews it for 1020 seconds much like peanut butter i would imagine they fit perfectly in the kong toys but not the busybuddy ones they are smaller holesthe chicken ones were a bit too flavored for him so i pinch them in half and add a few to his food then he loves it mixed with his food warm water i want to try all the flavorsi also like that the company supports a because with each bag purchased very natural very chewy little things and my dog loves them very good value will be keeping these around for sure',\n",
              " 'lots of uses for this green teai generally like most tea though not the overally flowery blendsbeing on more of a health kick in recent years i have added a lot more green tea to my diet in one form or anotherfrom straight brewed tea hot or icedto adding the powder to things like salad dressings smoothies baked goods etci am not new to green teaas i first started drinking it when living in japan some 30 years agoin the ground form known as matchaa quality product dissolves welli like both the unsweetened and the lightly sweetened',\n",
              " 'my 11 month old twins like the pumpkin banana flavor it is sweeter than i thought it would be but the babies seem to like it the packaging is convenient and i love that it is organic',\n",
              " 'nw elixirs is strait up the best hot sauce ever everything they produce is strait up delicious i can not wait to try their future products',\n",
              " 'my wife found these in a store while on a business trip and tried them because they were glutenfree these quickly became her favorite crackers she introduced them to me and i have to say i like them too you can not beat their lowcalorie glutenfree crunch she will put a slice of lunchmeat like a nice turkey pastrami or capacollo calabrese or proscuitto along with a slice of cheese and make a little mini snacksandwich if you want a glutenfree cracker with crunch and few calories this is a good way to go',\n",
              " 'first offbest hot sauce ever almost every food i eat now has this sauce on itbut do not buy it here i know this six pack looks tempting butthe local oriental market has 18 ounce bottles for 339adding up to around 20 bucks for a 6 pack if you do not have any sort of local oriental market and none of the grocery stores carry it it is still totally worth paying almost twice as much as it is retail value just to experience the stuff',\n",
              " 'my cat knows where they are kept and begs for them every time i pass by the shelf',\n",
              " 'it was really tough to find a clear vanilla for use in clear glazes so i was happy to find this my only issue is that the bottle looks nothing like the one in the picture',\n",
              " 'we enjoy a cup of hot chocolate with our keurig machine and used to have cafe escapes as our favorite when i saw the grove square brand at such a great price i thought I would give it a try we love it it is now our favorite brand i will be back for more',\n",
              " 'wow this is great coffee we love the mellow taste normally we drink a dark roast but this is very good and has a nice after taste that we like nice and smooth i am going to try other blends from this company happy to have found it here on amazon',\n",
              " 'this another of the gj coffee selections i have purchased for the keurig good flavoring in the one also',\n",
              " 'my husband loves this brew not too weak though not too strong either just a wonderful dark cup of coffee',\n",
              " 'in our office we have pretty discriminating taste and we have tried all the others and decided we like senseo the best the medium roast pleases all the tastes in our office',\n",
              " 'i received this product on date promised works great in my protein shakes without any lumps as regular peanut butter does do not need very much and the taste is perfect i will purchase more of this pb2',\n",
              " 'i switched to this food when my persian cat was diagnosed with lower urinary tract disease the high moisture content of this food aided in curing my cat with only nutritional changes my cats love all of the flavors but one of them is allergic to tuna so now i only feed them the paw lickin chicken they will not touch any other brand of canned food now the food is also very high qualityit contains no grains cats are obligate carnivoresfeeding them grains is ridiculous no byproducts freerange meat nothing artificial and the cans are bpafree i highly recommend this food',\n",
              " 'ok cats you can stop wiggling and showing me your lovely bellies and get up and playlet us get down to the nitty gritty hills science diet adult hairball control dry cat food does what it says it does and morenow i do feed my cats wet food so i give them hills science diet adult hairball control dry cat food as a treat and a supplement and it is powerful stuff to be graphic let us just say that big bad baby twinkles poops used to look like small rocks no matter what i did for her food and she loves her daily hairball gel too but now after feeding her even a small amount of hills science diet adult hairball control dry cat food twice a day after she eats her wet food one look at her litterbox and i think that a german shepherd has visited the litterbox to say that this makes me happy may sound wierd but now i know that stuff is moving through her intestines and not getting impacted or staying inside and creating toxinsthe same for cee cee kitty she who is daaainty and small bbbt weighs twice as much as cee cee and is twice as long as cee cee also pops out some big ones now i am happy yes i am this means their intestinal transit time from eating to pooping is shorter and they are healthier for it',\n",
              " 'we got a senseo machine at work i was skeptical then i tried itI am not at all sure that it saves energy but it sure does make terrific coffeei favor the dark roast varietyand douwe egberts dark roast coffe pods have turned me into a pod personso i bought a pod machine for the housegreeeeaaaat stuff',\n",
              " 'these taffy cookies are similar in flavor to the tea cookiesthe tea cookies have a nice sandwich cookie crumble and great flavorthese taffy cookies were harddryand unpleasant to eatthe expiration dates were fineso is this just the way these cookies areor did i get a bad batchi will not be ordering again',\n",
              " 'i grew up eating these and introduced them to my very picky five year old she absolutely loves them we moved last year and i have not been able to find them in a store so when i found them on amazon i was thrilled i ordered them about six weeks ago 12 cans and already need to reorder she ate 6 franks the first day we received them she asks me for them almost every day',\n",
              " 'having learned from one diabetic cat i now have all three on highprotein lowcarb waterbased canned food this brand is made of humangrade products the cats love it and the price is unbeatable for the quality',\n",
              " 'when i was a kid the chock full o nuts jingle described it as heavenly and it is still trueway better than just about any other coffee and cheaper than most also',\n",
              " 'great milk but packaged poorly for mailing half the boxes of milk were damaged and unusable',\n",
              " 'our beagle just loves this productshe takes one with her wherever she goesespecially likes o chew while in the car',\n",
              " 'i am a real coffee lover and am hooked on senseo coffee my regular coffee pot is gathering dust in the corner of my kitchen i recently tried sumatra and just fell in love with it if you like the real taste of coffee you will love it as much as i do highly recommend this',\n",
              " 'i started using these when my son was about 10 months old and stuck with them because they are organic they have actual bananas in them amazing and he loves them now that he is 2 he still asks for them who am i to argue',\n",
              " 'i was given two bags of this sencha over the last two years and have absolutely loved it it tastes much better than any of the other bagged green tea varieties that I have tried so far it has a nice robust grassy flavori also noticed that the tea is actually green when brewed whereas most other green tea brands are a pale yellowbrown color not that the color is importanti just found that kind of cooli highly recommend this brand and will buy some more once my last 10 carefullyrationed teabags are gone',\n",
              " 'in one hour you can have homemade soup and no prep is needed the seasoning packet covers the spices how much easier can it get this is healthy for you and contains protein and barley everything in one bowl',\n",
              " 'these bars are an excellent choice if you are trying to up your protein intake while watching your waistline they are by far the best tasting when considering calories fat and protein content',\n",
              " 'this appeared to be the purest coconut cream i could find that was not in a can i still do not prefer the juice box packaging there is a ton of controversy over the aluminum used in this type of packaging still leaching into the food but this is the best i could find and i was not disappointed i was wanting to make a coconut layer cake for my birthday and it was delicious very good product would recommend',\n",
              " 'not much in each bag but i will definitely buy it again this jerky is perfect for any low carb diet it is great for eating on the run',\n",
              " 'i confess i did not buy this from amazon but instead found these at homegoods priced at 599 homegoods i was willing to give a try to something made in the usa and not china my dogs absolutely love them they are very soft so you can easily divide it into smaller pieces for training not like jerky at all even though that is the name they are small narrow round rolls approx 5 in length good ingredients but a bit pricey here with the shipping',\n",
              " 'my local pet store stopped carrying these filters and i found them here good price fast delivery exactly what i was purchasing in the store i thought i was going to have to buy a new fountain so i am very pleased to have found these',\n",
              " 'just goes to show everyone has different tastes the other reviewer hated this coffee while it is actually my favorite one i have a subscription for it so that it is delivered to me monthly it is smooth tastes good and not too strong or overpoweringwhich is why i love it',\n",
              " 'gumball machine can be used with or without coins fits approximately 14 oz worth of gumballs at a time well constructed easily disassembled for maintenance',\n",
              " 'it is not sold in powder form at the store i usually get it i was excited to find it on amazon i got 2 coffee can sized containers it is the best chai tea i love it because it does not go bad in a month like the liquid kind you just add it to hot water and drink it is very yummy',\n",
              " 'i eat this cereal every day i replaced my daily mms with this cereal so it was definitely a healthy switch you can not go wrong with this cereal nice simple ingredients and great taste i can get it a little cheaper locally than on amazon but i am certain availability and price varies widely on this stuff but it is definitely worth it',\n",
              " 'i got my pup from the pound she came with good quality dog food but she still itching a lot from what the vet said was dry skin our vet said to try this brand but at petco was about 18 per 5lb bag not on sale i wish i had thought about looking into amazon along time ago would have saved me a lot of time and moneyif switching your dogs food go half and half for a while i am sure everyone else knows this but in case',\n",
              " 'what a great selection the print was a joke wrinkle uplooked like a child scribbled on itreally anyway i may order this sampler pack again i recd it very quickly',\n",
              " 'probably the best packaged cookie we have tasted better than the vanilla oreo good cookie and the filling is not to sweet we can not get them in the se finally found them on amazon',\n",
              " 'my 15 year old lives on bars and so when i saw a deal for the halo smores bars i jumped on it she loves all sorts of bars but hates this one it has an odd texture and an odder flavor i tried it also and it is unappealing sorry probar',\n",
              " 'once you get past the bag openingrinsing part it is all good from there i find that this miracle noodle brand seems to be the least stinky compared to all the many other shiratake noodles I have tried you have to rinse them for a good 30 seconds in cold water and then cook them with something flavorful for a few minutes to get the stink out once the smell is gone you have got zero calorie noodles that taste like whatever you have cooked them with',\n",
              " 'this cappuccino is very good and tastes almost as good as starbucks latte primo tdiscs for tassimo coffeemakers 8 count packages pack of 2 the cream foams up well in the tassimo machine the only difference in taste between this cappuccino drink and the starbucks latte primo is that the coffee flavor is slightly stronger in the starbucks product also with the cappuccino you brew the coffee first and then use the milk disc with the starbucks latte primo you brew the milk first then the coffeeoverall i think this is a bargain buy as long as you are not looking for a slightly stronger coffee flavor I would suggest purchasing this instead of the starbucks brand as both products use expresso coffee and milk discs',\n",
              " 'the pb2 arrived very quickly and was well packaged the reason i gave it 4 stars not 5 was it is a bit too expensive for me but it does taste good i added it to my steelcut oats and that made it yummy',\n",
              " 'gloria jeans hazelnut coffee is delish i enjoy one to two cups per day the flavor is just right and not too sweet or overbearing',\n",
              " 'bakery on main has another hit on their hands these bars are awesome i love the coconuty flavor and the healthy ingredients in these bars great buy',\n",
              " 'the peppers have a distinct odor to them not like spicy or hotalmost like they were not completely dried out or something',\n",
              " 'I will admit we like most of the baked potato chips in our household though I will also admit that few if any taste as good as traditional chips since we eat a lot of chips we try to alternate between the types just to stay a little healthier we rate these as high as any of the reduced fat or baked types of chips I have tried all flavors and would say that the only one that i did not enjoy was the salt vinegar flavor i love this flavor in regular chips but these do not represent the flavor well i do not know if it is the base ingredients in the chip or the flavoring they use but the result is not very pleasant all other flavors are great',\n",
              " 'cans have a coating to protect you and the tomatos makes great sauce when the garden sleeps for the winter',\n",
              " 'product is made from corndogs can not digest corn so it becomes waste materialbuy dog food made without corn as the main ingredent',\n",
              " 'i bought these for our weekly grilled pizza night we just smash up the tomatoes and use them for our sauce no spices or anything my toddler and preschooler can not get enough and I have given cans as parts of pizza kits to friends and family they are a huge hit around here it is not necessary to spend money on the certified pricier san marzanos in my humble opinion',\n",
              " 'i normally prefer lindt over ghiradelli but these chocolate chips are great we have been using these to make superb chocolate oatmeal cookies',\n",
              " 'our little 15 lbs mystery mix rescue mutt loves this food our vet recommended a limited ingredient diet when she became I will at a friends house while we were on vacation since then she has had no problems we also give her natural balance sweet potato w venison and sweet potato w fishthese foods make great treats and training rewards too the health benefits of a quality diet like this one are worth it her coat is great and her teeth look excellent on a less pleasant but good note her um leavings are always firm and easy to clean upwe have used this food for over 2 years i would recommend it to anyone i mean any dog',\n",
              " 'we bought the weefulls not knowing anything about them seemed like a healthy waffle since i did not have a waffle iron i just followed the directions for the crepe on the package and cooked them up like pancakes i added one egg to get the addtl protein pretty good better tasting than a normal pancake and from the ingredients on the label much healthier I would recommend to others',\n",
              " 'i bought this as a gift and heard back that it was a beautiful arrangement of fresh food the fruit was firm and unblemished it is a great gift item as there is a little bit of something for everyone to enjoy I have purchased other fruit gift baskets and this is by far the best value great quality',\n",
              " 'I have tried many different brands and types of coffee kcups but this one is my most favorite hands down great flavor strong but not too strong low acidity and the aroma is just amazing for me this is the best kcup on the market i drink it in the morning and afternoon and just love it',\n",
              " 'the tea was excellent and easy openning this teas aroma and taste was excellentonly disadvantage is that the packaging is long agothis tea has been packed the last in aug2009 tea was best before august 2012 i received 21 may i had just left for a period of three months only',\n",
              " 'just call me a sucker ordered a bunch of steaks burgers hot dogs potatoes and fish from omaha steaks poorest meat i have ever eaten we can get better quality at walmart and even better yet at the local butcher shop then we are bombarded with phone sales calls and junk mail wished i would never have fallen for best steaks you have ever eaten will never purchase again',\n",
              " 'these light and airy cookies are fantastic the anise flavor is just right not overbearing you will be very satisfied with this product without a doubtgive them a try you will have a new favorite cookie like me amazon was fantastic with my order they were fast and i had no problems with the order i will use amazon again for my online purchases',\n",
              " 'i just tried these at a store near my house that is a bit overpriced so i decided to try and find a deal and i found it here these are so delicious and they are crunchy but i would not they are too hard they taste so good its amazing they are so healthy I am ordering and you should too if you like sweets',\n",
              " 'my son used to love the chick chick gobble gobble and super salmon but they changed the recipe and now it is more corn than anything else taste is bad too nutrition value is lower he does not like it and neither do i i am totally pissed',\n",
              " 'after 5 months of nearperfect behavior my golden retriever apparently discovered the puppy within herself and started destroying nearly everything toys that we have had for her entire life were suddenly being destroyed and stuff strewed across the house as if it were a warning to all other toys she was destroying and swallowing 34 inch pieces of rope curtain ties everything so it is with desperation that i went to my local pet store in an attempt to find anything destructible from previous experience i knew she did not like kongs and i could not bring myself to purchase anything that was merely a used tire marked to up a pettoy price with that i found this toy and another indestructible chew toy while the other toy is good nothing holds her interest like this product it has drastically improved her behavior while crated and all other toys have been spared a painful deaththe only downside is that the product does not smell the best as she is always playing with it that means it is always near us we have tried instituting a no toys on the couch policy but its hard to enforce',\n",
              " 'disappointing bland with a bitter burnt aftertaste i was looking for something to replace the ridiculouslypriced maxwell house sugarfree suisse mocha international coffee but this are not it too badlaura l el cerrito ca',\n",
              " 'these are just delicious for me this is perfect snack for a long day also these are gluten free as the comment on the other review states they are made with glutenfree wheat syrup',\n",
              " 'i chose this from the vine program because i rather like caramel popcorn as far as caramel popcorn goes this is a pretty tasty snack flavorwise i thought it had a very good caramel taste but i felt like the chocolate drizzle was a bit overkill i just felt like the chocolate did not add anything good to the flavor plus the chocolate itself does not taste all that good what else to say about these well they come in little 130 calorie packs this is useful and convenient for those on a diet but honestly that would be the only reason to get this particular product it is probably ten million times cheaper to get a regular large size bag of caramel popcorn than to buy this thing so the only thing it would be good for is counting calories precisely if you need it for that purpose then this product is good enough but if you are not on a diet or anything just get a regular bag of caramel popcorn and chow down on that instead',\n",
              " 'these oat bran flakes do not i repeat do not taste like post fortified oat flakes i was so hoping that they would but alas they do not anyone who says they do can not remember what fortified oat flakes taste like oh well the search continues for my long gone favorite cereal',\n",
              " 'these are light and crispy and tart but sweet we originally ordered them in a fundraising catalog and when they were gone i had to hunt them down on the web my husband loves them and i order them special for him i have yet to find a key lime cookie that compares I am a chocolate chip cookie gal yet i really like these they are also dainty enough to impress friends when you serve them at luncheons or gettogethers i have tried all the flavors and key lime is the best although they are all good',\n",
              " 'i have not had a chance to use this in a variety of situations but we have had salad a couple of times recently we mixed a bit of olive oil balsamic vinegar and these spices and it was a very nice dressing we will be playing around with different uses for the product the canisters are a very generous size and will last for many many uses',\n",
              " 'get that diet taste in a non diet soda enough saidif you use the soda stream buy the bag in a box brand name soda syrup',\n",
              " 'i am a holiday fanatic so needless to say when i found the holiday kcups on amazon in spring i was thrilled i love that i can pop a little kcup into my coffeemaker and enjoy the holiday smells even during the warm weather the box was damaged upon arrival but that did not because any damage to the kcups themselves',\n",
              " 'these are perfect for my little guy they are the perfect size for him and i love that they are 100 juice',\n",
              " 'normally i spell out the ingredients off of the package when i do these reviews but I am learning that people do not mark that as helpful so if you are curious about the ingredientsplease read the description and i obviously have not ate one of these dog treats personally but i can tell you this muchmy dog loves these treats in fact i have never seen her run so fast to get a treat if i leave the package out on the countershe hangs around and sits until i give her one she actually will mind perfectly if she knows these treats are out it is kind of funny really i honestly have to hide thembecause other wise she will keep sniffing under the pantry door the product itself smells like a dog treat and it is a good sized treat for my dog she is a 78 pound boxer so for smaller dogs you could probably break it in half and make the bag last longer my dog has eaten the sticks on the carpetand i have not noticed any stains so i do not think there is a lot of coloring to them i clean up after her anyway because that is my preferencebut i do not get the brown color like other treats anyway because of my dogs response to themi am getting them again they will make a great stocking stuffer',\n",
              " 'i purchased these tea bags in hope for a good night sleep the first night i drank it i slept great i have continued to drink this every night and i still sleep well but i find myself waking up in the middle of the night once in a while i do find myself urinating more often so maybe it is cleaning me out no bad side effects tastes good alone no sugar or honey needed i recommended this to my family and co workers and they all love it i discovered this from dr oz hoping to continue to sleep well',\n",
              " 'of all the kcups we have tried and that is a bunch this one is the hands down favorite for flavor and boldness this is the one the spoon stands up in the jolt that brings you to life no matter what this is always our go to for strength and good flavorthis is certainly our favorite from green mountain',\n",
              " 'this is the only hot chocolate mix i will buy but my local grocery stores rarely have it in stock it has a perfect degree of chocolateyness and is not too sweet i have not found any others that are even close',\n",
              " 'i have very picky canines at my houseevery time i open a can of merricks venison holiday winstonspringer spaniel and quizzlecocker spaniel go crazythey gooble it up',\n",
              " 'great price and delicious coffee fits the needs of all our family members this is one of our familys favorite coffees',\n",
              " 'i keep trying kcups that describe themselves as bold and being disappointed this one truly lives up to that adjective many bold coffees are bitter this one is not it is too strong for some family members who add water to their cup but my immediate family members always choose this one firststill my favorite and i love the blue kcup so i never grab the wrong one accidentally',\n",
              " 'during christmas shopping i decided to try this new white chocolate drink it was unbelievable better than any coffee mocha or warm drink i have ever tasted with the holidays gone so is this drink from the shelves so thank goodness to amazon i can continue to enjoy this savory drink',\n",
              " 'I am giving this two stars because they taste sort of okay nothing special I would probably call it three stars if they were not labeled as tim tams i grew up with tim tams and it is a joke to give them the same namethey are a version made for the american market skip these try the real thing instead',\n",
              " 'greenies are a healthy treat for dogs and they love them i first bought them while working at a hardwarefeed store to give them a try we were so pleased to find them on amazon at nearly half the price every dog owner should try them they come in all sizes for all dogs and really do keep their teeth in great condition',\n",
              " 'i was not expecting much from these noodles but they really did not taste anything like any pad thai i have ever tried there was too much seasoning and it did not dissolve very well so the sauce was kind of chunky i found that by using only about a third of the seasoning packet they were edible though bland but this is not something i would purchase again',\n",
              " 'blueberries are full of antioxidants adding them to your diet is an excellent healthy addition keeping fresh blueberries on hand is not always an option for our onthego family these dried blueberries have been an excellent way to get the nutritional benefits of blueberries this particular item is delicious and of good quality i love that it is sold in bulk and can be set up on the subscribe save super convenient',\n",
              " 'essentia has a nice clean taste with no hint of chemical residue I have only tried one bottle so far so i can not speak to its longterm health benefitsi do know that uv treated reverseosmosis water is the safest although as with distillation the ro process also depletes minerals which is probably why essentia has added electrolytes a big plus my hubby has a health condition that demands he carefully monitor his electrolyte levels so this water makes that just a little bit easier with a good balance of magnesium sodium and potassium without any of the added sugars of conventional sports drinks like gatoradeif you take vitamin supplements like i do it is especially important to use a chlorinefree water like this for mixing and simply taking your supplements chlorine seriously interferes with the efficacy of supplements this is especially obvious with green drinks which will actually lose some of their color and tons of their nutritional value a compelling argument for giving a little more thought to the water you drink',\n",
              " 'i first tried puerh tea 5 years ago and ever since was willing pay for the luxurious experienceit is hard to describe like trying to explain what a truffle tastes likevery earthy and savory i am exited i found this numi brand it is difficult to get that whole leaf taste and this tea bag tastes likeit was prepared with the whole leaves and from a very good quality i was expecting it to be somewhat of a knock off or similar to an oolong but this is the real deal and i do not have to go through all the fuss to prepare it without the tea bag nowpuerh tea tastes better when the leaves or tea bag is reused up to 5 times just make sure the bag dries completely this is the way the tea connoisseurs recommend drinking it i personally use my leaves or tea bags 4 times with this typei love this and will repurchase again',\n",
              " 'in spite of the bad packaging which bent the cans on all sides surprisingly the peppers were okay i just cleaned them under running water then added condiments oil and vinegar they taste delicious',\n",
              " 'i ordered this food on tues and received the very next day from the supplier thank you for great expeditious customer service',\n",
              " 'i love this packaging it is very compact and keeps the salt dry i filled all my shakers and grinders with this salt the salt is fine but you still can grind it if you prefer i like salt grinders better it allows to control the amount of salt more easily just adjust the grinder screw from coarse salt to fine salt and it works perfectly love the taste of this salt it is slightly lemony and very mild low sodium this package will last probably over a year 2 pounds of it totally will buy again',\n",
              " 'my husband brought this home from whole foods i thought it was frippery but it is the most delicious thing as a classical chinese medicine practitioner i only use this as a medicine it is made from red chili peppers and garlic which means it has very strong energetic properties but wow what a medicine i use it to help chase out a cold or flu and it works beautifully better still it is addictively delicious i do not dip anything in it i just eat a 14 teaspoonful right off the spoon and i keep wanting another 14 teaspoonful yum also a single jar lasts forever',\n",
              " 'i made the mistake and purchased the duck although my dogs coat was very shiny her breath smelled like fish after eating and after awhile i cancelled my order the smell was too much i will be trying the chicken instead',\n",
              " 'my mother contracted mrsa through a pressure sore at a hospital no antibiotic can ever get rid of mrsa it kept coming back and the bedsore getting worse we bought the mgo 400 manuka honey started putting in the wound and in all mrsa sores the next day there was a significant improvement over all now it is been 5 days the pressure sore is almost completely healed and the mrsa has not come back like it did on a daily basis there is nothing but beautiful skin no sores no redness it is a miracle praise god for the manuka plant for honey bees and for this wonderful discovery now i read it is also good for arthritis so i am going to start using it on my mothers knees which have very bad pain from arthritis i recommend this as a miracle honey for many uses it is also usda approved for wound care any kind of wound',\n",
              " 'i purchased two of these chests as gifts beautifully crafted even finish color will coordinate with most decors excellent price for this product lining is an off white my preference would be a darker color that is simply a matter of personal taste recipients raved about the chests and could not wait to serve their tea',\n",
              " 'my dog loves this treat and i like it better than the pedigree dentastix I am comparing the two products to each other because they look so similar in color size shape but my dog will tell you that the texture is definitely different the zoe appears tougher and chewier it last minutes longer than the dentastix per serving my dog will sit and take his time to chew through the zoe chew stix which i like compared to the pedigree stuff i get from my local target which seems to disappear in his mouth and he is begging again after just a few seconds the manufacturers feeding directions says to feed two sticks a day the calorie count is 90 per stick i can not recommend that to your pet I am going to give this as a once a week treat alternating with other stuff since my cocker is prone to getting fat unlike dentastix this does not indicate any dental health benefits still this is made of quinoa and is gluten free in case you care about that stuff cute packaging and is conveniently resealable i would buy again and recommend to othersupdate i have bought this again since my dog loves it so much the second package i got i actually decided to count houw many sticks came in one bag there are only 6 if you get the large size like i do 6 stick for 6 they tell you to give one or two sticks a day nevermind the calories 90 per stick but one bag might not even last you a week if you follow manufacturers directions kind of pricey at 1 per stick greenies on amazon regular size are less expensive anyway i still think that this is a great product and i would still buy it but believe me i will be buying less often and only give it to my dogs on special ocassions',\n",
              " 'this coffee is soooooo smooth and flavorful i absolutely love it this coffee is so incredible you will never enjoy another brand again',\n",
              " 'kosher high quality noaddedsugar excellent chocolate powder the aluminum cans it comes in are liable not to hold up to mailing all that well but there is also a plastic bag around them so it is not a huge deal straightening it all out after arrival the powder is gourmet really delicious goes a long way and has a unique malty chocolate flavor that 99 of chocolate lovers should love pricey yes but if this is for you it is really a treat i use it as a secondary flavor additive 12 12 with cheaper frappaccino mixes for blended coffee drinks at home and it is indespensable only minus one star for pricey',\n",
              " 'i bought this believing it was an all natural product when i took my first sip i thought it tasted artificial and after researching discovered that it contained sucralose it is deceptive not to include this information prominently on the packaging when claiming all natural flavoring in fact i did not see it mentioned anywhere unless you read the ingredient list where it is easy to confuse the sucralose with sucrose a natural sugarthe advertising on the package claims to be unsweetened not true it is sweetened with an artificial sweetnerthis is the product description on amazon we start with pure natural water add carbonation and 100 fruit essences to create 10 distinctly thirstquenching flavors very misleading',\n",
              " 'it is just right not overly strong and has the right amount of vanilla flavor',\n",
              " 'this flavor works great in coffee the mocha flavor blends nicely with all coffee flavors',\n",
              " 'I have never had a black cherry soda i did not like but this is pushing it the flavor is just not strong enough it is barely there and there is that diet taste the diet soda drinkers may not think the flavor is bad but i am a regular soda drinker so i notice any oddity right away there is a slight unpleasant aftertaste if you are eating food it is not as bad as drinking it by itself',\n",
              " 'long story short these are very tasty we have purchased a number of flavors from this brand this is my favoritebut as noted by another reviewer these contain msg in the form of yeast extractit has become a popular means of hiding msg lately by calling it different things as a person who now finds himself having to use more caution in what i consume i find the whole process of hiding in plain site very bothersomealso the bag is not very large but half of it is air this may well help in shipping but when paying a premium price for organic it just seems more deceptive',\n",
              " 'needed a supply of small wrapped candy canes for a concert this was just the ticketthe package arrived swiftly and the product was in good shapethe audience loved getting a holiday treat as they exited',\n",
              " 'i was skeptical about trying crystal light again because some of their flavors are so sweet tasting thankfully the lemon tea is very pleasant and refreshing i also purchased a nalgene canteen so i can make a double batch and have it nice cold and fresh from the refrigerator now I am not wasting money buying bottled water because the nalgene canteens and bottles are great plus they do not retain flavors or odors i love saying good bye to those plastic water bottles and crystal light has some winnersthe natural lemon tea and the natural peach tea are really good',\n",
              " 'used to eat the spicy thai flavor all the time msg makes my body unhappy and this was one of the few flavored chips that was msg free now they have changed the whole recipe and how they make them instead of being real food on the ingredients like it used to be its mostly processed chemical garbage a bunch more salt and msg stuffed in under the label yeast extract they removed the no msg from the label so they know very well what they didthe worst part though is that they taste horrible instead of crisp oily and full of charactersay as if they were cooked in likea kettle or something they instead have the color and uniformity of baked lays the spicy thai flavor now tastes like sour cream and onion or ranch that has gone rancidwhat a shame no more kettle chips for me it seems they are slowly moving one flavor at a time to this new cheap ingredient list and manufacturing method do not be fooled into paying a premium price for these chips as they are not a premium product anymore',\n",
              " 'this is the first time I have tried this brand this flavor and this type of tea it is so good with a little bit of stevia it is almost dessert goodalmost let us not get crazy the tea is sweet and the flavors are neither too strong nor too mild a very good buy',\n",
              " 'these definitely have a cakey chalky like texture but they taste really good the chocolate taste is really good without having the weirdness that some diet bars have you can tell there are chocolate chips throughout them too i usually can not control myself once i start eating cookies and things like that but even though these are small just one takes care of my craving for something sweet I would say give them a try',\n",
              " 'this is a great jerkey substitute if you are vegetarian the problem is when it is stale it is very hard to chew but still tastes good when it is fresh it is absolutely awesomestonewalls is my favorite brand of vegetarian jerkey if you do not like your jerkey hot i suggest you try mild or teriyaki otherwise this is the stuff for youedit someone suggested heating in microwave for about 10 seconds to soften it and that works beautifully',\n",
              " 'i like these chips a lot they are better for me than regular potato chips which is why i bought them in the first placei do wish there more in the little bags but i get that they are only supposed to be a serving so it is not a huge problem',\n",
              " 'these crackers are delicious the salt and cracked pepper flavor are great crunchy tasty thin little crackers that taste great right out of the box',\n",
              " 'my wife is the coffee drinker in the house and we have tried many bold blends over the last couple of years she found the tullys italian roast to be far too weak even on the lowest kureg setting the only one we have found that meets her standards is timothys parisian nights if you like a nice bold cup of joe then she would recomend the timothys hands down amazon no longer sells the timothys by auto shipment so we had to go to the green mountain website and get the auto shipment there good luck',\n",
              " 'i am happy to have ordered this coffee it is a strong dark coffee with a bold taste i would recommend this to all people who like coffee and worry about going decaf',\n",
              " 'this is one of the nicest honeys I have had in a very long time it was just right drizzled over toast or sweetening a cup of tea you can taste the lavender yet it is not overpowering differently delicious however you like honey best',\n",
              " 'these are so great for on the go my 1 12 old loves them all she downs them so fast though i wish they were a bit bigger for that reason overpriced for the amount of food but worth it because the convenience',\n",
              " 'i want to get the cats away from the the grainfilled cat foods but it is a struggle fancy feast is like kittycrack and hard to get them away from once they have it most of the kitty health food brands like newmans own and wellness are completely shunned one of my siamese makes the burying motion over those that makes it entirely clear what she thinks those foods are bff cat food however makes the cut with the cats and is actually preferred by the fussiest of them over fancy feastthe bff cat foods use no grainsa good thing they do use a few ingredients cats do not need like potato starch for gravy flavors and sunflower oil a good animalbased oil would be better but this formula is still a huge step up from most commercial cat foods all the recommended vitamins and minerals are included the companys web site says the food is made in a humangrade food facility the companys website says they use free range chicken and dolphinturtlesafe fishthe smell of the cat food is quite strong and fishy tuna is the main ingredient in all the varieties every flavor has been well received and eaten enthusiastically',\n",
              " 'my husky puppy loves these they are the perfect size for training even though they are small i still usually cut them in half to get a longer training session',\n",
              " 'these hemp seeds are a great value i have searched around and these are at an excellent price here they add a nutty flavor to salads and i also use them in smoothies and even make hemp milk with them',\n",
              " 'i have been purchasing this product for several years originally from grocery stores and now through amazoncom since i cannot find them in any local stores my family really enjoys them they are super easy to prepare and the packs are resealable which i love since i only need to make about half the bag for just myself and my husband',\n",
              " 'these lollipops are so good they actually taste like the real fruit i love the all natural ingredients as well as the fun and unique flavors i keep a handful in my purse for those little moments when i want to treat my kids the funny thing is i think my husband and i like them as much as the kids do',\n",
              " 'well i was envious when i gave this my dog it really does smell good and he loves it',\n",
              " 'while these bars were a good deal versus the supermarket price i was pretty disappointed to find that the expiration date on the individual packages is may of this year normally you would find a much further out date i believe these were overstocked and dumped onto customers via amazon they also are kind of dry and hard versus ones i purchased at the supermarket likely for the same reason my kids did not like them either even when we went on a roadtrip and they were the only thing in the car to eat that is saying a lot i ended up throwing them all away obviously do not recommend',\n",
              " 'i do not trust dog treats or much else from chinawish amazon would start a made in america categoryi love my amazon prime account i would be willing to pay a few dollars for a prime usa account',\n",
              " 'they have a bad tastei finish giving them away because my son started to cry everytime i tried to give thesei prefer beech nut or gerberyuck',\n",
              " 'to the tune of cryin time by buck owensoh it is dunkin time again you are going to eat mei can see that cravin growing in your eyesi can tell by the way your tummys growlinthat it will not be long until it is dunkin timenow that diet that you are tryin leaves you edgythats the way it is happened every time beforeand as sure as that is a glass of milk you are pourinit will not be long before it is dunkin timego on you know it has been your comfort food as long as you can rememberdouble stuff is just more fun',\n",
              " 'my dog loves these because they are edible i love them because they are organic have no beef byproducts which dog is allergic to and newmans own gives generously to charities',\n",
              " 'i personally have not tried this one yet i got it for the guys at the office they love it',\n",
              " 'the tea was exactly what i was looking for and we are enjoying it every day not sure if we are losing weight but the taste is good and so was priceadded 0ne starlosing weight so upped the number of stars to 5',\n",
              " 'i thought we would give it a try it was a good deal but the fake chocolate has a bitter taste we prefer the regular rice chex',\n",
              " 'my 4 month old gsd puppy very much so enjoys chewing as she is teething and these bones have saved my limbs from the wrath of her puppy teeth that being said she has been able to chew pieces of these bones off and get them semi stuck on the roof of her mouth because of the possibility of having sharp small pieces this is probably a product that is best used while you are near your dog so you can hearsee if they are breaking small pieces off other than that this is a good product for the teething puppy although probably not for a really small puppy',\n",
              " 'these treats have nothing bad in them for those of you looking for cornfree wheatfree hydrogenated oilfree treats these fit the billthey are about the size of a nickel and they break in half easily and at just under nine calories each 4 cal broken they are perfect for my jack russel who basically gets a treat for every event in his day after he potties whenever he comes in from playing whenever i come in from outside pretty much any time the door opens closes he gets a treat he loves these and i do not feel bad about giving them to him throughout the day',\n",
              " 'instant coffee just is not that great but starbucks has this right good flavor in a large cup and the price per packet is 30 to 50 less than in the store if it came with wifi it be perfect',\n",
              " 'these cookie bars were delightful a great combination of chewy sweetness and oatsy crisp nicely balanced between dry and mushy and a good size for a quick pickmeup when i get tired of yogurt for my work lunch pack I will keep these in mind for something new',\n",
              " 'this kosher treat is very tasty and tastes delicious i am very satisfied with my order hopefully the price on this item lowers so i can buy another one for my kids they love it thank you amazon',\n",
              " 'emerils jazzedup decaf is the reason i bought my keurig coffee maker i tasted the coffee when getting a haircut and knew i wanted to drink it often since i must drink decaf why not enjoy it',\n",
              " 'i like this natural calm for the taste and for calming down i do not have to take any medication because this is just perfect',\n",
              " 'will use them again always reliable quality always as represented will use them again always reliable quality always as represented',\n",
              " 'the ad is deceiving as it show the almonds in fisher packagingwhen you receive it it is in a clear unmarked bagyou do not know if it is a fisher product or who makes itthey were almonds',\n",
              " 'i purchased these treats for my dogs after they experienced excessive weight gain from dog biscuit alternatives this product has a much lower crude fat ratio than other biscuits such as milk boneswhat i like about the productit is a nice size for dogs about 34 of an inch long it is a nice reward without giving too much of a treat the treats have a line in the middle for those who want to break the treat in half additionally with a higher quality product you do not have grease residue left on your fingers from handling the treatswhat i do not likewhen you try to break the treats in half a lot of times it crumbles in your hands and you lose a portion of the treat also my picky springer is not sure about the taste he will start eating the treat and spit it out my beagle devours them so it may not be a concern for every consumer this is the main reason i rated the treat at 4 it may not be something appetizing to discriminating eaters a good alternative i have found is charlee bear treatsbottom line they are a healthy alternative for those who need to control weight or just want to reward your dogs with a healthier alternative i have found the price versus the amount of treats in the box to be one of the best values of healthy dog treats',\n",
              " 'i really do not know what the product is suppose to be like or if it works when we opened the package they did not smell very appealing and our cat had zero interest in them the picture on the package indicates the centers should be soft and rather liquid when we cut one in half the ones we received seemed dried out and somewhat hollow in the middle it may be the package was old or defective we did not try to return them but just disposed of them',\n",
              " 'everyone in my family shares my opinion that these things taste absolutely horrible i feel really bad for someone who needs to eat glutendairysoyfree or vegankosher foods if i had to live on these alone and i do not I would convert back to being a nonvegan or whatever we all tried the cherry pie flavor and what this thing has to do with cherry pies is way beyond me it is a lump of semisolid goop with some nuts and dried fruits that taste sour and bitter and somewhat sticky simply gross to the point i could not even finish one bar i may not be a health food nut but i know what tastes like crap when i taste itand these things are crap all the way steer clear even 12 hour after i still have that horrible taste in my mouth and need to go brush my teeth to get rid of it',\n",
              " 'i have started having reactions to some of the canned food that i buy i do not know if it is the product or the cans but i wanted to make my own and find a way to freeze some of those products since sauces and gravies break down when frozen really nasty i had to find something besides flour and cornstarch so far i love this for thickening things like chili spaggetti sauce etc i am still experimenting and have not perfected the proportions yet but i will get there',\n",
              " 'the ingredients and reviews for these treats seem great but they gave my dog the runs peanut butter every dog is different i guess these treats are also not grain free if that is important to you',\n",
              " 'that might be a slight exaggeration however i would just as soon eat barney butter as peanut butter plus it is healthier and not a problem for my daughter with peanut allergies although i do have to add that she does not like it but the rest of the family does bottom line if you want an almond butter that is almost peanut butter this is it',\n",
              " 'order received 2 days early large franks are so good better than real meat ones looking forward to trying the other products good texturecolor smell and taste definitely would buy again',\n",
              " 'this product is perfect for shakes i drink it every morning sometimes when i crave something sweet i will make a shake with protein almond milk and two big spoon fulls of pb2 i love it',\n",
              " 'i like to take these hiking in parks outside they are delicious for that midhike snack can not be beat i would recommend these to anyone who wants a snack and is not too sensitive to sugar',\n",
              " 'i have used miraclegro for years and got tired of carrying buckets to my plants my daughter told me about this liquafeed so i tried it it is so much easier to use and seems to be just as effective for the plants I will use it from now on',\n",
              " 'this is definitely my all time favorite flavored keurig kcup pretty much tastes like a pumpkin spice latte from starbucks',\n",
              " 'my local super markets just jacked up the price of a can to 189 making the amazon deal so worth it I have been wanting to buy cases of this stuff since i drink it enoughanyway on to the tea this is tea that actually has a tea taste to it not a sugar water taste i do not understand how adding more sugar to a drink makes it cheaper it is suspicious and probably evident of either one group is either ripping us off or the other group is masking low grade products with 56 grams of sugar it is probably both or that not enough volume is sold of these products making it a higher price i drink my tea two ways unsweetened with lemon or lightly sweetened not with artificial sweeteners with a fruit flavor and steaz covers both those desires there is a few alternatives but their peach is definitely the best tasting of the lightly sweetened variety I have ever hadyou guys got to market your self better i need to see cases of these things at local stores so i can buy them bulk buying individual cans is making me broke',\n",
              " 'the package was warm after being inside of a mail truck all day and thus the coating of chocolate melted',\n",
              " 'my dog loves the bone and these treats it is the only thing that holds his attention and he loves the taste plus he stopped chewing the furniture highly recommend',\n",
              " 'first thing i have to say is that these are the regular honey maid grahams i like them they are a good product i would generally give this product five stars my two stars are for the packagingif i were to buy these i would just buy them in the standard pack they are a lot cheaper than these smaller wrapped stacks they have basically taken a couple of graham crackers broken them in half literally they are not produced in smaller pieces they have been broken in half and package them in smaller bundles these bundles are appropriate for 2 or 3 kids there are too many grahams to be individually wrapped if it were me i would break a couple throw them in a baggie and save a little money and packagingall in all i will continue to buy this brand my kids prefer it i will not buy them in this packaging as a side note this and ritz type crackers i do not buy from amazon these came obliterated seriously i did not have a single one that was not broken this is a grocery store item',\n",
              " 'this coffee is amazing it is strong and bold without that burnt taste that sometimes comes along with bolder roasts it is a great kick in the head tooit will wake you up from anything we are on our second box of 50 in 3 weeks and it is going fast',\n",
              " 'my wife can not eat wheat products and i was looking for this to have for thanksgiving was happy to find it here and at a good price',\n",
              " 'I have been buying the full size 18 rabbit bars for a while now and they are a little too much for a snack so i was happy to find these bunny bars just the right size for a light and healthy afternoon snack and they taste so good',\n",
              " 'i ordered two of these and they were packaged together i would say they were both half the size of the default picture on the product page however still very nice plants only 1 leaf on each was brokenbent which did not matter too much the plants are now on my porch and doing very well i would recommend this',\n",
              " 'the flavor of these is definitely what stands out immediately to me most healthy snack bars have either an unappetizing or bland flavor the flavor of these is bold and the textures are great the chewiness of the cranberries mixed with the crunchiness of the whole nuts makes for a great combination they also are healthy for you and pretty filling great snack to give you energy for exercising while also helping you keep your food intake down',\n",
              " 'pretty much like all things from bobs this is no exception and it might require altering your cooking method over other brands types or sizes of buckwheat but it works toast the grains with an egg in the skillet add 2 cups boiling stockliquid and let it steam on the stovetop for 2030 minutes then add some veggies or meats onionsgarlic etc even great with curry powder or texmex style as well',\n",
              " 'these are my favorite candy and they have become increasingly difficult to find in stores this is a great price and the candies are a nice blend of tart and sweet',\n",
              " 'i got this for a gift for my father and he loved them i will probably get them again but only as a gift due to the cost of sausages',\n",
              " 'we adopted a 10 month mix breed and needed to tap into his hunting breeds tendencies and these treats are the only reason our guy gets excited about training and hunting for treatswe ordered a kong wobbler too and these treats are the perfect size and shape to put inside and keep him entertained for awhile they are great for having on hand just as treats or as rewards while working on training you can carry alot and it not be awkwardhe loves the chicken flavor and can not seem to get enough i love the price for the size of the bag you get and they last a good while as long as you ration even though they are definitely mini each one has such a strong not overwhelming aroma and taste that just that little morsel is enough for our big guy his nose knowsI am ordering more today and will continue to order as long as they are available just wish they were on auto delivery we would never want to run out any other treat just will not do i highly recommend you at least try them you and your pooch will be glad you did',\n",
              " 'not much more to really say about it but that it is a wonderful value healthy and my dog loves it',\n",
              " 'this product saves me a trip to the barista love the taste it is so worth getting this flavor if you like chai with milk taste kudos to the manufacturer you got it right',\n",
              " 'flour type 00 is better than regular flour whether frying it or baking it dough maintains softness and pliabilityi like it a lot',\n",
              " 'the tea has a mild pleasant flavor and is easy to combine with others without overpowering the mix I have just moved to a new town and i do not know where to look for the teas i need buying online saved me a lot of headaches the boxes i ordered arrived promptly',\n",
              " 'a very enjoyable sweet treat love the taste and the price it is a lot less expensive than going to the convenience store in the mornings',\n",
              " 'originally i was very happy when i received this beautiful little tree unfortunately it seemed underpotted and root bound so it died within the first month i drew the root bound conclusion as i made one final attempt to save it by repotting the tree into a bigger dish with new soil but the roots were already dark brown and just a tangled mess to deal with i have left the tree in the new soil and water it occasionally as of yet no signs of life have returned',\n",
              " 'i first tried these cookies while visiting family in panama they were available at the local grocery stores when i came back to the yous i could not find them locally but thank goodness for amzazon i found them and at an affordable price i order a carton of eight packages and share them with friends they are a delightfully light and fresh tasting treat that soon become nearly addictive i have tried some of loackers other flavors but the lemon is my all time favorite i am tempted to subscribe to them',\n",
              " 'this freezer tray is excellent i am actually purchasing another now that the little one is eating more foodI would like to prepare more at once frozen items scoop out easily with a spoon easy to clean',\n",
              " 'it did not take very long either not fun to come home tothe dogs liked them though',\n",
              " 'these are always going to be more expensive than buying the single big pack remember when oreos were packed into three plastic tubes in a plastic boxthese oreos always come out crunchy with a very pliable filling that can be easily nudgedrolled off if you do not like the filling if nabisco sold individually wrapped cookies I would pay the extra money as i usually only want one cookiei will always choose to buy oreos packaged in as small a serving as possible despite the expense unless i get some kind of vacuum sealer',\n",
              " 'i am one of those persons that can not drink coffee in the afternoon if i want to have a good sleep this coffee has great taste not too strong perfect for my afternoon drink and the best parti can go to sleep like a baby',\n",
              " 'and these dowow i was really surprised at how good these chips are these light crisp tortilla chips have a subtle flavor of green olives with just a hint of garlic nothing at all overpowering but you know it is there the flavor combination the brininess of the olives with the garlic is just rightthey are not too salty either a major complaint i have with a lot of chips seems as if other manufacturers feel that in order to get flavor you have to go heavy on the salt not these an entire bag has just 80 mg of sodiumfor folks on weight watchers an entire snacksize bag comes to 3 pts add some nice fresh salsa tomatoes onions garlic cilantro lime juice jalapenos saltpepper to taste and you have a filling healthy snack or how about some light semisoft cheese the kind that comes in the little individuallywrapped wedges these chips are sturdy enough to serve as light crackers yumI will definitely be purchasing these from amazon I have never seen them in the stores and i simply must have more of them',\n",
              " 'i got my most recent 3 pack product in april and two of the three boxes had kcups that had expanded i mean that the bottom was round and puffed out when put in the keurig a couple of them popped at the top and spritzedleaked coffee out of the keurig and onto my counter the others crumpled when used we pay a lot of money for kcups and i encourage you to check all three boxes when you get them to make sure they are normal i am wondering what kind of extremes the packages are subjected to in storage andor transit one of the three boxes had all kcups as they should be sealed tight flat bottoms when i reorder i will check each box and return any with the defective packagingfolgers black silk kcup coffee is smooth flavorful and does not get buried when you add milk latte or cream delicious',\n",
              " 'i had not realized i could order the ca sunmaid apricots online in fl they only carry the imported cloyingly sweet sunmaid apricots from now on i will try to order more things through amazon',\n",
              " 'not only is this snack delicious but it is one of the first items to be even better than regular pretzels that have wheat the recipe produces a light and very crispy pretzel does not get stale after leaving it a month in ziploc like other pretzels everyone that I have shared with agrees with me so it is very expensive though for those who cannot eat gluten it is a must have i buy it by the case and sparingly share with others',\n",
              " 'this pasta is wonderful the texture is hearty and the flavor has a delicate nutty cast to it i paired it with a homemade roasted red pepper alfredo sauce to which i had added slices of sauteed chicken sausage and baby bella mushrooms i was very pleased with the pasta the slightly rough texture of it really held the sauce nicely a must have for the healthy eaters pantry',\n",
              " 'i took one bite of one of these things and had to throw all the rest of them away the taste is indescribably yucky sort of sweet yet caustic the worst part is the texture it was like trying to bite through soggy cardboard utterly disgusting i guess if you were trapped in a collapsed coal mine and awaiting rescue and there was nothing else to eat you might choose this over a coalmine rat but it would be a hard choice',\n",
              " 'our chihuahua flies through these they are great for encouraging use of both top and bottom front teeth rather than solely the back as with many bonetype dental chews',\n",
              " 'shocked to see so many positive reviews for this product as another reviewer said the ingredients are horseradish turmeric spirulina calling this wasabi is like calling food coloring saffron and you do not have to have lived in japan to see that this stuff are not wasabi the instructions say mix powder to form a paste well it does have heat but what you get is this ugly pale and chalky paste you need to use a lot of powder and very little water to get it to the right consistency next time I will try getting my hands on real wasabi root from the asian grocery store',\n",
              " 'i purchased this product for my son as soon as i opened the package i was overwhelmed by how fragrant the baby food was i still gave it a go and my son gagged before tastingtoo strong for new baby senses i did enjoy the fact that it was not found in plastic and was organic but next time take down the flavors a notch',\n",
              " 'these are essentially the yummiest most delicate wafer cookies I have come across the hazelnut tastes exactly like nutella perfect each little cookie is 05 weight watchers points which is terrific for those of us watching our figures i usually have four cookies 2 points with my tea and am very satisfied they taste so decadent I am going to try the lemon next and hopefully will be able to track down the espresso flavor',\n",
              " 'we love our senseo coffee maker had one for about 5 years now unfortunately local stores have discontinued stocking the coffee pods so glad to see that amazoncom carries it will be ordering more of the medium roast and the colombian',\n",
              " 'we have been using kellys delight since the early days and love this product it is fantastic for ice tea drinkers because it dissolves in cold tea but we love it in recipes in drinks and so many ways',\n",
              " 'i ordered the 6 pack of sheltons turkey jerky with great anticipation i opened the first package much to my disappointment the jerky was quite dry and brittle i was hoping for something more like trader joes turkey jerky which is always moist and tasty i will eventually eat what i ordered but unlike the trader joes brand this stuff will hang around until I am desperate for anything to munch on',\n",
              " 'these are a hit with my pups and for the price and 3 calories a piece they can not be beat they are great for training in addition to putting them into food puzzle toys to keep them occupied i also provide a steady supply of these to my youngest pup during nail clipping as he has quite a bit of anxiety and these treats totally take his mind off of the scary clipper at his toesfirst ingredient is wheat flour so if your dog happens to be allergic to wheat these will not work for you my dogs are not allergic nor do these treats give tummy problems so I am happy ingredient list is short that is another plus it is not a long list of artificial this and thati give my pups both the liver flavor and the cheeseegg flavor to mix things up a bit the cheeseegg ones even smell like cheese yum',\n",
              " 'this is a bit large for a jack russell however she has been going to town on it and giving it a good workout it is fairly durable she has made some marks in it so i do not let her chew it too long or often but it is well worth the price to keep her occupied and not chewing on me',\n",
              " 'guess what stash really means it when they call this the espresso of teas robust in their description is code for this sucker will rouse you after a night of throwing back pints of ale and carousing at the local pub it is a dark rich and strong brew but to say it has only one note is plain wrong i am sitting here drinking a cup as i write i buy mine on amazon in the 35 oz pouches so i might not show as a verified purchaser and i taste a range of flavors in the lower register there are toasty warm notes licorice tars and yes bitter notes as befits its dark nature if a lighthearted tea is more to your palate you must look elsewhere but if you are seeking a strong rich flavorful cup of tea with a bit of an edge this is it',\n",
              " 'i bought this hot sauce from world market because i like to add a little kick to my lunch when i tried the hot sauce i was pleasantly suprised especially considering it is arounf 450pros1 very economical2 sweet taste offsets the habanero3 adds some nice color contrast when used as garnish4 do not need alot to get the flavor you wantcons1 make sure you shake the bottle before applying the sauce the flavor sometimes goes to the bottom2 if you find habs hot the person will not like it taste preferenceoverall it is a hit in my book i personally do not find it very hot but it is tasty enjoy',\n",
              " 'have one for breakfast have one for lunch it will fill you up or have one for snack in the afternoon great treat very sweet',\n",
              " 'if you like cinnamon bears try these and you will never want the ones at the nearest convenience store again they are to the other cinnamon bears what the authentic jelly bellies are to the stale grocery store imitation amazon should set up a subscription order for these as they will be arriving at my house monthly also i know they are costly but due to their intensity and the satisfaction of something that truly sates your appetite you will eat a lot fewer which in essence makes them much lower in calories per serving than the poor imitations also they do not contain high fructose corn sweetener just regular sugar and corn syrup',\n",
              " 'it is not gritty like rice or beany flavored this flour is the closest thing to wheat I have tried so far as far a cookies go anyway i do not know if i can make a bread out of it',\n",
              " 'I have a difficult time drinking red raspberry leaf tea in the past i wanted to try it again during my second pregnancy for uterine health this time i steeped it in boiling water added lots of honey and poured it over ice it is still not the best tasting tea variety but this particular brand seems a bit more palletable than some others as far as it is potencyeffectiveness i suppose i will not know until the baby comes although realistically I am not sure I will even know thenthis price is amazing too i kicked myself for paying twice as much at a local health food store i will definitely be buying my next box here instead',\n",
              " 'my minipoodle joey has chronic pancreatitis diabetes and thyroid disease she is allergic to beef and corn the duck pill pockets are a god send she loves these stinky things and they do not aggravate her pancreas nor do they spark up her allergies she takes many pills in these little wonders with absolutely no I will effects thank you sooo much',\n",
              " 'i had to switch food from merricks to california natural because after two years of feeding my dogs merricks food it seems like they are having problems with their pancreas the food may be a little too oily after feeding them california natural for the first time they loved it they finish all their food every meal too bad they do not make the small bites in chicken and rice formula i have three 15 to 20lb dogs so the small bites makes it easy for them to chew',\n",
              " 'good pics of item sent fast and well packaged i would buy again from them lievito bertolini is the yeast i use for my italian recipes it has already vanilla into it and my grandma cookies and cakes come out of the oven just as i remember from my childhood looong time ago i am so glad i could find this yeast on line',\n",
              " 'it started when my niece was five years old and the only way she would eat her sweet potatoes was with shaky cheese on them that is all she would eat whenever she was out with the family sweet potatoes with this shaky cheese on them every extendedfamily meal this container was on the tablefast forward ten years and my five year old is sitting with his fifteen year old cousinhe does not want to eat cauliflower although he loves broccoli huhshe reaches over with cheese can in hand and shakes the orange powder onto the previously snow white vegetablesand he loves itfrom that day forward there is been at least one can if not two or three cans in our refrigerator we use it on vegetables on onion rings eggs macaronipasta pizza and anything else he can think of so as you can see losing the availability of this product was pretty traumatic for him i searched all over the area and finally found two cans so i grabbed them lolwhen those cans were gone about three months later i could find no more i endedup buying boxes of mac cheese just for the cheese you can imagine how thrilled i was to find the cheese here on amazon on amazon go figurei do not care i would have bought the cheese from the little boy down the street that is how much my son loves this cheese and if he loves it so do i',\n",
              " 'like most reviewers here i love this product why did costco stop carrying it i tend to go their website and order 3lb buckets i reorder about once a year',\n",
              " 'my cat can not get enough of this food he suffered from uti 8 months ago and i found out that the because of urinary track infection is dry food after 2 visits to the emergency room its needless to say that spending more on cat food is better than spending thousands on doctor bills this food has cranberry juice which helps prevent uti i read the label for my cat now just as i do for myselfi buy them in bulk from amazon or individually from petsmartpetco',\n",
              " 'i tasted many teas and read dozens of reviews and product descriptions before i settled on this tea most product descriptions do not tell the truthpros i was pleasantly surprised at the taste of this tea do not over brew or it will be bitter just 2 minutes is perfect i can get three pots out of this tea but i let the last pot sit at least 10 minutes I have ordered a second time and will order this again this is now my daily teahowevercons i read that if you gently press the little balls of rolled gunpowder tea they should give and be pliable this is the sign of fresh tea this tea crumbles a sure sign of older tea stored whoknowshowlong i would like to get a fresh shipment but i also like the reasonable price of this old tea i guess that is the tradeoff if someone knows where i can get fresher gunpowder tea at a good price please let me know',\n",
              " 'it is tea all right maybe even not that bad of a tea but it is definitively does not have that peculiar dragonwell taste at all',\n",
              " 'ocean spray blueberry juice cocktail has a strong flavor of blueberries and a secondary flavor of grape juice with a nice finish and aftertaste of pure blueberry the balance between sweet and tart is perfectocean spray always seems to get this right it is not pure fresh juice but then again they are not trying to fool anyone into thinking that it is pepsi cola actually distributes iti was disappointed to see that the bottle was 152 fl oz or 450 ml when 16 oz or 500 ml would seem to be much more logical and less chintzy especially since the serving size is 8 ozoverall i enjoyed it but have to knock a star off for the tooth enamelunfriendly ingredients and almost total lack of nutrition as well as the tricky volume of the the bottle i triedingredientswater cane or beet sugar blueberry juice from concentrate grape juice from concentrate apple juice from concentrate malic acid natural flavor ascorbic acid vitamin c sodium citratenutrition factsper 8 oz serving120 caloriessodium 35 mgpotassium 35 mgtotal carbs 29 gsugars 28 gprotein 0 gvitamin c 100 rdanote they were giving away bottles of this purpleblue drink in greeley square herald squares beautiful little sister the other day and that is how i got to try it',\n",
              " 'we buy this by the case all of children use this in all of their dishes it adds so much more than the season salt if you have a chance to use it you will be sold',\n",
              " 'there are not many things that taste good that you can eat an entire bag for 15 grams of fat this product is great for diets and an awesome alternative to chips they taste great and are filling so glad i discovered them also the company has fantastic customer service if needed',\n",
              " 'shipment arrived on time in good condition and inexpensive compared to the prices offerred in retail stores highly recommended',\n",
              " 'like the bread very much it has replaced the bread i used buy in store',\n",
              " 'i wanted a fruity iced green tea mix without artificial sweetener and this fits the bill nicely this product is sweetened with plain sugar i do think you need to put in more powder than it says you should to get a bit stronger and sweeter taste so it is more calories and will not last as long as the packaging says but I am okay with that the only thing that would make this better is if it were sweetened with stevia natural but lower calorie',\n",
              " 'i love this coconut oil it smells and tastes delicious and makes a wonderful skin moisturizer too i use it for baking and cooking and it is great mine arrived in liquid form and has never become solid i guess my house temperature is not cool enough for it to solidify but that makes it easier to measure out for recipes the bottle does say that it becomes solid at 76 degrees anyhow it is a great buy on amazon enjoy',\n",
              " 'i liked the taste of the no fear energy drink i did not experience any kind of aftertaste as for any kind of energy boosti do not know if i felt any kind of energy boost it was slight but to be honest and fair I have tried other brands of energy drinks and i can not say i ever feel any kind of boostallinall this is a delicious drink and ranks right up there with any of the other drinks on the market',\n",
              " 'great stuff easy to make and a nice meals every month or so great to share with friends',\n",
              " 'this toy lasted 1 day with our one year old german shorthair pointer she chewed the plastic apart to get to the treat then quickly devoured the treat',\n",
              " 'my bad i got sucked in by the chef michael name i know he is a famous chef so i thought he would have the integrity to only sell his name to a high quality product line after reading the ingredient list I am not so sure too much soy not enough protein plus all the low quality byproducts in it I am not going to let my dog eat anymore sure my dog loved it but i love him too much to feed him garbage',\n",
              " 'i have an older newfie and he has had skin problems most of his life unfortunately he is also a very picky eater so finding a balance between what he will eat and what is good for him has been tricky he really likes this food finally my worried moms heart can rest his skin issues are clearing and he does not scratch like he wants to peel off his skin i highly recommend if your dog shares these issues get this food mix it with some sensitive skin wet food or even salmon your dog with thank you',\n",
              " 'we have given our girls a number of fish based treats and kibble with great success evie the bichon has assorted food allergies but has never had any problems with fish we like the texture of the treats easy to break into even smaller pieceswe like the wholesome ingredients and lack of junk fillerthe foillined pouch is sturdy and keeps the snacks fresh though in our case the supply does not last longwe like that the treats are a product of the usa not a factory on the other side of the worldbeing a spudman i especially like the potato contentin short our dogs like these fishy treats and react to them with much enthusiasm and anticipation',\n",
              " 'this popcorn does all pop does not have much taste i will get the seasoning salt or something and see how it tastes after that i have poured butter over it but then to me that defeats the idea of diet stuff',\n",
              " 'i am so upseti fed my baby this giving her 1 to 2 bottles in order to supplement the breast milk my child got I will she had very bad diarrhea and had blood in her stools tests were taken and came back negative for salmonella and ecoli my pediatrician had recommended i stop giving this formula because she did not think it gave my child the nutritional value she needed so i stopped giving it to her she got better and recovered i did not know why she got I will now I am wondering if it was due to this formula breastfeeding is best i know this but i what formula is safe to supplement with we do not have many choices so i will continue to try to get my milk supply upvery upset',\n",
              " 'the sausages were fairly good but the cheese tasted like flavored candle wax and truthfully little flavor sadly only a two star rating',\n",
              " 'received item fast unknown about the actual item because it is a gift i would love to comment more but the gods of amazon have declared i must have at least this amount of comments',\n",
              " 'i had these when i visited my family in italy when i got back to the states i could not find them anywere so i searched on amazon and found them same as what i had in the old country delivered as promised did not melt and was fresh will buy again',\n",
              " 'i love this brand and my baby loves the oatmeal cereal but i decided to try the multigrain and never again my baby hated it i did not blame her because it smelled really stale try the oatmeal cereal forget about this one',\n",
              " 'i have tried coconut coffee i purchased at my supermarket years ago which was very tasty so i was excited to receive this coffee when i open the bag smell a bit of coconut but the big disappointment came after i brewed it there is no coconut taste or smell when drinking the cup of coffee i ordered this bag because it came in beans so i thought i could get the maximum flavor of coconut this is not how real coconut coffee should taste like who care if the beans smell a bit of coconut if you can not taste it when drinking your coffee',\n",
              " 'I have bought many packs of various types of the crunchies brand dried fruit and they are all excelent in my oppinion this type of crunchies is quite crunchy and i like to sprinkle these on my brakefast cereal in the mornings plan to buy more of these delicious crunchies brand snacks in the future',\n",
              " 'hello i am reviewing this because i just tried this ginger ale for the first time i bought it because i have gluten intolerance dairy intolerance and have to limit certain grains so i have all sorts of digestive issues ginger ale seems to really help but if you buy canada dry or seagrams you are getting ginger flavor and highfructose corn syrup corn growers associations want you to know that the brain can not tell the difference between hfcs and sugar but my colon can tell the difference so i have been changing all items that i ingest into my mouth toothpaste mouthwash food drinks etc to ensure they are gluten free and not containing any definite triggers of problems i bought this based on the reviews and the ingredients and i noticed an immediate result i could taste the ginger much better than regular canada dry also i tasted more ginger than carbonation which was very nice within the first two sips i could feel it going down my esophagus and starting to help the digestion process i drank the whole can so fast because i fell in love with the flavor and the effectthis 2400 is for 24 cans which is a decent price especially if a prime member but i can get a 6pack for 399 at earthfare which would make it about 1750 for 4 6packs including tax here in tn which is about 650 cheaper if you do not have local availability i would recommend getting this and if you have to order frequently then i would recommend getting a prime membership so you get the free 2day shipping',\n",
              " 'very good product for making drinks and for use in baking if you need sweet ground white chocolate then get the best from ghirardelli',\n",
              " 'great flavor and the aroma is fantastic if you enjoy flavored coffees at all you must try this a winner and a keeper',\n",
              " 'these noodles are guite to cookthey have no flaver so you can add your favoret seasonings to them and make them taste like what ever you wantgreat for those on a diet',\n",
              " 'i have to say I am definitely looking for a deal when it comes to baby food and this is one compared to the store prices even with coupons buying by the case is a great buy',\n",
              " 'i absolutely love lipton chai tea i am unable to find in my local grocery stores sooo i was thrilled to find it here',\n",
              " 'i have to follow a gluten free diet so i purchased this to help with baked itemsi really do not see a difference',\n",
              " 'jaz has food allergies that because him to have diarrhea and gas the wellness super5mix dry dog food chicken recipe is the best food that i have found to control his symptoms he eats it twice a day with some canned food also no diarrhea no gas and his coat is super shiny',\n",
              " 'this cereal is nutritionally fortified gravel but that is not necessarily a bad thing it takes a suspiciously long time to get soggy in milk and it is not too sweet think of it philosophically as a less extreme grapenuts with some freezedried strawberry slices on top it is actually even kind of good if you are especially into eating healthy cereals or small rocks you would probably like it I am going to finish what i have but not go out of my way to purchase this again because i can only consume so much gravel in a given year',\n",
              " 'these cheese balls are hard to findand these are so goodthey melt in your mouth and are very cheesyif you love cheese this is a must buy',\n",
              " 'disclaimer i am aware that there is no replacement or substitution for freshly ground spices and hand prepared garam masala from a handed down recipe etc that being said here are my main comments about this item1 the flavors work very well and this product has an excellent blend of fragrant spices i have used this in a butter chicken recipe vegetable recipes and to add a little kick or pick me up to normal dishes a little goes a long way2 the price is very reasonable and i do not think i could have made this for less money if i bought the spices from the local supermart and to be honest i do not have a dedicated spice grinder at home 3 quantity the producers give you a substantial amount of the spice mix in each container especially for what i think is a really low price take advantage of thisin a lot of indian pakastani and sri lankan recipes garam masala is a popular ingredient so it is good to have this on hand and make the initial investment in the spice for years what has stopped me from really getting involved in cooking these types of cuisine is the sometimes insane amount of spices they require many of which i do not have readily on hand having this removes a great deal of that pressure of not having spices after receiving this i went to the supermart and bought some turmeric cumin and cardamon sp and i was all set',\n",
              " 'the is great treat for someone with wheat allergies love it in my coffee with almond milk',\n",
              " 'got sucked in by the reviews and promise of no shipping costs this stuff is not even as good as chock full o nuts regular out of a can coarse ground and made with normal measurement 575 tbsp to 48 oz of water in my french press produced a very weak cup that had no personality or body outside of moderate acidic tang ugh by increasing to 625 tbsp got some body but the flavor got very dry and arid and any interesting notes or after taste were still woefully lacking but i did develop a bit of headache so i guess it was not a total loss do not be fooled support your favorite local or distant micro producer',\n",
              " 'i love these pretzels even friends and family who do not have to eat gluten free love them they have just enough salt and the texture is great',\n",
              " 'i really enjoy this cider it smells like a carmel apple memories great sweet flavor but not overly sugared I have tried naturals apple cider and like that as well although I have never put a carmel in apple cider that you can buy bottled at the store this does taste closer to bottled apple cider it is missing some of that tangypowder flavor of naturals version plus with 0 calorieswhat is to complain about',\n",
              " 'this is just the best oatmeal everit is all naturalplus i like the goji berriesbecause they are good for youand taste good too',\n",
              " 'this is a very good granola flavor very dificult to put the bag down and walk away you have been warned',\n",
              " 'what more could be said than all the great reviews already posted i just wanted to jump on the bandwagon and add my 5 star rating as well',\n",
              " 'i first had this at mcmenamins kennedy school in portland oregon at breakfast i fell in love with this tea instantly it is not heavily floral at all it has enough rose flavor that it keeps you coming back for more i can not find it in our stores in central ohio so I am thrilled i can find this online enjoy',\n",
              " 'i liked this depending on price i would buy it again it smells greatjust like the hawaiian punch i had so often as a child a little hard to assess how much a serving is one squeeze so i just experimented for the amount of flavor i wanted a smidgeor more depending on my mood flexible flavoring if you as i often might just want a smidge of flavor akin to the level of a lemon in your water this will last much longer than the 24 servings that are predicted on the label although it is less portable bc of it is size it is more than i personally want to carry in a purse i like this better than the crystal light type water flavorings loved the smell enjoy',\n",
              " 'these treats are great the ingredients are all natural and our dog loves them good for training since they are tiny no more breaking up hard dog cookies and getting crumbs everywhere',\n",
              " 'i bought this coffee based on all the positive reviews and the significantly cheaper price than my usual brand i find this coffee lacking any hazelnut creme flavor perhaps the lack of flavor is due to the fine grind needless to say i will not be purchasing this coffee again',\n",
              " 'why would you pay 1350 for 10 caps when you can buy them on the nespresso website for less then 12 of that600 on nespressocom',\n",
              " 'my son has never been a big baby food fan but this particular one he loves he will suck the whole thing down in a matter of minutes i love that this has chia in it a huge superfood with lots of omega 3s i particularly love that because we are vegetarians and it is hard to find vegeterian baby food even when it does only include fruits or vegetables as some companies add gelatin and tuna oil thank you happy tot',\n",
              " 'i am an avid tea drinkerwe are talking several cups a day so i am constantly buying teas and looking for new and exciting ones to changespice things up my normal favorite is the lipton green tea superfruit collections but came across this one and decided to give it a try the fact that it was egyptian mint and in the pyramid shape made it more appealing since I am an egyptian pagan but it was the green tea peppermint combination that caught my eye originallyreally the flavor is very nice not overwhelming nor too bland the pyramid sachets are individually wrapped in a supersealed plasticcellophane type wrapper that truly seals in the freshness and keeps them dry if you accidentally drop them into a wet sink or water etcyes I have done that with the lipton bags before ruining a whole box as well as dropping the pitcher on the counter and soaking everything within run off range these are accident proof thoughthe ingredients are green tea peppermint and licorice root peppermint is good for the digestive system and licorice root is good for metabolism as is green teaplus for those of you who are mother earthwise the sachets are 100 biodegradable so they will not add to the landfill problem and lastly but equally important all three ingredients are certified organicno pesticides to pollute your body',\n",
              " 'wake up to a cup of wolfgang puck coffe breakfast in bed medium roast kcup for keurig is a great way to start your day or just sit down and relax try it and you will be buying moreshop amazon for wolfgang puck coffee breakfast in bed',\n",
              " 'special k bar is a quick fix to a sweet tooth without a lot of calories involved',\n",
              " 'i just tried this product for the first time it is delicious i am very picky about soup and find just about every type to be bland or not salty enoughthanks to growing up with campbells i am not a big fan of tomato soup but it is a light brothit is not a heavy thick soup it is a tad bit sourbut it is tomato i really enjoyed it there was plenty of vegetables inside and it tasted very hearty and healthy the sodium is high but i do not care i call it flavor very delicious and i easily ate a whole can by myself hands down the best canned soup I have tastedi gave it 4 stars because it is a tad sour i still love it though and because it is really expensive over 2 a can at my local whole foods',\n",
              " 'i really enjoyed this product and will purchase it again each bag seems to be a perfect size and at a very nice price',\n",
              " 'too hard my cats are not happy with them all they are like shoe leather they loved the chicken treats but these are not comparable',\n",
              " 'i work 12 hour shifts with only a 30 minute lunch i bought these as a quick snack to hold me over until my next meal they are great they taste pretty good low in calories only 80 calories and enough to hold you over for at least a couple of hours they are also a good idea if you are going to work out and need to get something in your stomach but do not want a whole meal quick and easy',\n",
              " 'this tea is very smooth and pleasant the jasmine has a fruity flavor to it so far i have been able to get several potfuls of equal strength from just a little measure of tea so as far as i am concerned these teas are very flavorsome i will continue to enjoy these teas for a while',\n",
              " 'great cereal obviously this can be found in almost every grocery store but i live in a very rural area so get this at a great price shipped to my door is wonderful',\n",
              " 'love these lara bars its the perfect snack with all natural products no gluten no additives it does not get much better than this',\n",
              " 'this review will make me sound really stupid but whatever i do not really care as long as people find out what is real and can avoid my mistakesi got my wonderful little sweet bella bean when she was a few days shy of three years old she had been bounced around from house to house and eating whatever was cheap i have had cats around me my entire life for about twentyfive years now my mother always just fed them whatever the kinds of food you buy in the supermarket friskies nine lives kit kaboodle stuff like that and our cats were always fine at least in terms of their eating habits they would eat in the morning stop when they were done come back and eat some more when they got hungrymy housemate at the time was working for hills and assured me that this was the best food ever made so great so on and so forth i now know that she is an utter buffoon but i initially trusted her judgment which is so unfortunate because she does not think she also had plenty of coupons for free or deeply discounted bags which made it a much more attractive choicei first tried feeding the little bean an unmeasured amount of science diet in a bowl but that did not work as she would devour it in one sitting so then i took to measuring it and she did the same thing then i started parsing it out to twice a day that did not work either because she would start going crazy in the middle of the day running around intentionally destroying things deliberately spilling her water crying etc until she got more food so then i split it into three servings same thing then it got to be four servings that was a little better but it was too much maintenance and unrealistic to be around every day to feed her four times so then it went back to three all the while i was trying to reduce the amount of food i was feeding her to less than 34 of a cup because she was a little chubby reducing was hell she became even more hungry but i figured she would get used to it not reallyfor over a year she would wake me up every morning looking for food in a serious way knocking things off my desk ripping up any paper she could find scratching at the door and committing general acts of mischief as soon as she got food she was back to her sweet self but only for three or four hourswe thought she was bored we thought she was a little nutty and maybe even had a kitty eating disorder she always wanted food it was kind of funny but in the end it was just sada few weeks back we took her to a new good nonmoney factory vet for her second checkup since I have had her i talked with him about her being always hungry he asked what she ate and i told him the adult indoor science diet without saying as much he basically told me that this food is garbage and i should look for something else he said cat food should have a protein followed by a carbohydrate as the first two ingredients science diet does in a very loose byproduct kind of way ground up slaughterhouse leftovers and corn dust then they put a bunch of vitamins in it to make it healthy instead of just using good ingredients from the beginning not that i care about spending money on the bean but this food is way too expensive for what it isso we began transitioning her onto wellness indoor formula about two weeks ago she is still eating 50 percent science diet with 50 percent wellness you really should not just give a cat different food one day out of the blue but she never freaks out anymore it is amazing and it is 100 percent because she is eating real food now along with that sawdust and chicken hearts i still regrettable have to feed her we have her down to eating twice a day only 13 cup in total she was eating three times a day 58 of a cup in total now she eats some in the morning walks away eats some more a few hours later and then looks for dinner about twelve hours after her initial feeding no more knocking things over no more trashing dads papers on the desk no more howling no more deliberately spilled water on the floor it is incrediblei feel so bad that i was doing this to her for so long we really thought she was just being dramatic or whatever but no she was genuinely hungry because she was not eating any real fooddo your cat a favor buy her or him so food made with real ingredients things you would eat wellness halo innova evo whatever figure it out for yourself but please do not feed your cat this it is garbage',\n",
              " 'i was given a keurig b70 as a gift and was asked which coffee sample types i wanted with iti decided to take a chance on this one it was a good choicethe coffee was smooth and full bodiedan excellent french roast',\n",
              " 'amazing chipsthey tasted great i would def buy this again its a much better deal than buying the bigger bags which comes out to way too much besides this is a perfect size to take to work',\n",
              " 'our bichon loves these treats normally we give him 6 or 7 chips after he finishes eating his canned dog food to help clean his teeth we also use them as special treats he wholeheartedly endorses this product',\n",
              " 'i was looking for an inexpensive alternative to teavanas tastybutpricey strawberryflavored teasand this is it it has a very pleasant slightly sour fruity flavor i can not compare it against other hibiscus teas since this is the first I have tried but it works for my purposes you just can not beat it at this priceI will be drinking tasty tea for months',\n",
              " 'this product is great large enough and covered so that my cat is not spreading litter all over having the sifting device makes cleaning the box simple this is the seconf one that we have owned we had to leave the last one behind when we moved and i will not own a cat without one',\n",
              " 'this has been running much less than other k cups so i gave it a trylower cost than kcups but more than using an ekobrew cup with your favorite coffeemuch stronger smell when you open a plastic package not a pleasant coffee smell but some people like that dark a roasting look at starbuckscons not very complex darker almost burnt roasting some bitternessif your preferences are more to the nantucket blend on the roasting scale this is not for youadded i see they have a breakfast blend which according to reviews is milder and more complex however they helpfully point out it is still roasted more than other brands and i believe the amount of roasting is part of my objection to the flavor',\n",
              " 'a friend mentioned that 5hour worked well for him i had been tempted before to buy a bottle try it but i do not drink a ton of caffeine products and i almost never drink energy drinks so i was very skeptical and wary of this product but after my friend said he liked it i figured i would give it a trymy problem is I am either a zombie in the morning or i feel good in the morning but by about 330pm or 400pm i can barely keep my eyes open i decided to give this a try to see if it made any differencesurprisingly it does seem to work for me I have noticed that it works better when I am tired in the afternoon than when I am tired in the morning i do not feel extremely jittery and i suppose the claim of no crash is true because i never feel like i hit a walli usually notice it takes 10 maybe 15 minutes to kick in and i generally go from feeling like I am going to nod off at my desk to at least being able to keep my eyes open get some work done i do not feel like it gives me any super powers hyper concentration etc and i do not feel like i have so much energy I am bouncing off the walls just a little boostthe flavor is okay these are berry and it is kind of tart like the flavoring is covering a bitter taste it is not awful but it is not a flavor i would want to savor in a drink etc i chug the thing and try to taste it as little as possiblei think it is kind of pricy for what you get but I am also not using it every day maybe 3 days a week so in that respect it is no worse than a daily starbucks habit pricewise if i ever start to build a resistance to the combination of stuff that makes it work i would not try drinking more to counter act the effects i would probably save my money and try something elseallinall I am happy with how it is working for me for now i do feel more alert and i do not feel jittery or like i have nervous energy to burn when this batch is gone I will probably get more but i do not know that with 100 certaintypros it does give a boost of energy and i do not feel like i crash the flavor is not as bad as i would have guessedcons they are expensive even buying them in bulk the flavor is not as good as i would have hoped does not give instant energy takes 1015 minutes and is gradual possible to build a resistance to the product more timeuse required to know for sure',\n",
              " 'I have searched far and wide for good low carb food stuffs and have only found a few that are truly edible the natures hollow line though is remarkable not just because it tastes good as a sugar free jampreserve but in my opinion the apricot and especially the strawberry flavors are what I would eat if i did not eat low carb the flavors are bold and fresh the blueberry can be a bit syrupy but the raspberry strawberry and apricot are pretty good though i recommend keeping all of them in the fridge personally i combine the preserves with a tablespoon of trader joes sunflower seed butter over a la tortilla factory lowcarb tortilla and I have got a highfiber healthy fat low carb treat that is tough to beat',\n",
              " 'based on existing reviews i did not expect this gift pack to produce overly tasty tea but i have in fact been rather disappointed everything tastes a wee bit too earthy and it is been unusually difficult to get a good steeping there are many other options that are far superior to this product if you are looking for a nice cuppa then look elsewhere',\n",
              " 'after reading the reviews on amazon and researching food ideas online i got some friends together and we all divulged out of the seven of us who took it three of us just felt sick after the process all of us concluded that while our taste buds were playing tricks on us they were not necessarily good tricks i would not say sour things tasted sweet for instance i would say they tasted weird kind of like lychees but not very good ones the only thing i tried that really improved after dissolving the pill on my tongue was a coors light it tasted like a pretty good pilsner after the pill and everyone seemed to like this but sometimes a nice cold coors light is just what you need so if you have nothing left to spend your money on this is not the worst choice in the world but do not expect a miracle because that is not going to happen expect a stomach ache a loss of appetite and then you will not find disappointment',\n",
              " 'people are uncertain about trying it and then they love it the ginger is noticeable but not strong in this flavor from the ginger people',\n",
              " 'i ordered four bags of por kwan thai iced tea mix and they shipped quickly i was unsure what to expect since i have never made thai tea before but when it says tea mix it is not in individual bags nor is it dissolving tea mix but is loose tea with a texture similar to coffee grounds they even included brief instructions on preparing thai iced tea on the stove how much sugar and milk to add etc i was happy to discover after doing some googleing though that the tea is easily brewed using a coffee maker and coffee filter instead of the traditional method which requires a fabric tea bag thing that i do not have i highly recommend this product and am excited to find it on amazon after several unsuccessful trips to asian food stores in search of thai tea',\n",
              " 'i bought these crackers for my 15month old baby thinking that they would be a healthier version of pepperidge farms goldfish and he sure loved them it turns out now that i need to get some more after i found that i could not refrain from helping myself to the last few boxes in short they are well worth your while',\n",
              " 'I have now sampled four different varieties of larabar and heres my main take on the lemon ones if you like lemon squares this is your bar the allnatural raw foods approach makes for a great snack bar not oversweetened no sticky aftertaste not too dry and one bar was often the perfect midafternoon snack to carry me over until dinner but the lemon flavor here is definitely not subtle i still enjoyed the box but prefer the cherry pie or banana cookie flavors',\n",
              " 'since going gluten free what i have missed the most is a good cookie the gluten free breads and cookies on the market are not very good when i found these i thought i had died and gone to heaven can not live without them',\n",
              " 'great coffee available only in the fall have had it before and the green mountain products are good would like to buy the k cups at a lesser price',\n",
              " 'bob marleys son rohan besides being a noted athlete and musician is also a successful entrepreneur having started marley coffee the maker of marley coffee stir it up exotic floral and berry one love organic medium ethiopia yirgacheffee fifteen single serve podseveryone in my family tried some of the coffee this morning and the results were generally very good smooth x3 nutty x2 nice taste i like mine a little stronger pretty good comments from these life long coffee drinkers no one gushed that they were going to rush out and place another order howeverbob marleys name has been used to sell lots of things bob probably would not have endorsed while he was alive to his credit rohans signature actually appears on the outside of the box so he is not technically appropriating his fathers name he is asserting his own name and standing behind the product himselfseveral of the drinkers this morning were hoping for a little thc mellowout over their bacon and eggs did not happen however everyone agreed that this coffee which curiously does not smell that attractive before the pod is brewed is worthy of the highend packaging and its ethiopian and jamacian heritage',\n",
              " 'these are tasty but a little sweet for me i could not eat more than 2 of these at a time even if i wanted to wait maybe that is a good thing i purchased these along with the blueberry flavor and the blueberry bars are the better choice in my opinion overall a good option if you are looking to satisfy a sweet craving in a healthy way',\n",
              " 'i have been buying these for a year from amazon and they are perfectly good i buy six bags via subscribe and save and keep the bags i am not using in the freezer',\n",
              " 'my dog would have to stop breathing before she would fail to perform for liver biscotti even my friends with finicky dogs are surprised how their dogs love the stuff',\n",
              " 'i absolutly love the flavor of this amaretto sweetener i love my coffee and this makes it special i am trying a new flavor today can not wait to get it delivered i know it will be good also',\n",
              " 'we have really enjoyed sarahs sea salt with the delicious texas tomatoes this summer great with the small ones as a finger food',\n",
              " 'this did give me more energy but it was very short lived and had me wondering if it was just a sugar high because this one can packs in 66 g of sugar total calories per can are 260 and total carbs 68g add in the fact that the second ingredient is high fructose corn syrup and that it contains soy and it is a guarantee i will not pick up another can gaining short lived energy is not worth it to me to put that kind of garbage and empty calories into my body',\n",
              " 'my dogs are getting older and the oldest has been gaining a bit of weight while I would love to buy them the 50 bags of food i just can not right now so I am weaning them from their regular kibble to this shredded weight management formula i assumed they would turn their nose up at it but they dove right in the shredded formula makes it easier for older teeth to chew i got an 18lb bag at pet supplies plus for 2998 so might want to check around for pricesfor now we are happy with thisI am updating to five stars after a week on this dog food I am using less food and they are staying full all day and not begging for more in the early evenings i use less canned food because they do not need the encouragement to eat this kibble very pleasedspecs say this is hard kibble and savory tender shredded piecesfor an optimum combination of nutrition and taste optimal protein to fat ratio helps dogs lose fat not muscle contains 25 less fat than pro plan chicken rice adult formula for adult dogs rich in soy isoflavones to help minimize weight gain formulated with wholesome grains including rice and whole wheat which are highly digestible sources of carbohydrates for energy and quality fiber sources',\n",
              " 'i absolutely love the now foods raw energy nut mix i was elated to find this product online through amazon unfortunately the advertisement states that this is a four 4 pack and only three 3 packs is what i received when i my package arrived so morale of the storyyou will enjoy this fabulous healthy snack but be mindful that you will only receive 3 packs instead of the advertised 4 packs for the price you pay',\n",
              " 'not sure why one cannot find this gum anywhere i am very glad to have found it through you',\n",
              " 'eight of the clock coffee has to be the cheapest whole bean coffee on amazon and while you are sacrificing quality for price you are not sacrificing too much if you are looking for something especially good this is not the coffee for you but it is a nice backup coffee that you will not make you feel like you are money was wasted my biggest problem is that with the large size the coffee begins to go stale towards the end of the bag but then again most of the coffee you find at the grocery store comes stale anyways so it is better than nothing',\n",
              " 'this is an entirely satisfactory product sure it is not the same as fresh chicken hey it is not fresh chicken it is low salt and in a can what is not to like i use a can or so daily in omlettes or mixed with vegetables as a source of low salt protein that does not require much effort can be eaten cold etc yup i am a man not young and not interested in fancy home meals just something quick and easy which does the job which this does entirely satisfactory for my purposes',\n",
              " 'if you like kahlua this is a great coffee the aroma is wonderful as it brews and the flavor is mild not overpowering',\n",
              " 'I have tried both the black tea and green tea flavors they are both really good i just mix them with warm or hot water and add a bit of sugar syrup honey or sweetened condensed milk because i like mine a little sweeter',\n",
              " 'i love espresso the stronger the better i was pleasantly surprised at the rich taste and strong flavor that this illy drink possesses it is not like the usual bottled or canned coffee drink it tastes like it just came out of the espresso machine there is a slight sweetness but just a touch so as to make the drink not bitter if you can not get to a real espresso stand then i highly recommend this drink as a good substitution',\n",
              " 'my cat has been eating this food since he was a month old and is now a sleek highly active and brilliantly healthy 6 monthold i have never seen a shinier coat on a cat he is active interested talkative and very playfuli checked carefully to ensure that my cat would be getting all the nutrients he requires from a vegan product and evolutions certifications were soundi feed him on demand with a handful of the food as required i am quite happy handling the food knowing that there are no questionable animal products and other undesirable ingredients that could also sicken me the food smells great and he loves iti transitioned him from a standard dry kitten food and he was initially reluctant i had been feeding him the evolution food after soaking it in a little water but after i stopped wetting it he immediately switched fullyeven if you yourself are not a vegetarian this food makes sense on all levels you are guaranteed of high quality ingredients without the horrific waste meat and other byproducts in standard pet foods evolution itself is healthy to handle and keep in the house and of course cats thrive on it',\n",
              " 'when my female cat came down wpancreatitis a few years ago to the tune of 1000 i started researching what her diet should include my vet wanted her on canned food that was low in carbs but gracie did not care for it the prescription brand i was buying at the vet also i noticed on the can that corn was an ingredient i asked her about this considering corn is a sugary veggie and she also wanted gracie to lose about 34 lbs she told me that the main idea was to have her eat a canned food that was 8 or less in carbohydrates in a dry state that means they take the food dry it out and get the true percentages of carbs etcwhen i did some research on the web about pancreatitus in cats i found that grain in cat food can bring on andor aggravate the condition i read many articles that explained that cats do not need grain in their diet pet food manufacturers put it in there because it sounds good to us the pet owners when we read that the food contains brown rice etc but what is good for us as we all know is not always good for themi looked at many companies that made grainfree food and was very impressed wwellness they have many varieties that are grainfree when i called them to get the percentage of carbs in a dry matter basis they were prepared and quick to answer wout having to transfer me 10 timesthe food is not inexpensive but my cat really likes it this bout wpancreatitis occured about 4 years ago she has been on wellness ever since and is in excellent health she is now 14 yrs oldi highly endorse this product if i get another cat someday i will feed her grainfree food from kittenhoodbtw they also make grainfree dry food but i have not tried itgood luckallie',\n",
              " 'i have two large dogs one a yellow lab and the other a labdalmation mix both of these were on prescription foodsnot the same so quite costly one had been treated for bladder stones the other had pancreatitis i tried wellness and they have both never looked so goodand been so healthy no recurring health problems which were a constant worry and the best part they know can eat the same mixterri waugiedustys mom',\n",
              " 'this is a great price for a case of 6 these are the best crackers and they do not have a low fat taste at all this crackers are great for people who want cheese crackers but are watching their weight luv emto',\n",
              " 'my irish setter eats this treat slowly and it is the perfect fit for her my lab gets the braided stick because he is more aggressive with his treats the setter gets one each evening and is very satisfied with it worth the money i pay for this product',\n",
              " 'until i tried double black mountain starbucks sumatra was my favorite coffeeno more this is a wonderfully bold coffee without bitterness it makes a great mocha i look forward to my daily fix',\n",
              " 'an incredible coffee that is a sweet treat on it is own combine a fresh brewed cup with some half half a dash of splenda or sugar and chill in the fridge it is a seriously chocolate delight turns an ordinary cup of joe into a yummy adult hot chocolatesometimes it is the first thing i think of when my beedy leetle eyes pop open in the morning smooth smooth smooth great in the winter when you know you have got to shovel snow great in the summer for a quick cool pickmeup in the afternoonget ya some d',\n",
              " 'i am very disappointed in this tea and wish i could return it I have brewed two pots so far just to make sure but this tea does not taste like russian caravan tea i went to davidsons website and found the reason why they apparently do not use lapsang souchong in this tea i understand actual russian caravan tea to be a combination of lapsang souchong and assam teas this one claims to be a combination of assam and sri lankan teas typically sri lanka produces ceylon teas whereas lapsang souchong is produced in china at any rate this tea does not have the strong smokey flavor that is associated with russian caravan tea and one of the previous reviewers was correct in stating that it is bitter no matter how you brew it it is a real shame too because i was very happy that this tea is organic',\n",
              " 'love this coffee will buy over and over again you can not beat amazons price with free shipping',\n",
              " 'i have used alessi decaffenated caffeexpresso for years it is sometimes difficult to find at local gracery stores and specility coffee stores are far too expensive it makes great expresso and excellent caffe latte the price on amazon is excellent i buy it in a pack of six and price is even better',\n",
              " 'a excellent plant from a reputable seller includes a care guide everyone must read beautiful deep violet blooms about the size of a yous 5 cent piece beautiful but not delicate mine has caught three decent size flies already very pleased',\n",
              " 'my dog can not have chicken and she loves this beef flavor you can see the veggies in it and it does not smell bad',\n",
              " 'got these for boyfriend he loves them they are huge cookies totally yummy he loved them so much i just ordered him some more',\n",
              " 'i love celestial seasonings tea and having the chest is a great addition to my household i would definitely purchase again would love to find refills for the chest',\n",
              " 'our cats really love these treats if you just pick up the bag you have any within hearing distance there to share',\n",
              " 'this is the finest kona coffee in the work in my estimation smooth and rich with a finish that just makes you want more truly a wonderful coffee experience',\n",
              " 'this juice does its magic i recently read that this juice helps fight some cancer helps with arthritis and helps you rest better at night and i personally purchased this for the sleep and it works it is source and almost tastes like wine but i enjoy it very well and my family enjoys it too just went through one bottle in a week and I am sure we will purchase more of this in the futurehighly recommend buying this juice very quick delivery and packaged neatly thanks',\n",
              " 'these red beans are excellent i grew up in louisiana near new orleans and occasionally cook my own red beans these are every bit as good and a whole lot quicker i usually fry up some sliced pork sausage i like the hillshire farms kielbasa or hot links in a skillet drain the excess grease and then add the sausage to a pot of the beans serve over rice for a delicious quick and easy meal big thumbs up',\n",
              " 'vendor provided quick service and a fresh product packaged securely the o boy oberto cocktail pep tasted just the way i remembered',\n",
              " 'i have purchased this sweetener for the second time now i do not use it all the time or on everything but i use it often enough esp when i am trying to cut back on agave or other high glycemic sweeteners its flavor does not always work with coffee but it does if you also add a bit of the usual sweetener you use it works well on yogurt hot cereal cold cereal hot chocolate milk home made it is concentrated ergo economical but i find i use more of it after i get used to the taste again on cereal i sometimes go up to almost a dropper full esp with cinnamon or pumpkin spices which blend well with this sweetener i like the idea that i am cutting back on sugar and also the vanilla flavor improves the stevia taste for an unaccostumed palate saying one gets used to the stevia flavor is very subjective as even for me there are days i just do not want this taste and others i am ok with it again my method to use it except on hot cereal and yogurt where it works fine is to add just a little of another sweetener or conversely support the overall sweetness of a liquid drink with about three drops of this stevia mix when i want to cut back on sugary type sweeteners the tongue experiences different sweeteners in various ways and i just like to have this on hand always as inevitably i use it either with another sweetener or straight with cinnamon type spices be careful to start with very little it gets very intense and off flavor fast and if you just dose it right it will taste fine less is more you can always add a drop at a time as needed once you find your approximate dose mine is like three drops in liquids max or the flavors just go south for me and a half dropper on solid foods but i do like my things pretty sweet with proper experimentation and without instant rejection of the flavors mostly due to using too much product this can become a staple in your home too',\n",
              " 'these are the same thing as pasailla chilis and are readily available at my local grocery store why i bought them here i have yet to figure out great to cook with and flavor sauces and meats with',\n",
              " 'my cat loves these treats if ever i can not find her in the house i just pop the top and she bolts out of wherever she was hiding to come get a treat she does not like crunchy treats much so these are perfect for her I have given her all three flavors and she seems to like them all equally they do tend to dry out by the time i near the end of the bottle however the fliptop lid is very handy very nice inexpensive kitty treats i have yet to meet a cat that does not just love these',\n",
              " 'my dog loves these treats and they really have helped her arthritis i have reordered i have tried some items from the local pet stores but nothing she likes as well and that works as well too',\n",
              " 'shipper sent this to me promptly it was well packaged and very fresh this is great tasting tea with a nice minty flavor i would definitely recommend this to a friend',\n",
              " 'I have never been a dark chocolate fan i need either the extreme sweetness of milk or some other intense flavors to catch my interest this one does the latter very very tasty with a few different flavor notes great for your chocolate stash i picked mine up at walgreens',\n",
              " 'are these the chocolate twizzlers made from real hersheys chocolate I am looking for the old chocolate twizzlers from before hersheys screwed up the recipe',\n",
              " 'we buy these cookies in bulk to save a little money and so that we always have a stockpile of safe treats for our son who is allergic to eggs dairy is gluten and a whole host of other things he loves them and they are the perfect tool for bribing him to eat all of his dinner and assisting with toilet trainingthey are softbaked and taste great it is nice for him to be able to have a little treat without having to resort to baking absolutely everything yourself the fact that they are baked in a gluten free nut free facility also reassures on any crosscontamination concerns i wish there were more products out there like this',\n",
              " 'this product is delicious i bought it to make my own hemp milk with but it is also good to eat straight out of the bag with a spoon the options for how you can use this product are limitless it is really hard to believe something so natural and delicious is illegal to grow in this country',\n",
              " 'yummy yummy is all i can say about these caramels 5 out of 6 in my family love them hubby is not a candy fan these are not your traditional chewy caramel squares we are all used to if your up for a change in your creamy caramel you will be pleasantly pleased these are crumbly as their name states and do not stick to your teeth makes it easy to power them down so be warned',\n",
              " 'for starters i am a coffee lover i have my own behmor coffee roaster and everything from columbian to ethiopian green coffee that i roast and drink regularly i started looking for a good afternoonearly evening tea and prefer english breakfast or earl grey once i came across rishis earl grey i was hooked from opening their container you immediately get a blast of aroma that permeates full of orange pekoe that follows through to the cupi do not want to write a long opinionated review but i believe this is a must try for any black tea drinkers out there you might not be as impressed or in love with rishis earl grey as i am but you will not say it was a waste of money or time',\n",
              " 'my baby loves these and i have actually gotten my 3yo and 5 12 yo to eat these as well they are so nice i just open and give them the pouch and they drink it',\n",
              " 'i love coffee and i love teeccino as a way to scale down my coffee addiction using it with coffee is a pleasurable way to begin doing just that whether or not i choose to go full scale teccino remains to be seen but using it with coffee has actually added to my morning cup of java',\n",
              " 'my dog loves these the only problem that i found my dog is nearly 12 and seems to be developing a sensitive tummy in his old age is that they may not agree with my dogs tummy they are fabulous and if you have a dog with a sensitive tummy but do not need to use them more than once a day and can use the smaller size you would probably be ok the pills that my dog is taking are large joint pills which require the larger size pill pocket and he takes them twice a day i stress that this is a maybe just something to consider before you buy if you have a dog with a sensitive stomach',\n",
              " '1st the sliced variety she loves it then the grilled seafood variety kitty bliss now her 1st delights flavor turkey cheese licked the plate clean as with the others my baby can not get enough of this fancy feast so I am off 2 choose another flavor 4 her i am her more than willing slave 4 life afterall 4 paws up ps ordered these wednesday night received friday morning fastest delivery to be had',\n",
              " 'just like in the store for a fraction of the price i purchased this to refill my expensive pink salt grinder a million times better than table salt i do not know if it tastes any different from regular table salt but i think there is something about the shape of the crystals that changes the way the salt hits your tongue if you have a good grinder i highly recommend checking this stuff out',\n",
              " 'green mountain dark magic is one of my favorite keurig pods i make the big cup add 14 c skim milk 14 sugar free vanilla coffee mate 1 sweet and low and it is still strong but delishmy version of a latte and the price is great a friend warned me to check the expiration datemine had plenty of time left all is good in my coffee world',\n",
              " 'based on other reiviews i purchased this creamer i loved the idea of no refridgeration it tastes great but not exactly like the refrigerated liquid version it will do untill i use it up but i will not purchase it againi am very picky about my morning coffee',\n",
              " 'i am very pleased with my recent purchase of tullys kona coffee it has a smooth taste and a wonderful flavor it is one of my favorites and I will definitely buy it again i enjoy it so much i even hide the kcup pods from my husband so he can not find them leaving more for me heehee o',\n",
              " 'we bought this to replace our cafe escapes dark chocolate cocoa they are less expensive but you get what you pay for this cocoa is watery brown sugar water with an aftertaste i do not recommend itgrove square hot cocoa cups darksingle serve cup for keurig kcup brewers 24count',\n",
              " 'i bought the holiday pack for my wife and the french toast stood out above the rest i personally do not drink coffee but i can tell you it smells great she adds milk and whit hot chocolate from safeways to it and says it is delicious',\n",
              " 'in my search for instant java fix i have sampled french german italian us israeli turkish produced instant coffees and this is by far the best instant coffee i have tasted the reason it does not taste instant rather it tastes like a freshly brewed dark strong rich cup of real coffee for a less potent taste packets should be used in ventisized cups or rationed for more than one regular cup this is an excellent product',\n",
              " 'the mykap kaps have worked well for usremoving the top from the used kkup has been more difficult than using the kapit has taken several attempts to adjust the amount of coffee to the correct level for a particular brand and grind we have had no leaks or blowouts i like them for favorite blends not available in kcups i recommend them',\n",
              " 'normally i just do not like powdered drink mixes but these are really good the package says that half a packet is for 16 ounces of water and has two servings per packeti used them in 32oz of water the first time however it was sweet enough that i cut back to a little more than half a packet for 32oz and it still had a nice sweetnessit is a great product and i would purchase it without any reservation',\n",
              " 'though i do not know if this particular one is recalledbut i just thought I would try to give a heads upso this is not a true review about this products features per saybut i feel that everyone needs to know that this company has recalled their products and it is going on right nowto begin with i want to say that i know that unfortunately there are plenty of human products that get recalled too and that is the most important thing and yes i know that every time we go eat out or buy any type of store bought food that it is a gamble toobut my family considers our dogs as part of the family and this is very important toomany years ago i did research to find the best priced grain freeno dye or by product foodi found that some of the food made by diamond pet foods had the first ingredient as being the actual real meatplusthe grain free ones made my baby girl look so healthy and shinyalsosince it had no fillers and quality ingredients it actually made her stool smaller and less stinkyshe has less allergies and it stopped most of her constant itchingbitinglicking at her paws and less tear stainsshe actually loved the product by the same maker named taste of the wild in bison the mostbuti am saddened now because diamond dog food has now been recalled for salmonella contaminationthis company makes various products that have been recalledsuch asdiamond naturals wellness natural balance taste of the wild apex chicken soup soul canidae country value 4health natural balance kirkland signature natural balance premium edge professional and solid goldi am saddened that we actually spend more money on these better than store dog food and they keep getting recalledso many families have unfortunately lost their fur babies babies and have spent thousands of dollars on vet billswhen all we are trying to do is buying the better which are higher priced dog food ingredientsi am pretty thankful that i had signed up onlinefor emails about the latest dog food recalls last weekmy hubby and i was devastated to see that diamond dog foods taste of the wild was on the list nowi am sickened by these companies being so careless when the reason we buy their higher priced food is cuz they are suppose to be healthieri just wanted to write this and try to stop another baby from getting sick or even worse dying',\n",
              " 'i keep this on hand for the young at heart we enjoy a cup almost every night good taste will buy again',\n",
              " 'again my order showed up well before the expected delivery date love it because it makes me happy not to have to deal with trying to find this dog food in a large quantity plus i do not have to deal with car and foot traffic especiall when it is over 100 in june thank youkeep up the good work',\n",
              " 'hello i rarely write reviews on amazon but i wanted to offer my viewpoint on this in the hopes that you will pick monin over the other banana coffee syrupsduring a biannual visit to a cafe in portland maine breaking new grounds on 11 essex i tried an interesting concoction a mocha with banana i really thought it was incredible heck caffeine chocolate and banana i had twothen i drove back home near boston and decided to order mocha with two shots of banana at the local coffee shops unfortunately starbucks does not have banana nor does a local hip cafe the diesel i tried my old favorite 1369 but their syrup brand tasted like fake bananas something similar to those chewy now n later candiesmy wife read up on some syrups and surprised me with a large bottle of monin banana for xmasit is really good it tastes like real banana and I would bet it actually is in some really concentrated gourmet formnow I am the guy who totes a big bottle of the stuff into starbucks now and then shares some with the dudes behind the counter and I am good to gotry moning',\n",
              " 'i love love love this one one of my favorite flavors ever it inspired me to order a mixed holiday collection before they are all gone',\n",
              " 'the boxes arrived on time and in good shape the sugar is very good they even enclosed a sample teabag i will definitevly order from them again',\n",
              " 'i have always heard of vegemite from people and a song that mentions it i decide to order some and try it it actually taste pretty good I have tried it on crackers and on toast i give it 2 thumbs up',\n",
              " 'I have eaten one of these each morning for the last few weeks and i have found that for the most part they keep me satisfied until at least close to lunch time might be hungry the last hour or sothe chocolate chip is my preferred flavor amongst the ones I have tried the taste is close to a candy bar and the texture makes you feel like you are eating something relatively substantial some of the other breakfast bars I have eaten try to go light on calories and end up being either dense and small or very airy and you do not seem to be chewing much of anything i think these have found a better balanceif i had one negative comment about them it might be that they are almost a touch too tempting if I am on a restricted calorie diet i always find that my will power is lowest late at night and early in the morning really whenever I am tired and sometimes having just one bar for breakfast is difficult and i find myself nearly running out the door to avoid having another if you find yourself in the same boat and are trying to control your calorie intake it might be helpful to have something less tempting on hand if not these are a pretty good breakfast option that can help to control your appetite and get you to lunch with your calorie deficit intactconclusionstasty barsgood texture that makes you feel like you are eating something substantialperhaps a bit too tasty if you have trouble having sweets in the house',\n",
              " 'i love kcups they are pretty cool and i like the idea of them but i do not like sacrificing the flavor just for the sake of a cup the tea tastes very watered down for some reason and i am a tea drinker who does not add sugarhoney because i enjoy the natural sweetening properties in the actual herbs but this herbal tea is missing something especially with a name like authentic green tea it is pretty disappointing for the price of these things but I will continue to drink it until i run out',\n",
              " 'I am always in a rush in the morning getting a suit on and a toddler to preschool does not leave much time to eat this shake fits nicely easy to mix tastes awesome and gets me buzzing I am not satisfied through lunch but that expected great product all in all thinking i will add some additional protein tomorrow',\n",
              " 'a little more expensive but cheaper than eating out great for nachos burritos or just plain',\n",
              " 'i love popchips they taste great and they do not have all of the fat that regular chips contain i was introduced to the wonderful world of popchips several months ago and i have not looked at regular chips the same i do not consume copious amounts of potato chips however i do occasionally pack my kids lunch with the salty tubers my family enjoys the popchips so much that i purchased a variety pack of 24 08oz bags from amazon they taste very good and the texture is wonderful although i will admit they are a bit salty i really enjoy the salt and pepper flavor the best with the salt and vinegar coming in a close second make sure you have a large glass of water as you are consuming these popped treats because as i stated before they are quite salty i highly recommend these for individuals who eat potato chips and want a somewhat more healthy alternative',\n",
              " 'i love the little extra crunch you get with kelloggs raisin bran crunch cereal its stays crunchy even in milk til the end i love this cereal and amazon has it at a very good price',\n",
              " 'my husband and me like this producti think it is one the best milk in the marketi recommend this great product to everybody because it is delicious',\n",
              " 'i bought this for my son it is his favorite flavor and amazon is the only place i can get it the price is right and I will be buying it again',\n",
              " 'my dog is allergic to most dog food i have used newmans own dog food for several years now and i am quite happy with it i live in a small town that is 60 miles away from the nearest big city and i am unable to obtain the dog food locally it is a real convenience for me to buy this from amazon and the price is equitable',\n",
              " 'i agree with san diego i return to newmans own time after time after trying several others and there are some other good ones out there deidrichs being one as for sams club yes newmans is less expensive there but we now live twothree hours to the nearest store so amazon is a good second choice as i would spend the difference in gas alone',\n",
              " 'i checked several sites trying to find the ingredient list for this product before i purchased it but could not find it unfortunately this product contains many artificial ingredients and aspartame we made drinks with this once my husband made them before we read the ingredients the taste was pretty good but left that aspartame aftertaste in our mouths if you do not care about your health or putting chemicals in your body then this would be a good product for you wish i could find a more wholesome substitution',\n",
              " 'great purchase very nicely packaged arrival was very fast maybe 2 days after order was placed very clear and concice instructions included could not be happier',\n",
              " 'i love mine i have just about worn it out the lid and bowl have started to not quite line up but still work beautifully and now i can have a steam facial at the same time it makes small enough amounts that the food will not be stuck in the feezer for ever and will still be fresh I have even used it to steam small amonts for everyones dinners instead of dragging out the big steamer my sitter has been using it for her child too and it still keeps pumping out great food as for those that say get a full size steamer then haul out your blender or masher or whatever i do not have room my galley kitchen is the size of a coffin with not much storage or counter space i use my garage for a pantry i love to cook and have just about every imaginable gaget old and new and do not want to go running up and down stairs everytime i want to cook for my daughter this little gadget has a home on my counter and is easily squished into my over stuffed cupboards when needed my daughter is now 15 mos old and am still using it and plan on continuing to use it till it breaks love it',\n",
              " 'tvp is a great way to replace some or all the ground beef in recipes and bobs red mill makes a high quality productmy family loves sloppy joes made with tvp instead of ground beef it is healthier and less expensive can not get better than that',\n",
              " 'after reading the excellent tom mueller book extra virginity extra virginity the sublime and scandalous world of olive oil i decided to explore somereal olive oil far from the supermarket brands I have had for 8 a liter this columela costs 4x as much so i was a bit nervous silly me it is so superior to generic olive oils that i fear I have been ruined for life no longer will i be able to dip my bread in the schlock from the local italian restaurant nay i may need to carry my ownwords of warning this is delicious and you will find yourself using a lot more than you used that garbage before you will also be tempted to pair it with good bread good vegetables and good pasta it may entice you to cook more at home do not taunt columela olive oil it is delicious try some',\n",
              " 'these davids signature beyond gourmet black cherry jelly beans are very good tasting and somewhat on the sweet side the black cherry flavor is very natural tasting but because they are fairly sweet my family enjoys these more than i dothis flavor is from david klein the creator of the famous jelly belly jelly beans so i was thrilled to be offered this in davids signature beyond gourmet jelly beans flavor sampler to review since my family loves jelly beansi also really like that these jelly beans are made with natural flavors and colorshighly recommendedcfh',\n",
              " 'i just saw a rabbit next to the plants that were sprayed 3 weeks agoin the label it is claimed that it works for 90 days well it did not even worked for 21',\n",
              " 'bought these treats for my mothers dogs 3 she has one dog that is very pickyall three love them glad that i found them on amazon',\n",
              " 'since midmay i am on weightwatchers diet need to put whole grains into my diets pasta bread rice etc i used this today in a macaroni salad it said to boil 10 to 12 mins but I would say no more than 10 it cooks quickly and if you overdo it some will split it has 5 grams of fiber per 2oz serving and since I am on a highfiber low fat diet this is very good it has barely no sodium I am used to whole wheat pasta and like that a lot but this one will take a little getting used to not as dense but for my purposes it will do',\n",
              " 'i used this as a pasta sauce and it was pretty good i would not buy it regularly because it is a bit pricey but it made a quick and easy birthday lunch for my little 45 year old brother he liked it a lot',\n",
              " 'is a great product 17 fruits and veggies capsule form gummies for kids and a tasty power mix to make smoothies',\n",
              " 'i have used quality salts for years and have always especially loved the pink salt variety so i ordered this one because it is much cheaper than others out there well this one just does not taste like the pink salts I have had in the past upon tasting i also i realized that this salt is just too pink for me to believe that it is not enhanced in some way I have never seen this salt look that way beforebut hey it is entirely possible that it is truly that color without additivesso i went to the source and wrote the company to find out that was weeks ago and they never bothered to respond so i am assuming they can not back up their claim that it is truly a himalayan pink sea salt what is funny is on every container of salt I have ever purchased there is an ingredients listnot on this one if it is pure then the ingredients will obviously have only one ingredientthe salt but sometimes even in sea salt there is an added anticaking agent added so it will be listed there anyway amazon is wonderful and refunded me for this salt so i will purchase a different brand',\n",
              " '1 walnuts are the most unstable of all nuts while most nuts have a shelf life of a few months walnuts go rancid within just a few weeks of being exposed to air and average 6575 degree temp so if you buy 6 canisters of these and eat an ounce a day to help your cholesterol levels they will last you about 78 weeks which is the longest you should expect them to stay fresh if you want them to last longer freeze them in the unopened containers for up to 4 months and I am guessing that jars or bags of walnuts are just wasted if sent through uspsmilitary mail channels to soldiers in asia it is too hot and too long a trip2 if this product or any other for that matter arrives stale then why are not you calling amazon or the supplier to return them and get your money back this is one of the reasons i try to buy items from amazon that say they are sold and shipped by amazon because amazon stands behind what they sell and I have never had a problem with getting a replacement if something arrives in unsatisfactory condition to all those reviewers whining about stale products grow a pair pick up the phone and stand up for yourselves3 read the reviews and if you do not want seasoned nuts do not buy these not only are they seasoned they also have a little sugar not enough to raise the calories beyond those of raw walnuts but it is a different nut than a fresh cracked walnutif you want raw walnuts buy walnuts in the she willi agree that for internet buying purposes the manufacturer should insist all the contents be listed on every site and should rename the product seasoned dry roasted walnutsthe bottom line is they have an excellent mild seasoned flavor and a very dry dryroasted texture',\n",
              " 'i purchased these for my mom and she loves them she does not like bold coffee flavors but is more into the sweet and more flavorful varieties this one combines the taste of the islands with a smooth nutty flavor amazon had a great price on these and this is something that i can actually recommend',\n",
              " 'i eat a lot of cereal made by kashi but this is by far my favorite in general i do not like shredded wheat products the texture to me is gritty and dry once soaked in milk the regular shredded wheat pillows turn to a mush and are not pleasing however i decided to try kashis cinnamon harvest mostly because of what i saw on the nutrition label imagine my surprise when i bit into a crunch pillow of shredded wheat that encircles a slightly sweet cinnamon center delicious for me they generally do not have time to turn to mush in my bowl because i eat them too fast they have a good level of protein are a great source of fiber and are not too high in sugar i really recommend them to everyone i know who is looking for a great tasting high fiber cereal',\n",
              " 'i use this product a lot especially on grilled steaks i have learned to use it as part of a rub on my steaks I will share what i dofirst i marinate the steaks for 30 minutes in a vacuum foodsaver container but a zip lock bag for 6090 minutes would work the vacuum opens the pores of the meat and let us the marinade better permeate the meat then i pat both sides dry and then add ground sea salt ground black pepper garlic powder onion powder and then i liberally sprinkle emerils southwest essence and then hand pat them all into the meat so they all adhere to the meat then i turn the steaks and do it againmy weber gas grill will always get to at least 600 degrees and in the summer in phoenix i oftern get over 650 degrees with a clean grill i simply place the steaks and close the cover i grill my steaks based solely on time depending on the thickness it will be anywhere from 35 minutes per side usually 335 minutes i open the grill flip the steaks and close the cover again the flip side is usually 30 seconds less than the first side and once the timer goes off i remover the steaks and let them rest if i am grilling asparagus i grill them now while the steaks are resting for a total time of 4 minutesby the time i get back to the kitchen the steaks will be rested and will be medium rarelike i said the emerils spice is perfect for us on this meal and since we do steaks at least once a week in summer we use this product a lot',\n",
              " 'we are still on our first box of this but so far we love this coffee at home we have a senseo coffee machine and we were unsure if it would work for us but it fits perfectly the coffee is organic no artificial ingredients like some of the other ones have including the ones recommended by philips size wise each coffee pod is quite thick i would equate it to 15 times the senseo ones smells and tastes great i am not the biggest coffee drinker but the ladies in the house love ithighly recommended',\n",
              " 'i love all of the cocoa in the stephens gourmet line but i think this one is my favorite the other people in my family have different favorites we all love stephens but we all agree the belgian dark ranks at the top for the best allpurpose drinking cocoai like my cocoa with a little added milk in it and starting out with a good dark cocoa allows me to achieve that milky texture without sacrificing that rich chocolate flavoras an added bonus stephens cocoa is labeled gluten free taking the guesswork out of choosing a cocoa for those of us who must avoid glutencontaining additives such as barley malt a common ingredient in chocolate',\n",
              " 'i have celiac disease and this is by far the best mix we have tried the pancakes are to die for but not only do i think that my whole family loves them even guests i serve them to love them i have made the sour cream coffee cake and it is absolutely wonderful as well as the chocolate chip cookies i will be trying the pumpkin loaf soon i coat our fish and chicken with this mix and they are soooooo yummy it is the best mix',\n",
              " 'we have purchased a lot of the organic milks for car trips train rides and any on the go application they are great because they do not need to be kept cold a great way to offer your child something healthier than a sugary juice',\n",
              " 'have been using senseo for over 4 years and enjoy its flexibility the coffee machine and its flavor the pods now that the grocery stores seem to be dropping the product line ordering through amazon is fast and again flexible with each order',\n",
              " 'after almost 20 years away from rochester ny country sweet is still one of my fondest memories from growing up my friends and i were fortunate to have the restaurant close to our high school you could pour this sauce on a rock and I would bet that someone would eat that rock it is that good hopefully i will not offend anyone when i say that we used to call it crack but it seemed like no matter what time of night it was and they were open until about 3am if my memory is correct there was always a line coming out of country sweet and we would always catch someone walking out grinning saying i got saucenow it is sweet so for those watching their blood sugar this may not be the best choice for the rest of you even those funny eaters like me who will not eat all of the meat off of a chicken wing that will no longer be a problem infact you will have to keep yourself from eating the bones depending on the temperatureit can also have a bit of a kick but the sweetness balances it out it also has just the right amount of tang soooo good i was excited to find some on amazon since i have a niece moving down for college and was considering telling her she could only come if she is bringing the sauce lol hey i said it was addictive',\n",
              " 'love the rawhides my aussie who chews on everything loves these and they last for two to three days she even hides the leftovers in my flowers to find later',\n",
              " 'i was pleased to find this spice through amazon because none of the stores in the area carried it i made many recipes without this spice thinking it would not make much difference now i would not ever leave it out because it comes in a pack of three i shared the great spice and recipes with friendsthe spice arrived in good condition and a timely manner',\n",
              " 'roland feng shui wasabi peas are good tasting crunchy and fresh i only gave them 4 stars because they are not the largest wasabi peas I have had but the deal is pretty good when you consider the cost per bag especially with prime shipping I will buy again',\n",
              " 'i saw the advertisements for these kashi bars on the back of my cereal boxes and knew i had to try themi decided to buy one of each flavors at my local grocery store before i buy a pack of 12 here on amazon in my opinion the chocolate turtle ones are the best tasting and closest to an actually candy barthe toasted pecans on the outside are what makes this bar my favorite and its good for you health wise 6g of fiber and 12g of proteintotal fat 5g 8sat fat 15g 8trans fat 0gcholesterol 0mgsodium 200mg 8potassium 60mg 2total carb 28g 9fiber 6g 24soluble fiber 3ginsoluble fiber 3gsugars 14gprotein 12g 20190 calorieseverything based on a 2000 calorie diet just so you guys know finally no high fructose corn syrup or partially hydrogenated oils can not go wrong my local grocery store charges 179 for each of these so great deal herehope that helps and enjoy',\n",
              " 'i had found a new recipe i wanted to try and i could not find seafood stock anywhere in my town i was so trilled to find it at amazon the cioppino turned out wonderful and have seafood stock in my cupboard to make it more often',\n",
              " 'I am not a huge tea drinker coffee every day but i do enjoy black tea earl grey and chai tea this tea is nice addition i bought it because I would heard good things about it including dr oz recommending it at that point it was a question of which of the many oolongs on amazon do i buy i bought three they are all very similar in flavor require a touch of sweetener for my tastes but are very good they are all a bit subdued in flavor with this one being the lightest I have never had oolong tea in a restaurant so i can not compare to that but i did not find it to taste like dirt',\n",
              " 'i purchased these for our 10 month old twins a while back and they absolutely loved them they are now 13 months and still love them they prefer them over the happymelts even though they like those as well below is my procons listprosboth babies love themthey are overall healthy have less sodium etc than other products of the same type of snacka lot of munchies in each containergreat price on amazon with subscribe saveconsthey are messy as they easily crumble and there are a lot of tiny crumbles in the bottom of the containerthis particular flavor is sort of flavorless to me however my twins seem to disagree with my taste buds',\n",
              " 'i love the plato line of products as they allow me to just mindlessly pick from the line and know that i am feeding something good to my dogs as for smart dog snacks with ginkgo biloba and dhaI would better watch out because my dogs love these treats so much that the treats just may make them smart enough to figure out how to open the treat cabinet take the container down and unscrew the lid to help themselveswhile the treats themselves look like beef jerky they are made with all natural organic ingredients the dogs do not care what is in these treats they just know they love them as i am typing this they are both sitting at attention staring at me and whimpering while trying to do the jedi mind trick of you want to give us more smart dog snacks pick up your hand from that keyboard and reach in the container and hand us more do it do it nowthere is so much junk out there and plenty of junk food that claims to be natural just like people food but this stuff is the real deal much like the food that i feed to the humans in the family i know what each of the ingredients are and love that the first two ingredients are duck and brown rice there are not cost cutting fillers in these treats it is a straight up high quality product as an aside I have bought from the seller the whole healthy pet many times and i am always impressed with the products they carry just as i know that i can trust the plato brand i know that if a product is being carried by the whole healthy pet then it is a high quality product and i feel like a good parent getting it for my dogs',\n",
              " 'the pet food store proprietor told me merrick is humangrade food and i believe it i do not find turducken to be soupy at all and I have bought it many times my own cats and my foster cats love itwhich is true of all merrick canned cat foodi used to use merrick as a treat and regularly feed my cats highquality dry food but my two cats dental hygienist recommended merrick as being one of the best for feline teeth fyi she did not recommend any dry food no matter how highquality because dry cat food must be at least 40 percent carbs in order to be extruded in the factoryand cats need hardly any carbs if any at all carbs accelerate feline plaque formation gingivitis and tooth decay',\n",
              " 'the only lozenges I have found without burning menthol ackkk these soothing drops will not irritate your mouth just tastes like pure honey i have nerve damage that makes my throat and tongue dry and painful and sucking on these drops really helps i order from amazon as i have not found them anywhere local great for sore throats too',\n",
              " 'first of all i have no ties with truvia in fact i decided to replace my truvia recently with stevia in the raw which is why I am now typing this in my grocery store the stevia in the raw was cheaper I would always felt truvia expensive so i was all over thatwhile i personally do not believe the phrase you get what you pay for since sometimes a consumer is only paying for more marketing in a more expensive productin this case it is truei do like the same companys sugar in the raw and i do buy it it is way better than regular sugar being bleached and processed through bone char for realsbut first of all this is not in the raw that would mean it is pure stevia it also contains dextrosehaving formerly worked in food chemical sales i know that dextrose is glucose this is not an artificial additive however diabetes is caused by high levels of glucose in the blood i therefore find it quite scary that this is labeled raw when diabetics may use it or someone wishing to avoid sugar would use it now granted truvia has a fruit sweetener in it as well because stevia is actually so sweet that you would have hardly anything in a pack otherwise because it takes very little stevia to sweeten something but it is not calling itself raw eitherbut let us bypass that and take our sugarstevia packs and move on is the rest the samehuhuhyou get 50 packs of stevia in the raw in a boxyou get 40 packs of truvia in a boxsuperb huhlikely because stevia in the raw was a tiny bit less expensive you will do as i did and think woo hoo i get more for less aw those marketing dogs saw me coming a mile awaynot so fasti kept making my coffee and hating the taste of it bitter i began adding 2 packs of stevia in the raw still not sweet i had just bought a new coffee and i was thinking it must be stronger of something then i found a pack of truvia i had in the drawer and realized how much more was in the pack simply by picking up the pack i added that one pack to my coffee and it tasted finally sweet againso that got me thinkingi go to the stevia in the raw box and look at the net weight of those 50 packetsit is 175 ouncesi then when shopping again pick up a box of truvia and buy it of course because I am tired of coffee tasting unsweetened and for 40 packets it is 49 ounceswoa I have just been had i have to use about 34 of those stevia in the raw packets to equal the taste of one truvia packet because there is next to nothing inside the packetjust as i suspected they gave me more packets with less inside each one so i have to waste paper and time opening packet after packet just for one cup o joeand quite frankly i do not like deceptive marketing and it is going on all over every 175 ounce box of stevia in the rawbut waitone more thingbecause stevia in the raw has sugar in it in glucose form is it really 0 calories for the same amount or just a low amount in one packet but by the time you use 4 how many calories may have snuck inbecause 05 calories can add up too not that i care about 4 calories or 2 calories but in comparing the two products and how little is in a packet of stevia in the rawit would not surprise me',\n",
              " 'my dog loves these treats she is not very discerning when it comes to treats she will eat almost anything i try to be discerning in the foods i feed her though looking at the ingredient list nothing jumps out at me as problematic I am not a vet so i can not evaluate the ingredients scientifically but they appear good to me the treats consist of about 40 protein and 34 fat with other ingredient types including fiber and moisture the treats are freeze dried so they feel dry to the touch and can easily be broken in pieces although expect some crumbling as they are soft the only ingredient i did not recognize on the label is montmorillonite clay after some internet sleuthing it appears to be a natural anticaking agentoverall my dog loves these treats and although I am not a vet none of the ingredients strikes me as unhealthy i feel comfortable feeding these to my dog',\n",
              " 'my cat had a very bad reaction to these treats he loved them but they were like an extreme laxative it took me a while to track down his problem maybe it was the chlorophyll i do not know but if your cat has a sensitive stomach I would be careful with these particular treats',\n",
              " 'got it works great good shipping good price we love it we burned out the last one lol will do busniess again',\n",
              " 'honestly this product sat in my fridge for a couple of weeks before i tried it i was afraid that the taste would be either too sweet or too bizarre and that i would get a reflux flair up what a pleasant surprise i love it the tea is just sweet enough without being cloying and there was no acidic aftertaste i really enjoyed the aloe bits what a cool texture surprise i will definitely buy this product on a regular basis i hope amazon adds it to their subscribe and save program',\n",
              " 'we bought the small toy with the rubber rope for our 19 lb mutt who gets very whiny when he is bored i must say it is the best treat dispensing toy we have given him it is way less noisy than the buster cube and the same amount of treatskibble lasts longer other treat dispensing toys have gotten chewed up quickly and this one has not benji is an easy keeper and does not need much food if we put his morning ration of 14 cup of kibble in the tugajug it takes him about 40 minutes to get it all out and by that time he is panting with exertioni do not recommend this toy for use on bare floors if you are there to supervise as you probably should be the jug itself is very hard plastic and benji could care less about manipulating the rope to get the treats out he simply throws the jug around until food comes out if i were to give him this toy in our kitchen the noise would drive me crazy on our carpeted living room floor the noise is tolerablethe only distraction that works better is a bully stick which of course is silent but they are expensive and i do not like to use them every day alternating them with the tugajug has given us some peace and quiet altogether a good investment in our situation',\n",
              " 'this product is genius their flavors are unique and delicious none of that vinegary stuff it is well carbonated and you can fool any soda drinker but it taste better it is a wonderful product specially if you are vegan and it is trying to get your probiotics from other forms besides vegan yogurt i also love how light and small that can is which makes is very easy to store in your fridge and carry around not for long as it needs to be refrigerated this is my favorite kombucha and even my husband who usually does not like kombucha would go for this one yummy',\n",
              " 'if you love the old sanka instant coffee from years ago than this product is for you however if you are like the rest of us who like a good cup of joe in morning get us going then stay away from this good coffee usually urges you for morethis is crying no more pleasei can not bear the pain much longer absolutely disgusting',\n",
              " 'this is a good albeit unexciting breakfast tea from stash it is made from blended black teas i much prefer stashs organic breakfast tea and stashs irish breakfast tea because both of those have distinctive and pleasurable tastes however there is nothing wrong with stash english breakfast tea and it is a good change from basic orange pekoe tea it can be brewed nice and strong without getting bitter by brewing it longer a sign of a good quality tea recommended especially if you enjoy a simple basic tea',\n",
              " 'the cookie was soft moist and delicious you can tell they are packaged fresh as they do not have that stale taste my kids and i love them they are definitely worth the money',\n",
              " 'my dog loves them i purchased them way cheaper at amazon than at the markettheoretically they have an adequate amount of glucosamine and chondroitinmy dog will not eat the pill even in a ball of peanut butter mjg followup to my review of dogswell happy hips since my original review i have checked this product at consumer lab according to their lab results this product has only 6 of the glucosamine and 14 of the condroitin that it claims do not buy it expecting to help your dog with joint problems mjg',\n",
              " 'switched dog food again the last brand was okay dogs likedate it well enough but we noticed our larger dog seemed to develop some strange skin reaction if you rubbed her fur in certain places she would grimace as if irritated even through there was no visible rash we bought go dry dog food natural grain free endurance formula and i immediately liked it better than the previous stuff it is darker softer and my dogs took to it immediately without any discomfort bloat gas loose stools the good news is that my large dog immediately lost the weird skin discomfort she is totally back to normal my wife had been worried that it was some allergic reaction to some grain in the previous food she must have been right my guess is that dogs will prove more vulnerable to gmo grain grain free may be the only way to go from here on out at least in america where gmo now shows up in everything',\n",
              " 'while my mil was visiting this awesome conditioner came in the mail for me to try out she snatched it up before i even had a chance to try it she just ranted and raved about it and it ended up on the flight back with her her hair was a thinner lightly permed white she is in her 70s and she loved the way it made her hair silky smooth without weighing it downso i tried it as well and i also loved it i have waist long mediumthick blonde hair that is straight and gets greasy really quick but also has a tendency to be dry initially both on ends and scalp and flyaways are popular in my head of hair so i loved how the conditioner eliminated all my fly aways and made my hair more attractive overall plus conditioned my scalp so it did not get as greasy right away i would give it a glowing 5 stars for that but the one thing i was wishing for is that it would be a deeper conditioning for my ends which still seemed like they needed more so i ended up blending it with my other favorite conditioner pantene long lengths replenishing hair mask i use the mask on the ends and halfway up and i use this clear scalp conditioner all over now my hair is perfectly smooth light and moisturized perfectalso i tried a couple different clear scalp types of conditioners and they just did not work the same way as this one so i would highly recommend trying this one if you are going to try any of them to control for dry or flyaway hair',\n",
              " 'i love this flavor of coffee i did realize that with shipping i could have gotten the same coffee a for a little less at the store so will begin purchasing atthe store unless some good deals come up on amazon it was delivered quickly and tastes great',\n",
              " 'my shih tzu absolutely loves these he knows when it is time for bed and he gets his special bone he lays on the bed and smacks in pure bliss i will buy them again and again',\n",
              " 'i buy these from local gas stations all the time i grew up getting tiajuana mamas and fichers red hots from local stores jack links has produced a similar product that i find tastier than anything else i have tried if you like pickeled food with a vinegar taste eggs kosher pickles sausage or most anything you would find in an interstate truckstop you will not be disappointed with these',\n",
              " 'i have been experimenting with half normal half decaf blending for a long time i was looking to make a blend that basically had everything flavor nose robustness and smooth taste after trying 100 combinations we found 50 dark roast hawaiian kona from amazon and 50 medium roast lavazza decaf the best because it is decaf and medium roast lavazza by itself at times might seem a bit flat this is compensated by dark roast hawaiian both coffees have excellent nose flavor and smooth taste a few remaining experiments include jamaican blue mountain and indian mysore gold nugget',\n",
              " 'smooth light roast with surprisingly little acidity a great buy for drinkers on a budget that still want good coffee',\n",
              " 'i think original golean remains the best breakfast choice for anyone on a vegetarian or vegan diet and concerned to obtain sufficient protein particularly if they are tiring of beansit also has sufficient chewiness',\n",
              " 'this is a good product the honey tastes great and it is very convenient and nonmessy my local teavana store was trying to sell this to me for twice the price as amazon so I am pretty sure this is a good buy',\n",
              " 'as with thomas wolfes theme in the novel you can not go home again attempts to relive youthful memories will always fail just as these broadway rolls have for me if you are looking for a very tart strawberry flavor and gummy consistency then this is your kind of licorice if you are looking for the subtle taste and firmer texture of the original delfa roll you had when you were a kid forget it this will disappoint you obviously there was some demand for the company to attempt to bring it back but if they went to the effort to do so how come they didt obtain the recipe patent',\n",
              " 'i found these finally and was quite disappointed they are ok at best nothing like potato chips though',\n",
              " 'i did not expect these to taste just as good as regular pretzels but they do even my husband likes them and he usually turns his nose up at my wheat free foods for the first time i can fix chex mix with these and rice chex and enjoy it along with every one else hurray for gluten free pretzel twists',\n",
              " 'this price is a ripoff check your local sams club and get the same can for 3100 that is over 170 more a year why pay it',\n",
              " 'i love this tea i love it so much i consume pounds of it annually 2 years ago i was diagnosed with stage 4 nonhodgkins lymphoma I am convinced green tea has been an essential part of my recovery',\n",
              " 'i love to bake but it is nice to have some foods on hand for a snack in a pinch my kids loved these soft chocolate almond oatmeal cookies they are individually wrapped for freshness and would be great for packing in a school lunch they were a wee bit skimpy on the chocolate part but they still tasted pretty good i liked how they did not crumble all over the placeyou only get six in a box but they are meant to be a treat afterall i will probably buy again',\n",
              " 'when i first heard about popchips i thought they would end up tasting like either kettle cooked chips or cape cod style chips i was wrong they are light airy and have a great taste to them a note to the makers of popchips however there does need to be better quality control i will randomly get a bag of chips that are for lack of a better description I will say harder than the majority of the batches i buythe salt pepper variety is the flavor i love the most it has a nice kick to it if you are not into heat you might want to stay away from this flavor and stick with my other favorite original otherwise just have a bottle of water nearby i would definitely recommend this for anyone who is a lover of chips',\n",
              " 'i ordered this to supplement my growing supply of dormitory food i really like chef boyardee products for a quick snack so i figured this was the best way to go i was not disappointed of course i have found the sauce to be a little questionable in taste in comparison to regularsized beefaroni but it is not terrible and still edible i definitely think it is a good purchase for those seeking to quickly expand their supplies of food and it was at least to my knowledge cheaper than buying it at the store if you know and love chef boyardee amazon is the way to go for bulk purchases',\n",
              " 'i too thought that back to nature made slight compromises with taste and texture in order to offer only healthy whole grain ingredients in their golden honey oat grahams however i did not find the difference to be any greater than that between perhaps a brandname and a generic unhealthy brand obviously it will depend on your and your familys tastes whether the lesssweet flavor and heavier moredry texture is an acceptable tradeoff in order to choose a healthier product i certainly felt it was close enough that i would let more healthy make the decision',\n",
              " 'nabisco has repackaged its popular honey maid graham crackers in what might be called a snack pack it is just a smaller box to make it easier to snack at home or take with you if you want to snack on the go the product comes in six fresh stacks same value same classic taste i easily finished off two stacks in two days i prefer my graham crackers to have cinamon which these do not just to give it a little extra flavor but these are still the perfect afternoon snacks i recommend washing these down with a big glass of milk which also makes for fun dunking',\n",
              " 'just got this the other day nice sampler coffee from many different countries no blends just beans from the area all of them are good ranging from mild to bold in flavor so there is something for everyone the brazilian is an extra bold gives you a bit more coffee in the cup there was even peruvian i did not know they grew coffee very nice stuff looks like we are getting some more choices now to the green mountain and tullys blends this is good for the consumer more choices and lower prices from competition',\n",
              " 'amazon list this cereal as being certified organic it is not organic the company website only shows 4 of their many cereal products to be organic the use of the word natural means nothing as the ingredients in any natural product may be laced with pesticidesfungicides or hormones and made with genetically modified plantsfruits or vegetables barbaras the corporation is no more concerned about making the world a better place or protecting the environment than any of the other food conglomeratesit always comes down to profits make people think barbaras is synonymous with organic products and then start selling natural products at inflated prices makes for a great profit margin by taking advantage of well intentioned but I will informed consumers',\n",
              " 'i consider myself somewhat of a coffee expert i have tried all types and prices of coffee brewed in every type of container from french presses to drip makers to keurig and pod devices to cappuccino machines most coffee can be made successfully if it is allowed to steep the properly ground coffee beans for the right amount of time at the right temperature assuming you have the temperature and time calibrated right the end product will show its true nature to you in the instance if marley coffee tea one love organic coffee its true nature is quite good it has an earthy exotic african flavor that is bold and strong just the way i like my coffee it makes for a perfect after dinner coffee to be enjoyed with friends and good conversation i took off one star for the price as i feel it is a bit overpriced as sold otherwise enjoy this great coffee',\n",
              " 'okay this may be tmi but here goesi get a bit bloated when i eat wheat so while spelt is a form of wheat it is much easier to digest than white or even whole wheat i can eat this all day and not get bloated at all it is amazing and tasty i love it i thought i would not be able to eat pasta ever again but thankfully i was wrong i love making miso soup and adding the spelt udon to it for breakfast lunch or dinner i even eat it all by itself with nothing added i love it',\n",
              " 'these are so good they almost taste like cake great for picky eaters and they are all natural and gluten free does not get any better',\n",
              " 'ever since i started and finished my hcg diet I have been hooked on this stuff yes it is farr more expensive then buying regular sugar but this is naturalhealthy zero calories and it tastes pretty damn good i wish amazon sold the spoonable tub but hey I am saving like 20 bucks on here i usually have to pay 799 plus tax per 80 count packet box so amazon for now on',\n",
              " 'i bought my mother a fruitcake from the trappist monks for her birthday this year yes we are among the apparent minority that loves fruitcake the cake arrived in very secure packaging right away within 3 days during the week between christmas and new years i asked her if i could have a bite sometime but she ate it all herself i take that as two thumbs up for the flavor she did say the cake was moist and delicious and thanked me many times i should have ordered two this will likely become a birthday tradition in years to come',\n",
              " 'i barely incorporated fiber into my diet so you can imagine how hard it must have been on me i started out eating the fiber one bars boy it was really really harsh on me they tasted a bit dry and somewhat hard to swallow then i saw the fiber plus bars they are so much better softer more chewy and much easier to eat even better because of the huge chocolate flavor and the digestion was not as harsh as the fiber one bars i highly recommend these to fiber starters they are easier to eat than other fiber bars in my opinion',\n",
              " 'i learned about this cheese from an unlikely source mythbusters they theorized that this cheese was used as canon ball ammunition when the real canon balls ran outon a ship during some south american war i can not speak for the cheeses hang time or how it can shred through enemy vessels but it is one darn good tasting cheese',\n",
              " 'it is hard to understand why even the largest branches of the major supermarkets that carry smuckers products do not carry cherry preserves i can understand why they do not have tropical fruits here where the great plains meet the rocky mountains but cherry oh well that is their loss as i now buy it through amazon as their logo states with a name like smuckers it has to be good and sure enough this product is very good i will not hesitate to try other smuckers brand itemstribi',\n",
              " 'this is my favorite of the wide varieties of teas i have it has a strong but not harsh and definitely not a wimpy herbal tea excellent flavor for a cup of perfect hot tea in the summer i use 3 peach tea 3 regular black or green tea bags in my ice tea maker for extremely refreshing great flavored ice tea some other teas i have tried are a bit too sweet not this i do not think you could be disappointed in this choice',\n",
              " 'love the sea salt butter went to buy it today but the market was out bought a famous french gourmet one instead vermont is waaaay better i am surprised wish they sold it in bigger containers',\n",
              " 'sometimes more is not better in this instance however double the bergamot is far superior to regular earl grey tea stash found a good balance and actually improved on what a basically good thing earl grey tea if you have not tried this i highly recommend it you will never look at tea the same again',\n",
              " 'at 900 pm each night my cats remind me that they have not yet had their whisker lickins treats i dread the day that i run out so i always have 10 packs in the cabinet',\n",
              " 'the v8 brand caught my eye and raised my expectations they have a reputation for quality products so even without detailed pictures of both the front and back labels or the having ingredients listed on this products description i purchased this item when it arrived i was very disappointed because this product contains only 10 juicethis flavored beverage is a juice drink in my estimation and an expensive one at that the first two ingredients are water high fructose corn syrupI am so confused about what actually is considered juice juice cocktail juice drink flavored water andor how much juice is really in each of them the consumer is at the short end of this confusion and this deal in particular',\n",
              " 'I have yet to run into a product where after sampling I am asked to go buy more for the office multiple months later add to that the boderline health benefits that come from the dark chocolate and fuit filling and you have the best of both worlds the tartness of the fruit begins to overpower much of the flavor later so you can not have more than a small handful but they are so rich you will not want to anyway',\n",
              " 'yeast for bread machines is so expensive in the retail stores 8 for a jar amazon has the best value on the internet yeast had a great expiry date too 112010 I will use it all in easily in the next two years',\n",
              " 'i love blue diamond almonds and this bold flavor gives you a spicy hot choice for a snack they are rich in vitamin e magnesium and calcium while only being 170 calories for one serving they also add 3 grams of dietary fiber to your diet and 6 grams of protein while only adding 2 grams of sugarthey do contain 15 grams of fat but only 1 gram of saturated fat and 0 grams of trans fat mostly they are the good stuff if you want a quick snack that is high in protein and low in sugar and sodium these are pretty good and spicywhile there are other flavors that i like more this one is still very good just remember they are addictive so you only get one serving',\n",
              " 'great tasting and good and hot simple to make and useso glad i found it and loving it on all sorts of dishesif you like horseradish and or wasabi this is for you enjoy',\n",
              " 'i know little about salt but wanted to upgrade from average table salt i am happy with this i enjoy using it on food and also as a mouth rinse with water while i am not qualified to attest to the quality of this salt i feel good having it in my kitchen and will definitely repurchase there is something about himalayan salt that makes me confident having it',\n",
              " 'this and the pomegranate are the best flavors it has light carbonation but it is packed with flavor the only negative point is it being 90 calories that may not sit well with some dieters',\n",
              " 'our local stores rarely have this on the shelf i prefer these to other pretzels because they are not too salty',\n",
              " 'i was fooled by the san marzano label and bought 2 cans only to later find out san marzano is a region and the authentic canned san marzanos say dop and have the 3 stamps the real san marzano tomatoes do not contain citric acid',\n",
              " 'i am a professor and associate dean at a local college so my days are typically long and i rarely have time to make or buy food usually i will grab a frozen meal to throw in the microwave at work but this is not ideal becausewellwe all know the good and bad of frozen meals so when i saw that there was another option i became extremely excited i grabbed one of these meals and brought it to work it is perfect there are specific instructions on how long to microwave and what to microwave when you follow the instructions it is a really good meal i will not say that it tastes exactly like when i make pasta at home but it is definitely a better option than your typical frozen meals',\n",
              " 'i have been beyond thrilled with these products palouse grows great products and the flavor is there to prove it i agree that you need to wash them well but that is true for any bean i have not tried sprouting them so i can not attest to that aspect great price great product',\n",
              " 'we get the regular and the petite for after meal or instead of meal treats brutus and popeye review this product at 12 out of 10 until we tried greenies brutus turned his nose up on almost everything we gave him now he has something he really enjoys popeye on the other hand is a different story he would eat the box so we can not use him as a judge',\n",
              " 'shipped in plastic jar it did not describe that in the details all organic everything natural and then in plastic jar really that is great disappointed',\n",
              " 'to begin with i am a vegetarian and do not have eggs my review will be in 2 parts1 for the seller when i received my first package it was damaged and the product spilled on raising a complaint i was promptly provided a replacement and the overall service was courteous full marks to vitacost2 for the product energ egg replacer is a blessing for all those who do not eat or bake eggs i have already used it for chocolate cookies and cake and the results are far superior than anything else i have used so far definitely recommend this product',\n",
              " 'i am not a green tea expert i bought this green tea powder because of the health benefits I would experienced on my blood sugar with green tea leaves in bags the green tea powder is supposed to provide even greater results higher egcg i make a glass of this every morning with 8 oz water and a little lemon i mix it in a shaker bottle and then pour it over ice it lowers my blood sugar by ten points every time you can read the reasons for this by searching online i also use it around meals either before or after or both for the same reason it moderates my blood sugar and prevents me from feeling drowsy after meals',\n",
              " 'too mild and I am not sure that it tastes of pecans at all we ended up mixing with stronger dark beans to give it some heft but that does not make me want this again the price is good esp given the rising price of coffee beans but we will not reorder this one',\n",
              " 'nothing copares to the great taste and ease of use for the microwaveable campbell creamy tomato soup bowl there are healthier tomato soups but having to open cans instead of this poptop lid is inconvenient and healthier is not always as tasty also good portion control with the soup bowl size',\n",
              " 'we have been enjoying this tea at various panera restaurants i googled online to see if we could purchase some and amazon came up with carrying this fine product the tea arrived as promised and was exactly what we had expected thank you',\n",
              " 'as coffee in a can goes this is pretty darn good stuff the flavor is smooth with a slight creaminess and there is absolutely no bitterness it does not exactly taste like a hot cappuccino or even an iced one from a coffee shop but it is still definitely coffee there was more sweetener in this than i prefer and i found it to be a touch too sweet still for coffee in a can this is probably about as good as it gets no weird aftertaste and no strange flavors',\n",
              " 'i like the spearmint taste to it and it does work it helps relax you before bedtime',\n",
              " 'i purchase another 1980s box and was very disappointed this retro candy box is awesome it was packaged well and it had a lot of merchandise',\n",
              " 'charms blow pops cherry lollipops 48 lollipopsboxnot much to say about charms blow pops cherry lollipops they taste great and if you eat one a day like i do you have a mouths supply win i got them i counted them it had 49 one extra in it great buy',\n",
              " 'oh how i hate to buy dog food lugging it into my basket into the car out of the car hunt down the scissors or find a screw driver and rip that bad boy open where bugs will get in it or lift the whole heavy thing into a container this great new bag has a zipper on top and when i saw that i was happy wow i unzipped it and the bag unsealed and i did not even need to pick the heavy ole thing to dump into the ice chest because i can get what i need and viola zipped that puppy right up that alone is something to look for if you lost several pairs of scissors in the garageas to the food itself I have always felt good about beneful it is colorful and smells good and my two rescued country dogs are not too picky spikes wolfs down anything you put in front of him and looks at baxters bowl with lust baxter is a slower eater and we usually have to watch him to make sure he eats it all or empty it back into the container this time baxter ate it right up quickly and no extra to empty outthe price may be a little higher than the grocery store but i am a prime member and having it delivered to my door is a huge plus',\n",
              " 'i am one of the weird people who actually like instant coffee better than fresh brewed in most cases so these are a winner for me very convenient and inexpensive in the long run in that you only use what you need how many pots of coffee have you dumped out this pkg seemed to be one of the better values for anyone who needs a quick single cup of coffee can not be beatthumbs up',\n",
              " 'in a word this matcha is yummybut you probably want more than one word so i will add a few morei love the sweet delicious creaminess of this flavored matcha sure i prefer unflavored matcha most of the time but sometimes i want to change things up a bit and i love the selection of flavors that red leaf tea offers and the flavors are amazingly good this would make a great dessert substitute that is so delicious that you will forget that it is quite good for you tooreally and truly yummy if you like caramel and you like matcha you are in for a treat with this if you are new to matcha this would be a really good starting point too then again this is so delicious it might be difficult to try something else if you start hereyum',\n",
              " 'well i was not bright when i ordered this coffee and for some reason i thought it came in both single servings and pods i had to tear the pods open and use just the coffee and that way it is excellent coffee rich and dark i really like the flavor my only complaint is no they are not easy to open packets i have to use scissors and really does it need all that wasteful packaging but the coffee itself is very good though i do not know all the fancy words for describing coffee i like strong flavor with caffeine usually choosing medium roasts and this fits the bill',\n",
              " 'i have three king charles cavalier spaniels and they are picky picky eaters even when it comes to treats they love the peanut flavored booda bones and have one every day they insisted i write this review on amazon so their opinions could be known they are pushy that way',\n",
              " 'i had been trying to find these for quite awhile and i was so excited to find them here on amazon what a mistakei was so disappointed to find that they are horribly stale a bag does not normally last too long when they are fresh but i can not even eat these save your money',\n",
              " 'these individually wrapped slim jims make great snacks for hungry kids toss a few in your purse and you have a portable filling treat while you are out with the kids my kids love them and ask for them over fruit snacks or candy',\n",
              " 'the coffee drawer is the perfect pedestal to showcase your keurig brewer i gifted the drawer filled with 42 kcups to 3 close friendsfamily members and they absolutely loved it the packaging says it fits 36 kcups but you can fit 42 if you alternate kcups rightside up upside down in each row kcups are easy to access and you can get your morning joe even faster love this the seller also had a good price and shipped quickly',\n",
              " 'this is a package of about 16 individually wrapped cookies with a very slight hint of green tea ice cream taste the cookies are best heated in a microwave being individually wrapped makes them handy for things like office snack area or any other communal snack environment where food qualitysafety is required they are a little on the pricey side compared to other cookies and the cookies are only about 4cm or 1 inch big so many westerners may be surprised by this when ordering the product i am writing this review while on business in japan and have just purchased a box of these cookies the retail price was somewhere in the 300 yen range making it about 4 dollars us i enjoyed them but they are a little too expensive to purchase on a regular basis',\n",
              " 'these are surprisingly good considering how much fiber they have these brownies have 20 of your daily fiber they are sweet but a little on the dry side the fudge brownies are a little more moist than these but are not as easy to pick up especially in bulk like others have said shop around and you will find it cheaper than here for the price amazon is charging it really should be a pack of 3 of these boxes i paid seven ninetyeight at a local sams club for one box of 24ct to give you an ideai would recommend these to anyone trying to get a little healthier of a snack and add more fiber to your diet',\n",
              " 'my 3 maltese love these and zukes are not made in china after purchasing chicken treats from another company that was importing it is product from china and having my dogs become I will i went on the hunt for a treat made in the usa I am happy to report that we have not had any more episodes of vomiting or diarrhea since i started feeding zukes zfilets to my pups great product',\n",
              " 'i have used coombs family farms 100 maple sugar for quite a while now an it is so great as a replacement for white sugar I have used it in cookies and replaced it for the regular sugar in my sweet potato casserole at thanksgiving i like knowing that I have made better choices for the food that I am feeding my family you can not tell the difference except that it does not send you on a sugar high the price was great and was delivered in a timely matter also',\n",
              " 'for the last 15 years figiscom has provided our family with what I have always thought was the best summer sausage available todaythis christmas i was given a 20 ounce package of old wisconsin original summer garlic sausage without even opening it i already made up my mind that if it is not a figis product it will not measure upboy was i wrong i can not believe the quality of this summer sausage the taste is one that cannot be described you will just have to try it yourselfoff to order more',\n",
              " 'very dirty make sure you use plenty of water to clean them flys and all types of stuff in it it takes about 20 mins to cook if the water is cloudy and you see black things floating to top keep rinsing also be careful of little stones',\n",
              " 'green mountain has never let me down as far as taste always delicious this flavor is a particular favorite a must have staple in our office',\n",
              " 'i love redvines and i love grape flavored candies so when i saw they also made grapevines which stores in my area do not carry i was completely on board in theory i think these could be good their flavor actually tastes pretty much like grape kool aid from what i could tell its just that arrived very very stale i know the trick about microwaving stale redvines to refresh them however when i open the box the day i order a product and they are already so stale you can hardly chew them it is very disappointing these would probably have been good fresh and were okay definitely not craveable with a little microwave boost but they should have arrived fresh yucki guess i should have known better than to order a somewhat obscure product on amazon i will not be buying these or likely any other candy on amazon again it is not worth the very likely chance that it will come stale so disappointing',\n",
              " 'i tried this product for mainly breath freshening and it worked very well i have a 2 year old labpit mix and she loves them and makes her breath instantly better i tried many other products but this seemed to work best',\n",
              " 'i write very few reviews but this product changed my life i have suffered from constipation all my life and i started to drink this daily as a friend recommended this for me to try what a life changer if i do not drink it for a few days i go right back to being constipated this is a product i can never be withouti recommended this to a friend and a few months when i saw her she said that she recommended this to all her friends and they all started to lose weight and my friend lost 30lbs only drinking this eating clean and working out a few days a week you have to try this product i cannot say enough good things about it',\n",
              " 'my daughter loves puffs and when i read the review about the strawberries not being organic i was conserned but then i looked on the back and sure enough organic strawberries is listed i am not sure what the other reviewer was looking at my daughter gobbles these up as well as the other flavors we can eat gluten but it is nice to know that there are yummy choices for those who cannot',\n",
              " 'this is become my favorite blend of coffee in the kcup my house used to live on the coffee people donut shop still a decent kcup i bought an 80 pack of newmans own special blend at sams club for 40 just to try it and we were hooked after our 1st cup this is a delicious balance of a darker roast that is not too over powering i would recommend this to anyone 5 stars',\n",
              " 'some reviewers say you can not teabag these pods because the coffee will be week however if you put the pod in a cup pour boiling water over it then set a spoon on top of the pod so it does not float to the top leave it in the cup for about twenty seconds or so then use two spoons and gently squeeze the pod over the coffee cup voila you get a nice rich cup of coffee',\n",
              " 'jack links sweet and hot jerky is the geratest jerky ever iv had a lot of different brands and flavors but nothing compares to the taste and qualty of this jerky i wish walmart still carried the larger bags of it',\n",
              " 'this salt has a great flavor you may have thought all salt was the same but this will surly change your mind',\n",
              " 'the place i adopted my cat from included a case of the holistic select wet food and that is all he is been eating since I have had him for the last three years he is been doing great with the duckchicken and he likes all of the flavors which i rotate with no I will effects i would recommend this brand to anyone that wants to give their cat really nutritious food i refuse to feed my cats the commercial brands due to their questionable content',\n",
              " 'i love blended mochas but can not have them when i diet i use this powder to make my much beloved blended mochas and it does not seem to stall my weight loss efforts i have purchased my 4th can to date and still love the taste it is worth the price to have my treat and still be successful in my dieting efforts thank goodness for big train products',\n",
              " 'my pekingese is remarkably picky about what she eats if it is not up to her tastes she will just spit the food back out and walk away my first week after adopting her was going back and forth between the pet stores trying to find the right food even harder was finding the right treats for her i wanted to stray away from the popular branded stuff that had byproduct in the ingredient list but she also does not have a strong bite so i could get the greenies brandthis is the perfect breath freshener treat that my little dog can actually chew through she is only 14 pounds so i break each bone in half which helps make the bag last alot longer all in all a great treat that picky dogs will love and tiny dogs can bite into if you are dog can bite a carrot they will be fine with this',\n",
              " 'we adopted a neighborhood cat a few months ago she is very nice but had horrible breath even after we started feeding her various special cat foods otherwise great cat but when she would yawn in your lap you had to fight faintingwe took dentabites more for fun since our cat loved other whiskas tempations we tried with her but well thought let us try to see if it really can do anything about her breath after about a week of giving her dentabites we noticed her breath improved and after 2 weeks it was amazing her bad breath is almost completely gone or gone as much as it can without brushing teeth i suppose we did not change anything in her diet at the time so we were pretty sure it was dentabites that did the job also since then we have been feeding her various foods but keep the dentabites snacks and bad breath has not returned one more point to be sure that dentabites really workreally great product just a few treats a day make enormous difference highly recommended',\n",
              " 'this is nowhere near the quality and taste of splendas french vanilla flavors for coffee splenda no calorie sweetener flavor blends for coffee french vanilla 30count boxes pack of 6',\n",
              " 'himy order arrived quickly in good condition the tea is excelent and just the correct strengh for my tastewhich is mild flavored i am able to make two cups from one k cup if i like neither is too strong or weakgood price good taste and great servicegets an aarlie',\n",
              " 'although this is advertized as the exact atkins recipe hope mills bought the right to make it from atkins it is not very bland very tough waffles and pancakes what a ripoff',\n",
              " 'sweet potatopros amazing taste good packaging almost no chips ever broken all full shape great nutrition for such a tasty chip hardly any salt perfect serving in the bagcons hard to open the bagthese chips are now my favorite brand especially these sweet potato ones since the order comes in a big retail box that comes with a count of 24 i gave them to out to friends and coworkers every single person was blown away by the taste ironically every person also commented on how hard it was to open the actual package now the next dilemma is trying to decide should i buy the sweet potato ones since they were so good or try another flavorfor the current asking price it is actually cheaper than buying other branded chips at the store once again these things blew my mind in that chips could be so good',\n",
              " 'item was a good deal the caribou blend coffee is a nice blend not too strong the price was good for the 24 count box less than 80 per cup i will purchase again',\n",
              " 'i love popchips however i did not like this flavor at all the garlic flavor was too intense',\n",
              " 'we have been giving this to our daughter for a few months now she is almost 13 months its so easy for her to hold it softens quite easily in her mouth so its easy for her to chew we buy them by the case and it lasts a while quite affordable and its convenient',\n",
              " 'i have a very picky 95 yr old german shepherd that leaves anything but a milkbone on the floor to collect dust she loved this bone i was amazed to see her crunch it up the large bone so quickly she is always been very well disciplined until these bones arrived at least she went into my pantry and tore the bag open and ate 7 bones she had such a low hung head when i approached her about the issue all i could do was laugh luckily my 4 month old shephard got one before her sister ate the batch i save about 5 ordering the bones on amazon',\n",
              " 'one of my dogs is allergic to almost everything in dog food newmans own for senior dogs makes all the difference in her health',\n",
              " 'searched a while to find a great green tea at the right price and this is it',\n",
              " 'after reading over the reviews for several different coffee brands and flavors i decided to go with gloria jeans hazelnut and i am so pleased that i did the price is far less then what i was paying at the stores the flavor is excellent the boxing and individual kcups arrived in perfect conditioni had read that some did not i am going to set up for the automatic renewal what more can i say it works great for me thanks again amazon',\n",
              " 'one thing great about america is a lot of choices one thing bad about america is a lot of choices how many different kinds of coffee do we need now i have to make another decision when really i just want to enjoy a nice cup of coffee in the morning should it be decaf or regular brewed or instant some of these choices are easy for example instant is never a substitute for brewed coffee starbucks is better than the vending machine at workthese choices i can make in a second now i need to decide about the acid in my coffeei first discovered that coffee had a fairly high acid content when i inadvertently drank a really old cup of coffee at a gas station i think i also discovered acid indigestion i also realize that many people have an acid intolerance from a medical standpoint therefore low acid coffee is a good idea is it good coffee this package was a french dark roast which i felt was extremely flavorful in fact after the first few cups i was actually making the coffee somewhat weaker to suit my taste in no way did the low acid impact a full bodied flavori recommend the coffee regarding flavor however i suggest reviewing the coffee on puroaasts website to discover the real ingredients and acid percentages the package seem to give no details except for the statement now you can drink coffee again',\n",
              " 'we fell in love with kahlua coffee years ago another company supplied the flavor and kahlua apparently told them they were in violation of trademark laws or maybe they pulled the license at any rate we have searched all over for years for the same flavor ordering similar but not quite as good products from others recently we discovered a bag of kahlua original and it was great authentic kahlua taste what is not to like coffeeflavoredliqueurflavoredcoffee equals coffee only better we never tire of the taste like we do with other flavors we can not drink hazlenut coffee anymore then we discovered that white coffee is making it available through amazon we recently received our first shipment and we love it we will be regular customers',\n",
              " 'forget the coconuts indeed this product tastes mostly of sugar if you like that sugary taste you should enjoy thismajor disappointment',\n",
              " 'yup the title says it all my pup loves her new toy and will work on it for an hour or so then fall asleep with itto avoid inserting a new treat disc from becoming a frustrating challenge work one side of the treat into the groove and then push to pop in the other side there is also an interior cavity where you can hide additional treats or kibble for more play or if you decide not to buy additional discseven though the price point of this toy is a bit steep the item is very durable my pup lucy is a chewer and will rip apart firehose toys in no time after a week of chewing and playing with the everlasting treat ball it is still looking as good as new this makes it a winner in my book',\n",
              " 'these gift baskets were great tasting and they shipped very quickly the price was very competitive as well it made a great gift for my grandmother',\n",
              " 'love the taste and convenience of this cereal i travel every week and i being this with to have for breakfast',\n",
              " 'i like it hot or cold and think it is the best food for diabetics amazons price is the cheapest and i will buy again the products nutrition label however may be wrong the sodium is listed as 0 mg how can it be correct since the item includes whole grain oats wheat rye almonds walnuts and flaxseed and all these contain sodium in its natural form',\n",
              " 'i first tried them at jamba juice and have been hooked ever since they are light very tasty and have good nutrition specs as chips go i prefer the bbq to the other flavors but salt and vinegar are my 2nd pick',\n",
              " 'splenda sent me this as a sampler in the hazlenut flavor and i really liked it even though i am not a big fan of hazlenut in general i did not know if it was a creamer or just a sweetener but it turned out to just be a sweetener this is great for anyone who likes their coffee black but wants to add some flavor to it it would also be cool if splenda came up with something like this that was a sweetenercreamerlooking forward to trying this in french vanilla',\n",
              " 'i found this in a airport and although it was priced at 299 which i thought was expensive i decided to go ahead and try it it has a very mild taste of spearmint that goes away quickly but leaves you feeling as if you have good breath however spearmint is not something i enjoy tasting outside of gum so i am going to try the chocolate flavor',\n",
              " 'have fed our siberian husky this food since she was old enough to eat solid food and she still eats it just fine and is in beautiful condition',\n",
              " 'it tastes like black licorice to meand it did not help with my breast milk supply maybe it would for someone who would be willing to drink it all day everyday i drank it twice a day',\n",
              " 'i am sorry to say this product does not live up to its positive reviews that are listed lipton makes better ice tea products the worst part about this product is you can not get a refund or even a credit once you have bought it it is yours i did not like the taste or brewing instructions amazon obviously knows something i did not about this productprobably explains why there is not any recourseor refund',\n",
              " 'if you are looking for coconut milk for making curries this is the brand to buy mae ploy brand is highly recommended also do not settle for less please search either of these two out warning shake the can before purchase if it sloshes around like water put it back chaokoh and mae ploy both are uniformly thick and creamy try to find the 195 oz can',\n",
              " 'tastes great this is my kind of productjust add watercan not beat that this is the easiest way to make muffins or a loaf I have even used the mix in my breadmaker on the quick bake setting and made two packages at the same time with great results allows you to have cake any time and especially nice for unexpected company do not need anything but waterbakes in less than 25 minutes even in my convection oven the choc chip is delicious and there are 4 or 5 other flavors impossible to get in the grocery stores i hope amazon keeps offering these',\n",
              " 'I am sitting here switch drink in hand trying to decide how to describe the switch kiwi berry it is lightly carbonated which i like but too sweet for my taste think strawberry candy the mouth feel is quite round and it has some body too it it is made from juice concentrates and carbonated water and there are 135 calories of sugar in the small 8 oz can i would not call it a healthy beverage and whether it is natural or not does not matter to me',\n",
              " 'being a diabetic this is the perfect cereal for me no local grocer carries anything remotely close except the sugared type it is incredibly tasty and by far better tasting than just plain whole wheat puffs the grains are about twice the size amazon does a great job of getting me a case of this withing 3 days so i never really run out i will order again and again',\n",
              " 'of all the ostrim products i personally like these best a nice combination of taste and nutritiondecent protein level 14 g per sticklow calorie 100 per sticklow fat 3 g pera little high on sodium 600 mg but it is a meat stick after alla nice alternative for the many sweet protein supplement choices that exist as well as a nice change from chicken',\n",
              " 'i did not notice how widely distributed the reviews for this were until i received my box i had several varieties and flavors of coffee so judging from the most negative reviews the seller either changed their sorting methods or i got lucky since this is a random assortment you should probably expect some differencesif you are particular about your coffee flavors this may not be the best option however if you are looking to try several brandsflavorsstyles of coffee this is a great way to do it without buying 100s of kcups at the same time i enjoy waking up to a different flavor of coffee every morning so this is perfect for me and I will continue to buy from this seller',\n",
              " 'this is the best tea i like it as well as coffee highly recommend it',\n",
              " 'this crust took a little experimentation at first but now it makes a very good glutenfree pizza i found that using extra olive oil and white rice flour keeps it from being so sticky i even grease and sprinkle the baking sheet with rice flour to prevent sticking too much water can ruin it though hot water seems to work best also baking the crust before applying the toppings works best',\n",
              " 'i buy nestles fat free hot cocoa mix and add some fat free hazelnut dairy creamer and i have a drink that is low in calories and high in taste i got tired of having to go to several different stores to find this size and particular brand those little one serving packets are not for me so i was very excited to realize this particular size and brand is carried by amazon',\n",
              " 'pg tips and yorkshire tea was first introduced to my palate when i was a wee child it is a staple in my home and my mums home out of all the teas i have consumed nothing compares to the fullflavored black tea mixed with some sugar and milk i prefer plain soy nothing beats it',\n",
              " 'oh yes this is puffed rice all right but its brown rice not white rice puffedand they do not tell you that up frontsorry brown rice puffed does not cut it for tastethere is nothing like white rice puffed rice for tastenow if they would make a frosted white puffed rice it would sell',\n",
              " 'i have tried the unsalted thin and crispy they are excellentwe have also tried the chesse poofs and cheese curls which are glutten freefor themto be gluten free and taste so good our kids love the tasteespcially now that they are on a special glutten fre diet those cheese puffs have become there favoriteexcellent food choice',\n",
              " 'i should be embarrassed to admit this but i had to stop ordering this because i ate four bags in one day this is not normal behavior for me now i know how crack addicts feeli would like to recommend 479 because this is the best caramel corn ever but alas i cannot because of the inherent possibility of winding up a coconspirator in anyone elses resulting addiction',\n",
              " 'my husband and i just love this chili a friend of mine who used to live in cincinnati introduced us to this and there is no going back good stuff',\n",
              " 'these did not taste good to me they were almost chalky and did not have a good flavor the mint tasted strange I am disappointed since i enjoy other flavors of larabars i would pass on these and get the cashew cookie or apple pie if you want something sweet and that tastes greatedit this review is for the chocolate mint flavor obviously',\n",
              " 'i loved gummy bears as a kidand for those nerds like me out there not just because of dr who i saw these on sale and ordered a small 5 lb bag they are great for movies we divide them up into smaller bags very tasty and remain separate in the big bag I have ordered other candy in large single bags and it ends up getting all stuck together not the case herepros tasty do not become one big nasty mess in the big bagcons 5 lbs that is an evil size it is taught me selfcontrol prosummary totally recommend for those that like gummy bears',\n",
              " 'i bought these for myself i buy all my kerig coffee cups from amazon as they are cheaper than in the store and you get a wide variety',\n",
              " 'this is a great product i have one from 10 or 12 years ago and is bleached out from the sun and rain while laying around in the yard still works great just enough lettering left to know what name to look for and have ordered several new ones my dog loves them and can not distroy one in week a month or even years most other toys are gone in a few weeks the stitching around the edge is the only occasional failure point but it is due to my border collie using it as a tug toy and chew toy as well as a fly and catch toy i think it is probably the best toy i have found for my very active 50 lb dog',\n",
              " 'i love this vendor decent price and quick delivery also i got free shipping how great is that having coffee delivered free to your door step',\n",
              " 'when i first switched to a glutenfree diet i had a hard time eating complete meals i was not sure what all contained gluten and got sick many times from guessing incorrectly it was great to find a company dedicated to gluten free food that tastes good there are companies who make gluten free food that is not very tasty i knew i could make it living glutenfree when i found bakery on main',\n",
              " 'once you pop one in your mouthyou can tell these are not doritos and that it is a quality productnow the secret is to buy em on sale',\n",
              " 'I have had many protein bars over the years and do not generally enjoy them because they tend to be dense and lay heavy in the stomachnot these these bars are very light crunchy and delish even my picky daughter likes these my brother had me try one and i had to orderamazon had the fastest shipping 1 day turnover wow and by far the best percase pricesyou will not be disappointed',\n",
              " 'this is white and green tea not white like they label it sorry lipton but i will no longer buy this tea if your going to deceive people into thinking it is something it is not',\n",
              " 'i bought this gourmet popping corn believing i was getting better than i can get a my local trader joes wrong it was over priced the shipping cost almost as much as the corn did and most of all the quality of the corn was terrible the kernels were tiny and not fluffy when they did pop mostly they did not pop we could not wait to be done with this product also i asked to cancel the shipment before it was shipped because the shipping price was too high and still i got it',\n",
              " 'like everyone else i fell in love with this stuff while on vacation in belize I am a huge fan of spicy food so I have tried literally dozes of different hot sauces and this is bar none the best hot sauce I have ever eaten it is spicy but with a more subtle unique flavor due to the carrots in the recipe nothing else comes close for me',\n",
              " 'it is hot and a bit sour it really brings out the taste of food without changing the flavor too much in my opinion i find the flavor better than daves insanity sauce i would buy it again',\n",
              " 'i heard about this bars on qvc thought i could get a better price on amazon i did these taste so good i like that they are all natural they are so chewy while i was eating onethey were so fresh that they started bending in my hand i gave them to some of my coworkers to taste they already want to order some would not hesitate to buy if you like a chewy great tasting bar if you want something less chewy try the blueberry pomagranite pistachio I will be ordering more',\n",
              " 'I am from maine and i have to tell you that i would never buy grade a maple syrup if I am going to use maple syrup i want that rich distinctive taste not something that is barely different than white sugar that is actually a good comparison grade a is to grade b as white is to brown sugar i know we are all used to thinking of grade a as meaning of superior quality but that is not how it works with this it is referring to the level of filteringprocessing the sap goes through if you want generic sweetness go grade a for everything else grade b this is a trusted brand of organic syrup with a great flavor by the way for baking and real maple syrup afficionados there is also a grade c even darker',\n",
              " 'ok this mint is very strong i got these for desk candy and got very polarized reviews from customers some loved them but most seemed to prefer mints that were just mostly colored sugar why 5 stars for me i put one in a hot cup of tea and wow mind you it is being diluted in about 10 ounces but the pure mint really gives a cup of tea a refreshing coolness i will keep getting them for this alone',\n",
              " 'an easy way to keep a refreshing tea in the fridge and so much cheaper than buying 3 gallon arizona tea in the grocery storeand there is so much less packaging to deal with',\n",
              " 'i recently bought some of this at a local market i decided to try it because for quite some time now i have purchased mortons light salt to cut down on the some of the sodium i take in this diamond crystal blend is not only cheaper than the mortons for a generous amount more but it also taste better in my opinion like the mortons it contains a full one third less sodium but where the mortons uses the popular substitute potassium chloride that has a slight metallic taste to it the main substitute ingredient in this diamond chrystal blend is silicon dioxide which to me has a much more natural salt taste i prefer it over the potassium chloride and as already mentioned you get more for your money with this blend making it a sure deal it took me no time at all to get used to it and i use it in my cooking as well as in the shaker as well if you have trouble finding it locally i suggest you pick it up by the case here on amazon and you will be set for a year or more a real good salt substitute that does contain real salt as well that i recommend',\n",
              " 'both of the dogs love this lickety stik it took one of them a bit longer to figure out the roller ball but once done they both love it i especially like the personal interaction i can have at treat time my main use has been to use it after giving medicine it works great and now my girl looks forward to receiving a few tasty licks her spoonful of sugar after taking her medicine great innovative product at a good price',\n",
              " 'my son is on a gluten free diet and he has had a really hard time without his bread this bread tastes good and is very easy to make in the bread maker i have tried to make several different gluten free breads from scratch and they either taste terrible or do not hold together',\n",
              " 'these are great lunches for on the go just add water mix and microwave awesome for the office',\n",
              " 'finally a cookie that taste great if you have eaten any gluten free cookies before you know they are bland these cookies are awesome the best part is i do not have to worry about my multiple food allergies i would recommend them to anyone who loves cookies like me',\n",
              " 'i am a big fan of ice tea and i use my reliable old mr coffee ice tea maker almost daily luzianne ice tea works great in the machine and is a delightful tea because it dosnt have that bitter taste that some other teas have our local supermarkets do not seem to carry luzianne anymore so thankfully it is available through amazon i am now stocked up and a happy ice tea drinker',\n",
              " 'when we got our dog rescue mutt i did a lot of research about dog food which helped me tremendously with how to analyze the ingredient list to find the right food but doing that research still leaves you with a pretty decentsized list of highquality foods I have tried several and our dog definitely has her own opinions she was fine with some for awhile but then got tired of them blue buffalo being one example others she just turned her nose up at right from the startsurprisingly including taste of the wild which most dogs seem to be crazy about but the wellness core original recipe has been something she is liked consistently for a long time nowshe is never had any allergy issues with this product her eyes and coat look great she has tons of energy and thank heavens no gas in the fall and winter she eats windfall apples and the stench is beyond belief so I am grateful that the rest of the year the wellness core keeps her gasfreeif you are looking for a highquality grainfree dry food for your dog give wellness core a try',\n",
              " 'being a natural somewhat healthy cookie i expected a caroby cardboard flavor not so while you can see very small specks of chocolate i think most of the chocolate flavor comes from the pale brown swirls throughout the cookie the chocolate is far more flavorful than you would imagine they are simply wonderful cute little cookies',\n",
              " 'you can buy this elsewhere for 89 for an 8oz container why amazon is charging almost double that is beyond me navitas raw cacao powder tastes much better and is 14 for 16 oz i switched to navitas once i found out herseys had bought out dagoba too bad because it used to be a great product',\n",
              " 'the packaging the box as well as the individual pods is attractive to the point where it would make a great gift for any coffee drinker and especially a coffee drinking bob marley fan i liked the coffee it smelled and tasted very good and the individually sealed pods assure long term freshness the pods appear to be made of high quality unbleached paper and it is strong enough to not tear or break open when saturated with hot water i do not own a single serve drip coffee maker so my first try was to open four pods and pour the coffee into my four cup basket and filter this worked well then i thought I would try something different the next time and placed four pods into my coffee maker basket this resulted in an entirely too weak brew but my experiment led me to discover the best method for using the handy little pods when no one cup maker is available when i saw that i had a pot of hot weak coffee i took the pods out of the basket and dropped them into the hot coffee i let them sit and steep for a while then plucked each pod out squeezed and discarded now i had a good brew as good as my first from then on when i use these pods i place one pod with about 8 oz of distilled water in a ten ounce mug and heat it good and hot in the microwave remove from microwave and cover to retain heat while it brews then squeeze out and discard the pod they are so easy to deal with compared to loose wet grounds and you have yourself a great cup of coffee all said i am enjoying this coffee as something new to me but i still prefer mu old standby 100 colombian',\n",
              " 'very impressed with this alternate to a kcup that fits in a keurig brewer i think the coffee tastes great and is not watered down as other reviewers said even on the largest setting will be trying other types and putting this on monthly order',\n",
              " 'wick fowler taco seasoning is by far the best tasting taco seasoning i have served it to many of my friends and family and they all love it',\n",
              " 'my adult dog was easily able to remove the included treat within a few minutes even when it was inserted backwards as another reviewer suggested so i do not plan to buy refills however when i filled the toy with kibble regal and our malinois foster puppy both had to work for a couple of hours to empty it neither of them damaged the toy so it seems to be pretty safe for them however as with any toy i will continue to monitor them frequently to be sure they have not managed to chew off a piece that could be ingested the puppy still has most of her baby teeth so i do not know how the toy will fare with her in a couple of months when her mouth will resemble that of a crocodile but regal a bulldogsiberian husky mix did not faze the material and he is a dedicated chewer I would feel better about this toy if it were made in the united states rather than china but i believe it will be ok with restricted use regal gets all of his meals from food puzzles and this one adds some variety to the mixI am adding to this review because we have been using it for several months now i raised the rating to 5 stars because it has been so useful and the dogs have not damaged it at all the puppy mentioned above got all of her adult teeth but i was still able to put peanut butter in the toy to pacify her in the crate when she fussed it kept her happy for a couple of hours and she was never able to bite off a piece of the material we now have our own adult malinois sizzle and we use it with him as well i put kibble in it and let him get his dinner that way when he needs to be crated i bought another one so that i can give regal and sizzle their own the new foster puppy is doing well without a peanut butter pacifier for now but i will not hesitate to use it with her if necessary i still suggest watching any dog carefully with a toy they are all different but so far our three serious chewers have safely enjoyed this toy for several months so i recommend it highly',\n",
              " 'we discovered this wonderfully satisfying product by accident during a visit to israel and have been ordering it ever sincerrom amazoncom',\n",
              " 'when i choose coffee i usually go directly to a dark french roast but i thought I would like a little change of pace so i selected the bean coffee company mocha java organic whole bean 16ounce bags pack of 2 the last time i needed to buy coffee I am so glad i did i now have a new favorite this mocha java coffee is so wonderfulfirst of all i love that it is organic secondly it is whole bean because i prefer to grind my own thirdly and perhaps most importantly its flavor is divine it is a medium roast that has a full bodied depth it is smooth and low acidic and the chocolate notes are subtle all of this simply translates into a very satisfying and delicious cup of coffeei should also say that the amazon pricing is extraordinary and as soon as i post this review i am going to order some more',\n",
              " 'granted this honey is on the pricey side but i have to say it is more than worth it my husband had been trying all kinds of ways to tame his ulcerative colitis for months but the only thing that worked was this raw organic manuka honey the only other things he used with it were a product call sera vera and some probiotics he still needs to watch his diet somewhat but he has not had loose stools or blood in his stools since he went on this raw organic manuka honey and sera vera routine now if he eats something that does not agree with him completely he will get gas but no blood or diarrhea this is a very big relief for both of us we really wanted to avoid having him go on meds that is just a vicious circle and we were aiming at curing rather than just controlling symptoms we seem to be headed in the right direction as we are adding more and more foods back into his diet slowly and he is starting to gain his weight back he loves the taste of the honey and not only eats it on its own but also on toast several times a day it has helped heal his gut it stimulates his appetite and it satisfies his cravings for sweets which is great because he is not eating any sugar at all right now because sugar depresses the immune systemi have tasted the honey too and i love the taste i am so glad we found this wonderful resource',\n",
              " 'beans do not appear dark but a dark rich coffee does result from them best ground just before brewing as with most coffee',\n",
              " 'i could not resist the price so many beef sticks for so cheap however i think i was expecting something different the jerky has a good taste and at first it was not very oily but as they got older and exposed to the air i did notice some oil spots forming through the casings of the sticks overall if you can consume this say within 1 week of opening they are great if you need something that will stick around longer stick get it then maybe this is not the right product they also sent me a free sample of some of their other products with my order and the shipping was quick i like the company the beef sticks just were not what i was looking for i guess',\n",
              " 'had this corn bread mix for the first time tonight with some grilled fresh green beans and new potatoes i always like corn bread with this slice of heaven and this corn bread mix took me above the clouds in taste and textureI have been making and eating corn bread for 60 years and this is as good as it gets believe mejust follow directions and have a slice of heaven on me',\n",
              " 'got these once thinking i was buying the usual mild green chiles from ortega but got a surprise they are hot compare these to the pricing on amazon for real jalapenos tho which have more flavor not just heat ortega diced jalapenos 4ounce cans pack of 24 which are only ninety four cents a can on subscribe save',\n",
              " 'seriously now tasty tasty tasty fresh toothe only problem is that you have a pack of 24 and that can lend itself to wanting to make multiple trips to the cupboard for more helpings or grabbing multiple bags to begin with pace yourself i keep sayingyou can not go wrong with these if you are a fan of the salt and vinegar classic flavor2ounce bags are about double the size of the kids bags about the same size as the ones in the small gas station racks it is really a good size for an adultit is a somewhat healthier snack than a typical bag of fried chips but it has 300 calories per bag again not too bad but something to think aboutbottomline delicious',\n",
              " 'yes this sauce is not good for you that is kinda to be expected when taco bell is on the labelthat said I have previously been disappointed with taco bells jars of taco sauce as they were not even close to being the taco sauce you got at the restaurants so i was not sure if this chipotle sauce would reflect any actual flavors i taste in the food i get from taco bellI am happy to report however that it does bring on the taco bell taste it actually reminds me very much of the cheesey sauce they use in their cheesey bean and rice burritos only with a little more spiciness to it i was very happy about that i love that sauce and i love just a bit of bite to my food too its gone good on the burritos and sandwich wraps I have tried it on so thus far I am a fannow if they would only market a squeeze bottle of their fantastic baja sauce I would gain back the 10 lbs i lost last year in about a month',\n",
              " 'i was very disappointed in these lollipops when i ordered them they stated kosher and gluten free what they did not say that splenda was added false advertising and a waste of my money i tasted the sweetness in these lollipops',\n",
              " 'i took the leap in trying coconut oil after reading about using it as a deep conditioning treatment for hair i have very curly coarse hair and combination though mostly dry skin barleans was the first I have tried and i think I am a coconut oil missionary now i love the light scent since I have been using this product my skin is much softer and moisturized i used it as a skin lotion and I have noticed a significant improvement in the texture and elasticity of my skin my face is smoother my legs do not get irritated after shaving anymore and my hair is much softer and healthier i highly recommend barleans it was the most expensive for the 16 oz jar but from what I am reading the quality is better if one wants the scent it is the one to get if you want to go with something with no scent another brand might better serve',\n",
              " 'tried these pods on my breville with pod adapter hardly no crema no caramel color during the shot lame i guess I will just cut them and take the grinds and make a normal shot way to expensive i tried several and not one shot came out right i tried loosening the pod i made sure it was right side up every time the shot sucked i have the fancy breville with the two buttons on the right and moveable wand on the side will not buy again',\n",
              " 'first of all i know that it does not taste good is not a very useful review so i apologize and caution that it is what this review boils down to unfortunately there is really not much else for me to say about the cinnamon via the smell is revolting in a way i can not describe and it tastes exactly as it smells i could not make it past two sips either time i tried this product once with milk once without because the flavor was vile it was not just hm this is not really my bag it was holy crap i need to rinse my mouth right this second or I am going to throw upi chose the cinnamon flavor because i like the cinnamon dolce latte so i was surprised at my reaction to the via ultimately i guess my recommendation to anyone considering this especially based on the cinnamon dolce latte is to just buy one packet instead of six even if six is cheaper per unit it is not a good deal if you do not like to drink it',\n",
              " 'metromint spearmint water is a bit expensive however worth every penny product is very refreshing great replacement when you are tired of boring plain water taste is not overpowering',\n",
              " 'wanted the sodastream for my birthday got it made up the first cola it was horrid got to reading about the products sodastream seems to be so proud that they did not include aspartame in their diet products and used only sugar in their nondiet products instead of high fructose corn syrup however they also put splenda another artificial sweetner like aspertame in every flavor they makediet or not it leaves a horrible aftertaste in the nondiet drinks the whole point of not drinking diet pop is because people do not like the taste of diet pop my sodastream is going back to the company with a message stating that if i wanted diet pop i would buy it myself and they should only put sugar in regular soda they brag about real sugar and then hide artifical sweetner in every product hoping no one will notice it shows in the bad taste of their regular sodas and in my opinion does not make them a very reputable company buyer beware',\n",
              " 'i had been using the original chebe mix then from the chebe website wwwchebecom i saw a recipe for sticky rolls using the cinnamon version of this item wowthey got rave reviews from even the folks that did not need to eat glutenfree good stuff easy to make certainly an item that will be used again and again at our house you can use this mix to make several things so it is a multipurpose mix again you can check out wwwchebecom to find ways to use it',\n",
              " 'our bb host in bangkok recommended nittaya brand panang curry pastewe brought home a dozen packages and loved it every time we were distraught when we ran out we tried other brands that we could easily find in local asian markets but none could compare do not be put off by the price or shipping charges if anyit is worth every penny',\n",
              " 'let us be frank there is a reason you can only find these in bodegas and not in bigbox supermarkets they are not for everyone in fact i can count the people i know who enjoy these on one hand but if you have got a hankering for something that tastes like you are eating a toosweet mango rolled in chili powder and would consider washing that down with a glass of brine this is for you got to go my mouth is watering for one right now',\n",
              " 'so far I have purchased the flavors peas carrots butternut squash pumpkin and green beans my baby loves them all what is more is the convenience of purchasing them online and having them delivered in bulk to my home so easy',\n",
              " 'doing a food item is always difficult individual taste and preference being a major reason why we like or dislike something breakfast cereal might be one of the more difficult items having written disclaimers here is my reviewthis is a heavily sweetened item with 120 calories in 34 of a cup in addition there are peanut chips stuck to the flakes honey and molasses are the major sweeteners the result is a corn flake with peanut slivers and honey that has a sweet pleasant taste the flakes hold up well in milk or can be eaten dry as a snack i think this would make an excellent base for a sweet trail mix snack my twoyear old grandson likes them dry in his dish as a snackthis might be an alternate to the heavily sugar sweeten cereals but is not a good choice for anyone looking to control their weight',\n",
              " 'i usually eat beef jerky this is the first time I have tried oh boy oberto bbq pork jerky and i was impressed it is softer and more moist than traditional beef jerky it is got a lot of flavor which reminds me of chinese fruit flavored beef jerky which does not actually taste like fruit at all it is sweet with a little kick and very satisfying my hands are on the greasy side when I am done but it is worth it',\n",
              " 'summary a young boy describes the usefulness of chicken soup with rice for each month of the yearevaluation with sendaks creative repetitious and rhythmic words children will enjoy and learn to read the story of a boy who loves chicken soup with rice through sendaks catchy story children will also learn the months of the year as well as what seasons go with what month they learn to identify iceskating and snowmen in the winter strong wind in march birds and flowers in the spring swimming and hot temperatures in the summer and finally different holidays throughout the year such as halloween in october and christmas in decembersendaks simple three colored crayonlike drawings are a perfect addition to his educational and entertaining storya great activity that you can do with this book is to have children draw their own illustrations for each month of the year afterwards you can bind the pages together so the children can create their own book',\n",
              " 'love it this is the highest quality coconut oil my family and i enjoy it very much it has a great consistency and scent it also behaves very well when cooking with italso I am fairly tight when it comes to spending money and can absolutely say this is the best deal for coconut oil sometimes the individual ones are cheaper and sometimes the pack of 2 either way the price blows away any store bought variety',\n",
              " 'these spiced nuts are awesome i especially love the ones with cranberries pepper and orange sauce',\n",
              " 'i use this product mixed with chocolate or vanilla soy slender which also has 30 calcium 25 d and 7 g fiber of course i love it as it is but this combo is my favoriteand i will be happy to answer m m about why this is four 4 canisters so it is not that expensive the other reason besides it is good is that those grocery stores you speak of do not have it it has become very hard to find i can not find it at all any longer and am very happy to order a supply at amazon',\n",
              " 'wow my daughter loves these she is about 10 months and this thing disappeared in one sitting the pouch allows babies to feed themselves by using the opening as a straw she would take a slurp pause and say yummm it is not always easy to have organic vegetables and fruits always at the ready and i think that these are a great way to fit them in when you can not make all your babys food yourself plus they taste great',\n",
              " 'the wintogreen lifesavers are excellent i am so happy that the lifesaver rolls are available via amazoncom',\n",
              " 'bounty bars consist of a soft almost molten center of sweet coconut coated in an outer layer of milk chocolate you can easily buy them over the counter here in australia but if that is not the case where you are and you do not mind a diet rich in junk food then yes this is a candy bar worth going to the trouble of ordering over the internetnote that here on amazon you can purchase bounty bars in boxes with varying numbers of bars inside so it is worth your while to crunch the numbers and think about what package offers the best value for you at the same time it may not be entirely in the best interests of your health to have too many of these things lying around at home all at oncetheo',\n",
              " 'i tried this for my 6 month old who had a bad reaction apparently to the raspberries as he had been introduced to pears prior to that my pediatrician chastised me and said that berries of any kind should not be introducted to infants until they are at least a year old we love earths best baby foods but now i know to do extra research and not assume that just because the label says 6 months and up does not make it okay',\n",
              " 'libbys beet products are simply terrific the convience of having them so quickly available as a side dish can not be beat',\n",
              " 'the pomegranate molasses arrived on time and in good condition i encountered this as an ingredient in a mollie katzan cookbook and it did not disappoint we thinned it just a little with warm water and used it as a side sauce for roasted asparagus at a barbecue and got many rave reviews from our guests vegetarian and nonvegetarian alike i recommend both the vendor and this item',\n",
              " 'this is the first time i have bought this love it in my coffee the fact that it has no calories makes it really great',\n",
              " 'i received this through influenster mom voxbox my children loved it and i felt great knowing that it is a healthier cookie than others on the market',\n",
              " 'i was very happy to once again see these are available for 5 lbs of rawhide this is a great valueevery night at bedtime my two dogs each get what they know as a chewie it is a part of their nightly routine that they really enjoythe rawhide sizes are perfect for the larger dog but too large for the small 5 lb dog to remedy this i have cut them with a saw to a more suitable size works greatalthough some dogs may not be able to tolerate these type of treats my dogs have not experienced any problems at all my dogs absolutely love them',\n",
              " 'we have used these for out last two fourth of july parties great flavor and perfect size highly recommend tigers blood is best',\n",
              " 'healthy choice bean ham is the only soup that they make that i love the other kinds are horrible and tasteless grocery stores have not carried this in many years so i was surprised to find it on amazon I am glad i did it has a really good flavor and i particularly like that is low in salt buy it you will like it',\n",
              " 'these chips are amazing i first purchased at my local health food store then decided that i wanted a whole case for my family to share shipping was prompt i will definitely purchase again',\n",
              " 'we enjoy the keurig kcup so much and there is such a variety since my husband likes the dark strong coffees emerils big bold easy is perfect for him',\n",
              " 'i love using the coopers os lager can as a base for making various pale ales since it has bittering onlyi can add different hops dmes to it to make light to dark amber ales it is easy to get consistent results with especially when rehydrating the yeast in 15c luke warm water to which 2tsp of dextrose has been addedit is a good product for experimenting for the beginner experienced home brewer alike',\n",
              " 'when they came the ice bags were melted so take quiker shipping in the summer months the item seemed ok though they are nice not cheap looking',\n",
              " 'i love dandelion root tea and the benefits are outstanding i drink this tea everyday either hot or cold i like the brand traditional medcinals their teas always have a great taste',\n",
              " 'the price is great the cereal is delicious it alwasy ships quickly my kids all love it it does not take us long to go through all of it',\n",
              " 'these cookies are very good they have a nice texture because of the oats and they have a great taste they are my favorite cookie if you like oats you likely will enjoy these cookies',\n",
              " 'this product is so salty that we can not even use the salt part it is salty enough without it it does not pop well either compared to three other compareable brands we have tried',\n",
              " 'this is great whether you have a cold or just want a treat of a drink i find it helpful when trying to lose weight since it is mildly sweetvery satisfyingand wonderful aroma so it is a good treat',\n",
              " 'i was supposed to receive san marzano brand tomatoes clearly shown on the cans that was in the advertisement but the cans did not specify san marzano i contacted amazoncom and it made good on my order they sent me a whole new set of cans of the tomatoes although the new cans did not say san marzano on them again at no cost to me',\n",
              " 'my whole family loves this soup i am sooo thankful that amazon offers it because it is so hard to find my daughter has been eating it since she was 1 and is 11 now and still loves itplease amazon do not ever stop carrying this',\n",
              " 'this flavor sounded like it would be good like ice creamy and it seemed to get lots of positive reviews here on amazon so when i came across a small sample box at lowes of the stuff i bought it unfortunately this coffee tastes like old dishwater in which a pair of running shoes and a vanillascented car air freshener were steeped for a week',\n",
              " 'i purchased these to put in my work center for people to snack onstrangely some people did not like the cola taste as they kept eating themall in all the bag was gone in a dayfor the curious i would say the cola flavor is in line with sames choice cola',\n",
              " 'the best of miracle noodles angel hair pasta this one is my favoritethis is a great food for the dieters as far as tast it will be what you make out of it just make sure you read on how to make them cooked before you disappoint your self with a fish smell it naturaly have and could almost wash off with water it is a great product 0 cal 0 fat 0 everything and if you can just add a 20100 cal of tast to them of anything you like to eatit will fill you up for dinner 100 cal dinner great for diet',\n",
              " 'i recently gave up caffeine after the lord showed me that it was an addiction no different than anything else after the withdrawals left i still just missed sitting down with something that tasted like coffeepero turned out to be even better god is so good',\n",
              " 'my husband likes to snack at work but we want to avoid the bad snacks that are so readily sold this is a great snack item with nutritional value',\n",
              " 'the kids love these i admit to eating quite a few myself the flavor is not very strong or sweet but there is something about them that you can not resist i did not realize how much 6 lbs of laces was we will have plenty for a very long time',\n",
              " 'the pods are great they fit the machine and they do not break apart in use the coffee has a nice taste if you have a two cup a day habit this packaging will last you for an entire month',\n",
              " 'i took a chance with this product even though there were not enough good reviews since they are cheaper than 5 hour energy they did not work for me so i tried red rain which did work and was even cheaper red rain did work for me so i am done with 5 hour energy and 6 hour power the ingredients are pretty close to 5 hour energy but someone is lying since it does not work',\n",
              " 'sorry you do not like this productdouglas but it is not supposed to be like the jerky you buy at the local quickstop i think this is the best representation of the asiantype jerky that is available without going to asia in person great flavor and wildly tender i put mine in the microwave for 10 seconds and can hardly wait that long it smells so good',\n",
              " 'taste was decent a little sugary but very creamy otherwise very happy with this product i will be buying this product again packaging interesting as it is a giant box for the product to float around in until it delivers to your house',\n",
              " 'the problem with snacks this delicious is that i will try to eat the whole bag it is very crunchy and the flavors of the ingredients go together nicely it is not too sweet but it tastes like dessert to me we took this camping and it was a big hit',\n",
              " 'this item came up in a gold box recommendation and i took a chance while a bit more expensive than the cliff bars i had been buying these were an absolute treat and i plan to purchase more the allnatural raw foods approach makes for the best snack bar I have ever had delicious not oversweetened no sticky aftertaste not too dry and one bar was often the perfect midafternoon snack to carry me over until dinner i tried the chocolate version and found it a little too dry for my taste but similarly well flavored',\n",
              " 'tullys italian roast has thus far been my favorite to brew with the keurig coffeemaker i decent mediumbold blend coffee arrived super quick and in good condition',\n",
              " 'i love the taste and ease of cooking this rice the reason for making the purchase was because of the fact that is is a whole grain food item with a great deal of health benefits made the puchase for a diabetic because it is a low glycemic food itemi must say that everyone who i have shared the black rice with enjoyed it the most when it was cooked in a brothi like the texture and taste with or without broth i must say that the health benefits of the rice is what i was seeking and have found in this rice worth every penny that i spent on it',\n",
              " 'i am one hardly to ever leave product reviews and as much as i buy online i should work on that but after trying the various kashi products these bars are by far the best and i feel the need to leave a review i started off eating the kashi honey almond flax granola bars which are very good but definitley not as sweet as these not a good or bad thing just a comparison however you will still get the protein fiber and omega3s if that is what you are looking for if you love chocolate and almonds and are looking for a proteinfiber bar that tastes good and is more on the sweet side this is definitely one to try whether you use them as a meal replacement or as a snack they are absolutley amazing and i will definitely be a repeat customer',\n",
              " 'this is a very nice coffee at a great price i find this coffee to be well balanced with good flavor it is not acidic at all and i agree with the labeling as medium it is a nice breakfast coffee not too bold and definitely not weak as a bonus it is organic fair trade and roasted in north america canada i will be buying this again with the subscribe and save and free 2 day shipping with amazon prime',\n",
              " 'really is this robitussin pretty sure it is barf the only thing that made it not directly taste like cough syrups was the sun tan lotion lingering after taste i would not waste my time with thisit would be embarrassing to serve',\n",
              " 'i have been looking for this dressing because a cafe i go to that is asian has a dressing that tastes just like this dressing it is wonderful on green salad i found it first at cost plus world market but it is not on there web site for sale so i checked amazon and low and behold it was there if you like the taste of sesame you will love this and for a citrus flavor you can add a few drops of lime juice to the dressing which gives it a tangy flavor good stuff',\n",
              " 'i like certain fruit flavors in beverages like peach and orange provided they are natural this tastes okay going in but is far too artificial and leaves a nasty after taste the smell is a little off for peach almsot chlorine like perhaps that explains the reviewer who said she was able to bleach her porcelein sinkI am not sure what the hype with these are I would rather buy tea from snapple or arizona or even better brew flavored tea and then ice itwhile this may make a lot it seems very expensive i am not going to buy this or try it again',\n",
              " 'we buy vanilla soy creamer and use this for flavor it is better than buying flavored creamers full of essence and fragrance very nice easy long lasting anda clever way to have great coffee at home',\n",
              " 'i get this stuff on a regular basis from amazon great price this tea smells sooooo good the minute you tear open the little wrapping on the tea bag you can smell the raspberries this is the only raspberry tea i buy bigelows amazon has the unbeatable best price for this stuff that is why i get it from amazon',\n",
              " 'comes in a blue plastic bottle which at first seems ok however if you leave it standing in a cold room the oil solidifies in the bottle and will not come out so i had to put it under hot water to get it liquify the quality is good it tastes great and can be used as a lubricant or eaten i am moving the contents to a glass jar that has a wide opening so i do not have to deal with squeezing it out of this plastic bottle good product',\n",
              " 'this was a very good cup of coffee the only problem was sometimes a little grounds came thru and settled in the bottom of the coffee cup i liked the packaging being recycled paper',\n",
              " 'i just love these pretzels they are a great snack from the ordinary glutenfree diet i was a counselor at camp this summer and one of the kids wanted to try what i was eating i told her she may not like it it was my special food the next day she came back to me and said where is your pretzels i want more can you go buy me some i will give you some of my allowance if i can have more of them so needless to say they are a big hit with all age groups and do not forget you can dip them in peanut butter for a special treat enjoy',\n",
              " 'i bought 2 boxes of these at the same time thinking i was getting a better deal than buying from the gas station the first few i ate i did not have any problems with since then they either have mold or have been so hard that i cannot take a first bite through it sidenote i am an avid carnivore they need to step up their quality control before selling this',\n",
              " 'my dogs love newmans turkey and brown rice i have been feeding it to them for about a year i mix it with flint river ranch kibble so they have some crunchy food also they are spaniels a breed prone to allergies and have had no allergy problems and have shiny sleek coats they are healthy and love the food i strongly recommend it it is a highquality humangrade dogfood',\n",
              " 'this is the most convenient and best way to make coffee when in a hurry or when you live by yourself also this coffee has such a large variety of coffee flavors where you will not get bored and if you prefer to use your own grounds you can still do so if you buy the additional coffee filter accessory all in all great coffee maker',\n",
              " 'I am a bit of a food snob in that i make most things myself rarely using mixes this product is one exception in addition to the potato called for in their recipe i added cooked bacon i used milk instead of cream it was really good',\n",
              " 'this is an amazing tasting product it is real fruit no artificial ingredients it has a great texture the size is prefect for a purse pocket brief case or lunch box it only has 70 calories which is equivalent to two organic fruit strips it is the perfect size for a snack in between meals or for a nice energy boost the only caution is if you have dental work braces crowns loose fillings etc you might want to stick with fruit strips this is very chewy and may because damage i found that out the hard way otherwise highly recommended',\n",
              " 'I have used cytomax for the past couple of years now and have found it to be the best rehydration product I have used everyone is different but this product has by far worked the best for me at keeping myself going on those long or difficult rides hikes cross country ski and snowshoe outings this also helps to prevent cramping and bonking on those hot humid days when your tend to lose more fluids I have only had the cool citrus flavor as that is the flavor I have used for years with other hydration products as well and the flavor though a bit sweet for me is more than acceptable while cycling i always alternate between a bottle of cytomax and one of water for other activities where i carry only one bottle i use a little less the recommended amount of powder per x ounces of water this product like others like it require a bit more time to mix than the original hydration powders but it is more than worth the few extra seconds it takes to get it to properly mix',\n",
              " 'this was a gift to my granddaughter who has 5 children and a very tight food budget they love this soup better than any other mealthe 1 year old twins can eat this soup without any problems they join the 4 3 and 8 year oldsmy granddaughter is attending college to become an rn and is veryexhausted when she gets everyone home she just opens the can andshe is happy and so are they',\n",
              " 'these energy chews have a great flavor will give you good energy before or during a workout and are a reasonable price i would recommend this to any endurance athlete such as a cyclist runner triathlete etc strength training and sports nutrition for cycling',\n",
              " 'i picked those bars because they are my favorite larabars when package arrived i noticed that even though there is still 2 months till expiration date my bars are stale and do not taste as the one i was usually getting at my grocery store',\n",
              " 'my finicky cats are difficult to please particularly when it comes to their foodboywas i finally relievedwhen they chowed down on these',\n",
              " 'my cat loves these as noted in the other reviews it does not make a difference what flavor i buy so i get whatever is less expensive at the time',\n",
              " 'these bleached knuckle bones are great for the dogs teeth mine love them always supervise them when they have the bones and throw them away when they are gnawed down to sharp edges they really get the plaque and tartar off',\n",
              " 'i have done the recurring shipment on this product and what a steal for my carb free diet this item is a staple in my daily food intake items comes well packed on time and the quality flavor and value are outstanding thank you for the recurring monthly shipment option fabulous product',\n",
              " 'the quality of this product is excellent or at least very good i learned about the health benefits of genuine manuka honey while visiting new zealand and have been a fan ever since there are peerreviewed publications in credible scientific journals on the antibacterial properties of manuka honey i tried it recently on some road rash from a bike crash and it does work albeit messy so you will need good bandages also it also goes great in tea for a strong floral flavor the only cons might be the expense but if you use it sparingly it will last quite a while i also noticed that some batches are more watery than others but did not associate that with any differences in taste or quality',\n",
              " 'this is the only nonmedicinal i have ever found that eases my symptoms of an oncoming hiatal hernia it soothes my stomach and consequently my anxiety about an imminent episode in the time i have been taking it about 2 boxesmonth for 4 mos my blood pressure has also gone down maybe a coincidence but that was the only change to my diet i love the black licorice but i find that it gets me a little wound up whereas the herbal does just the opposite do not compare it to the black it is a whole different experience great stuff',\n",
              " 'this orange peel was really good the orange peel was flavorfil fresh and tender it is much better than the typical grocery product it is much better in baked goods i will purchase other products from this company',\n",
              " 'i can read the ingredients and i know what they are add that to great taste there is nothing else to say',\n",
              " 'we love our soda stream and usually drink the bubbly water plain or make our own syrups very easy to do but i purchased the root beer flavor on a whim we poured the recommended amount of syrup into the carbonated water and slurped it was ok for a splitsecond then came the after taste yuckif you are not of the persuasion that splenda is natural and do not enjoy aftertaste and do not want to acquire a taste for fake sugar then this product is not for youfrom now on I am not buying anything without reading the label first',\n",
              " 'best price i can find when you calculate what each kcup will cost you favorite flavor from green mountain coffee nantucket is also very good',\n",
              " 'amazons service was great the product made excellent breadi would recommend the bread mix to all i will buy this product again',\n",
              " 'great mix of vegetables low salt fat free organicnot to spicy not to bland they got the mix of spices just rightas a long time meat eater i have been addicted to cow for yearsthis healthy eating thing is new to mei really did not think this soup would be very goodwow i was plesently surpisedby far the tastiest soup i have ever had that was not home made',\n",
              " 'i purchased this product as a christmas present for my daughter per her request she really likes this moisturizer i would highly recommend it',\n",
              " 'hi does this supplement make you super thirsty i wanted to check because i have been feeling very thirsty especially in the late evening it has coincided with me taking this supplement but i have heard that excessive thirst is also symptom of diabetes is it documented anywhere that magnesium can result in thirst if anyone can share this info it would be greatly appreciatedas for the product i just started it the taste is citrusy i have had no side effects other than thirst but i do not know how much is psychological i have already been feeling more energy i will update if i continue this for a longer time hopefully',\n",
              " 'thsee are by far my favourite fruit leathers however i get them at costco for 10 for the 48 piece variety pack so its worth paying the 50 costco joining fee',\n",
              " 'we love this baby food the best part is the consistency it is not runny at all my son loves the taste and eats it all up we have ordered this multiple times as it is a huge hit in our house',\n",
              " 'pill pockets are the best thing ever and buying them through amazon is the best value for your money it is the only way my dog will take his vitamin every day',\n",
              " 'this is by far the best truffle oil on the market it is the one we use at my restuarant and at my home it is very fragrant and has wonderful truffle flavor',\n",
              " 'i bought this coffee based on the good reviews that i read unfortunately i do not like the taste of the coffee the coffee is very light and you get more of the hazelnut taste than the coffee i prefer my coffee to taste a little bitter basically if you like coffee which is heavily flavored then this is for you',\n",
              " 'I have been using mole traps of this kind for over 50 years and have killed many hundreds of moles i have used victor traps and cheaper traps they all kill moles but i prefer victor because of the design the legs that hold the trap in the ground have barbs on them to keep the trap from jumping out of the ground when the trap is triggered the trap is made from heavy guage steel and the spikes are heavy guage and very sharp the spikes are sharpened diagonally on the tips so they cut like a knife the trap is easy to settakes just a couple minutes just follow the simple directions if people are missing moles with this trap it is probably because they are not setting the trap in deep enough or are not making sure the spikes can travel freely down into the ground when the trap is sprung a couple of tips after locating the run step on a spot to flatten the run then set the trap to straddle the flattened run push the legs of the trap into the dirt as far as they will go until the trigger touches the flattened part of the run that you stepped on then importantbefore you set the tripping mechanism push the spikes up and down through the dirt a few times until they travel freely i have caught several moles this week and will get another one this evening this mole trap is wellmade in usa easy to use and will definitely kill moles if it is set correctly i have 9 traps and set them in clusters but you can kill many moles with just one trapit just takes longer',\n",
              " 'this product contains trans fat partially hydrogenated palm kernel andor cottonseed oil do your research do not rely on companies to tell you the whole truth',\n",
              " 'these are wonderfulthese do not make her sick throw up or go diarrhea like rawhides these work great for puppies who are bored and teething they are health and my puppy loves them',\n",
              " 'great seasoning for rice and japanese dishes it is not vegetarian however although the company makes another variation one of many that is vegetarian very hard to find so it is great that you can get it on amazon now',\n",
              " 'we have a lot of different flavors at my office and i was lucky to try them all before purchasing some for home i have to say that this is my favorite one by far i was used to drinking spanish coffee and this definitely a great replacement since i now use the kcups',\n",
              " 'i have two trees that i am trying to keep the squirrels out of after heavy treatment with this spray it did not even phase them they were still running up and down both trees this was an epic waste of my time and money',\n",
              " 'before you order this check the prices at your local grocery store i assumed with the subscription discount it was a bargain it is not even the most expensive grocery store in my area carries the same product for less',\n",
              " 'i bought these because i had used pureed sweet potato when my puppy had a stomach ache and he really liked it however the pieces are quite big for a small puppy and it took him a while to chew it up he must not have been able to chew it up small enough though because he later threw up and there were large pieces of the sweet potato chips in his vomit i would recommend these for an adult dog or a puppy who is a better chewer and does not have a sensitive stomach i guess i can hold on to these till he gets bigger or when all his adult teeth have grown in',\n",
              " 'this decaf is so good that i can not tell it from regular coffee would give it 5 stars but it tends to clog my brewer easy to unclog but still a problem',\n",
              " 'the newmans is consistently our favorite of the kcup varieties we try others and usually keep a couple of selections available in our kitchen drawer but we make sure we never run out of the newmans strong smooth coffee flavor without tasting overroasted',\n",
              " 'so far i had the chai and lemon flavors they are both very tasty and satisfying it is weird to see a bee on the package of a vegan product but they contain no honeythe sesame seeds can get stuck in ones teeth probably a good idea to take a peek in the mirror afterwards especially if you are going to be talking to peoplei have another order coming today I will probably be a regular buyer of these bars',\n",
              " 'ok guys what we have here is a basic misunderstanding about how japanese buckwheat noodles differ from semolina pasta this was my favorite food when i lived in japan so let me tell you how it is done the cloudy boiling water means it is high quality soba eden is right about adding cold water but only keep cooking it until it is al dentesometimes three repetitions is too long when the soba is done save a cup or two of the cloudy boiling water for a special treat later drain the soba noodles and rinse them then and this is critical soak them in a bowl of ice water for 3 minutes until they are nicely chilledjapanese people do not stirfry their soba noodles as far as i can tell so if you want to go that route you are on your own the japanese tend to eat all their noodles wet soba is often in hot soup but the best way in the summer is to use a dipping sauce you can buy one from an asian market i like yamaki brand sometimes you are meant to dilute the dipping sauce by half or a third with water into the dipping sauce grate some radish slice some scallions and put a dab of wasabi paste mix it up then pick up a small clump of soba noodles put them in your dipping sauce and then slurp some of those noodles up into your mouth make sure that you take in air as you slurp and do not suck too tightly or the noodles will fly up and hit you in the eye repeatwhen you have finished your noodles pour some of the left over boiling water into your dipping sauce mix and drink it is healthy and delicious and all the best restaurants do it itadakimashou',\n",
              " 'i have tried many oolong teas and this is by far the best it has a wonderfully light coconut mango flavor the two flavors blend well together neither one overpowering the other i will definitely buy again',\n",
              " 'my daughter and i both enjoy these cookies very much enough to warrant a subscription that will deliver them to our doorstep once every 2 months they are a little on the expensive side but i figure 6 times a year will not break the bank',\n",
              " 'with the subscription program i have these delivered once a month i can rock until they drop them at my door',\n",
              " 'these were a little more difficult to eat than i expected they are bulky which is good but some of the grain is a little tough they are somewhat tasty but I am looking for a better product than this',\n",
              " 'we use these treat sticks to train our labrador retriever puppy they break cleanly into small bits are easy to dispense and do not leave a meaty smell or greasy residue on ones hand the only downside is that over time the sticks tend to get rather hard',\n",
              " 'crackertilla is a word i came up with because this snack is both a thin round cracker and tortilla chip all in one it is light crispy and quite tasty we strongly sense the company really believes that food should taste goodalthough we were skeptical at first the unique olive flavor attracted us to this product in addition there are no artificial colors flavors or gmos in the ingredientsafter opening the bag we observed an attractive sight and scent and this product is not like average chips it has the aroma of realfood the taste is also unlike any other not only because of the olive flavor but because of the marriage between the cracker and tortilla chip the crispness is just right and the olive flavor is included without dominating other ingredients the oneounce serving size is just right and allows one to easily travel or pack this with a lunchoverall this healthy snack is recommended for both kids and adults',\n",
              " 'i bought these noodles for my german husband and he loved them they are giant and delicious i originally found them in a gourmet store in my neighborhood but they were almost twice the price of amazoncom with the free shipping you can not loose try them you will love them',\n",
              " 'we have been feeding our bichon zukes hip action treats for years he gets one each day after breakfast and expects it he has had two knee operations which was one reason we looked for a treat targeted for joints etci only rated a 4 because i have no idea if the zukes hip action really does work in terms of improved mobility yes he loves the treats yes he walks every day and yes we are hoping the zukes is working to aid his mobility nevertheless he loves the zukes treat and we like the fact that they are made in the usa and are natural just note of caution for bichon owners with urinary stone issues do not feed a bichon beef products the chicken is greatupdate 041710ive updated my rating to a 5 because i recently took our dog to the vet who confirmed at the age of 12 going on 13 he has no arthritis in fact both front and back legs have full mobility i do attribute part of this success to his walking every day but also to zukes hip action treats digbys had a zukes hip action treat for years and this treat is the only joint action remedy we feed him in addition to nupro all natural dog suppplement for his other nutrients minerals and vitamins while zukes hip action treats are not the only reason he is doing so well i believe this treat in conjunction with exercise and the proper diet have significantly contributed to his overall well being',\n",
              " 'i received this as a gift and was overjoyedi looked the item up on here to review it and now i am sort of disappointedi was supposed to receive the items listed above but instead got thesethe salami was correcti did not get stella provolone cheese instead i got some other cheese that needed to be refrigerated and it had sat on my steps for at least 4 hours i had to throw it away they shipped in a nice box but nothing was refrigeratedi did not get the green olives i got the red ones instead they are frutto ditalia red cerignola olivesi also got instead of the cherry tomato spread i received san giuliano black olive spread and nothing elseinstead of the crisps they were supposed to send i got lazzaroni olive brucshette instead of plain bruschette i got olive flavoredlots of olivewish they had stuck with the plan insteadgot 7 pieces when they should have sent 8',\n",
              " 'i love taza chocolate at first the texture took some getting used to but now i love it i like most of their favors but this is my favorite they sell their chocolate at my local farmers market and this flavor sells out usually faster than i can get there if you are new to taza try this one and their vanilla one and you will not be disappointed',\n",
              " 'i developed a real addiction to coffee with chicory and the cold brew system when i lived for a time in louisiana and this is my favorite brand of that coffee unfortunately i now live in an are of the country where it is not available in the grocery stores so I have had to order it online usually very bad prices or beg friends and family to bring me several pounds when they come to visit the pack of 4 that amazon sells is by far the best price I have seen for this product',\n",
              " 'i received a free sample of 5hour energy from smiley360 i really liked using this product it tasted good and did not leave me jittery even my husband who works the night shift has started using 5 hour energy regularly since it is safe it is packed full of vitamins and comes in a variety of flavors i do want to mention though that it does contain niacin flush if anyone is sensitive to it i will purchase this again',\n",
              " 'my cat is 15 years old and has never liked a kitty treat in her life the only nondry cat food she would ever eat was real tuna fish juice drained from the can and never mind the tuna she has also had what i affectionately call a tender tummy meaning that every few weeks since she was a kitten she has had vomiting episodes that last a day or so and then disappear again no explanation basically I have just had to find cat food for her that matches the carpet on the way back up ewabout a year ago she stopped eating all together and i was worried that she and i had reached the end of her long life in actuality she had just decided she no longer liked the iams senior she had eaten for 10 years was going on a hunger strike that put her in the er vet with failing kidneys due to dehydrationenter wiskas purrfectly fish tuna in the pack of ten with the sardines and whitefishtuna mix she instantly started eating again and her health returned in a matter of days and no more random vomiting she even deigns to eat dry cat food once a day to supplement the moist stuff I am using iams young adult orange bag and have had no problems there eithershe has her preferences with the wiskas do not be deceived she will only eat the purrfectly fish not any other flavor and really does not prefer the sardines neither do i the tuna entree with the whitefish is often only halfway eaten but the tuna entree alone is always finished which is why i was so happy to see it for sale here by itselfone complaint though my kitchen now smells like dead fish but to save my carpets her health and my sanity I will sacrifice a little smell',\n",
              " 'these bones get a five star review from our 14 pound cockapoo when the box arrived she smelled them right away and even licked the box and they say dogs are not smart even though she is a small dog she just loves these larger bones and spends hours chewing on them i found the price of this item on amazon to be somewhat lower than the local pet store and will continue purchasing them from amazon',\n",
              " 'can not rate this stuff highly enough does as advertised no let down as with sugarcaffeinated drinks there does not seem to be any addictive tendencies with 5he which is nice i do not use this every day great when driving to keep you alert behind the wheel definitely the shizz buy it try it',\n",
              " 'best protein drink out there I have been drinking protein shakes for over 10 years and have tried every single brand available the powdered the ready made the big jugs the protein water etc this tastes so good it should not be healthy and on top of the great protein there is nothing bad in it even my two boys love them the chocolate is the best in my opinion but the vanilla and mocha are still better than anything out there i travel all the time for work and now that I have discovered these great drinks i have to figure out a way to get 5 of them in my checked luggage for every week that I am gone from home that is how much i love them',\n",
              " 'this tea while a bit pricey is excellent hint of jasmine and full aroma make this tea a good choice for a special occasion',\n",
              " 'my family loves popcorn the portioned packages work well the only suggestion that i would have is to cut the popcorn and seasoning part out first place them in a measuring cup this will make it easier to pour in the pan for popping i spilled a significant amount of the seasoning and popcorn at first and the fact that it is stored in plastic makes it not such a wise decision to place the plastic next to the hot pan of course put the butter in first then add the popcorn and seasoning less messjust about every kernel pops very tasty',\n",
              " 'this product is better than i thought it would be i truly enjoy making my daughters baby food with it my husband has been impressed that i am making her food it is easy to use and does not take much time plus i feel good about giving my daughter fresh whole foods that i know what ingredients are in it',\n",
              " 'i always enjoyed tazo tea earl grey being my favorite but while at a restaurant one evening they only carried stash i could not believe the difference in both taste aroma it was so much better when using tea bags i recommend giving it a trygina',\n",
              " 'i first tried them at jamba juice and have been hooked ever since they are light very tasty and have good nutrition specs as chips go i prefer the bbq to the other flavors but salt and vinegar are my 2nd pick',\n",
              " 'been drinking rockstar juiced since it came out i hardly noticed the 70 to 50 change in their formula but the new 10 forumla is horrible where rockstar was once the best energy drink out there this change in formula will easily put the other energy drinks with juice on top hope rockstar sales plummit and they can see their mistake and make the change now',\n",
              " 'these had an almost crumbly dry texture to them very gross my hang up about low carb foods are textures and this one ended up being pricey dog food as that was the only one who would eat it i had it with garlic and olive oil on it so i cannot tell you if the pasta had a good taste or not i suggest dreamfields if it does not spike your sugar as it is dead on perfect i am thinking of giving carbnada a try i really like a lot of dixies products even their faux potatoes but not this one',\n",
              " 'creamy and marshmallowy yummy on fruit like strawberries it is very sweet better than the chocolate',\n",
              " 'my 11 year old lab has been having hip problems for awhile now and i have heard alot of good reviews on liquid glucosamine and was excited to try it unfortunetly finding where to get it was the problem i called vet after vet and store after store with no luck then i hit up the net and decided on amazon it was somewhat reasonably priced and the shipping and handling was free i have seen progress with the product and the dispension is very simple once you figure it out i plan on sticking with it for as long as it works pryer to this i had been giving my dog human glucosamine pills but was very unsatisfied with those results or should i say lack of you do have to be realistic though and realize that you can not expect miracles progress is progress though',\n",
              " 'i have 3 picky catsi ordered a case of this and they would not touch itso i sent it to my mom has several cats and they would not touch it eithernot even her dog would eat it',\n",
              " 'these are seriously delicious especially if you like plain potato chips my only concern is they are very oily i understand they are kettle chips and they are fried small batches and all but when you open the bag that is another thing very strong bag need scissors there is a coating of oil on the inside of the bag and on the chips themselves i suggest a blotshake on some paper towels before consuming either way they have a yummy potato taste and very satisfying crunch delicious',\n",
              " 'i love the fact that these are organic and with subscribe and save they are a steal my puppy loves them although they were too large for her until she was a little older 34 months old she loves them now highly recommended they are proof that organic treats do not have to be ridiculously expensive',\n",
              " 'great flavor and the aroma is fantastic if you enjoy flavored coffees at all you must try this a winner and a keeper',\n",
              " 'title says it alland reviewers please stop giving this product one star because it is in the wrong locationit is like giving an employee a poor review because they gave you the wrong review form to fill out',\n",
              " '5mm ivory edible pearls are a wonderful addition to cakes cookies they can instantly add sophistication to any piece',\n",
              " 'this product is a winwinwin a healthy snack for my dog at an affordable price and the proceeds go to charity outside of the many moral reasons to buy these treats my dog also loves them he rarely likes dry treats but these are an exceptionthe treats are heart shaped and about the size of a quarter a couple of them are perfect for a small dog and one bag will last for several weeks it is really a great value',\n",
              " 'I have loved caribou coffees caribou blend ever since my parents got me a keurig for my birthday a year ago with a sampler of coffees to go with it caribou was my favorite next to newmans but i find the prices at some places rather offputting when i saw amazons deal on them i had to act and I am glad i did the shipping free super saver shipping was really fast and i did not have to break my bank to get it will definitely purchase again',\n",
              " 'we have a neighbor who introduced us to this dish she makes it from scratch and we fell in love with it when i saw this item on sale at amazon i decided to try itwe have cooked it according to directions and also customized it with diced onion or even peanut butter the only complaint is that it is a bit too spicy wish there was a way to reduce the amount of spiciness we tried all the ways to cut it by adding other ingredients but they either do not help andor they change the flavor I would give this 45 stars for the convenience flavor if the ingredient which makes it spicy were in a separate packet which you could adjustmaybe we are wimps try it for yourself it goes well with basmati rice but any fresh rice will do enjoy',\n",
              " 'yummy healthy fun snack great whether you eat them right out of the bag or put them in cereal yogurt whatever highly recommend',\n",
              " 'bought a pouch of this mix at our local grocery store after mixing with three avocadoes it created the oddest tasting guacamole I have ever had after a few spoonfuls my husband and i determined it tasted like applesauce very strange we ended up adding a bunch of other spices from home to try and salvage it if you are going to use a mix I would recommend sticking with the dry packets you can find in the produce section this was a tasteless disappointment',\n",
              " 'this tea tastes almost as good as the tea you would get at an indian restaurant it is much better than getting a teabag and making it the english way with a lot of water and a bit of milk this is very creamy and tasty my only criticism is that there are not enough sachets in the box only 10 since the directions say that you use one sachet for 100ml of water approximately half a cup it is not enough for a good cup of tea so i use two that means that one box is only good enough for five cups of tea but it is a delicious afterdinner drink i would buy this again if there were more sachets in a box',\n",
              " 'i got one of those 25 gift certificate in the mail and could not decide what to blow it on this was great i had like one slim jim a day for almost an entire month and they were the tabasco flavored ones my favoriteif you have had a tabasco slim jim before well you know what you are getting it is pretty clear if you have not well maybe you should try one before you think about ordering two dozen',\n",
              " 'when it comes to gum i always go for mint I have never liked the fruity flavors I am not even that into the cinnamon flavors but for some reason this gum seemed interesting i knew if i did not like it my husband would not let it go to waste anywaythe first piece i had i actually said wow out loud it is really good i told my husband it is like chewing an orange tictac over over again i always go for mint in tictac as well unless itsthe orangei think this could become a new fav of mine',\n",
              " 'this is a good tasting tea i sometimes mixed it with white tea which was also tasty my joints seemed to hurt less after drinking this for a week or so i need to order more',\n",
              " 'at amazons price this is a good value for this gift set with this type of tea you do need to use very hot water for it to flower you can also use the flowering tea in a second and third steepinghowever the teapot is extremely fragile and hard to hold when full of hot tea so take care handling it',\n",
              " 'this is the next best thing to fresh unpasteurized coconut water from brazil or hawaii',\n",
              " 'I have ordered several bags of this xylitol now and really enjoy it i must caution that you use it sparingly to see how your digestive system reacts to it also can be used in bakingcooking but you can not use it in any recipe that needs yeast to rise',\n",
              " 'i have had milk supply issues since the day my baby was born in part due to pcos and hypothyroidism after both my lactation consultant and my babys pediatrician recommended fenugreek i finally tried it i have worked my way up to 4 capsules 4 times a day plus blessed thistle goats rue alfalfa and domperidone only after several weeks of this combination have i finally been able to stop supplementing with formula i do not know which products are doing the trick or if they truly are each contributing but i would not stop taking a single one and risk losing my supply for the record though i started fenugreek first and noticed an increase though it was not until i had this whole combination that my supply has become sufficient i highly recommend fenugreek and after trying several brands i feel natures way is superior to some others out there',\n",
              " 'put some dry pasta i like rotini in an 8x8 pan crumble some dry basil over it or any spices you like take a can of these wonderful tomatoes dump over the dry pasta and enough boiling water to barely cover the pasta and cover with foilbake until water is absorbed and pasta is tender every pantry needs these tomatoes',\n",
              " 'this product leaves hair smelling clean and scalp feeling fresh does not dry out or damage as bad as other antidandruff products',\n",
              " 'not too sweet the best kcup hot chocolate I have tried thus far the kids loved drinking and making the hot chocolate',\n",
              " 'this tea is very heartydefinitely double in earl greybergamot flavor i recommend it to anyone who likes a stronger tea and you can not beat the deal especially with the prime program save a couple of dollars free shipping add a little sweetner and cream and it really enhances the flavors',\n",
              " 'the folks giving bad reviews on this product do not seem to understand that creamed coconut is not the same as condensed coconut milk it contains coconutmeat solids and is pulpierthicker and will not taste like coconut milk by thinning it out with waterwhat you get inside the green box you see in the picture is a plasticwrapped block of creamed coconut unless your house is very warm it will be rockhard i fill a bowl with hot tap water and immerse the entire package then knead it with my fingers after a few minutes repeat a couple of times then snip the package open and poursqueeze it out like toothpaste for use in cooking if you do not use the entire package all at once it will resolidify that is not because there is anything wrong with it that is just what real coconut cream does that is why i love these little packages as opposed to the 16oz jars of other brands that they sell at whole foods market',\n",
              " 'i know this product looks expensive i was a little hesitant at first to buy it but omg it is remarkable i had tried everything to get my dogs skin to clear up they live inside and would scratch and scratch they were on flea medicine so i kept taking them to the vet it would cost me about 50000 each time and their skin would only get slightly better so i switched vets and they asked me what my dogs were eating i told them dog chow they advised i pay 8000 for one of there bags on a budget we could not afford it but i did decide to go to petsmart and look at the back of the bags of food to find one for my dogs while there i spoke with a very nice woman who told me maybe my dogs are allergic to grains it all kind of clicked when she said it i noticed my dogs were getting yeast infections in their ears and could smell the yeasty smell from them i switched them a little over a year and can not even tell you how amazing they look their coats are so shiny when i take them for walks everyone tells me how beautiful they are they each gained around 10lbs this food is solid protein so they do not eat as much but they love this food my advice to people who are looking for something that will help their dogs skin allergies would be this i know it seems expensive but its a lot cheaper then taking your dog to the vet and definately more healthy you can also get a 500 coupon from their site',\n",
              " 'my favorite tomato soup tried it a few weeks ago and fell in love with it it is zesty and a rich tomato flavor i will try it with a scoop of sour cream next time as another reviewer suggested',\n",
              " 'there is no doubt this tastes good it makes your tap water taste better and in bottled water it is a great no calorie way to add flavor figuring out just how much to put in takes some time so do not get frustrated there is not much difference between too weak and too strong so woek your way up',\n",
              " 'there is a lot of couscous out there this is the best it tastes even better with a subscription discount thanks amazon',\n",
              " 'i first had this tea at a spa in dallas i liked it so much i asked where it was from they told me the company that makes it and about 5 canisters later I am still in love with it it is whole leaf tea not the ground up dregs you get at the grocery store it is absolutely beautiful and very aromatic i swear i could use it for potpourri it comes in pretty little sachets and it makes the perfect gift i took about 5 sachets and tied them up in a little plastic gift bag for christmas for a lot of my friends love love love this tea everyone I have given it to loves it too it is organic i add sugar or honey drops also sold by white lion try the cranberry hibiscus too i just ordered my thrid canister of that today yum as a side note i do not usually even like green tea most of the stuff I have ever had tastes like a swamp this is delightful i hope you like it',\n",
              " 'i spent time in hong kong and japan so i ought to know reasonable miso when i taste it while little compares with fresh restaurant miso this is pretty close the mix is not dry it is a pasteliquid and the dried vegetabletofu packet is separate to be added after you prepare the soup base you do not get 6 combinations you get 18 complete combos 18 each of paste and dried vegetabletofu and it tastes absolutely divine add boiling water stir add vegetable packet enjoy could not be simpler if it is too salty for you add more water how hard is that incredible miso really brings back memories',\n",
              " 'i have tried a few different extra virgin coconut oil products in the past vitamin shoppe brand parachuteetc and they tend to have a grainy texture to them not a major problem but who wants to pick shredded coconut out of their hair this brand was so silky smooth and smelled wonderful i think i found my favorite brand of evco',\n",
              " 'this tea is yummy just sweet enough with a very pleasant flavor the powder mixes thoroughly it is great served very cold over ice i take it to work with me and drink it instead of soda pop and prefer it over carbonated beverages',\n",
              " 'we met a young man selling these vegetarian jellies at last weekends tatton park food and drinks lovers festival it is about time there were vegey jellies on the market and these are delicious really soft fruity and feel just like jellies I have just given some to my sister and mum and they like them too I will definately be giving some to my vegey friends this xmas and will be eating lots of them myselfthank you goody good stuffplease could you add jelly babies to your recipes we miss them',\n",
              " 'i love this product i love that emerald has an unsalted option i can not eat salt i love this product',\n",
              " 'this is a dark smooth brew darker than timothys french vanilla but as with timothys it has only a slight hint of vanilla this is my third taste test searching for the best vanilla flavored coffee gloria jeans was undrinkable timothys was pleasant but not as deep a roast as this if it only had more vanilla flavor this would be my hands down favorite',\n",
              " 'item shipped fast taste delicious this is the second that i bought graroto here highly recommend this to those love brazil chocolates',\n",
              " 'i really like this product and taste great with the coffee or tea and i have lost weight by cutting the sugar and replacing it with the honey and agave nectar',\n",
              " 'the granola was too crumbly i assumed that granola should be more stuck together more chunky instead of eating on its own i had to use the crumbs for cereal taste was average i was rather disappointed i would not buy this product again',\n",
              " 'there is nothing else like this on the market no gmo highest fiber of any cereal i can find and high protein it keeps me healthy i will not eat any other cereals mostly junk',\n",
              " 'these hazelnuts are the most flavorful we have ever tasted we have sampled many other brands including bulk from the health store and we have come back to these and will stick with these they are worth any additional cost',\n",
              " 'i have tried naked one zico and naked tasted most freshing coconut wateri honestly do not think coconut waters are delicious but they are really refreshingif you want fresh coconut water this is the one',\n",
              " 'my kids loved this tasty treat the apple pieces were a nice size and tasted like a fresh apple will be buying more of these in the future',\n",
              " 'if so you will be amazed to find your tassimo makes the same product at home at a bit of a discount j in ptown',\n",
              " 'i never liked green tea i always found the taste terrible and bitter when compared to black tea and even though i have tried to acquire the taste for green tea by trying many different varieties i have always been unsuccessful until i was introduced to this japanese tea it is truly wonderful it is mildly slightly sweet and aromatic the nylon tea bag and individually sealed packages are great as well a truly great green tea',\n",
              " 'honey maid fresh stacks are great not only do they taste delicious but they come in 6 small packages inside the box it makes it easy to keep them fresh the small packages also make it convenient to take a snack along on the road i just toss a pack in the diaper bag and when the kids are hungry i break it out these were a big hit in my house and make a great treat',\n",
              " 'this is really bad i should have trusted the other reviewers the taste is the worst i have tried so far it is bitter without any fruit or tarty flavor the slices are also not uniform and some of them are just pieces',\n",
              " 'i use this bean in my saeco talea giro plus automatic espresso machine the coffee comes out great with good crema it is strong but not acidic my wife and i are hooked on this great value coffee bean in our machine',\n",
              " 'this new line of jelly beans by david klein the creator of jelly belly jelly beans is made with 100 natural flavors and colors that will be great news to those with allergies to food colorants as well as to those who prefer to keep the amount of chemicals in their snacks to a minimum in addition to this taste of everything sampler the beans are sold in several different mixes like the 5alarm spicy man mix or the fruity soda fountain mix as well as individually so you can really create the bean collection that works for youthis sampler includes 16 flavors among people i know who have tasted these beans there is a great divide in likes and dislikessome that i hated others loved and vice versa every person is different so just because i hated something does not mean you will that said following are my personal impressions on each flavor in the samplermy favoritescould eat them again and again and already havegrape tastes like nehi grape soda from my childhood sweet but deliciousstrawberry bright sweet flavor with a nice finish reminiscent of strawberry preservesroot beer sweet and tangy addictive and satisfying maybe my 1 favepomegranate sweet and tangy but in a totally different way than root beer yumcranberry sweet and tart like dried cranberries vs freshorange punch delish very sweet bright flavor can almost taste the carbonation as if it was orange soda vs orange punchmy likedbutnotloved listenjoyed but do not crave them like the favescoconut very distinct spoton flavor but pretty strong best in combination with other beans not something i could eat again and again by itselfvanilla bean same reaction as coconut good in combo not in volume alonegreen apple could have been more tart tasty but a bit blandpeach quite intense more like peach nectar than a fresh peach did not love the finishlemon expected it to be a fave but it was not it has the tartness of a fresh lemon but would have preferred a sweeter taste as was done with grape and orange like lemonadeblack cherry also expected to be a fave but was not i am liking it more and more as i try it though better alone than combined with other flavors and better with 2 or more of the same flavor at once wish it had a deeper flavorblueberry i liked the inside but did not care as much for the she will tastes more like a blueberry muffin than a fresh blueberry but that is a good thing in my eyes ginger powerful very spicy like biting into fresh ginger the flavor is beautifully reproduced but was a bit overpowering for me to want to eat manyleast favoritesflavors i have no desire to eat againbacon man i wanted to love this i love bacon but i did not love this bean i did not even like it it tastes more like liquid smoke than bacon yuck do not suggest you mix it with any of the sweeter beanshimalayan sea salt strangealien on the tongue at first but kind of interesting while chewing this one was originally on my likedbutdo notlove list but then i realized i had no desire to ever eat another one also tastes worse when eaten with other beans esp the sweeter onesi wish there had been more mixable flavors in the sampler like back in the days when jelly bellies were new and my colleagues and i were always thinking of new pairings to make delicious flavor combinations i did some combining in this sampler can not say there was anything that really stood out as a great combo though i would say if you do not like super sweet you may want to eat the super sweet ones with something with a little tartness like the cranberry pomegranate or lemon beansfinally the packaging was a little flimsy and my beans were intermingled when they arrived this was a bummer since there are flavors that share a color and are hard to differentiate like lemon and ginger and the black cherry cranberry and pomegranate so if there was a flavor i disliked it was hard to avoid it until i learned to distinguish the slight color or textural variations some of the confusion could have been avoided by not putting likecolored beans in the cubby right next to one another as lemon and gingerall in all a delectable bean with some very interesting flavors and natural coloringflavoring',\n",
              " 'as a kid growing up we enjoyed dunking windmill and gingersnap cookies into milk it was a nice snack or a quick lunch when we were too busy playing to eat anything nutritious that is probably why i developed a likeness for ginger cookiesfor that reason this past holiday season i found a recipe for ginger cookies and baked gingerbread men cookies not that long after i discovered some very tasty ginger snap cookies made by newmans own organics family recipe cookies made with organic flour and organic sugar newmans own organics was formed by paul newman as a division of newmans own in 1993 and became a separate company in 2001ingredients used in newmans own organic products are grown on farms that do not use artificial fertilizers ore pesticides for three years or more the farms and processors have been certified by a third party receiving kosher certification by union of orthodox jewish congregations of americathe ginger snaps are made with real candied ginger molasses unbleached wheat flour organic palm fruit oil ground ginger leavening soy lecithin and other ingredients the small cookies have a deep rich ginger taste that lingers in the mouth like moms ginger snaps they are crisp and just right for dunking i give them a b the nutritional information for the 65 ounce ginger snap package is serving size 5 cookies 30 g calories 130 fat calories 30 total fat 35g saturated fat 15g cholesterol 0mg sodium 180mg total carbohydrates 24g dietary fiber 0g sugars 11g protein 2gthe package comes with a handy pull off tab that can be saved and used to reseal the package in case you do not eat all the cookies up in one setting',\n",
              " 'refer to the picture i posted above the bar is half the size you think it is going to beit is literally a twobite bar very deceptive advertising that and the fact that they are ridiculously expensive is the reason for the one star my 10 year old son ate one and did not like them i ate one and agreed as did my husband could not give it away everyone has different tastes but these are no tasty treat as far as I am concerned',\n",
              " 'this is the 3rd time i have purchased this product because i was very pleased with the taste and texture of the oatmeal just to make sure the price was good i shopped in 3 health food stores and the price was almost double i keep it in the freezer and it keeps until i order again if you like steel cut oats you will love this',\n",
              " 'i am a noncoffee drinker who orders coffee for the office in the past i have not gotten too much feedback on which coffess are goodnot good etc and they all taste the same to meick so i look around for different things i think the guys might like surpriseingly enoughnot only did several of the guys tell me they love this stuffthey even asked for more of this flavor it must be pretty good',\n",
              " 'we have a 52lb bassetbeaglewho knows for the past few years boing has eaten a grain free low gluten dehydrated food honest kitchen force grainfree dehydrated raw dog food w chicken 10 pound boxhonest kitchen keen lowgluten dehydrated raw dog food w turkey 10 pound box but with finances compromised had to find a cheaper option having completed extensive research decided to give canidae a try so far it is 50 hk 50 canidae while transitioning to the new food in the next two weeks he will be entirely on canidae i will update this review after a month to see if his wonderfully shiny coat remains like that if he remains gas free if so it will be a great find tremendous saving unlike other dogs boing did not experience the change of formula so has not had the unfortunate stomach upsets another real plus was getting free shipping which helped with the overall cost due to health issues i have to be extremely careful of what he eats as yet i have not seen any I will effects have given him the chicken grain free this flavor have 2 more to try he is not a finicky eater which helps more in a month or so hope this helps anyone looking for a decent alternative to the usual big name dog foods',\n",
              " 'i can not add anything else that has not already been said here this blows all the other sweetners out of the water no sweetner aftertaste it would be great if they came up with a syrup version so i can stop using my aspartame based syrup',\n",
              " 'to put it very simple this product was worth every dollar and i was very satisfied i have used 2 cans already and I am working on the 3rd will definitely order again delicious',\n",
              " 'i do not get the calm relaxing better sleeping side effects from this what i do get though is something that keeps my bowels regular i take a medicine that causes heavy constipation some users resort to taking laxatives every day which is addictive and dangerous this is the best thing to clear you out and move things along I have had two children and they send you home with a stool softener collace for me and this works far better than collace i started out about a week on just one large teaspoon i was very bloated and backed up the entire time it was not really doing much then i upped to two large teaspons without being graphic it completely fixed my problem although there were a few times if i had not been very close to a bathroom it could have resulted in a very traumatizing event i do not think it tastes bad at all i enjoy the warm drink in the evening i put honey in mine and use the natural one',\n",
              " 'when it comes to coffee i am somewhat picky but this is one of the better ones i bought on amazon so farwhile it is a dark roast it does not have the clearly burned taste i had to endure with many of the dark roast whole beans i tested during the last months sometimes it was outright tragic in that i tested a new one and it was really good just for the second batch i ordered to be so burned it was barely drinkablei am using these beans in my jura espresso machine with settings for strong brew they give me a pleasant and complex coffee the only complaint is that is is a little flat in the end but as i said when it comes to coffee i am very picky and these beans are definitely in the top 5 that i have tried so far and amongst those give the best value i ordered 2x 5 pound so far and both were not over roasted which seems to be a good sign too given my previous experiencesbottom line can recommend will buy again',\n",
              " 'the crystals dissolve easily and whip up just like regular fresh eggs the cooked scrambled eggs had the texture and flavor of real eggs',\n",
              " 'this is my alltime favorite i love that it is organic and the mint flavor is very good also white tea does not stain your teeth the way that some teas do',\n",
              " 'if you like real cinnamon flavored coffee this is the k cup for you i do not really taste anything like pastry but the cinnamon flavor is bold and enhances the coffee flavor i wish timothys would make a decaf version as i try not to drink too much caffeine while i also enjoy the german chocolate cake flavored coffee i do not think it has the stronger coffee flavor of the cinnamon pastry i have found the best prices for timothys coffee on amazon',\n",
              " 'i can not seem to find this in any store so i was very excited when i found it here this candy is my favorite great product great taste',\n",
              " 'after trying gu gel which made me gag i decided to try these beans the watermelon flavor was awesome no fake taste like the gels that I have tried they go down as easy as regular jellybeans do drink with water though to prevent stomach upset it tells you that on the box i have not had any problems with them at all as long as i drink water they give me the most energy of any I have tried plus caffeine which i really need before a run as i do not usually drink my daily coffee before running i would definitely buy these again',\n",
              " 'this is the only yogurt culture i will ever use it makes perfect fat free yogurt consistently every time i follow the package directions exactly 2 packets of culture added to heated then cooled milk the only changes i found i need to make is that i add the nonfat dry milk powder and 1 packet of knox gelatin after the milk heats to 81 degrees celsius i make 1 12 gallons of yogurt with this culture every week and it has never failed',\n",
              " 'dove has always been a product my whole family uses from our youngest to oldest all of my boyshusband includedhave extremely dry skin and dove seems to work the best this was a good price when you sign up for subscribe and save',\n",
              " 'excellent product if a little sweeti purchased it because i was unable to find my regular benecol products whilst on holiday in usanow i wish i could buy this product in the ukincidentally benecol has been really effective in reducing my cholesterol levels to acceptable levelsbenecol smart chews caramel 120 soft chews',\n",
              " 'i received this as part of the amazon vine programi now many review says is not strong coffee but for meit is just perfect it is not overpowering and a great flavori would says more like tea than coffeei think is great coffee and i love the little packsperfect for the officehighly recommend it',\n",
              " 'i really enjoyed this product it tastes good and is very close to the russian or iranian versions also the service and quick delivery were an added bonus i would highly recommend this product',\n",
              " 'i thought the chicken was going to be hard like chicken jerky but instead it is completely different the chicken is very soggy flimsy and smells terribly bad plus they should change the picture for the chicken flavor because that is not the correct bag in the picture the chicken looks hard and tasty but when i received this it looks completely different i got this for my pomeranian but he despises it but he likes other chicken treats that look like the one in the picture if you think your dog likes chicken flavored treats do not get himher this one i am rating the product on the way they display it not on the actual treat because pomeranians are picky just get this dogswell vitality for dogs if you think their to big then break them into smaller pieces it may be more expensive but it is a whole lot betteri contacted zukes and they said the pictures that amazon shows are old and not updated they told me they are supposed to be this way but no biggie because they send me 2 replacement bags and samples of the prime venison strips very berryz and mean greenz dog treats my dog likes all of the samples but not the chicken still get the venison instead of the chicken much better excellent service',\n",
              " 'i have really enjoyed this flour it has an even finer grind than bobs redmill brand it has an awesome flavor and works great for quickbreads muffins pancakes and other batter type items i have not figured out how to make a shaped loaf of bread with it very well yet but i hold out hope there is a way the lower gluten has made it easier for me to digest and i think the pros outweigh the cons i hope they continue to offer it at a competative price for a long time',\n",
              " 'i took my 10 year old cat in to the vet today for his yearly check up turns out my cat is the picture of health but needs to drop about 2 pounds the vet recommended i switch my cat over to this cat food i checked it out at the store but after reading the ingredients i thought this can not be right first its labeled for cats up to 6 years old second it appears to be jammed will fillers and third its rather pricey I am glad i came home and started researching this product and reading about others experiences with this food and I am definitely not feeding this stuff to my cat',\n",
              " 'crunchy addictioni treat my cats to 8 different temptations flavors and they love them all I am sure that giving them different flavors means more to me than it does to my cats they do not seem to chew them long enough to taste them but they insist on two or three each time they come in the house I am sure it is a form of addiction I am buying these on the subscribe save program which save money and time compared to buying them locallycats love these things',\n",
              " 'i say that they are instant noodles because to the uninitiated it might come as a shock that you actually have to boil the noodles rather than simply soak them in boiling hot water the preparation time is still very quick and it is definitely worth itthese noodles are far thicker and chewier than your standard supermarket top ramen noodles they also come with a spice package and a dry ingredients packet that contains bits of seaweed mushrooms and carrotsi usually only put in about 34 of the spice package and add extra ingredients like nappa cabbage shrimp scallops green onions mung bean sprouts andor an egg kimchi also goes really well with these noodlesthe bulk price that amazon offers is an excellent deal especially for people who do not have access to asian supermarkets it is the perfect food to have for when you want a quick and flavorful meal',\n",
              " 'great almost bitter chocolate but product listed at 25 pounds instead of 25 oz thought the price was too good to be true but still a good product received the well packaged shipment promptly and percentage of saleprofit reportedly going to helping endangered species',\n",
              " 'we have enjoyed a lot of the happy baby products and as our child gets older this has been a great way to get some veggies into the diet during the day',\n",
              " 'i wrote this review for the 15lb bag of this product but wanted to share this here for those who would prefer to purchase less or in the convenient packagesi love brown rice and for years have purchased a variety of rice products from organic growers i have also become a fan of truroots and the healthful organic products and their green approach to sustainable agriculture and clean production of their array of products this rice is the best i cooked it according to the basic directions on the truroots website the result was a rice that is nutty and especially flavorful with a fresh light taste it was not sticky or gummy and was a bit crunchy with just 25 minutes of cooking and 10 minutes of finishing rest time in the closed pot it can be cooked longer for a softer rice but i thought it was perfect as it was i made it to put in a onepot meal but after one taste i served it separately for the max impact of the flavor and texture my husband immediately said best rice ever i was concerned about buying so much at one time but the savings were worth it and i know now that we will be making this a staple of our riceaccompanied meals a visit to the truroots website provides meaningful info on their business production orientation and the healthful benefits of their products enjoy',\n",
              " 'i have been using both the blonde and regular for about a week now and really like the product i have recently started using organic products and this is one that i believe should be on everybodys list it is not too sweet which i really like and it dissolves quickly in warm beverages i look forward to using it with my holiday baking',\n",
              " 'with the subscription this item is 10 cheaper than costco plus no taxes and they ship it to your house can not get better than than',\n",
              " 'my cupboards are full of spam i use it lot makes great sandwiches and salads shipping was fast i reccommend hormel spam to all',\n",
              " 'looks fresh and clean i have roasted it in the toaster oven and i also use it in food whole or ground up in the coffee grinder',\n",
              " 'i love this sauce so much that i purchased this one for my dad sure i could pick this up at the local groceries for about 150 less but it is not the worse tradeoff for convenience',\n",
              " 'love the taste of these chips i guess they are a little better for you than other snack chips have a unique flavor i only get these on amazon when they have a good sale great alternative every so often',\n",
              " 'very disappointed made my cat sick total waste of money back to just eating tuna for our girl can not afford to waste money',\n",
              " 'i totally love this hazlenut coffee and was shocked when i went to reorder the canister 3 pack and found it was no longer available these individual packs might be nice to have in my purse when i am out and about but at approximately 25 cents a serving they make absolutely no sense to have in my kitchen i did find some canisters for sale on a kosher grocery website and just stocked up a bit more expensive than what i was paying on amazon but still a way better deal than these high priced singles i hope nescafe brings back the canisters or i will be looking for another brand of coffee so bummed out',\n",
              " 'i have three dog friends maggie my 14 year old aussie had some problems200000 worth of problems and she was so sick i thought of putting her down as it turns out there were several issues that the colo springs emergi vet and dr jaime gaynor fixed and one of them one food allergies that had caused severe problems after trying several foods and making all my own dog food we tried paul newman and all was well maggie and her friends thrived well our grocery stores did not always have it in stock and it ranged from 13 to 17 dollars for 7 pounds also at wal mart is was past its expiration date and rancid thank you amazon it comes freshit is so reasonably priced and it gets delivered on schedule which i can change at anytime as far as amount and delivery date i cannot thank you enough for carrying this food nor recommend it enough for other dogsour lives are busy i am a nurse and anything that is dependable easy reasonable comes with excellent customer service and my friends maggie lucy and honey stay healthy on it a gift for every day thank you',\n",
              " 'these are great for on the go i keep a couple in the diaper bag in case we get in a bind and need a quick snack',\n",
              " 'my husband loves clusters we can not find them anywhere in our area great find I will be back for more thanks much',\n",
              " 'i think what i like about the dark magic blend is that it has a slight complexity in its flavor that is not there in just regular bold or dark roast coffees at least none of the kcups I have tried some people here and there insist that it is terrible but i guess that is just how it goes with varying tastes it did not come off to me to be over acidic or any of that stuff and I am usually pretty picky and sensitive about my coffee the flavor is definitely at its peak with an 8oz brew maximum but you can still make 1012oz cups without really losing much of the quality i love it',\n",
              " 'this coffee has made it into our entire familys top favorite four coffees mild yet flavorful sweet but not overpowering a happy sip',\n",
              " 'received this in a timely manner as described white peppercorns are great for use in mashed potatoes when you do not want the pepper to show up but white pepper does have it is own unique flavor that is slightly different from black pepper because it is harvested at a different time and using a different process',\n",
              " 'you will get a bitter espresso if your grind is too fine it seems many people grind beans at the wrong setting using my burr grinder i set at medium to get a sugar grain size grind for the first test my grinder has 3 settings for medium i use the smallest medium setting next i move up to the middle medium setting to test again for taste i can go down to the highest fine setting but i do not find that setting as tasty as the medium settingcrema is easy to get so testing for flavor is the my procedure crema is more plentiful at my medium settings using my pump espresso machine this the best bean I have used in 3 years of pump espresso experience best taste best crema i do not use sugar or any sweetner mostly black cafe noir but i do use halfandhalf cafe au creme or 3 milk cafe au lait as well i can make a chocolate coffee by adding real chocolte syrupyour grinder may be different so may be your tasteif you grind too fine the shot is bitter crema is less and water flow may be poor even seeming to stop as though something is wrong with the machine you can test with a grind too fine if you like and the results may be as I have written hereyour espresso machine may be betterthis italian roast espresso works as drip coarse grind french press coarsest grind and espresso as described above it is an allaround bean iced coffee is goodthe fine even very fine powdery grind should make a turkish well enough but i regret to state I have not tried to make turkish',\n",
              " 'this was a gift for mom who had run out she swears by it for calming her stomach says it still works',\n",
              " 'i made some of this rice last night in my zojirushi rice maker and it turned out fantastic tastes great with chicken marsala made with pataks tikka masala curry cooking sauce and has a higher level of nutrition than standard brown or white rice',\n",
              " 'our old girl shiloh dal loves them they are the right size easy to handlei heartily recommend',\n",
              " 'i have tried a few of the cocoa cups and find this product about average unless you stir the cup the cocoa will taste watery for a few sips',\n",
              " 'I am not sure why some cat food gets a bad review because a cat does not eat it we have 7 here in our rural home plus some strays that stop by for a meal and though they can be finicky they all eat pretty much what we put in front of them when they are hungry they get fed 3 times a day and canned food is the morning meal so perhaps having nothing out from about 6 pm to 6 am makes this pretty inviting we have one cat that is about 17 years old and all she can eat is canned food i can not say how good it is but at less than 45 cents a can including shipping it is less than at the local food store that happens to be about 45 miles away as is the vet we feed them dry food the grain free expensive kind for the other 2 meals a day so the canned food is also a bargainwe had a cat develop a kidney stone with urinary problems and the vet claims it was from the poor ingredients in some dry cat food he wanted to put her on a special diet with a science diet special blend for urinary tract and then onto one of their regular formula kibble for life that seemed a little useless because we were feeding the cats some decent kibble to begin with like purina one we did a search and found that it was true that a lot of filler in most dry cat food was grain and that is hard for cats to process the diet we found involved a home made cat food of grinding up some rabbit or chicken and adding some vitamins tried it and it worked but it was a mess to make rabbit is not cheap or easy to find and it takes up a lot of freezer space back to another search and a viable alternative seemed to be canned cat food with some limitations and a grain free kibble the canned food does not have as much fillers and the main ones for us are poultry fish meats varieties in pate or gravy form that is what the cats are on now and the kidneyurinary problem is gone their coats are nicer their urine is less now because they do not have to consume so much water to process the grain feed and they really seem to like what they are eating we feed them friskies 9lives in the cans and blue buffalo wilderness merrick before grain felidae or taste of the wild in dry food the dry food is getting pricier the bags are getting smaller and the free shipping deals are disappearing so it is more of a challenge now to get a deal but when we do we buy extra can not say enough about how well this new diet seems to be working and any saved trip to a vet pays for a lot of foodas long as amazon keeps giving deals on this we will keep buying it the cats will keep eating it and that is worth 5 stars in my opinion we have subscribe save on some but thatll probably disappear soon since it is heavy to ship and it is recently disappeared on some of the bagged food or the price has gone up significantly I am posting this same review to every cat food we purchased rather than editing each to fit the particular brand',\n",
              " 'i received a small box of ahmad tea mango black tea in a gift basket it is not something i would have thought i would like when i tried it however i fell in love with it I have hardly used the coffee pot lately because i keep wanting more of this teathe tea retains it is black tea character but is made really special by the bright but not too fruity mango flavoringif you like flavored black teas particularly if you drink tea with milk as opposed to lemon you may just find this as surprising delightful and delicious as i did',\n",
              " 'very good quality cat food made at a human food factory with human grade ingredients the tuna used is the red meat from the skipjack tuna fish they get a variety so this is just part of their diet as i do not want to feed them tuna based foods as their primary source of protein healthy and cats love this i try to use this brand tiki cat weurva and then for dry food orijen cat food my himalayan cats are on a no grain no glutenfiller diet this wet food in combination with the dry has led to great coats no hair balls good energy and solid not too stinky poo',\n",
              " 'the problem is that i drink too much coffee when i have the kahlua coffee in the house instead of 12 cups a day i drink 5',\n",
              " 'I have always been a fan of bobs red mill flour ever since I have been cooking about six months ago i switched to a paleo glutenfree and mostly grain free diet and as such i needed something to fill in the gaps where i historically would have been using wheat flour along with bobs almond flour i use this coconut flour in many of my recipes great stuff constant quality and super easy to order using subscribe and save',\n",
              " 'an enjoyable tea i have only tried it hot not iced so i do not know how it is cold it is smooth and has a nice fruity blend of strawberry raspberry and acai',\n",
              " 'wow this thing really works to make my breads rise much better i think it even helps with shelf life of the bread the only downside is that this is really big it would probably be better for a small bakery than a home user like me but at this price who can resistdefinitely a good investment for anyone trying to improve the texture of their breads',\n",
              " 'i love my kuerig and amazoncoms selection of kcups is fabulous will buy here before anywhere else keep up the good selections',\n",
              " 'I have used clear scalp a few times and i must say their product never disappoints it smells great comes out nicely and leaves my hair with a nice shinethis volumizing root boost conditioner worked great my hair feels wonderful and even a little softer than it has before even after I am done using this conditioner i imagine I will continue to buy it for years to comeif you are looking for a new conditioner you really can not go wrong with clear scalp their products are amazing and very inexpensive',\n",
              " 'favorable tea that i would recommend too anyone excellent good tasting tea truely enjoy heard about the tea through an article written by dr oz',\n",
              " 'these jelly beans tasted like the real thing the kids had fun tasting the different and some disgusting flavors like dirt flavor for example i ordered more boxes',\n",
              " 'i use alot of this product I am thankful not to have to purchase lots of small containers that is too much wasteful plastic',\n",
              " 'blue diamond almonds are by far my favorite for flavor and texture my only minimal complaint about these is that they are very minimally spicy i was afraid to go for habenero in case they were too spicy but given that these are much more mild than jalepenos i will go for habanero next order',\n",
              " 'received 9 months ago basically a small stalk tied to a stick it has flourished currently a very full 13 tall and 18 wide it has lots of new growth and has become very full modest fertilizer and placed outside on table partially shaded during the summer it showed tremendous growth i transplanted into a small breathable fabric pot i am very happy with my purchase',\n",
              " 'i was not satisfied at first with this product after posting a less than glowing review i was immediately contacted by the seller distributor they graciously sent a new fresher bag of coffee this is much closer to what i remember try with sweetened condensed milk as suggested it is served that way in jamaica now if i only had some coco bread to go with itthank you for the prompt courteous service',\n",
              " 'over and over again i keep finding rotten or stinking beef steak in each carton the quality control is very poor at jack links',\n",
              " 'with other formulas my daughter had really bad gas pains and far more spitup incidents after switching to gentlease she has really thrived gaining weight appropriately and seeming tremendously happy with it and not so happy when we are 30 seconds slow in providing it to her das for the corn syrup solids this is simply there as a replacement for lactose which is removed from gentle formulas it has to be replaced by something so they use corn syrup solids i do not think there really is any major concern here as sugar generally is sugar once it is broken down in the body but i can see the reason for others to be concernedone thing i would like to see however is amazon include this on a subscription plan like amazon mom enfamil is not inexpensive and it is a regular consumable for my family',\n",
              " 'i bought this tea on a trip out of town and was very very pleased with it i have since been searching for it in my local grocery stores but have not had much success i have been trying to find a tea that can equal the flavor this one has and everything i try does not measure up i am very happy to find it here on amazon',\n",
              " 'i have been using the jello pudding for a number of years as a treat in my weight management program we have noticed that many of our supermarkets here in the desert do not carry all the flavors of this pudding and we began looking for them in every market where we shopped finally i went to amazon a place where i can find anything i want to buy at a good price and ordered 3 flavors we now have an assortment of the flavors we love pistashio butterscotch and chocolate whenever we want to make it for ourselves and we are happy campers',\n",
              " 'this line of happy tots is by far the best product on the market i have twin girls who are very picky eaters and these are the only ones they will eat they can feed themselves 14 months old and will gladly eat these whenever presented the only problem is they are hard to find I am hoping amazon picks them up soon',\n",
              " 'what is not to likei am satisfied with the price and delivery my friend loved itif you want to make someone happy buy this for them no diabetics',\n",
              " 'these are great you can buy them precooked from trader joes i recently bought them uncooked they taste great',\n",
              " 'rice sides herb butter was very tasty it was better than i thought it would be i intend to keep buying it',\n",
              " 'this is coffee with a kick that i personally did not care for even though i like a bold rich taste I am sure lots of navy guys will appreciate it',\n",
              " 'i love this tea i have bought many many flavors of stash tea and this one is by far my favorite it tastes almost as good as homemade lemonginger tea from fresh ingredientsit really is good not a mild flavored tea at all but that is why i like it it really is very very flavorfulit has a nice blend of both flavors',\n",
              " 'many snacks labeled healthy today still have hydrogenated oils in them garden of eatin snacks do not the taste is wonderful great with salsa andor guacamole the sesame seeds add a nice flavor without being overpowering my favorite chip for all occasions',\n",
              " 'this is a popular iranian dish the meal reaquires a lot of chopping and prepping with this you just add water and oil and it tastes very close to the real thing',\n",
              " 'I have been hearing a lot about goji berries so decided to try them for myself i found them to be remarkably full of flavor and loved the crunch too i will be adding these to yogurt waffles and tried them in a smoothie yum',\n",
              " 'delicious a much cheaper than the grocery store actually few stores carry this particular product so i was pleased to find it here',\n",
              " 'my all time favorite salsa used to get it from my local grocery store but moved to seattle it is not carried here looked on amazon sure enough here it is but seriously 17 for a jar of salsa clearly i will not be getting it here guess it is time to find a new favorite',\n",
              " 'love this tea it tastes as good as it smells unlike many teas that are fragrant but disappoint in the taste department i enjoy it with cookies for my afternoon snack i even add a little of it to my flavored black teas if i want them to be a little sweeter',\n",
              " 'the smell of this salt is quite strong and pungent even it only has 5 truffle in it i rated 4 stars because i wish it had 10 truffle I have used this salt to sprinkle over potato gratin steak gravy and sauteed mushrooms voila',\n",
              " 'once my family tasted these at a party i threw they love it when i bring them to their house to share for gatherings every person that has tried them love them very dense crisp and satisfying you will not know they are gluten freeyou will just know they taste better than the rest for those of us that are used to paying prices for gf food these are not that far off i also tend to savor them more knowing they are a bit more costly than the rest',\n",
              " 'i use this to cook with and feel better that i am not eating sugar and this is supposed to be healthier than other sugar substitutes',\n",
              " 'because of my genetics stevia will always be bitter to me I have tried other artificial sweeteners and stevia is by far the worse in bitterness no matter what brand i try i get no sweet taste at all however i have to limit my sugar intake and sometimes i just get tired of other drinks especially the carbonated ones i like the orange zevia because with the bitter stevia taste it reminds me a lot of the bitter orange or lightly sweetened orange sodas that i got in europe i have not tried the lemon or lime flavors but i imagine the citrus lends itself well to the bitter flavor',\n",
              " 'oh my wish it was not so expensive it is excellenthowever tastes great on a seasoned whole grain cracker with peanut butter think i should learn to make my own',\n",
              " 'this is a great addition to the lid line my allergic dog eats the venison formula and i got him this for some variety in his diet rabbit is also a great lean protein for him as he tends to gain weight i wanted to write this natural balance review because their products have helped my little guy so very much',\n",
              " 'seitenbacher is a fabulous soup mix one canister makes 40 cups of broth which makes it incredibly inexpensive it is also delicious it makes a truly versatile soup base people love my nabeyakiudon japanese noodle soup matzoah ball soup jewish dumpling soup golden lentil stew indian bean stew all of which have seitenbacher as the base it works for people with allergies and food sensitivities no gluten no lactose no msg no soy it is all natural and vegetarian no gelatin and i can not emphasize enough the rich deep flavor',\n",
              " 'if you like pink grapefruit you will love this product i am a huge pink grapefruit lover and i really did not expect a lot when i decided to buy these and give them a trythey are incrediblethey look like a grapefruit section and they are coated with sugar these are delicious and would go great at any party or just to have as a little treatother people have said that they are good in small doses but i would not want more than 56 pieces at a time anyway or else i would weigh 600 pounds these are perfect to have around for a little treat for the kids or friends i will definitely purchase these again',\n",
              " 'these are great they are easily cut into smaller piecesi cut each piece into 12 little treats each ends up being just 1 kcal per treat i worry less about fattening up my pup during training',\n",
              " 'i have a 10 month old boston terrier and i use these treats when we go to puppy class and when we do exercises at home he absolutely loves them and they are the perfect size for training and since they are only 2 calories each i do not feel too bad about giving him a handful my only complaints are that they are kind of stinky probably because of the fish oil but it is nothing unbearable and that because they are moist treats they can dry out easily if you forget to seal the bag completely other than that we both love these treats and i would recommend them to anyone',\n",
              " 'this redang curry sauce tastes really good either missus 1rude or i would have been pleased with a restaurant dish that delivered the flavor this box didwe were amazed at the high sugar fat and sodium content of just the contents of the package we prepared a veggie version that worked really well to try and mitigate that try it with tofu instead of beef the missus sauteed it with onions cabbage and carrots yum but that and cost would be the reasons why we would not make this a regular pantry item',\n",
              " 'this is so easy and sooooo good microwave in a few minutes chill for a few hours and you have this satin smooth luscious custard never fail add a dash of nutmeg and it looks and tastes just like grandma used to make can not beat it',\n",
              " 'these chips are a great treat when you are trying to stay away from conventional fried snacks the product arrived in perfect condition and freshness despite the challenges of shipping such a delicate product',\n",
              " 'can not beat this price and tastes decent impressed with the k cup design no mess will be buying more for sure',\n",
              " 'i drink this tea almost everyday with a bit of lemon it never fails to satisfy i used to drink straight green tea but the grassclipping flavor eventually began to nauseate me I am glad to have found this tasty alternative',\n",
              " 'I am a profecinal cat trainer and have used several different treats including rawfreezdried raw home made and comercial treats over the last 10 years these treats take the cake and run omg all cats clients cats love these treats they are the onlything i will ever use for training again best cat treat on the market just do not forget to cut them up in little pieces there to big for your average house catif you have a finiky cat that dosnt like to eat well here is your god send just crush some up and toss there food in it its a garanteed way to get them to start eating again do not use a ton since its high in fat',\n",
              " 'this product adds that bit of extra needed to enhance an otherwise dry or bland chicken dinner it is quick and easy when added to your chicken pan drippings it brings out the flavor to make it one of your best homecooked meals everbisto gravy granules for chicken 170g drum',\n",
              " 'i started feeding the baby with the formula since he was 3 weeks lack of my own milk i tried the enfamil did not stick with it and moved right to similac the blue one since i got it from the friend the baby did not have the stool for like 4 days and he was very uncomfortable also he was spitting too much tried similac orange the sensitive still no poopso i added some water and the same time changed to gerber poop came no more then 2 days later wo any help and he stayed regular every day almost the same time the formula has no added sugar like similac sensitive and i feel like i give him good nutritions and he is definitly gaining weight i recommend at least to try if you struggle finding the right formula i believe since the proteins are more broken down hydrolized he is digesting it better',\n",
              " 'bought these at costco for a few cents less and figure they will either double in price or never be in stock again glad to know they are here on amazon they are addictingly goodthe deep dark chocolate flavor is haunting i was looking for choc cherries but these will do nicely',\n",
              " 'this is my absolute favorite coffee flavor out there I am so glad it comes in kcups and I am glad it is so inexpensive',\n",
              " 'according to the box you could win a trip to the 2004 daytona 500 the 2004 daytona 500 so not only does this box contain delicious cake but it is also a frickin time machine huzzah',\n",
              " 'this is a huge and wonderful tasting roast it comes in a reusable foam container with dry ice and has a neat burlap bag around the roast they have sealed it in a cooking bag with all its juices so it can be placed right into the oven easily you have to make sure to carve it across the grain so the pork will melt in your mouth and believe me it does also it will feed a gob of hungry people this is a real people pleaser that you must try with the holidays just round the corner i plan to place my gift orders early because they have been known to run out they are so good and do not forget their hams and other products that are fantastic',\n",
              " 'i found this to be one of timothys least flavorful coffees as mentioned by other reviewers the pumpkin flavor was slight i also found that it had a watereddown coffee flavorand i did make it in the small cup optiongerman chocolate cake is my favorite so far and winter carnival is a close second',\n",
              " 'well dummy me i thought i was buying the energy drink but instead ordered the tea and lemonade i figured what the heck I will give it a try for the times i do not need to get my motor going got a shaker of ice and 18 oz water and did the tea and lemonade mix first well I will be no after taste like crystal lite and this is really pleasant to the palateokay so this was a well spent 1250 with free prime shipping i got 3 boxes of 24 total 72 servings for a 16 cents per serving cost cool i did notice the price was jacked up to 38 today whiskey tango foxtrotone complaint was the packing the boxes came a little crushed and the seams were also broken on the box the sleeves of powder are fine thoughjust ordered the energy version for just under 12 for 72',\n",
              " 'as a diabetic i look for a few special treats to help me when i need something sweet and one more sliced apple is just not going to work these little licorice bites red and black do the trick they give a good chew have a nice flavor and best of all no weird chemicaly aftertaste',\n",
              " 'i thought I would give blue horses 100 kona coffee a try since i had an amazon gift certificate from christmas i was not disappointed the aroma was fantastic and the flavor was incredible the price was not out of line for such delicious coffee but it is not something i could afford every day and just in case any of my family and friends are reading this review yes it is the perfect gift for me',\n",
              " 'i used this in making a wedding cake for some friends it tasted awesome mixed into the fodant i would purchase other flavorings from this vendor',\n",
              " 'if you like the sweet salty flavor combination this is the candy for you not an overwhelming bacon flavor only in some bites do you really get bacon more than salty but still a nice change from a regular hershey bar',\n",
              " 'i was so disappointed in this coffee i guess i was fooled by the oooh it is more expensive than the others there must be something special to it i have to try it oncei never get taken in by price there was absolutely nothing to it that was any better than other k cups from other brands that sell colombian coffee do not waste your money on it not worth it',\n",
              " 'my daughter who is in preschool loves these happy baby organic pouchesher tops flavor are the applecherry pear mango banana kiwi they are perfect chilled and very nutrient dense easy to throw in bag as the package is soft and bpa free',\n",
              " 'i love all the sanpellegrino sodas except the lemon one actually so i love the green red and orange color cans but not yellow and i bought this assuming it would be similar it is not really in the same vein at all as the others but it is fabulous first sip having no warning i did not love it but now that i know what is going on here i am thinking this would have been the wine substitute while i was pregnant i guess there may be other times in the future i need a nonalcoholic special beverage this is it',\n",
              " 'i love very much the natures purity of this product i appreciated very much that it is a very pure product with no extra additions to it eg no sugar coloring or other flavoring if one wants flavors it can be added to owns taste this product is delicious and i would definitely purchase it again i was happy to find this product in the usa because i am used to fantastic flavor of chestnut desserts in europe',\n",
              " 'this chai has good flavor but needs more black tea leaves to make a fully satisfying cup of tea it leans on cloves but not overly to my taste the tazo chai has more tea leaves and tastes very good if used properly 2 mugs of tea or an extra large mug from each tea bag I have gotten used to the stash spicing now have enjoyed 6 boxes and like to drink both the stash and the tazo also finished 6 boxes which i drink straight in succession in the morning then i switch to decaf tazo chai which is very good and makes 2 mugs per tea bag',\n",
              " 'if you have a brewer that makes the big cup size this is a great coffee to use in it very strong',\n",
              " 'i tried a bunch of the fruity larabar flavors and thought that they were all sickeningly sweet even with the coconut flavor that people seem to love i could not finish the box i just got the chocolate mint jocolate bars and i love them i think the coco cuts the sweetness a lot i also like the dryer texture of these rather than the sticky texture of the fruit bars the same things i like about these bars the one star reviews seem to really dislike so it seems like it is all about preference i do not like things that are super sweet i think milk chocolate is gross and when i eat chocolate i prefer 85 coco or above so maybe those things will be helpful to gauge if you will like these or not',\n",
              " 'if you do not love this stuff your from mars and not humansome do not like this cheese some like the old style powderbut i prefer the delux just my choice',\n",
              " 'I have started giving these to 2 of my dogs which are a very large breed they are not really old yet but we have mostly wood and tile floors which are hard on their joints so I have started giving them these in hopes of preventing to some extent damage and pain for them they love these my small dog is not very old but wants them too i do not think they are so good for her since she has thrown them up before the pieces are fairly large so the dog knows she is getting a real treat i have not found any flavor that they do not like although the beef seems to be their favorite i like that they seem to be a made in the usa product since i lost a dog during the bad dog food epidemic since then I have been very careful what i give my dogs',\n",
              " 'only 5mg sodium per serving chips are crisp i sometimes will dip in a low salt ketchup and that adds a bit to the flavor',\n",
              " 'it is a great product our standard poodle has a problem with keeping weight on even though he is a ravinous eater he put 5lbs on and looks great we add the canned dog food to his dry with a little water also never a problem with shipping or packaging',\n",
              " 'my baby likes the mac n cheese in the jars so when i could not find the jars at the store i was at i tried these mac n cheeses thinking they were the same they are not she does not like these maybe it is a texture issue mainly as these are much runnier than the jar kind looking for more mac n cheese jars',\n",
              " 'please do not buy this product because it does not work the glue is very weak and the moths just fly in and out of the trap',\n",
              " 'taste nirvana real coconut water is excellent and farsuperior in flavor to zico or vitaalthough i was pleased with one coconut water i triedtaste nirvana and i am happy i didit is tasty and refreshinglow in calories it provides potassium withoutexcess salt and there is no sugar addedi live in florida and coconuts do grow in south floridahowever many of the coconut palms were killed or damagedby the 2010 freezemy father has often brought home tender coconuts and drilledholes in the eyes 3 to drain the coconut water for methe meat in a green young coconut is softer and more gelatinousthan that in a mature coconut we call it coconut jellydepending on its size a tender coconut green coconutcontains 300 to 1000 ml of coconut watera coconut palm tree can yield 30 to 75 coconuts per yearbut more often yields less than 30i have reordered and i also ordered taste nirvana realcoconut water with pulp',\n",
              " 'these lowfat frosted strawberry ones taste just as good as the others i honestly can not tell the difference',\n",
              " 'i expected a nice rich vanilla cappucino flavor instead got a very weak taste very disappointingthis is the second grove square product i tried and both were unsatisfying',\n",
              " 'after many years of calm geriatric dogs that were long past their chewing and playing days we added a 15month old weimaraner rescue to our house as 2012 started he is adapting to life outside of the rescue home and we are adapting the doublebarreled threat of a highenergy breed and what can only be described as lingering puppy brain in the full size body of a grown dogthere are toys for exuberant play such as the kong wubba and there are toys for quieter times and to fully satisfy a dogs need to chewfirst the dog loves this chew and when he engages with it the result is an extended period of time when we does so in one place very much unlike other toys which generated motion and noisesecond it is odor and splinter free we do not find pieces of it laying around and it has no smell at least to us twolegged crittersthis was recommended to us by a local dog specialty store and the research I have done indicates far fewer concerns about its safety compared with other chew optionsmakes our dog happy and let us him turn down his motor a bit what is not to like',\n",
              " 'an amazingly flavorful hard candy which just like their gummy products hit the flavor of the real fruit spot on all of the kosugai product are very high quality the flavors are incredibly juicy and true to life mainly because the actual fruit is a main ingredient but its not anything like those fruit leathers this is an actual candy it is the closest thing to eating the actual fruit as it gets in terms of juiciness and flavor i buy these all the time now i love all the flavors particularly the mangosteen lychee kiwi and strawberry',\n",
              " 'very happy with the product and shipping thanks always like doing business with amazon',\n",
              " 'this is a breakfast blend coffee and for many coffee producers a breakfast blend also means the strongest daggone brew we can make mentality well caffeine is caffeine and this guy is a bit strong for me i prefer caribous breakfast blend over this green mountain version it is just entirely more smooth no bitterness at all and just a very enjoyable cup of coffee i think this one tastes a bit burnt like starbucks not at all as nice as some of their other blends especially the pumpkin spice awesome try it to see if it suits your taste but get the 12pack first otherwise if you think the way i do 24 of these guys is a lot of coffee to wash down',\n",
              " 'after researching non processed cats foods on the web innova came in at the top 5 i decided to start my cat on this food I am not sure what this cat was eating before but he loves this food compared to the cheap crap you buy at your local grocery store i adopted this cat a few months ago i highly recommend this food if you want your cat to live a long healthy life',\n",
              " 'my dogs love the dogswell supplements made from chicken so i assumed they would also like the sweet potato supplements neither of them would eat it even my aggressive chewing lab did not like these they are almost impossible to chew unless i soak them in boiling water for at least 30 minutes which presumably would leech the nutrients from the chews when the lab first tried these they cut her gums and when she would leave pieces of the chew on the floor if i stepped on them before noticing them they would cut my foot i noticed this about all the varieties of dogswells sweet potato chews i threw them all out',\n",
              " 'this is a perfect product if you want something that tastes good is easily portable and supplies a good dose of energy without caffeine jitters',\n",
              " 'i have been using dreamfields pasta for the past year it tastes amazing in fact i like it better than regular pasta it never clumps together when cooked as a recently diagnosed diabetic i have noted that my blood sugars do not soar up following a dreamfields pasta meal that is a bonus given that most high carb meals because a huge peak in blood sugars we do not have it available locally so i order it through amazon and it usually arrives within a week great product and will continue to purchase it',\n",
              " 'my son takes a snack everyday and he loves the kind protein bars they arrived very fast and a great deal',\n",
              " 'i tried the french herb kit first and found the lamb very successful i tried this one next and my husband who really likes paella found this recipe very tasty even my young boys liked it a loti love the packaging and idea',\n",
              " 'will never buy again ended up taking one bite and throwing the entire box out',\n",
              " 'i have a new found love for spicy foods i like traditional sriracha but found this while eating at newks and fell in love this sriracha has more of a garlic flavor to it than traditional sriracha and is slightly less spicy everyone i have let try it loves it it is great on everything',\n",
              " 'i have a lot of allergies so i am often making things from scratch for myself one of the things i have to make is chocolate and these little cocoa butter bits are perfect for blending in with bakers chocolate to get a smooth shiny base I am also working on a white chocolate recipe and cinnamon roll frosting with them very good for the money',\n",
              " 'made in the usone ingredient and i can pronounce it100 liver my dog loves it its freeze dried so does not have a strong odoroverall a great product',\n",
              " 'i love peach drinks and was excited to try this but what a letdown it tasted okay at first sorta then the aftertaste kicked in maybe the other flavors are okay but this one is a definate will not buy again',\n",
              " 'food was fragrant for dry cat food but my cat hated this food he is not normally a picky eater but he refused to eat this food',\n",
              " 'i really loved the results that this gave me the acai berry100 juice by genesis is extremely thick not watered down at all it is not your typical tasting juice though it is not sugared up or watered down it is the real deal so the taste is somewhat unigue a bit getting use to i guess but the results are amazing the thickness is exactly what people are looking for you can tell it is what they claim it is I have seen other acai berry liguids claiming that they are 100 acai berry but the liguid is so watery watered down i took this product along with green kamut i got some awesome results lost several lbs i enjoy taking it with cold apple juice i continue to take it absolutely love it would definitely recommend to others',\n",
              " 'extremely confusing trying to order a preordered item ended up with three but your return process was very good it needs to fix the links from the notification email that item was in love amazon mostly',\n",
              " 'i have a male cat who has a digestive disorder that gives him a very sensitive stomach this is one of the few foods that he will tolerate my other female cat can eat a wider variety of foods but she likes this food too my only complaints are the cost and the fact that i can only buy it online sometimes with shipping delays i practically run out and panic because if my male cat is thrown off of his routine he may get sick i always have to have this cat food in the back of my mind and it would be nice if it were more widely available',\n",
              " 'i am hooked this is a great way to get more fluids into my day without making it seem like a chore this powder tastes great without any additional sweeteners it is just what i have been looking for also try the blueberry version delicious',\n",
              " 'my three dogs like it a lot and my problem dogs skin has improved dramaticallyhis hair his growing back and his skin is not red and itchy anymore ivebtried the blue dogfood and it did not work at all',\n",
              " 'these gingerbread milk chocolate covered hearts are devine if you have never tried them you have no idea of what you are missing trust me you must buy them they are heaven in every bite',\n",
              " 'china dieter tea has been a great product i would but again it works andalso great for detoxing',\n",
              " 'i bought this on a whim because it was on sale how fortuitous it is one of the besttasting teas I have ever had and I will definitely buy it againit is black tea which means that it is caffeinated so it is a great latenight studying drink during finals week and a toothsome alternative to coffee it tastes a lot like gingerbread to me and i suppose this is supported by the vanilla and cinnamon aromas it smells so good that i keep going to my cupboard and opening up the box just to smell it again it tastes like there is sugar in it but the ingredients list does not register any so the spices must do all the work in summary a superlative and sweet tea',\n",
              " 'i love this tea it is my favorite i drink it at least twice a day it has just theright amount of flavor and i have no need for sugar with it',\n",
              " 'i purchased this as a fathers day gift from my daughter age 6 to her dad she could hardly wait to have him open it when they opened it together he had as much fun reminiscing about the items in the box as she did sampling them they really bonded over this silly box of candy great gift even if it is a lot to spend for candy',\n",
              " 'i can not argue with the other reviewers if the description truly labeled this as gluten free but graham reflers to flour from wheat which leads me to think one should have questioned any gluten free claim this graham crust is delicious it works with all of my easy crust pie recipes and has no ingredients i do not want my family to eat it comes wrapped well and in perfect shape my local health food store only carries this crust periodically so i am truly grateful to amazon for having it available to me when i need it',\n",
              " 'i grew up in southern california so I have had my share of sweet corn cakes at local restaurants this mix is a great way to make these at home i prepared a package of these for a friend of mine who lives on the east coast and had never tried a corn cakeshe is now addicted but can not find them at her local store thank goodness for amazon',\n",
              " 'my uncle introduced this brand to my mom at a bbq he had last summer and explained this is what he uses on ribs and chicken to get it so good yes he was right my mom passed down the info to me i been trying it with my crockpot bbqs george foreman showtime rotisserie flavorwave bbqs etc and yes the outdoor bbqs let us not forget those this is a extremely good sauce that is all i am going to say as to not give away to many spoilers but this sauce is the sauce so to speak and great price for it to i use it frequently and buy it exclusivity now',\n",
              " 'i can not believe how gross these bars are they sounded pretty good and after reading the other reviews i thought I would give them a try i sure wish i had not now i am stuck with a whole box and i could not even gag one of them down they have the worst aftertaste it does not even taste like edible food they are greasy and taste like vomit sorry to sound so dramatic but i want to prevent you from making the same mistake i did and save you your money do not buy themps is there anybody out there who actually likes them and wants to buy a case minus 1 off of me I will sell them for cheap 0',\n",
              " 'pops well with air popper decent flavor though may want to add a low sodium topping fast ship good value who could ask for anything more',\n",
              " 'torani sugar free syrups are fabulous i love adding them to nonfat plain greek yogurt and in italian sodas i pay 699 at world market for all other flavors but they do not have lemon so',\n",
              " 'this shelter kitty had tried it all but since being fed whiskas purrfectly chicken he will not consider anything else he prepares to eat if i offer somthing else but stops short of the bowl like he is sniffing his food and turns his head and walks away he will not eat any other of this brands products nor any other brand no matter how expensive the pouch is not convenient but the fact that i know he will eat and enjoy his food makes up for it',\n",
              " 'kettle chips are a high quality product the chips are thicker than regular chips and you can always tell that the individual ingredients being used are of really good qualitythis buffalo bleu flavor is tangy with just a hint of sweet they taste wonderful',\n",
              " 'good price and great taste you can tell it is organic and of good quality i will definitely buy it again and probably even try the white tea as well',\n",
              " 'the red bag of eight of the clock coffee with its mild to medium strength smoothness and low acidity has been a favorite of mine dating back to the time when it was known as red circle in its previous incarnation the red bag was the middle of the line of the coffees of the great atlantic and pacific tea company which some will remember as the a p food market long before it was purchased and led into bankruptcy by a foreign purchaser the full line up of a p coffees was yellow bag eight of the clock red bag red circle black bag bokar that order represented the relative strength of the respective blends fortunately for coffee lovers after a p spun off their coffee line into a company called compass foods the coffee operation was purchased by tata tea a subsidiary of the larger tata group sometime earlier the yellow bag blend was dropped and eight of the clock name was appended to the midlevel blend the black bag now represents the varietal offering of columbian beans another hallmark of eight of the clock is its consistency from bag to bag month to month and year to year a true testament to the blending and roasting skills of the manufacturer add the convenience of amazon and the price advantage over local grocery chains and you truly have a winning combination',\n",
              " 'recently i was given several types of cheeses by a friend my favorite cheese has always been the bleu cheeses but i had no idea so many varieties existed and how different they are in taste texture saltiness and smell previously i did not think there was much of a difference between them i did something i had never done before namely went to a store with a large cheese department and bought several types of bleu cheese my intention was to see if there really was a difference between them i was astounded at how many varieties there were and how they differed in price of the various bleu cheeses i have been buying the valdeon is by far my favorite it is not as salty nor does it have the biting taste that many others have it also crumbles much easier than many of the others making it easier to add in a salad',\n",
              " 'i ordered lucky country licorice black cheery 16 oz tubs pack of 4 and that is not what i received i was sent black currant which is awful so now what do i do',\n",
              " 'i used to buy only coffee that i could grind in the supermarket since i wanted the best possible espresso from my machine however i just moved to an urban area where i am unable to grind my own coffee conveniently outside my home so i searched on amazon and found this coffee which has excellent reviews i figured it could not be better than freshly ground coffee but that it was better than getting some old gross coffee from the convenience store across the street much to my and my boyfriends surprise this coffee makes much better espresso than any other coffee we have tried over the past few years and we have tried many including expensive coffee from whole foods i do not know about the other blends from this brand but if you like strong rich espresso this one is amazing try it and you will see',\n",
              " 'i absolutely love this brand i tried the chicken one and my kittens adored it but we traveled steadily in june so i could not really get deliveries from amazon like i needed i supplemented with petcos soulistic food because i read that weruva is contracted to make that brand my kitties really dig it too but heres the difference between the two with weruva they eat a lot less and bulk up more 2 cans a day for both of my 5 mo old kitties is enough for them with soulistic they cannot stop eating it and one of my kitties still has a very lithe body so I am back to weruva mack and jack this time and i mix in solid gold seameal nutritional supplement that i purchase here i mix extra water with the seameal and mix it in the food about 34 cup because we are in the desert and although we have ac it is still 100 outsidei bought a 6lb bag of dry salmon halo for them this goaround and they are so used to not having an dry food at all so their bodies do not like it very well after half of this case of weruva is gone i will initiate them into an all raw diet i am also going to put soil in their litter box instead of all this other stuff even though i am very happy with my kitten attract litter',\n",
              " 'excellent product sweet tasty and the kids love themgreat for parties or any hot summer dayall of the flavors taste great',\n",
              " ...]"
            ]
          },
          "metadata": {
            "tags": []
          },
          "execution_count": 24
        }
      ]
    },
    {
      "cell_type": "markdown",
      "metadata": {
        "colab_type": "text",
        "id": "ucDv8n50RaFu"
      },
      "source": [
        "# Traditional Supervised Machine Learning Models"
      ]
    },
    {
      "cell_type": "markdown",
      "metadata": {
        "colab_type": "text",
        "id": "AOZ7Rn0jRaFv"
      },
      "source": [
        "## Feature Engineering"
      ]
    },
    {
      "cell_type": "code",
      "metadata": {
        "colab_type": "code",
        "id": "JD8q5QoERaFw",
        "outputId": "9154525f-d649-4407-9bb4-29e7c0e1635e",
        "colab": {
          "base_uri": "https://localhost:8080/",
          "height": 50
        }
      },
      "source": [
        "%%time\n",
        "\n",
        "from sklearn.feature_extraction.text import CountVectorizer, TfidfVectorizer\n",
        "\n",
        "# build BOW features on train reviews\n",
        "cv = CountVectorizer(binary=False, min_df=5, max_df=1.0, ngram_range=(1,2))\n",
        "cv_train_features = cv.fit_transform(norm_train_reviews)\n",
        "\n",
        "\n",
        "# build TFIDF features on train reviews\n",
        "tv = TfidfVectorizer(use_idf=True, min_df=5, max_df=1.0, ngram_range=(1,2),\n",
        "                     sublinear_tf=True)\n",
        "tv_train_features = tv.fit_transform(norm_train_reviews)"
      ],
      "execution_count": 25,
      "outputs": [
        {
          "output_type": "stream",
          "text": [
            "CPU times: user 6.92 s, sys: 58.1 ms, total: 6.98 s\n",
            "Wall time: 6.99 s\n"
          ],
          "name": "stdout"
        }
      ]
    },
    {
      "cell_type": "code",
      "metadata": {
        "colab_type": "code",
        "id": "sSvqpHRYRaFz",
        "outputId": "1421991b-e871-4772-cce7-d6d660d7e0ee",
        "colab": {
          "base_uri": "https://localhost:8080/",
          "height": 50
        }
      },
      "source": [
        "%%time\n",
        "\n",
        "# transform test reviews into features\n",
        "cv_test_features = cv.transform(norm_test_reviews)\n",
        "tv_test_features = tv.transform(norm_test_reviews)"
      ],
      "execution_count": 26,
      "outputs": [
        {
          "output_type": "stream",
          "text": [
            "CPU times: user 4.25 s, sys: 4.1 ms, total: 4.25 s\n",
            "Wall time: 4.27 s\n"
          ],
          "name": "stdout"
        }
      ]
    },
    {
      "cell_type": "code",
      "metadata": {
        "colab_type": "code",
        "id": "mfQPYw8PRaF2",
        "outputId": "9cd658a7-fceb-4f54-f467-cd16def95cb3",
        "colab": {
          "base_uri": "https://localhost:8080/",
          "height": 50
        }
      },
      "source": [
        "print('BOW model:> Train features shape:', cv_train_features.shape, ' Test features shape:', cv_test_features.shape)\n",
        "print('TFIDF model:> Train features shape:', tv_train_features.shape, ' Test features shape:', tv_test_features.shape)"
      ],
      "execution_count": 27,
      "outputs": [
        {
          "output_type": "stream",
          "text": [
            "BOW model:> Train features shape: (17000, 41090)  Test features shape: (17000, 41090)\n",
            "TFIDF model:> Train features shape: (17000, 41090)  Test features shape: (17000, 41090)\n"
          ],
          "name": "stdout"
        }
      ]
    },
    {
      "cell_type": "markdown",
      "metadata": {
        "colab_type": "text",
        "id": "3aUUsxMrRaF7"
      },
      "source": [
        "## Model Training, Prediction and Performance Evaluation"
      ]
    },
    {
      "cell_type": "markdown",
      "metadata": {
        "colab_type": "text",
        "id": "nPA5UtYFRaF8"
      },
      "source": [
        "### Try out Logistic Regression\n",
        "\n",
        "The logistic regression model is actually a statistical model developed by statistician\n",
        "David Cox in 1958. It is also known as the logit or logistic model since it uses the\n",
        "logistic (popularly also known as sigmoid) mathematical function to estimate the\n",
        "parameter values. These are the coefficients of all our features such that the overall loss\n",
        "is minimized when predicting the outcome—"
      ]
    },
    {
      "cell_type": "code",
      "metadata": {
        "colab_type": "code",
        "id": "JGHQErnMRaF9",
        "outputId": "e24789c8-adf9-4500-9525-93411eec88ae",
        "colab": {
          "base_uri": "https://localhost:8080/",
          "height": 50
        }
      },
      "source": [
        "%%time\n",
        "\n",
        "# Logistic Regression model on BOW features\n",
        "from sklearn.linear_model import LogisticRegression\n",
        "\n",
        "# instantiate model\n",
        "lr = LogisticRegression(penalty='l2', max_iter=500, C=1, solver='lbfgs', random_state=42)\n",
        "\n",
        "# train model\n",
        "lr.fit(cv_train_features, train_sentiments)\n",
        "\n",
        "# predict on test data\n",
        "lr_bow_predictions = lr.predict(cv_test_features)"
      ],
      "execution_count": 28,
      "outputs": [
        {
          "output_type": "stream",
          "text": [
            "CPU times: user 5.57 s, sys: 3.93 s, total: 9.5 s\n",
            "Wall time: 4.85 s\n"
          ],
          "name": "stdout"
        }
      ]
    },
    {
      "cell_type": "code",
      "metadata": {
        "colab_type": "code",
        "id": "wqeRyayrRaGA",
        "outputId": "37bb9a4a-3c11-4316-fff8-4097865a970f",
        "colab": {
          "base_uri": "https://localhost:8080/",
          "height": 257
        }
      },
      "source": [
        "from sklearn.metrics import confusion_matrix, classification_report\n",
        "\n",
        "labels = ['negative', 'positive']\n",
        "print(classification_report(test_sentiments, lr_bow_predictions))\n",
        "pd.DataFrame(confusion_matrix(test_sentiments, lr_bow_predictions), index=labels, columns=labels)"
      ],
      "execution_count": 29,
      "outputs": [
        {
          "output_type": "stream",
          "text": [
            "              precision    recall  f1-score   support\n",
            "\n",
            "           0       0.99      0.97      0.98      2652\n",
            "           1       0.99      1.00      1.00     14348\n",
            "\n",
            "    accuracy                           0.99     17000\n",
            "   macro avg       0.99      0.98      0.99     17000\n",
            "weighted avg       0.99      0.99      0.99     17000\n",
            "\n"
          ],
          "name": "stdout"
        },
        {
          "output_type": "execute_result",
          "data": {
            "text/html": [
              "<div>\n",
              "<style scoped>\n",
              "    .dataframe tbody tr th:only-of-type {\n",
              "        vertical-align: middle;\n",
              "    }\n",
              "\n",
              "    .dataframe tbody tr th {\n",
              "        vertical-align: top;\n",
              "    }\n",
              "\n",
              "    .dataframe thead th {\n",
              "        text-align: right;\n",
              "    }\n",
              "</style>\n",
              "<table border=\"1\" class=\"dataframe\">\n",
              "  <thead>\n",
              "    <tr style=\"text-align: right;\">\n",
              "      <th></th>\n",
              "      <th>negative</th>\n",
              "      <th>positive</th>\n",
              "    </tr>\n",
              "  </thead>\n",
              "  <tbody>\n",
              "    <tr>\n",
              "      <th>negative</th>\n",
              "      <td>2564</td>\n",
              "      <td>88</td>\n",
              "    </tr>\n",
              "    <tr>\n",
              "      <th>positive</th>\n",
              "      <td>32</td>\n",
              "      <td>14316</td>\n",
              "    </tr>\n",
              "  </tbody>\n",
              "</table>\n",
              "</div>"
            ],
            "text/plain": [
              "          negative  positive\n",
              "negative      2564        88\n",
              "positive        32     14316"
            ]
          },
          "metadata": {
            "tags": []
          },
          "execution_count": 29
        }
      ]
    },
    {
      "cell_type": "code",
      "metadata": {
        "colab_type": "code",
        "id": "uQEAz6O6RaGC",
        "outputId": "15d7eba0-db3f-44f4-8076-395d2da89ee5",
        "colab": {
          "base_uri": "https://localhost:8080/",
          "height": 50
        }
      },
      "source": [
        "%%time\n",
        "\n",
        "# Logistic Regression model on TF-IDF features\n",
        "\n",
        "# train model\n",
        "lr.fit(tv_train_features, train_sentiments)\n",
        "\n",
        "# predict on test data\n",
        "lr_tfidf_predictions = lr.predict(tv_test_features)"
      ],
      "execution_count": 30,
      "outputs": [
        {
          "output_type": "stream",
          "text": [
            "CPU times: user 845 ms, sys: 567 ms, total: 1.41 s\n",
            "Wall time: 738 ms\n"
          ],
          "name": "stdout"
        }
      ]
    },
    {
      "cell_type": "code",
      "metadata": {
        "colab_type": "code",
        "id": "HNCfZnUORaGE",
        "outputId": "11e0f63f-1cc5-4cd8-f25b-d860ff400454",
        "colab": {
          "base_uri": "https://localhost:8080/",
          "height": 257
        }
      },
      "source": [
        "labels = ['negative', 'positive']\n",
        "print(classification_report(test_sentiments, lr_tfidf_predictions))\n",
        "pd.DataFrame(confusion_matrix(test_sentiments, lr_tfidf_predictions), index=labels, columns=labels)"
      ],
      "execution_count": 31,
      "outputs": [
        {
          "output_type": "stream",
          "text": [
            "              precision    recall  f1-score   support\n",
            "\n",
            "           0       0.97      0.52      0.68      2652\n",
            "           1       0.92      1.00      0.96     14348\n",
            "\n",
            "    accuracy                           0.92     17000\n",
            "   macro avg       0.95      0.76      0.82     17000\n",
            "weighted avg       0.93      0.92      0.91     17000\n",
            "\n"
          ],
          "name": "stdout"
        },
        {
          "output_type": "execute_result",
          "data": {
            "text/html": [
              "<div>\n",
              "<style scoped>\n",
              "    .dataframe tbody tr th:only-of-type {\n",
              "        vertical-align: middle;\n",
              "    }\n",
              "\n",
              "    .dataframe tbody tr th {\n",
              "        vertical-align: top;\n",
              "    }\n",
              "\n",
              "    .dataframe thead th {\n",
              "        text-align: right;\n",
              "    }\n",
              "</style>\n",
              "<table border=\"1\" class=\"dataframe\">\n",
              "  <thead>\n",
              "    <tr style=\"text-align: right;\">\n",
              "      <th></th>\n",
              "      <th>negative</th>\n",
              "      <th>positive</th>\n",
              "    </tr>\n",
              "  </thead>\n",
              "  <tbody>\n",
              "    <tr>\n",
              "      <th>negative</th>\n",
              "      <td>1389</td>\n",
              "      <td>1263</td>\n",
              "    </tr>\n",
              "    <tr>\n",
              "      <th>positive</th>\n",
              "      <td>41</td>\n",
              "      <td>14307</td>\n",
              "    </tr>\n",
              "  </tbody>\n",
              "</table>\n",
              "</div>"
            ],
            "text/plain": [
              "          negative  positive\n",
              "negative      1389      1263\n",
              "positive        41     14307"
            ]
          },
          "metadata": {
            "tags": []
          },
          "execution_count": 31
        }
      ]
    },
    {
      "cell_type": "markdown",
      "metadata": {
        "colab_type": "text",
        "id": "FoOoEAiXRaGH"
      },
      "source": [
        "### Try out Random Forest\n",
        "\n",
        "Decision trees are a family of supervised machine learning algorithms that can represent\n",
        "and interpret sets of rules automatically from the underlying data. They use metrics like\n",
        "information gain and gini-index to build the tree. However, a major drawback of decision\n",
        "trees is that since they are non-parametric, the more data there is, greater the depth of\n",
        "the tree. We can end up with really huge and deep trees that are prone to overfitting. The\n",
        "model might work really well on training data, but instead of learning, it just memorizes\n",
        "all the training samples and builds very specific rules to them. Hence, it performs really\n",
        "poorly on the test data. Random forests try to tackle this problem.\n",
        "\n",
        "A random forest is a meta-estimator or an ensemble model that fits a number of\n",
        "decision tree classifiers on various sub-samples of the dataset and uses averaging to\n",
        "improve the predictive accuracy and control over-fitting. The sub-sample size is always\n",
        "the same as the original input sample size, but the samples are drawn with replacement\n",
        "(bootstrap samples). In random forests, all the trees are trained in parallel (bagging\n",
        "model/bootstrap aggregation). Besides this, each tree in the ensemble is built from a\n",
        "sample drawn with replacement (i.e., a bootstrap sample) from the training set. Also,\n",
        "when splitting a node during the construction of the tree, the split that is chosen is no\n",
        "longer the best split among all features. Instead, the split that is picked is the best split\n",
        "among a random subset of the features. T"
      ]
    },
    {
      "cell_type": "code",
      "metadata": {
        "colab_type": "code",
        "id": "YzaSSOpYRaGH",
        "outputId": "3bac9930-3aae-4e53-eace-32bb06231bdf",
        "colab": {
          "base_uri": "https://localhost:8080/",
          "height": 50
        }
      },
      "source": [
        "%%time\n",
        "\n",
        "# Random Forest model on BOW features\n",
        "from sklearn.ensemble import RandomForestClassifier\n",
        "\n",
        "# instantiate model\n",
        "rf = RandomForestClassifier(n_estimators=100, n_jobs=-1, random_state=42)\n",
        "\n",
        "# train model\n",
        "rf.fit(cv_train_features, train_sentiments)\n",
        "\n",
        "# predict on test data\n",
        "rf_bow_predictions = rf.predict(cv_test_features)"
      ],
      "execution_count": 32,
      "outputs": [
        {
          "output_type": "stream",
          "text": [
            "CPU times: user 32.8 s, sys: 42.6 ms, total: 32.9 s\n",
            "Wall time: 17 s\n"
          ],
          "name": "stdout"
        }
      ]
    },
    {
      "cell_type": "code",
      "metadata": {
        "colab_type": "code",
        "id": "617Kuv7_RaGJ",
        "outputId": "9188a4c8-48ce-4af8-b506-a41d71babf37",
        "colab": {
          "base_uri": "https://localhost:8080/",
          "height": 257
        }
      },
      "source": [
        "labels = ['negative', 'positive']\n",
        "print(classification_report(test_sentiments, rf_bow_predictions))\n",
        "pd.DataFrame(confusion_matrix(test_sentiments, rf_bow_predictions), index=labels, columns=labels)"
      ],
      "execution_count": 33,
      "outputs": [
        {
          "output_type": "stream",
          "text": [
            "              precision    recall  f1-score   support\n",
            "\n",
            "           0       1.00      0.92      0.96      2652\n",
            "           1       0.99      1.00      0.99     14348\n",
            "\n",
            "    accuracy                           0.99     17000\n",
            "   macro avg       0.99      0.96      0.98     17000\n",
            "weighted avg       0.99      0.99      0.99     17000\n",
            "\n"
          ],
          "name": "stdout"
        },
        {
          "output_type": "execute_result",
          "data": {
            "text/html": [
              "<div>\n",
              "<style scoped>\n",
              "    .dataframe tbody tr th:only-of-type {\n",
              "        vertical-align: middle;\n",
              "    }\n",
              "\n",
              "    .dataframe tbody tr th {\n",
              "        vertical-align: top;\n",
              "    }\n",
              "\n",
              "    .dataframe thead th {\n",
              "        text-align: right;\n",
              "    }\n",
              "</style>\n",
              "<table border=\"1\" class=\"dataframe\">\n",
              "  <thead>\n",
              "    <tr style=\"text-align: right;\">\n",
              "      <th></th>\n",
              "      <th>negative</th>\n",
              "      <th>positive</th>\n",
              "    </tr>\n",
              "  </thead>\n",
              "  <tbody>\n",
              "    <tr>\n",
              "      <th>negative</th>\n",
              "      <td>2445</td>\n",
              "      <td>207</td>\n",
              "    </tr>\n",
              "    <tr>\n",
              "      <th>positive</th>\n",
              "      <td>1</td>\n",
              "      <td>14347</td>\n",
              "    </tr>\n",
              "  </tbody>\n",
              "</table>\n",
              "</div>"
            ],
            "text/plain": [
              "          negative  positive\n",
              "negative      2445       207\n",
              "positive         1     14347"
            ]
          },
          "metadata": {
            "tags": []
          },
          "execution_count": 33
        }
      ]
    },
    {
      "cell_type": "code",
      "metadata": {
        "colab_type": "code",
        "id": "WdvmBOrPRaGM",
        "outputId": "9d08255f-a225-4ba1-911d-623b0364224e",
        "colab": {
          "base_uri": "https://localhost:8080/",
          "height": 50
        }
      },
      "source": [
        "%%time\n",
        "\n",
        "# Random Forest model on TF-IDF features\n",
        "\n",
        "# train model\n",
        "rf.fit(tv_train_features, train_sentiments)\n",
        "\n",
        "# predict on test data\n",
        "rf_tfidf_predictions = rf.predict(tv_test_features)"
      ],
      "execution_count": 34,
      "outputs": [
        {
          "output_type": "stream",
          "text": [
            "CPU times: user 34.8 s, sys: 51.3 ms, total: 34.9 s\n",
            "Wall time: 18 s\n"
          ],
          "name": "stdout"
        }
      ]
    },
    {
      "cell_type": "code",
      "metadata": {
        "colab_type": "code",
        "id": "8hBOMh6uRaGP",
        "outputId": "5df67536-96ad-4da2-d10f-707e837f61bf",
        "colab": {
          "base_uri": "https://localhost:8080/",
          "height": 257
        }
      },
      "source": [
        "labels = ['negative', 'positive']\n",
        "print(classification_report(test_sentiments, rf_tfidf_predictions))\n",
        "pd.DataFrame(confusion_matrix(test_sentiments, rf_tfidf_predictions), index=labels, columns=labels)"
      ],
      "execution_count": 36,
      "outputs": [
        {
          "output_type": "stream",
          "text": [
            "              precision    recall  f1-score   support\n",
            "\n",
            "           0       1.00      0.92      0.96      2652\n",
            "           1       0.99      1.00      0.99     14348\n",
            "\n",
            "    accuracy                           0.99     17000\n",
            "   macro avg       0.99      0.96      0.98     17000\n",
            "weighted avg       0.99      0.99      0.99     17000\n",
            "\n"
          ],
          "name": "stdout"
        },
        {
          "output_type": "execute_result",
          "data": {
            "text/html": [
              "<div>\n",
              "<style scoped>\n",
              "    .dataframe tbody tr th:only-of-type {\n",
              "        vertical-align: middle;\n",
              "    }\n",
              "\n",
              "    .dataframe tbody tr th {\n",
              "        vertical-align: top;\n",
              "    }\n",
              "\n",
              "    .dataframe thead th {\n",
              "        text-align: right;\n",
              "    }\n",
              "</style>\n",
              "<table border=\"1\" class=\"dataframe\">\n",
              "  <thead>\n",
              "    <tr style=\"text-align: right;\">\n",
              "      <th></th>\n",
              "      <th>negative</th>\n",
              "      <th>positive</th>\n",
              "    </tr>\n",
              "  </thead>\n",
              "  <tbody>\n",
              "    <tr>\n",
              "      <th>negative</th>\n",
              "      <td>2447</td>\n",
              "      <td>205</td>\n",
              "    </tr>\n",
              "    <tr>\n",
              "      <th>positive</th>\n",
              "      <td>0</td>\n",
              "      <td>14348</td>\n",
              "    </tr>\n",
              "  </tbody>\n",
              "</table>\n",
              "</div>"
            ],
            "text/plain": [
              "          negative  positive\n",
              "negative      2447       205\n",
              "positive         0     14348"
            ]
          },
          "metadata": {
            "tags": []
          },
          "execution_count": 36
        }
      ]
    },
    {
      "cell_type": "markdown",
      "metadata": {
        "colab_type": "text",
        "id": "QoqZhMQFRaGS"
      },
      "source": [
        "# Newer Supervised Deep Learning Models"
      ]
    },
    {
      "cell_type": "code",
      "metadata": {
        "colab_type": "code",
        "id": "QZw6LYNHRaGT",
        "colab": {}
      },
      "source": [
        "import gensim\n",
        "from tensorflow import keras\n",
        "from tensorflow.keras.models import Sequential\n",
        "from tensorflow.keras.layers import Dropout, Activation, Dense\n",
        "from sklearn.preprocessing import LabelEncoder"
      ],
      "execution_count": 0,
      "outputs": []
    },
    {
      "cell_type": "markdown",
      "metadata": {
        "colab_type": "text",
        "id": "GiZbcv_gRaGZ"
      },
      "source": [
        "## Prediction class label encoding"
      ]
    },
    {
      "cell_type": "code",
      "metadata": {
        "colab_type": "code",
        "id": "JnhC4rWaRaGb",
        "colab": {}
      },
      "source": [
        "le = LabelEncoder()\n",
        "# tokenize train reviews & encode train labels\n",
        "tokenized_train = [nltk.word_tokenize(text)\n",
        "                       for text in norm_train_reviews]\n",
        "y_train = le.fit_transform(train_sentiments)\n",
        "# tokenize test reviews & encode test labels\n",
        "tokenized_test = [nltk.word_tokenize(text)\n",
        "                       for text in norm_test_reviews]\n",
        "y_test = le.fit_transform(test_sentiments)"
      ],
      "execution_count": 0,
      "outputs": []
    },
    {
      "cell_type": "code",
      "metadata": {
        "colab_type": "code",
        "id": "4ogDRDh4RaGg",
        "outputId": "9f59951c-5125-4346-f1c5-3c611a897c14",
        "colab": {
          "base_uri": "https://localhost:8080/",
          "height": 100
        }
      },
      "source": [
        "# print class label encoding map and encoded labels\n",
        "print('Sentiment class label map:', dict(zip(le.classes_, le.transform(le.classes_))))\n",
        "print('Sample test label transformation:\\n'+'-'*35,\n",
        "      '\\nActual Labels:', test_sentiments[:3], '\\nEncoded Labels:', y_test[:3])"
      ],
      "execution_count": 39,
      "outputs": [
        {
          "output_type": "stream",
          "text": [
            "Sentiment class label map: {0: 0, 1: 1}\n",
            "Sample test label transformation:\n",
            "----------------------------------- \n",
            "Actual Labels: [1 1 1] \n",
            "Encoded Labels: [1 1 1]\n"
          ],
          "name": "stdout"
        }
      ]
    },
    {
      "cell_type": "markdown",
      "metadata": {
        "colab_type": "text",
        "id": "hdexbrYXRaGk"
      },
      "source": [
        "## Feature Engineering with word embeddings"
      ]
    },
    {
      "cell_type": "code",
      "metadata": {
        "colab_type": "code",
        "id": "G5S0u0BbiN2a",
        "colab": {}
      },
      "source": [
        "import logging\n",
        "logging.basicConfig(format='%(asctime)s : %(levelname)s : %(message)s', level=logging.INFO)"
      ],
      "execution_count": 0,
      "outputs": []
    },
    {
      "cell_type": "code",
      "metadata": {
        "colab_type": "code",
        "id": "T9kfCw6LRaGl",
        "outputId": "8c26bfec-6e7e-4177-ce9a-51bf98ddac74",
        "colab": {
          "base_uri": "https://localhost:8080/",
          "height": 1000
        }
      },
      "source": [
        "%%time\n",
        "# build word2vec model\n",
        "w2v_num_features = 300\n",
        "w2v_model = gensim.models.Word2Vec(tokenized_train, size=w2v_num_features, window=150,\n",
        "                                   min_count=10, workers=4, iter=5)    "
      ],
      "execution_count": 41,
      "outputs": [
        {
          "output_type": "stream",
          "text": [
            "2019-09-16 14:07:43,035 : INFO : collecting all words and their counts\n",
            "2019-09-16 14:07:43,036 : INFO : PROGRESS: at sentence #0, processed 0 words, keeping 0 word types\n",
            "2019-09-16 14:07:43,201 : INFO : PROGRESS: at sentence #10000, processed 786775 words, keeping 29049 word types\n",
            "2019-09-16 14:07:43,314 : INFO : collected 39884 word types from a corpus of 1339532 raw words and 17000 sentences\n",
            "2019-09-16 14:07:43,316 : INFO : Loading a fresh vocabulary\n",
            "2019-09-16 14:07:43,355 : INFO : effective_min_count=10 retains 5534 unique words (13% of original 39884, drops 34350)\n",
            "2019-09-16 14:07:43,357 : INFO : effective_min_count=10 leaves 1275473 word corpus (95% of original 1339532, drops 64059)\n",
            "2019-09-16 14:07:43,379 : INFO : deleting the raw counts dictionary of 39884 items\n",
            "2019-09-16 14:07:43,381 : INFO : sample=0.001 downsamples 57 most-common words\n",
            "2019-09-16 14:07:43,382 : INFO : downsampling leaves estimated 912293 word corpus (71.5% of prior 1275473)\n",
            "2019-09-16 14:07:43,399 : INFO : estimated required memory for 5534 words and 300 dimensions: 16048600 bytes\n",
            "2019-09-16 14:07:43,400 : INFO : resetting layer weights\n",
            "2019-09-16 14:07:43,486 : INFO : training model with 4 workers on 5534 vocabulary and 300 features, using sg=0 hs=0 sample=0.001 negative=5 window=150\n",
            "2019-09-16 14:07:44,581 : INFO : EPOCH 1 - PROGRESS: at 11.65% examples, 92765 words/s, in_qsize 7, out_qsize 0\n",
            "2019-09-16 14:07:45,638 : INFO : EPOCH 1 - PROGRESS: at 24.03% examples, 100540 words/s, in_qsize 7, out_qsize 0\n",
            "2019-09-16 14:07:46,779 : INFO : EPOCH 1 - PROGRESS: at 36.60% examples, 100581 words/s, in_qsize 7, out_qsize 0\n",
            "2019-09-16 14:07:47,827 : INFO : EPOCH 1 - PROGRESS: at 49.01% examples, 102834 words/s, in_qsize 7, out_qsize 0\n",
            "2019-09-16 14:07:48,975 : INFO : EPOCH 1 - PROGRESS: at 61.58% examples, 102306 words/s, in_qsize 7, out_qsize 0\n",
            "2019-09-16 14:07:50,098 : INFO : EPOCH 1 - PROGRESS: at 74.93% examples, 103319 words/s, in_qsize 7, out_qsize 0\n",
            "2019-09-16 14:07:51,101 : INFO : EPOCH 1 - PROGRESS: at 86.75% examples, 103923 words/s, in_qsize 7, out_qsize 0\n",
            "2019-09-16 14:07:52,050 : INFO : worker thread finished; awaiting finish of 3 more threads\n",
            "2019-09-16 14:07:52,061 : INFO : worker thread finished; awaiting finish of 2 more threads\n",
            "2019-09-16 14:07:52,136 : INFO : EPOCH 1 - PROGRESS: at 99.24% examples, 104801 words/s, in_qsize 1, out_qsize 1\n",
            "2019-09-16 14:07:52,140 : INFO : worker thread finished; awaiting finish of 1 more threads\n",
            "2019-09-16 14:07:52,142 : INFO : worker thread finished; awaiting finish of 0 more threads\n",
            "2019-09-16 14:07:52,145 : INFO : EPOCH - 1 : training on 1339532 raw words (911967 effective words) took 8.7s, 105416 effective words/s\n",
            "2019-09-16 14:07:53,240 : INFO : EPOCH 2 - PROGRESS: at 11.58% examples, 92784 words/s, in_qsize 7, out_qsize 0\n",
            "2019-09-16 14:07:54,251 : INFO : EPOCH 2 - PROGRESS: at 24.03% examples, 102844 words/s, in_qsize 7, out_qsize 0\n",
            "2019-09-16 14:07:55,303 : INFO : EPOCH 2 - PROGRESS: at 35.13% examples, 100646 words/s, in_qsize 7, out_qsize 0\n",
            "2019-09-16 14:07:56,346 : INFO : EPOCH 2 - PROGRESS: at 46.93% examples, 101510 words/s, in_qsize 7, out_qsize 0\n",
            "2019-09-16 14:07:57,379 : INFO : EPOCH 2 - PROGRESS: at 58.63% examples, 102250 words/s, in_qsize 7, out_qsize 0\n",
            "2019-09-16 14:07:58,405 : INFO : EPOCH 2 - PROGRESS: at 70.56% examples, 102753 words/s, in_qsize 7, out_qsize 0\n",
            "2019-09-16 14:07:59,450 : INFO : EPOCH 2 - PROGRESS: at 83.16% examples, 103760 words/s, in_qsize 7, out_qsize 0\n",
            "2019-09-16 14:08:00,530 : INFO : EPOCH 2 - PROGRESS: at 95.48% examples, 104138 words/s, in_qsize 6, out_qsize 0\n",
            "2019-09-16 14:08:00,699 : INFO : worker thread finished; awaiting finish of 3 more threads\n",
            "2019-09-16 14:08:00,789 : INFO : worker thread finished; awaiting finish of 2 more threads\n",
            "2019-09-16 14:08:00,792 : INFO : worker thread finished; awaiting finish of 1 more threads\n",
            "2019-09-16 14:08:00,808 : INFO : worker thread finished; awaiting finish of 0 more threads\n",
            "2019-09-16 14:08:00,809 : INFO : EPOCH - 2 : training on 1339532 raw words (912392 effective words) took 8.7s, 105409 effective words/s\n",
            "2019-09-16 14:08:01,850 : INFO : EPOCH 3 - PROGRESS: at 11.65% examples, 97981 words/s, in_qsize 7, out_qsize 0\n",
            "2019-09-16 14:08:02,857 : INFO : EPOCH 3 - PROGRESS: at 24.03% examples, 105818 words/s, in_qsize 7, out_qsize 0\n",
            "2019-09-16 14:08:03,862 : INFO : EPOCH 3 - PROGRESS: at 33.69% examples, 99848 words/s, in_qsize 7, out_qsize 0\n",
            "2019-09-16 14:08:04,867 : INFO : EPOCH 3 - PROGRESS: at 45.52% examples, 101798 words/s, in_qsize 7, out_qsize 0\n",
            "2019-09-16 14:08:05,878 : INFO : EPOCH 3 - PROGRESS: at 57.25% examples, 102910 words/s, in_qsize 7, out_qsize 0\n",
            "2019-09-16 14:08:06,958 : INFO : EPOCH 3 - PROGRESS: at 69.78% examples, 103486 words/s, in_qsize 7, out_qsize 0\n",
            "2019-09-16 14:08:07,972 : INFO : EPOCH 3 - PROGRESS: at 81.63% examples, 103899 words/s, in_qsize 7, out_qsize 0\n",
            "2019-09-16 14:08:09,024 : INFO : EPOCH 3 - PROGRESS: at 93.29% examples, 103789 words/s, in_qsize 7, out_qsize 0\n",
            "2019-09-16 14:08:09,424 : INFO : worker thread finished; awaiting finish of 3 more threads\n",
            "2019-09-16 14:08:09,429 : INFO : worker thread finished; awaiting finish of 2 more threads\n",
            "2019-09-16 14:08:09,472 : INFO : worker thread finished; awaiting finish of 1 more threads\n",
            "2019-09-16 14:08:09,485 : INFO : worker thread finished; awaiting finish of 0 more threads\n",
            "2019-09-16 14:08:09,485 : INFO : EPOCH - 3 : training on 1339532 raw words (912336 effective words) took 8.7s, 105239 effective words/s\n",
            "2019-09-16 14:08:10,563 : INFO : EPOCH 4 - PROGRESS: at 11.58% examples, 94439 words/s, in_qsize 7, out_qsize 0\n",
            "2019-09-16 14:08:11,638 : INFO : EPOCH 4 - PROGRESS: at 24.03% examples, 100565 words/s, in_qsize 7, out_qsize 0\n",
            "2019-09-16 14:08:12,794 : INFO : EPOCH 4 - PROGRESS: at 36.60% examples, 100149 words/s, in_qsize 7, out_qsize 0\n",
            "2019-09-16 14:08:13,904 : INFO : EPOCH 4 - PROGRESS: at 49.01% examples, 101132 words/s, in_qsize 7, out_qsize 0\n",
            "2019-09-16 14:08:14,964 : INFO : EPOCH 4 - PROGRESS: at 60.79% examples, 101338 words/s, in_qsize 7, out_qsize 0\n",
            "2019-09-16 14:08:16,014 : INFO : EPOCH 4 - PROGRESS: at 73.46% examples, 102664 words/s, in_qsize 7, out_qsize 0\n",
            "2019-09-16 14:08:17,085 : INFO : EPOCH 4 - PROGRESS: at 86.09% examples, 103271 words/s, in_qsize 7, out_qsize 0\n",
            "2019-09-16 14:08:18,122 : INFO : EPOCH 4 - PROGRESS: at 97.77% examples, 103422 words/s, in_qsize 3, out_qsize 1\n",
            "2019-09-16 14:08:18,126 : INFO : worker thread finished; awaiting finish of 3 more threads\n",
            "2019-09-16 14:08:18,147 : INFO : worker thread finished; awaiting finish of 2 more threads\n",
            "2019-09-16 14:08:18,178 : INFO : worker thread finished; awaiting finish of 1 more threads\n",
            "2019-09-16 14:08:18,198 : INFO : worker thread finished; awaiting finish of 0 more threads\n",
            "2019-09-16 14:08:18,199 : INFO : EPOCH - 4 : training on 1339532 raw words (912217 effective words) took 8.7s, 104787 effective words/s\n",
            "2019-09-16 14:08:19,276 : INFO : EPOCH 5 - PROGRESS: at 11.65% examples, 94466 words/s, in_qsize 7, out_qsize 0\n",
            "2019-09-16 14:08:20,296 : INFO : EPOCH 5 - PROGRESS: at 24.03% examples, 103406 words/s, in_qsize 7, out_qsize 0\n",
            "2019-09-16 14:08:21,478 : INFO : EPOCH 5 - PROGRESS: at 36.60% examples, 101063 words/s, in_qsize 8, out_qsize 1\n",
            "2019-09-16 14:08:22,582 : INFO : EPOCH 5 - PROGRESS: at 49.14% examples, 101875 words/s, in_qsize 7, out_qsize 0\n",
            "2019-09-16 14:08:23,596 : INFO : EPOCH 5 - PROGRESS: at 60.79% examples, 102791 words/s, in_qsize 7, out_qsize 0\n",
            "2019-09-16 14:08:24,707 : INFO : EPOCH 5 - PROGRESS: at 73.46% examples, 102935 words/s, in_qsize 7, out_qsize 0\n",
            "2019-09-16 14:08:25,714 : INFO : EPOCH 5 - PROGRESS: at 85.41% examples, 103501 words/s, in_qsize 7, out_qsize 0\n",
            "2019-09-16 14:08:26,750 : INFO : EPOCH 5 - PROGRESS: at 97.03% examples, 103653 words/s, in_qsize 4, out_qsize 0\n",
            "2019-09-16 14:08:26,832 : INFO : worker thread finished; awaiting finish of 3 more threads\n",
            "2019-09-16 14:08:26,837 : INFO : worker thread finished; awaiting finish of 2 more threads\n",
            "2019-09-16 14:08:26,899 : INFO : worker thread finished; awaiting finish of 1 more threads\n",
            "2019-09-16 14:08:26,913 : INFO : worker thread finished; awaiting finish of 0 more threads\n",
            "2019-09-16 14:08:26,914 : INFO : EPOCH - 5 : training on 1339532 raw words (912345 effective words) took 8.7s, 104781 effective words/s\n",
            "2019-09-16 14:08:26,916 : INFO : training on a 6697660 raw words (4561257 effective words) took 43.4s, 105028 effective words/s\n"
          ],
          "name": "stderr"
        },
        {
          "output_type": "stream",
          "text": [
            "CPU times: user 1min 25s, sys: 160 ms, total: 1min 25s\n",
            "Wall time: 43.9 s\n"
          ],
          "name": "stdout"
        }
      ]
    },
    {
      "cell_type": "code",
      "metadata": {
        "colab_type": "code",
        "id": "QUZHFsj8RaGo",
        "colab": {}
      },
      "source": [
        "def averaged_word2vec_vectorizer(corpus, model, num_features):\n",
        "    vocabulary = set(model.wv.index2word)\n",
        "    \n",
        "    def average_word_vectors(words, model, vocabulary, num_features):\n",
        "        feature_vector = np.zeros((num_features,), dtype=\"float64\")\n",
        "        nwords = 0.\n",
        "        \n",
        "        for word in words:\n",
        "            if word in vocabulary: \n",
        "                nwords = nwords + 1.\n",
        "                feature_vector = np.add(feature_vector, model.wv[word])\n",
        "        if nwords:\n",
        "            feature_vector = np.divide(feature_vector, nwords)\n",
        "\n",
        "        return feature_vector\n",
        "\n",
        "    features = [average_word_vectors(tokenized_sentence, model, vocabulary, num_features)\n",
        "                    for tokenized_sentence in corpus]\n",
        "    return np.array(features)"
      ],
      "execution_count": 0,
      "outputs": []
    },
    {
      "cell_type": "code",
      "metadata": {
        "colab_type": "code",
        "id": "zWfcUVixRaGr",
        "colab": {}
      },
      "source": [
        "# generate averaged word vector features from word2vec model\n",
        "avg_wv_train_features = averaged_word2vec_vectorizer(corpus=tokenized_train, model=w2v_model,\n",
        "                                                     num_features=w2v_num_features)\n",
        "avg_wv_test_features = averaged_word2vec_vectorizer(corpus=tokenized_test, model=w2v_model,\n",
        "                                                    num_features=w2v_num_features)"
      ],
      "execution_count": 0,
      "outputs": []
    },
    {
      "cell_type": "code",
      "metadata": {
        "colab_type": "code",
        "id": "3GMe1dCfRaGw",
        "outputId": "fdf80e48-1e7c-4e31-d434-952a99f1c5dd",
        "colab": {
          "base_uri": "https://localhost:8080/",
          "height": 33
        }
      },
      "source": [
        "print('Word2Vec model:> Train features shape:', avg_wv_train_features.shape, ' Test features shape:', avg_wv_test_features.shape)"
      ],
      "execution_count": 44,
      "outputs": [
        {
          "output_type": "stream",
          "text": [
            "Word2Vec model:> Train features shape: (17000, 300)  Test features shape: (17000, 300)\n"
          ],
          "name": "stdout"
        }
      ]
    },
    {
      "cell_type": "markdown",
      "metadata": {
        "colab_type": "text",
        "id": "8mSFQ9H0RaGy"
      },
      "source": [
        "## Modeling with deep neural networks "
      ]
    },
    {
      "cell_type": "markdown",
      "metadata": {
        "colab_type": "text",
        "id": "-oz9gtU9RaGz"
      },
      "source": [
        "### Building Deep neural network architecture"
      ]
    },
    {
      "cell_type": "code",
      "metadata": {
        "colab_type": "code",
        "id": "eCI0uEBIRaGz",
        "colab": {}
      },
      "source": [
        "def construct_deepnn_architecture(num_input_features):\n",
        "    dnn_model = Sequential()\n",
        "    dnn_model.add(Dense(512, input_shape=(num_input_features,)))\n",
        "    dnn_model.add(Activation('relu'))\n",
        "    dnn_model.add(Dropout(0.2))\n",
        "    \n",
        "    dnn_model.add(Dense(256))\n",
        "    dnn_model.add(Activation('relu'))\n",
        "    dnn_model.add(Dropout(0.2))\n",
        "    \n",
        "    dnn_model.add(Dense(256))\n",
        "    dnn_model.add(Activation('relu'))\n",
        "    dnn_model.add(Dropout(0.2))\n",
        "    \n",
        "    dnn_model.add(Dense(1))\n",
        "    dnn_model.add(Activation('sigmoid'))\n",
        "\n",
        "    dnn_model.compile(loss='binary_crossentropy', optimizer='adam',                 \n",
        "                      metrics=['accuracy'])\n",
        "    return dnn_model"
      ],
      "execution_count": 0,
      "outputs": []
    },
    {
      "cell_type": "code",
      "metadata": {
        "colab_type": "code",
        "id": "3cQpTH6FRaG1",
        "outputId": "f394e23b-b711-48ca-baa4-f18287336cad",
        "colab": {
          "base_uri": "https://localhost:8080/",
          "height": 237
        }
      },
      "source": [
        "w2v_dnn = construct_deepnn_architecture(num_input_features=w2v_num_features)"
      ],
      "execution_count": 46,
      "outputs": [
        {
          "output_type": "stream",
          "text": [
            "WARNING:tensorflow:From /usr/local/lib/python3.6/dist-packages/tensorflow/python/ops/init_ops.py:1251: calling VarianceScaling.__init__ (from tensorflow.python.ops.init_ops) with dtype is deprecated and will be removed in a future version.\n",
            "Instructions for updating:\n",
            "Call initializer instance with the dtype argument instead of passing it to the constructor\n"
          ],
          "name": "stdout"
        },
        {
          "output_type": "stream",
          "text": [
            "2019-09-16 14:08:36,364 : WARNING : From /usr/local/lib/python3.6/dist-packages/tensorflow/python/ops/init_ops.py:1251: calling VarianceScaling.__init__ (from tensorflow.python.ops.init_ops) with dtype is deprecated and will be removed in a future version.\n",
            "Instructions for updating:\n",
            "Call initializer instance with the dtype argument instead of passing it to the constructor\n"
          ],
          "name": "stderr"
        },
        {
          "output_type": "stream",
          "text": [
            "WARNING:tensorflow:From /usr/local/lib/python3.6/dist-packages/tensorflow/python/ops/nn_impl.py:180: add_dispatch_support.<locals>.wrapper (from tensorflow.python.ops.array_ops) is deprecated and will be removed in a future version.\n",
            "Instructions for updating:\n",
            "Use tf.where in 2.0, which has the same broadcast rule as np.where\n"
          ],
          "name": "stdout"
        },
        {
          "output_type": "stream",
          "text": [
            "2019-09-16 14:08:36,560 : WARNING : From /usr/local/lib/python3.6/dist-packages/tensorflow/python/ops/nn_impl.py:180: add_dispatch_support.<locals>.wrapper (from tensorflow.python.ops.array_ops) is deprecated and will be removed in a future version.\n",
            "Instructions for updating:\n",
            "Use tf.where in 2.0, which has the same broadcast rule as np.where\n"
          ],
          "name": "stderr"
        }
      ]
    },
    {
      "cell_type": "markdown",
      "metadata": {
        "colab_type": "text",
        "id": "GBzbo-YlRaG4"
      },
      "source": [
        "### Visualize sample deep architecture"
      ]
    },
    {
      "cell_type": "code",
      "metadata": {
        "colab_type": "code",
        "id": "0fuhzYagRaG5",
        "outputId": "c4aa6acf-8234-49e8-a6ca-10033beedb1f",
        "colab": {
          "base_uri": "https://localhost:8080/",
          "height": 518
        }
      },
      "source": [
        "w2v_dnn.summary()"
      ],
      "execution_count": 47,
      "outputs": [
        {
          "output_type": "stream",
          "text": [
            "Model: \"sequential\"\n",
            "_________________________________________________________________\n",
            "Layer (type)                 Output Shape              Param #   \n",
            "=================================================================\n",
            "dense (Dense)                (None, 512)               154112    \n",
            "_________________________________________________________________\n",
            "activation (Activation)      (None, 512)               0         \n",
            "_________________________________________________________________\n",
            "dropout (Dropout)            (None, 512)               0         \n",
            "_________________________________________________________________\n",
            "dense_1 (Dense)              (None, 256)               131328    \n",
            "_________________________________________________________________\n",
            "activation_1 (Activation)    (None, 256)               0         \n",
            "_________________________________________________________________\n",
            "dropout_1 (Dropout)          (None, 256)               0         \n",
            "_________________________________________________________________\n",
            "dense_2 (Dense)              (None, 256)               65792     \n",
            "_________________________________________________________________\n",
            "activation_2 (Activation)    (None, 256)               0         \n",
            "_________________________________________________________________\n",
            "dropout_2 (Dropout)          (None, 256)               0         \n",
            "_________________________________________________________________\n",
            "dense_3 (Dense)              (None, 1)                 257       \n",
            "_________________________________________________________________\n",
            "activation_3 (Activation)    (None, 1)                 0         \n",
            "=================================================================\n",
            "Total params: 351,489\n",
            "Trainable params: 351,489\n",
            "Non-trainable params: 0\n",
            "_________________________________________________________________\n"
          ],
          "name": "stdout"
        }
      ]
    },
    {
      "cell_type": "markdown",
      "metadata": {
        "colab_type": "text",
        "id": "s-COslmPRaG8"
      },
      "source": [
        "### Model Training, Prediction and Performance Evaluation"
      ]
    },
    {
      "cell_type": "code",
      "metadata": {
        "colab_type": "code",
        "id": "0kcisAskRaG8",
        "outputId": "0b880d35-f1fe-4bc1-b92d-a42523227146",
        "colab": {
          "base_uri": "https://localhost:8080/",
          "height": 385
        }
      },
      "source": [
        "batch_size = 100\n",
        "w2v_dnn.fit(avg_wv_train_features, y_train, epochs=10, batch_size=batch_size, \n",
        "            shuffle=True, validation_split=0.1, verbose=1)"
      ],
      "execution_count": 48,
      "outputs": [
        {
          "output_type": "stream",
          "text": [
            "Train on 15300 samples, validate on 1700 samples\n",
            "Epoch 1/10\n",
            "15300/15300 [==============================] - 2s 112us/sample - loss: 0.3143 - acc: 0.8676 - val_loss: 0.2727 - val_acc: 0.8800\n",
            "Epoch 2/10\n",
            "15300/15300 [==============================] - 1s 54us/sample - loss: 0.2834 - acc: 0.8806 - val_loss: 0.2707 - val_acc: 0.8771\n",
            "Epoch 3/10\n",
            "15300/15300 [==============================] - 1s 50us/sample - loss: 0.2782 - acc: 0.8814 - val_loss: 0.2727 - val_acc: 0.8818\n",
            "Epoch 4/10\n",
            "15300/15300 [==============================] - 1s 51us/sample - loss: 0.2702 - acc: 0.8853 - val_loss: 0.2681 - val_acc: 0.8782\n",
            "Epoch 5/10\n",
            "15300/15300 [==============================] - 1s 54us/sample - loss: 0.2615 - acc: 0.8884 - val_loss: 0.2767 - val_acc: 0.8718\n",
            "Epoch 6/10\n",
            "15300/15300 [==============================] - 1s 51us/sample - loss: 0.2591 - acc: 0.8916 - val_loss: 0.2725 - val_acc: 0.8812\n",
            "Epoch 7/10\n",
            "15300/15300 [==============================] - 1s 52us/sample - loss: 0.2540 - acc: 0.8915 - val_loss: 0.2731 - val_acc: 0.8847\n",
            "Epoch 8/10\n",
            "15300/15300 [==============================] - 1s 49us/sample - loss: 0.2471 - acc: 0.8945 - val_loss: 0.2694 - val_acc: 0.8818\n",
            "Epoch 9/10\n",
            "15300/15300 [==============================] - 1s 51us/sample - loss: 0.2409 - acc: 0.8974 - val_loss: 0.2765 - val_acc: 0.8859\n",
            "Epoch 10/10\n",
            "15300/15300 [==============================] - 1s 51us/sample - loss: 0.2361 - acc: 0.8999 - val_loss: 0.2744 - val_acc: 0.8853\n"
          ],
          "name": "stdout"
        },
        {
          "output_type": "execute_result",
          "data": {
            "text/plain": [
              "<tensorflow.python.keras.callbacks.History at 0x7fa4f8c01cc0>"
            ]
          },
          "metadata": {
            "tags": []
          },
          "execution_count": 48
        }
      ]
    },
    {
      "cell_type": "code",
      "metadata": {
        "colab_type": "code",
        "id": "7C1gcc4iRaG-",
        "outputId": "bd061435-d1e4-402f-bca9-3ff7432c0c8e",
        "colab": {
          "base_uri": "https://localhost:8080/",
          "height": 70
        }
      },
      "source": [
        "y_pred = w2v_dnn.predict_classes(avg_wv_test_features)\n",
        "predictions = le.inverse_transform(y_pred) "
      ],
      "execution_count": 49,
      "outputs": [
        {
          "output_type": "stream",
          "text": [
            "/usr/local/lib/python3.6/dist-packages/sklearn/preprocessing/label.py:273: DataConversionWarning: A column-vector y was passed when a 1d array was expected. Please change the shape of y to (n_samples, ), for example using ravel().\n",
            "  y = column_or_1d(y, warn=True)\n"
          ],
          "name": "stderr"
        }
      ]
    },
    {
      "cell_type": "code",
      "metadata": {
        "colab_type": "code",
        "id": "2XHEZ-X9RaG_",
        "outputId": "21005243-208d-4f0f-e6f2-d90ce125f128",
        "colab": {
          "base_uri": "https://localhost:8080/",
          "height": 257
        }
      },
      "source": [
        "labels = ['negative', 'positive']\n",
        "print(classification_report(test_sentiments, predictions))\n",
        "pd.DataFrame(confusion_matrix(test_sentiments, predictions), index=labels, columns=labels)"
      ],
      "execution_count": 51,
      "outputs": [
        {
          "output_type": "stream",
          "text": [
            "              precision    recall  f1-score   support\n",
            "\n",
            "           0       0.76      0.57      0.65      2652\n",
            "           1       0.92      0.97      0.94     14348\n",
            "\n",
            "    accuracy                           0.90     17000\n",
            "   macro avg       0.84      0.77      0.80     17000\n",
            "weighted avg       0.90      0.90      0.90     17000\n",
            "\n"
          ],
          "name": "stdout"
        },
        {
          "output_type": "execute_result",
          "data": {
            "text/html": [
              "<div>\n",
              "<style scoped>\n",
              "    .dataframe tbody tr th:only-of-type {\n",
              "        vertical-align: middle;\n",
              "    }\n",
              "\n",
              "    .dataframe tbody tr th {\n",
              "        vertical-align: top;\n",
              "    }\n",
              "\n",
              "    .dataframe thead th {\n",
              "        text-align: right;\n",
              "    }\n",
              "</style>\n",
              "<table border=\"1\" class=\"dataframe\">\n",
              "  <thead>\n",
              "    <tr style=\"text-align: right;\">\n",
              "      <th></th>\n",
              "      <th>negative</th>\n",
              "      <th>positive</th>\n",
              "    </tr>\n",
              "  </thead>\n",
              "  <tbody>\n",
              "    <tr>\n",
              "      <th>negative</th>\n",
              "      <td>1511</td>\n",
              "      <td>1141</td>\n",
              "    </tr>\n",
              "    <tr>\n",
              "      <th>positive</th>\n",
              "      <td>482</td>\n",
              "      <td>13866</td>\n",
              "    </tr>\n",
              "  </tbody>\n",
              "</table>\n",
              "</div>"
            ],
            "text/plain": [
              "          negative  positive\n",
              "negative      1511      1141\n",
              "positive       482     13866"
            ]
          },
          "metadata": {
            "tags": []
          },
          "execution_count": 51
        }
      ]
    },
    {
      "cell_type": "code",
      "metadata": {
        "id": "RZdyWLTE3-TA",
        "colab_type": "code",
        "colab": {}
      },
      "source": [
        ""
      ],
      "execution_count": 0,
      "outputs": []
    }
  ]
}