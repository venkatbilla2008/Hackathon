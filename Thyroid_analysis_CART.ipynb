{
 "cells": [
  {
   "cell_type": "code",
   "execution_count": 98,
   "metadata": {},
   "outputs": [],
   "source": [
    "# IMPORT LIBRARIES"
   ]
  },
  {
   "cell_type": "code",
   "execution_count": 43,
   "metadata": {},
   "outputs": [],
   "source": [
    "import pandas as pd\n",
    "import numpy as np\n",
    "import sklearn.datasets as  datasets\n",
    "import matplotlib.pyplot as plt\n",
    "import pydot as pyd\n",
    "import pandas_profiling\n",
    "\n",
    "\n",
    "from   sklearn                  import  tree\n",
    "from   sklearn.tree             import  DecisionTreeClassifier\n",
    "from sklearn.preprocessing      import LabelEncoder\n",
    "\n",
    "from   sklearn                  import  metrics \n",
    "from   sklearn.metrics          import  classification_report\n",
    "from   sklearn.metrics          import  confusion_matrix\n",
    "from   sklearn.metrics          import  accuracy_score\n",
    "from   sklearn.metrics          import  roc_curve, auc\n",
    "from   sklearn.model_selection  import  KFold \n",
    "from   sklearn.model_selection  import  train_test_split\n",
    "import pydotplus\n",
    "\n",
    "# Commet this if the data visualisations doesn't work on your side\n",
    "%matplotlib inline"
   ]
  },
  {
   "cell_type": "code",
   "execution_count": 7,
   "metadata": {},
   "outputs": [],
   "source": [
    "from   sklearn.model_selection import  cross_val_score\n",
    "from   sklearn.model_selection import  KFold"
   ]
  },
  {
   "cell_type": "markdown",
   "metadata": {},
   "source": [
    "# WRITE FUNCTIONS CONFUSION MATRIX"
   ]
  },
  {
   "cell_type": "code",
   "execution_count": 8,
   "metadata": {},
   "outputs": [],
   "source": [
    "def draw_cm( actual, predicted ):\n",
    "    \n",
    "    import matplotlib.pyplot as   plt\n",
    "    import sklearn.metrics   as   metrics\n",
    "    import seaborn           as   sns\n",
    "    \n",
    "    cm = metrics.confusion_matrix( actual, predicted, [1,0] )\n",
    "    sns.heatmap(cm, annot=True, fmt='.2f', xticklabels = [\"Yes\", \"No\"] , yticklabels = [\"Yes\", \"No\"] )\n",
    "    plt.ylabel('True label')\n",
    "    plt.xlabel('Predicted label')\n",
    "    plt.show()"
   ]
  },
  {
   "cell_type": "markdown",
   "metadata": {},
   "source": [
    "# FUNCTIONS FOR ROC CURVE"
   ]
  },
  {
   "cell_type": "code",
   "execution_count": 9,
   "metadata": {},
   "outputs": [],
   "source": [
    "def draw_roc( actual, probs ):\n",
    "\n",
    "    import pandas            as   pd\n",
    "    import numpy             as   np\n",
    "    import seaborn           as   sns\n",
    "    import matplotlib.pyplot as   plt\n",
    "    import sklearn.metrics   as   metrics\n",
    "    import seaborn           as   sns\n",
    "    \n",
    "    fpr, tpr, thresholds = metrics.roc_curve( actual, probs,\n",
    "    drop_intermediate = False )\n",
    "    auc_score = metrics.roc_auc_score( actual, probs )\n",
    "    plt.figure(figsize=(6, 4))\n",
    "    plt.plot( fpr, tpr, label='ROC curve (area = %0.2f)' % auc_score )\n",
    "    plt.plot([0, 1], [0, 1], 'k--')\n",
    "    plt.xlim([0.0, 1.0])\n",
    "    plt.ylim([0.0, 1.05])\n",
    "    plt.xlabel('False Positive Rate or [1 - True Negative Rate]')\n",
    "    plt.ylabel('True Positive Rate')\n",
    "    plt.title('Receiver operating characteristic curve')\n",
    "    plt.legend(loc=\"lower right\")\n",
    "    plt.show()\n",
    "    return fpr, tpr, thresholds"
   ]
  },
  {
   "cell_type": "markdown",
   "metadata": {},
   "source": [
    "# READING THE DATA"
   ]
  },
  {
   "cell_type": "code",
   "execution_count": 10,
   "metadata": {},
   "outputs": [],
   "source": [
    "df = pd.read_csv('C:/Users/Arunkumar/Desktop/BABI/Capstone Project/dataset_38_sick.csv')"
   ]
  },
  {
   "cell_type": "markdown",
   "metadata": {},
   "source": [
    "# Identifying the shape and structure of the Data frame"
   ]
  },
  {
   "cell_type": "code",
   "execution_count": 11,
   "metadata": {},
   "outputs": [
    {
     "name": "stdout",
     "output_type": "stream",
     "text": [
      "<class 'pandas.core.frame.DataFrame'>\n",
      "RangeIndex: 3772 entries, 0 to 3771\n",
      "Data columns (total 30 columns):\n",
      "age                          3772 non-null object\n",
      "sex                          3772 non-null object\n",
      "on_thyroxine                 3772 non-null object\n",
      "query_on_thyroxine           3772 non-null object\n",
      "on_antithyroid_medication    3772 non-null object\n",
      "sick                         3772 non-null object\n",
      "pregnant                     3772 non-null object\n",
      "thyroid_surgery              3772 non-null object\n",
      "I131_treatment               3772 non-null object\n",
      "query_hypothyroid            3772 non-null object\n",
      "query_hyperthyroid           3772 non-null object\n",
      "lithium                      3772 non-null object\n",
      "goitre                       3772 non-null object\n",
      "tumor                        3772 non-null object\n",
      "hypopituitary                3772 non-null object\n",
      "psych                        3772 non-null object\n",
      "TSH_measured                 3772 non-null object\n",
      "TSH                          3772 non-null object\n",
      "T3_measured                  3772 non-null object\n",
      "T3                           3772 non-null object\n",
      "TT4_measured                 3772 non-null object\n",
      "TT4                          3772 non-null object\n",
      "T4U_measured                 3772 non-null object\n",
      "T4U                          3772 non-null object\n",
      "FTI_measured                 3772 non-null object\n",
      "FTI                          3772 non-null object\n",
      "TBG_measured                 3772 non-null object\n",
      "TBG                          3772 non-null object\n",
      "referral_source              3772 non-null object\n",
      "Class                        3772 non-null object\n",
      "dtypes: object(30)\n",
      "memory usage: 884.1+ KB\n"
     ]
    },
    {
     "data": {
      "text/plain": [
       "(3772, 30)"
      ]
     },
     "execution_count": 11,
     "metadata": {},
     "output_type": "execute_result"
    }
   ],
   "source": [
    "df.info()\n",
    "df.shape"
   ]
  },
  {
   "cell_type": "markdown",
   "metadata": {},
   "source": [
    "### Overall summary Report of the Thyroid Dataset"
   ]
  },
  {
   "cell_type": "code",
   "execution_count": 12,
   "metadata": {},
   "outputs": [],
   "source": [
    "profile = pandas_profiling.ProfileReport(df)\n",
    "profile.to_file(outputfile=\"output.html\")"
   ]
  },
  {
   "cell_type": "markdown",
   "metadata": {},
   "source": [
    "All the Numerical values have high cardinality and provides an overview of the dataset "
   ]
  },
  {
   "cell_type": "markdown",
   "metadata": {},
   "source": [
    "# Data Processing steps\n",
    "\n",
    "1. Target Variable is converted to Categorical Variable by assigning specific values . Here , the prediction is considered to be positive. So Sick is assigned as '1'\n",
    "2. There are no Values present in TBG and TBG Measured value was 'false' . Hence the values are removed from the dataset\n",
    "3 . Overall summary after the removal of columns is provided "
   ]
  },
  {
   "cell_type": "code",
   "execution_count": 13,
   "metadata": {},
   "outputs": [],
   "source": [
    "df['Class'] = df['Class'].apply(lambda x: 1 if x == 'sick' else 0)"
   ]
  },
  {
   "cell_type": "code",
   "execution_count": 14,
   "metadata": {},
   "outputs": [],
   "source": [
    "df.drop(columns = 'TBG', axis = 0, inplace = True)\n",
    "df.drop(columns = 'TBG_measured', axis = 0, inplace = True)"
   ]
  },
  {
   "cell_type": "code",
   "execution_count": 15,
   "metadata": {},
   "outputs": [
    {
     "data": {
      "text/plain": [
       "(3772, 28)"
      ]
     },
     "execution_count": 15,
     "metadata": {},
     "output_type": "execute_result"
    }
   ],
   "source": [
    "df.shape"
   ]
  },
  {
   "cell_type": "code",
   "execution_count": 16,
   "metadata": {},
   "outputs": [
    {
     "name": "stdout",
     "output_type": "stream",
     "text": [
      "Index(['age', 'sex', 'on_thyroxine', 'query_on_thyroxine',\n",
      "       'on_antithyroid_medication', 'sick', 'pregnant', 'thyroid_surgery',\n",
      "       'I131_treatment', 'query_hypothyroid', 'query_hyperthyroid', 'lithium',\n",
      "       'goitre', 'tumor', 'hypopituitary', 'psych', 'TSH_measured', 'TSH',\n",
      "       'T3_measured', 'T3', 'TT4_measured', 'TT4', 'T4U_measured', 'T4U',\n",
      "       'FTI_measured', 'FTI', 'referral_source', 'Class'],\n",
      "      dtype='object')\n"
     ]
    }
   ],
   "source": [
    "feature_names   = df.columns\n",
    "print(feature_names)\n"
   ]
  },
  {
   "cell_type": "markdown",
   "metadata": {},
   "source": [
    "# All the columns were imported as objects . Hence they were converted into categorical variables and floating point functions"
   ]
  },
  {
   "cell_type": "code",
   "execution_count": 17,
   "metadata": {},
   "outputs": [
    {
     "data": {
      "text/html": [
       "<div>\n",
       "<style scoped>\n",
       "    .dataframe tbody tr th:only-of-type {\n",
       "        vertical-align: middle;\n",
       "    }\n",
       "\n",
       "    .dataframe tbody tr th {\n",
       "        vertical-align: top;\n",
       "    }\n",
       "\n",
       "    .dataframe thead th {\n",
       "        text-align: right;\n",
       "    }\n",
       "</style>\n",
       "<table border=\"1\" class=\"dataframe\">\n",
       "  <thead>\n",
       "    <tr style=\"text-align: right;\">\n",
       "      <th></th>\n",
       "    </tr>\n",
       "  </thead>\n",
       "  <tbody>\n",
       "    <tr>\n",
       "      <th>0</th>\n",
       "    </tr>\n",
       "    <tr>\n",
       "      <th>1</th>\n",
       "    </tr>\n",
       "    <tr>\n",
       "      <th>2</th>\n",
       "    </tr>\n",
       "    <tr>\n",
       "      <th>3</th>\n",
       "    </tr>\n",
       "    <tr>\n",
       "      <th>4</th>\n",
       "    </tr>\n",
       "  </tbody>\n",
       "</table>\n",
       "</div>"
      ],
      "text/plain": [
       "Empty DataFrame\n",
       "Columns: []\n",
       "Index: [0, 1, 2, 3, 4]"
      ]
     },
     "execution_count": 17,
     "metadata": {},
     "output_type": "execute_result"
    }
   ],
   "source": [
    "\n",
    "list(set(df.dtypes.tolist()))\n",
    "df_num = df.select_dtypes(include = ['float64'])\n",
    "df_num.head()"
   ]
  },
  {
   "cell_type": "code",
   "execution_count": 46,
   "metadata": {},
   "outputs": [
    {
     "name": "stdout",
     "output_type": "stream",
     "text": [
      "sex\n",
      "on_thyroxine\n",
      "query_on_thyroxine\n",
      "on_antithyroid_medication\n",
      "sick\n",
      "pregnant\n",
      "thyroid_surgery\n",
      "I131_treatment\n",
      "query_hypothyroid\n",
      "query_hyperthyroid\n",
      "lithium\n",
      "goitre\n",
      "tumor\n",
      "hypopituitary\n",
      "psych\n",
      "TSH_measured\n",
      "T3_measured\n",
      "TT4_measured\n",
      "T4U_measured\n",
      "FTI_measured\n",
      "referral_source\n"
     ]
    }
   ],
   "source": [
    "for col in df.columns:\n",
    "    if df[col].dtype==object and col not in [\"age\", \"TSH\",\"T3\",\"TT4\",\"T4U\",\"FTI\",\"Class\"]:\n",
    "        print(col)\n",
    "        lbl = LabelEncoder()\n",
    "        lbl.fit(list(df[col].values.astype('str'))) \n",
    "        df[col] = lbl.transform(list(df[col].values.astype('str')))"
   ]
  },
  {
   "cell_type": "markdown",
   "metadata": {},
   "source": [
    "#### Before the EDA Process , there are numerous null values in the Data set. Actions are taken to manipulate the null values before proceeding"
   ]
  },
  {
   "cell_type": "code",
   "execution_count": 54,
   "metadata": {},
   "outputs": [
    {
     "name": "stdout",
     "output_type": "stream",
     "text": [
      "age                            1\n",
      "sex                            0\n",
      "on_thyroxine                   0\n",
      "query_on_thyroxine             0\n",
      "on_antithyroid_medication      0\n",
      "sick                           0\n",
      "pregnant                       0\n",
      "thyroid_surgery                0\n",
      "I131_treatment                 0\n",
      "query_hypothyroid              0\n",
      "query_hyperthyroid             0\n",
      "lithium                        0\n",
      "goitre                         0\n",
      "tumor                          0\n",
      "hypopituitary                  0\n",
      "psych                          0\n",
      "TSH_measured                   0\n",
      "TSH                          369\n",
      "T3_measured                    0\n",
      "T3                           769\n",
      "TT4_measured                   0\n",
      "TT4                          231\n",
      "T4U_measured                   0\n",
      "T4U                          387\n",
      "FTI_measured                   0\n",
      "FTI                          385\n",
      "referral_source                0\n",
      "Class                          0\n",
      "dtype: int64\n"
     ]
    },
    {
     "data": {
      "text/plain": [
       "(3772, 28)"
      ]
     },
     "execution_count": 54,
     "metadata": {},
     "output_type": "execute_result"
    }
   ],
   "source": [
    "df1 = df.replace('?', np.NaN)\n",
    "print(df1.isnull().sum())\n",
    "df1.shape"
   ]
  },
  {
   "cell_type": "markdown",
   "metadata": {},
   "source": [
    "# Dropping Missing Values "
   ]
  },
  {
   "cell_type": "code",
   "execution_count": 55,
   "metadata": {},
   "outputs": [],
   "source": [
    "df1.dropna(inplace=True)"
   ]
  },
  {
   "cell_type": "code",
   "execution_count": 56,
   "metadata": {},
   "outputs": [
    {
     "data": {
      "text/plain": [
       "(2751, 28)"
      ]
     },
     "execution_count": 56,
     "metadata": {},
     "output_type": "execute_result"
    }
   ],
   "source": [
    "df1.shape"
   ]
  },
  {
   "cell_type": "code",
   "execution_count": 57,
   "metadata": {},
   "outputs": [],
   "source": [
    "df1['age'] = df1['age'].astype('int32')\n",
    "df1['TSH'] = df1['TSH'].astype('float64')\n",
    "df1['T3']  = df1['T3'].astype('float64')\n",
    "df1['TT4'] = df1['TT4'].astype('float64')\n",
    "df1['T4U'] = df1['T4U'].astype('float64')\n",
    "df1['FTI'] = df1['FTI'].astype('float64')"
   ]
  },
  {
   "cell_type": "code",
   "execution_count": 58,
   "metadata": {},
   "outputs": [],
   "source": [
    "list(set(df1.dtypes.tolist()))\n",
    "df1_num = df1.select_dtypes(include = ['float64','int32'])"
   ]
  },
  {
   "cell_type": "markdown",
   "metadata": {},
   "source": [
    "# EDA"
   ]
  },
  {
   "cell_type": "markdown",
   "metadata": {},
   "source": [
    "Plot of various graphs to understand the importance of the numeric variables that may affect the Thyroid prediction"
   ]
  },
  {
   "cell_type": "code",
   "execution_count": 59,
   "metadata": {},
   "outputs": [
    {
     "data": {
      "image/png": "[encoded data removed]",
      "text/plain": [
       "<Figure size 1152x1440 with 6 Axes>"
      ]
     },
     "metadata": {
      "needs_background": "light"
     },
     "output_type": "display_data"
    }
   ],
   "source": [
    "plt.style.use('bmh')\n",
    "df1_num.hist(figsize=(16, 20), bins=5, xlabelsize=5, ylabelsize=5);\n",
    "plt.savefig('thyroid.jpg')"
   ]
  },
  {
   "cell_type": "markdown",
   "metadata": {},
   "source": [
    "# Correlation"
   ]
  },
  {
   "cell_type": "markdown",
   "metadata": {},
   "source": [
    "Correlation of the variables with Target Variable :\n",
    "Correlation is Calculated among the numeric variables . None of the Variables had a correlation function of greater than 0.5 and\n",
    "also from the correlation co-efficients it can be concluded that more than the categorical variables the numerical variables like the TT4,\n",
    "T4u and T3 harmones has higher impact in predicting the thyroid among patients "
   ]
  },
  {
   "cell_type": "code",
   "execution_count": 60,
   "metadata": {},
   "outputs": [
    {
     "name": "stdout",
     "output_type": "stream",
     "text": [
      "There is 4 strongly correlated values with Class:\n",
      "age    0.161450\n",
      "TT4   -0.125715\n",
      "T4U   -0.241457\n",
      "T3    -0.394737\n",
      "Name: Class, dtype: float64\n"
     ]
    }
   ],
   "source": [
    "df1_num = df1.select_dtypes(include = ['float64','int64','int32'])\n",
    "df1_num_corr = df1_num.corr()['Class'][:-1] \n",
    "golden_features_list = df1_num_corr[abs(df1_num_corr) > 0.1].sort_values(ascending=False)\n",
    "print(\"There is {} strongly correlated values with Class:\\n{}\".format(len(golden_features_list), golden_features_list))\n",
    "\n"
   ]
  },
  {
   "cell_type": "markdown",
   "metadata": {},
   "source": [
    "Correlation among the Variables :\n",
    "Same point illustrated above implies here too. Correlation is strong among the numeric variables and they predict the Thyroid in patients"
   ]
  },
  {
   "cell_type": "markdown",
   "metadata": {},
   "source": [
    "# Correlation plot among independant variables"
   ]
  },
  {
   "cell_type": "code",
   "execution_count": 61,
   "metadata": {},
   "outputs": [
    {
     "data": {
      "image/png": "[encoded data removed]",
      "text/plain": [
       "<Figure size 864x720 with 2 Axes>"
      ]
     },
     "metadata": {
      "needs_background": "light"
     },
     "output_type": "display_data"
    }
   ],
   "source": [
    "corr = df1_num.drop('Class', axis=1).corr() \n",
    "plt.figure(figsize=(12, 10))\n",
    "\n",
    "sns.heatmap(corr[(corr >= 0.5) | (corr <= -0.4)], \n",
    "            cmap='viridis', vmax=1.0, vmin=-1.0, linewidths=0.1,\n",
    "            annot=True, annot_kws={\"size\": 8}, square=True);\n",
    "plt.savefig('Corr.jpg')"
   ]
  },
  {
   "cell_type": "markdown",
   "metadata": {},
   "source": [
    "# TO GET THE PROPORTION OF CATEGORY IN EACH COLUMNS"
   ]
  },
  {
   "cell_type": "code",
   "execution_count": 62,
   "metadata": {},
   "outputs": [
    {
     "name": "stdout",
     "output_type": "stream",
     "text": [
      "\n",
      "Column:  sex \n",
      "\n",
      "1    1764\n",
      "2     879\n",
      "0     108\n",
      "Name: sex, dtype: int64\n",
      "\n",
      "Column:  on_thyroxine \n",
      "\n",
      "0    2471\n",
      "1     280\n",
      "Name: on_thyroxine, dtype: int64\n",
      "\n",
      "Column:  query_on_thyroxine \n",
      "\n",
      "0    2727\n",
      "1      24\n",
      "Name: query_on_thyroxine, dtype: int64\n",
      "\n",
      "Column:  on_antithyroid_medication \n",
      "\n",
      "0    2718\n",
      "1      33\n",
      "Name: on_antithyroid_medication, dtype: int64\n",
      "\n",
      "Column:  sick \n",
      "\n",
      "0    2635\n",
      "1     116\n",
      "Name: sick, dtype: int64\n",
      "\n",
      "Column:  pregnant \n",
      "\n",
      "0    2708\n",
      "1      43\n",
      "Name: pregnant, dtype: int64\n",
      "\n",
      "Column:  thyroid_surgery \n",
      "\n",
      "0    2717\n",
      "1      34\n",
      "Name: thyroid_surgery, dtype: int64\n",
      "\n",
      "Column:  I131_treatment \n",
      "\n",
      "0    2707\n",
      "1      44\n",
      "Name: I131_treatment, dtype: int64\n",
      "\n",
      "Column:  query_hypothyroid \n",
      "\n",
      "0    2601\n",
      "1     150\n",
      "Name: query_hypothyroid, dtype: int64\n",
      "\n",
      "Column:  query_hyperthyroid \n",
      "\n",
      "0    2580\n",
      "1     171\n",
      "Name: query_hyperthyroid, dtype: int64\n",
      "\n",
      "Column:  lithium \n",
      "\n",
      "0    2737\n",
      "1      14\n",
      "Name: lithium, dtype: int64\n",
      "\n",
      "Column:  goitre \n",
      "\n",
      "0    2731\n",
      "1      20\n",
      "Name: goitre, dtype: int64\n",
      "\n",
      "Column:  tumor \n",
      "\n",
      "0    2691\n",
      "1      60\n",
      "Name: tumor, dtype: int64\n",
      "\n",
      "Column:  hypopituitary \n",
      "\n",
      "0    2750\n",
      "1       1\n",
      "Name: hypopituitary, dtype: int64\n",
      "\n",
      "Column:  psych \n",
      "\n",
      "0    2578\n",
      "1     173\n",
      "Name: psych, dtype: int64\n",
      "\n",
      "Column:  TSH_measured \n",
      "\n",
      "1    2751\n",
      "Name: TSH_measured, dtype: int64\n",
      "\n",
      "Column:  T3_measured \n",
      "\n",
      "1    2751\n",
      "Name: T3_measured, dtype: int64\n",
      "\n",
      "Column:  TT4_measured \n",
      "\n",
      "1    2751\n",
      "Name: TT4_measured, dtype: int64\n",
      "\n",
      "Column:  T4U_measured \n",
      "\n",
      "1    2751\n",
      "Name: T4U_measured, dtype: int64\n",
      "\n",
      "Column:  FTI_measured \n",
      "\n",
      "1    2751\n",
      "Name: FTI_measured, dtype: int64\n",
      "\n",
      "Column:  referral_source \n",
      "\n",
      "4    1296\n",
      "3     952\n",
      "1     367\n",
      "0     100\n",
      "2      36\n",
      "Name: referral_source, dtype: int64\n",
      "\n",
      "Column:  Class \n",
      "\n",
      "0    2533\n",
      "1     218\n",
      "Name: Class, dtype: int64\n"
     ]
    }
   ],
   "source": [
    "categorical_columns = ['sex', 'on_thyroxine', 'query_on_thyroxine', 'on_antithyroid_medication', 'sick', \\\n",
    "                        'pregnant', 'thyroid_surgery', 'I131_treatment', 'query_hypothyroid', 'query_hyperthyroid', \\\n",
    "                        'lithium', 'goitre', 'tumor', 'hypopituitary', 'psych', 'TSH_measured',\\\n",
    "                        'T3_measured', 'TT4_measured', 'T4U_measured', 'FTI_measured', \\\n",
    "                        'referral_source', 'Class']\n",
    "for name1 in categorical_columns:\n",
    "    print(\"\\nColumn: \", name1,\"\\n\")\n",
    "    print(df1[name1].value_counts())"
   ]
  },
  {
   "cell_type": "markdown",
   "metadata": {},
   "source": [
    "#We cannot use columns with constant values. In our dataset, the following fields have constant value, t for True: a. TSH measured b. T3 measured c. TT4measured d. T4Umeasured e. FTImeasured f. TBGmeasure Also, the field, hypopituitary is having only one value as True, rest as False. So we cannot use this field as well.\n",
    "\n",
    "So, we remove all these columns\n"
   ]
  },
  {
   "cell_type": "code",
   "execution_count": 63,
   "metadata": {},
   "outputs": [],
   "source": [
    "unwanted_columns    = ['TSH_measured','T3_measured','TT4_measured','T4U_measured','FTI_measured','hypopituitary']\n",
    "#df1.drop(columns     = unwanted_columns, inplace = True )\n",
    "categorical_columns = ['sex', 'on_thyroxine', 'query_on_thyroxine', 'on_antithyroid_medication', 'sick', \\\n",
    "                        'pregnant', 'thyroid_surgery', 'I131_treatment', 'query_hypothyroid', 'query_hyperthyroid', \\\n",
    "                        'lithium', 'goitre', 'tumor', 'psych', 'referral_source', 'Class']\n",
    "feature_names   = df1.columns"
   ]
  },
  {
   "cell_type": "code",
   "execution_count": 64,
   "metadata": {},
   "outputs": [
    {
     "name": "stdout",
     "output_type": "stream",
     "text": [
      "(2751, 28)\n"
     ]
    },
    {
     "data": {
      "text/plain": [
       "Index(['age', 'sex', 'on_thyroxine', 'query_on_thyroxine',\n",
       "       'on_antithyroid_medication', 'sick', 'pregnant', 'thyroid_surgery',\n",
       "       'I131_treatment', 'query_hypothyroid', 'query_hyperthyroid', 'lithium',\n",
       "       'goitre', 'tumor', 'hypopituitary', 'psych', 'TSH_measured', 'TSH',\n",
       "       'T3_measured', 'T3', 'TT4_measured', 'TT4', 'T4U_measured', 'T4U',\n",
       "       'FTI_measured', 'FTI', 'referral_source', 'Class'],\n",
       "      dtype='object')"
      ]
     },
     "execution_count": 64,
     "metadata": {},
     "output_type": "execute_result"
    }
   ],
   "source": [
    "print(df1.shape)\n",
    "feature_names"
   ]
  },
  {
   "cell_type": "markdown",
   "metadata": {},
   "source": [
    "Observations\n",
    "\n",
    "We have started with 3772 observations and 30 columns.\n",
    "* There are ? values for some observations in seven fields and all observations in the field, TBG.\n",
    "* Those values are removed for the model built \n",
    "* Since 100% of observations have null value in the field, TBG, we need to remove the field for our analysis.\n",
    "* Now, we have 2751 not null observations out of 3772 total observations.\n",
    "* We have removed TBG column full of null values from the dataframe.\n",
    "* We have removed columns such as 'TSH measured','T3 measured','TT4 measured','T4U measured','FTI measured','TBG measured' and 'hypopituitary' with constant or near constant values. \n",
    "* We have retained only 22 columns instead of 30 columns.\n",
    "\n",
    "Data is not balanced since the class distribution in the target variable is in the ratio 216: 2427\n"
   ]
  },
  {
   "cell_type": "code",
   "execution_count": 65,
   "metadata": {},
   "outputs": [],
   "source": [
    "import seaborn as sns"
   ]
  },
  {
   "cell_type": "code",
   "execution_count": 66,
   "metadata": {
    "scrolled": true
   },
   "outputs": [
    {
     "data": {
      "image/png": "[encoded data removed]",
      "text/plain": [
       "<Figure size 432x288 with 1 Axes>"
      ]
     },
     "metadata": {
      "needs_background": "light"
     },
     "output_type": "display_data"
    },
    {
     "data": {
      "text/plain": [
       "<Figure size 432x288 with 0 Axes>"
      ]
     },
     "metadata": {},
     "output_type": "display_data"
    }
   ],
   "source": [
    "ax = sns.boxplot(data = df1, orient = \"h\", palette = \"Set1\")\n",
    "plt.show()\n",
    "plt.savefig('box.jpg')"
   ]
  },
  {
   "cell_type": "markdown",
   "metadata": {},
   "source": [
    "# Outlier detection function"
   ]
  },
  {
   "cell_type": "code",
   "execution_count": 67,
   "metadata": {},
   "outputs": [],
   "source": [
    "def outlier_detect(df):\n",
    "    for i in df.describe().columns:\n",
    "\n",
    "        Q1=df.describe().at['25%',i]\n",
    "        Q3=df.describe().at['75%',i]\n",
    "        IQR=Q3 - Q1\n",
    "        LTV=Q1 - 1.5 * IQR\n",
    "        UTV=Q3 + 1.5 * IQR\n",
    "        x=np.array(df[i])\n",
    "        p=[]\n",
    "        for j in x:\n",
    "            if j < LTV or j>UTV:\n",
    "               p.append(j)\n",
    "        print('\\n Outliers for Column : ', i, ' Outliers count ', len(p))\n",
    "        print(p)"
   ]
  },
  {
   "cell_type": "code",
   "execution_count": 68,
   "metadata": {},
   "outputs": [
    {
     "name": "stdout",
     "output_type": "stream",
     "text": [
      "\n",
      "Numeric columns\n",
      "['age', 'TSH', 'T3', 'TT4', 'T4U', 'FTI']\n",
      "\n",
      "Categorical columns\n",
      "['sex', 'on_thyroxine', 'query_on_thyroxine', 'on_antithyroid_medication', 'sick', 'pregnant', 'thyroid_surgery', 'I131_treatment', 'query_hypothyroid', 'query_hyperthyroid', 'lithium', 'goitre', 'tumor', 'hypopituitary', 'psych', 'TSH_measured', 'T3_measured', 'TT4_measured', 'T4U_measured', 'FTI_measured', 'referral_source', 'Class']\n"
     ]
    }
   ],
   "source": [
    "all_columns         = list(df1)\n",
    "numeric_columns     = ['age', 'TSH', 'T3', 'TT4', 'T4U', 'FTI']\n",
    "categorical_columns = [x for x in all_columns if x not in numeric_columns ]\n",
    "\n",
    "print('\\nNumeric columns')\n",
    "print(numeric_columns)\n",
    "print('\\nCategorical columns')\n",
    "print(categorical_columns)"
   ]
  },
  {
   "cell_type": "code",
   "execution_count": 69,
   "metadata": {},
   "outputs": [
    {
     "name": "stdout",
     "output_type": "stream",
     "text": [
      "\n",
      " Outliers for Column :  age  Outliers count  1\n",
      "[455]\n",
      "\n",
      " Outliers for Column :  TSH  Outliers count  291\n",
      "[6.0, 13.0, 7.3, 45.0, 14.8, 15.0, 19.0, 9.0, 7.8, 160.0, 12.0, 8.8, 151.0, 7.8, 13.0, 6.0, 26.0, 143.0, 108.0, 9.2, 86.0, 9.1, 52.0, 6.1, 31.0, 5.8, 51.0, 6.3, 9.6, 42.0, 12.0, 25.0, 8.6, 6.2, 9.7, 28.0, 17.0, 18.0, 55.0, 14.0, 16.0, 10.0, 6.7, 7.6, 8.0, 11.0, 11.0, 44.0, 7.9, 11.0, 15.0, 7.2, 12.0, 6.4, 7.1, 199.0, 19.0, 24.0, 15.0, 188.0, 98.0, 22.0, 6.6, 7.6, 35.0, 8.2, 12.0, 6.1, 7.1, 11.0, 60.0, 55.0, 22.0, 29.0, 13.0, 7.2, 6.2, 11.0, 6.0, 7.5, 34.0, 10.0, 6.5, 103.0, 9.4, 28.0, 11.0, 7.9, 6.1, 13.0, 8.9, 9.3, 42.0, 7.2, 26.0, 11.0, 6.3, 54.0, 8.3, 7.5, 15.0, 7.1, 15.0, 8.1, 60.0, 18.0, 9.2, 100.0, 17.0, 13.0, 16.0, 41.0, 183.0, 8.9, 10.0, 7.1, 42.0, 12.0, 8.3, 6.9, 12.1, 43.0, 8.2, 18.0, 25.0, 7.3, 8.6, 10.0, 15.0, 8.4, 34.0, 6.8, 8.5, 6.4, 151.0, 11.0, 6.2, 9.0, 11.0, 11.0, 26.0, 6.8, 35.0, 8.1, 38.0, 44.0, 9.9, 6.8, 9.8, 11.0, 6.2, 12.0, 11.1, 27.0, 8.6, 15.0, 7.2, 76.0, 13.0, 32.0, 6.5, 126.0, 5.8, 13.0, 12.0, 26.4, 26.0, 7.9, 9.2, 7.7, 21.0, 12.0, 36.0, 178.0, 9.7, 145.0, 5.8, 8.3, 47.0, 12.0, 6.7, 24.0, 7.3, 6.2, 13.0, 6.3, 14.0, 12.0, 8.8, 35.0, 10.3, 89.0, 6.6, 7.4, 472.0, 5.8, 6.3, 6.0, 116.0, 98.0, 8.8, 9.4, 11.0, 36.0, 99.0, 183.0, 46.0, 10.0, 468.0, 27.0, 7.4, 17.0, 7.6, 34.0, 14.4, 28.0, 58.0, 21.0, 165.0, 9.2, 31.0, 9.6, 22.0, 12.0, 12.0, 80.0, 5.9, 145.0, 25.0, 27.0, 30.5, 5.9, 20.0, 7.9, 7.6, 7.8, 25.0, 6.3, 47.0, 9.2, 6.2, 6.7, 17.0, 24.0, 18.0, 5.8, 6.5, 236.0, 6.2, 52.0, 14.0, 6.7, 23.0, 440.0, 139.0, 5.8, 8.0, 530.0, 7.5, 16.0, 23.0, 6.3, 25.0, 12.0, 27.0, 22.0, 109.0, 30.0, 22.0, 70.0, 6.0, 20.0, 8.2, 6.2, 6.6, 400.0, 7.9, 230.0, 8.2, 66.0, 8.1, 23.0, 65.0, 6.6, 8.2, 117.0, 55.0, 6.3, 40.0, 8.5, 8.8]\n",
      "\n",
      " Outliers for Column :  T3  Outliers count  179\n",
      "[3.8, 0.3, 5.5, 0.4, 0.3, 3.5, 5.5, 4.2, 0.3, 3.7, 3.7, 4.3, 0.05, 5.4, 0.4, 0.3, 4.0, 0.4, 3.8, 0.4, 4.8, 0.2, 0.2, 3.6, 0.2, 0.3, 5.2, 5.0, 3.6, 0.2, 3.5, 6.0, 3.6, 3.5, 5.0, 5.3, 4.2, 3.9, 4.0, 0.4, 3.7, 3.8, 4.6, 4.5, 7.3, 4.7, 6.7, 0.3, 0.4, 4.1, 3.9, 3.8, 3.5, 3.7, 4.0, 0.2, 0.05, 3.7, 3.7, 0.4, 3.8, 3.8, 4.3, 3.9, 3.5, 4.5, 0.3, 0.4, 0.1, 0.3, 4.5, 4.9, 3.5, 3.9, 0.2, 4.3, 0.2, 10.6, 3.6, 5.1, 4.0, 7.0, 5.3, 4.1, 0.4, 4.0, 0.3, 0.4, 0.4, 6.2, 0.1, 3.6, 4.2, 4.3, 3.7, 3.5, 4.5, 3.7, 3.6, 4.1, 4.4, 0.3, 0.3, 0.3, 3.6, 4.5, 3.7, 3.6, 0.2, 0.3, 0.3, 0.4, 4.5, 4.1, 3.8, 3.9, 3.9, 4.0, 0.4, 0.2, 0.4, 0.2, 3.6, 5.5, 3.8, 4.1, 0.3, 4.0, 3.9, 7.1, 3.8, 0.3, 4.4, 5.4, 3.6, 3.5, 4.2, 3.9, 3.8, 3.8, 4.2, 4.1, 0.4, 4.2, 3.8, 4.0, 8.5, 0.3, 0.4, 4.4, 7.6, 0.3, 3.6, 4.3, 3.9, 0.4, 5.7, 3.5, 4.3, 0.2, 5.4, 0.2, 5.1, 0.2, 0.2, 0.2, 7.1, 4.2, 4.7, 0.2, 0.3, 3.9, 3.6, 4.1, 3.9, 0.2, 0.4, 0.4, 3.7]\n",
      "\n",
      " Outliers for Column :  TT4  Outliers count  156\n",
      "[199.0, 237.0, 11.0, 32.0, 217.0, 32.0, 205.0, 225.0, 219.0, 189.0, 184.0, 14.0, 189.0, 27.0, 193.0, 13.0, 12.0, 257.0, 18.0, 183.0, 33.0, 183.0, 203.0, 183.0, 244.0, 250.0, 181.0, 223.0, 272.0, 235.0, 10.0, 231.0, 191.0, 5.8, 210.0, 181.0, 232.0, 204.0, 430.0, 198.0, 230.0, 13.0, 15.0, 194.0, 181.0, 179.0, 205.0, 187.0, 205.0, 4.8, 182.0, 246.0, 183.0, 196.0, 14.0, 180.0, 179.0, 10.0, 189.0, 14.0, 197.0, 180.0, 207.0, 182.0, 198.0, 19.0, 187.0, 192.0, 213.0, 187.0, 200.0, 226.0, 200.0, 201.0, 233.0, 204.0, 192.0, 206.0, 255.0, 184.0, 213.0, 250.0, 194.0, 239.0, 198.0, 22.0, 192.0, 184.0, 181.0, 195.0, 199.0, 6.0, 200.0, 2.0, 3.0, 191.0, 289.0, 240.0, 198.0, 10.0, 252.0, 29.0, 205.0, 184.0, 263.0, 187.0, 301.0, 23.0, 188.0, 12.0, 180.0, 210.0, 211.0, 253.0, 21.0, 188.0, 210.0, 183.0, 25.0, 203.0, 17.0, 220.0, 197.0, 209.0, 244.0, 179.0, 19.0, 31.0, 212.0, 273.0, 32.0, 222.0, 10.0, 372.0, 180.0, 214.0, 212.0, 16.0, 28.0, 183.0, 33.0, 187.0, 24.0, 10.0, 210.0, 4.0, 3.0, 30.0, 2.9, 223.0, 214.0, 11.0, 216.0, 28.0, 17.0, 15.0]\n",
      "\n",
      " Outliers for Column :  T4U  Outliers count  112\n",
      "[1.55, 1.58, 0.53, 1.44, 1.51, 1.51, 1.68, 1.46, 1.66, 1.51, 0.52, 1.83, 1.5, 1.93, 1.82, 1.67, 1.43, 1.77, 1.59, 1.69, 1.74, 2.03, 1.43, 1.68, 1.73, 1.52, 1.63, 1.65, 1.53, 1.74, 1.58, 1.84, 1.67, 1.57, 1.5, 1.75, 1.46, 1.65, 1.55, 1.57, 1.79, 1.65, 1.8, 0.48, 1.71, 1.62, 1.52, 1.76, 1.73, 1.56, 1.77, 1.48, 1.59, 0.31, 1.51, 1.94, 1.65, 2.12, 1.47, 1.8, 1.65, 1.53, 0.49, 1.46, 1.52, 0.5, 1.48, 1.53, 1.5, 0.38, 1.66, 1.75, 1.62, 1.49, 0.41, 1.61, 1.66, 1.49, 1.7, 1.7, 1.49, 1.48, 1.75, 1.88, 0.52, 1.55, 1.68, 1.65, 1.52, 0.46, 1.47, 1.82, 1.57, 1.47, 1.52, 1.7, 1.68, 1.49, 1.62, 1.75, 1.53, 1.45, 1.53, 1.54, 1.48, 1.45, 1.45, 1.83, 1.65, 0.36, 2.01, 0.25]\n",
      "\n",
      " Outliers for Column :  FTI  Outliers count  171\n",
      "[190.0, 33.0, 171.0, 186.0, 203.0, 180.0, 8.9, 41.0, 221.0, 28.0, 274.0, 14.0, 32.0, 11.0, 10.0, 214.0, 200.0, 16.0, 43.0, 179.0, 224.0, 220.0, 362.0, 182.0, 312.0, 281.0, 207.0, 214.0, 10.0, 251.0, 194.0, 46.0, 7.0, 190.0, 216.0, 174.0, 41.0, 395.0, 185.0, 13.0, 14.0, 171.0, 201.0, 173.0, 171.0, 188.0, 235.0, 186.0, 172.0, 175.0, 173.0, 5.4, 46.0, 174.0, 190.0, 232.0, 186.0, 13.0, 217.0, 10.0, 176.0, 41.0, 11.0, 177.0, 195.0, 219.0, 17.0, 210.0, 185.0, 205.0, 176.0, 195.0, 173.0, 39.0, 349.0, 186.0, 253.0, 242.0, 188.0, 244.0, 213.0, 247.0, 173.0, 195.0, 215.0, 198.0, 19.0, 237.0, 37.0, 189.0, 174.0, 7.6, 200.0, 24.0, 2.0, 172.0, 3.0, 191.0, 223.0, 217.0, 9.0, 171.0, 29.0, 33.0, 222.0, 204.0, 178.0, 26.0, 177.0, 218.0, 197.0, 171.0, 172.0, 172.0, 34.0, 10.0, 46.0, 197.0, 188.0, 204.0, 19.0, 173.0, 203.0, 194.0, 199.0, 178.0, 196.0, 20.0, 200.0, 14.0, 198.0, 46.0, 213.0, 179.0, 36.0, 197.0, 249.0, 17.0, 46.0, 181.0, 222.0, 172.0, 8.4, 196.0, 291.0, 171.0, 245.0, 222.0, 204.0, 17.0, 33.0, 205.0, 188.0, 18.0, 40.0, 8.5, 184.0, 183.0, 4.0, 3.0, 21.0, 2.8, 222.0, 9.1, 27.0, 188.0, 28.0, 205.0, 15.0, 17.0, 35.0]\n"
     ]
    }
   ],
   "source": [
    "x =  df1[numeric_columns]\n",
    "outlier_detect(x)"
   ]
  },
  {
   "cell_type": "markdown",
   "metadata": {},
   "source": [
    "# Create X, independent variable and y dependent variable"
   ]
  },
  {
   "cell_type": "code",
   "execution_count": 70,
   "metadata": {},
   "outputs": [
    {
     "name": "stdout",
     "output_type": "stream",
     "text": [
      "(2751, 27)\n",
      "(2751,)\n"
     ]
    }
   ],
   "source": [
    "feature_names1 =  feature_names.drop('Class')\n",
    "X              =  df1.loc[:,feature_names1] \n",
    "y              =  df1.loc[:,'Class']\n",
    "label_names    =  y.unique()\n",
    "print(X.shape)\n",
    "print(y.shape)"
   ]
  },
  {
   "cell_type": "code",
   "execution_count": 71,
   "metadata": {},
   "outputs": [
    {
     "data": {
      "text/plain": [
       "0    [2533, 67.15270413573701]\n",
       "1     [218, 5.779427359490986]\n",
       "Name: Class, dtype: object"
      ]
     },
     "execution_count": 71,
     "metadata": {},
     "output_type": "execute_result"
    }
   ],
   "source": [
    "y.value_counts().apply(lambda x: [x, ( x * 100) / df.shape[0]])"
   ]
  },
  {
   "cell_type": "markdown",
   "metadata": {},
   "source": [
    "# Split the data into training and test data set"
   ]
  },
  {
   "cell_type": "code",
   "execution_count": 72,
   "metadata": {},
   "outputs": [],
   "source": [
    "seed      = 1\n",
    "test_size = 0.30\n",
    "X_train, X_test, y_train, y_test = train_test_split(X, y, test_size = 0.3, random_state = 1, stratify = y)"
   ]
  },
  {
   "cell_type": "code",
   "execution_count": 73,
   "metadata": {},
   "outputs": [],
   "source": [
    "clf    = DecisionTreeClassifier()\n",
    "\n",
    "# Train Decision Tree Classifer\n",
    "clf    = clf.fit(X_train,y_train)"
   ]
  },
  {
   "cell_type": "code",
   "execution_count": 74,
   "metadata": {},
   "outputs": [],
   "source": [
    "#Predict the response for test dataset\n",
    "predicted_test= clf.predict(X_test)\n",
    "predicted_train=clf.predict(X_train)"
   ]
  },
  {
   "cell_type": "code",
   "execution_count": 75,
   "metadata": {},
   "outputs": [
    {
     "name": "stdout",
     "output_type": "stream",
     "text": [
      "\n",
      "Test Data\n",
      "[[756   5]\n",
      " [  9  56]]\n",
      "Training Accuracy: 100.000%\n",
      "Testing Accuracy: 98.305%\n"
     ]
    },
    {
     "data": {
      "image/png": "[encoded data removed]",
      "text/plain": [
       "<Figure size 432x288 with 2 Axes>"
      ]
     },
     "metadata": {
      "needs_background": "light"
     },
     "output_type": "display_data"
    },
    {
     "data": {
      "text/plain": [
       "<Figure size 432x288 with 0 Axes>"
      ]
     },
     "metadata": {},
     "output_type": "display_data"
    }
   ],
   "source": [
    "matrix = confusion_matrix(y_test, predicted_test)\n",
    "print(\"\\nTest Data\")\n",
    "print(matrix)\n",
    "\n",
    "accuracy_train = accuracy_score(y_train, predicted_train)\n",
    "accuracy_test = accuracy_score(y_test, predicted_test)\n",
    "print(\"Training Accuracy: %.3f%%\" % (accuracy_train * 100.0))\n",
    "print(\"Testing Accuracy: %.3f%%\" % (accuracy_test * 100.0))\n",
    "draw_cm(y_test, predicted_test)\n",
    "plt.savefig('cm.jpg')\n",
    "\n"
   ]
  },
  {
   "cell_type": "markdown",
   "metadata": {},
   "source": [
    "# Performance measures calculation"
   ]
  },
  {
   "cell_type": "code",
   "execution_count": 76,
   "metadata": {},
   "outputs": [
    {
     "name": "stdout",
     "output_type": "stream",
     "text": [
      "\n",
      "Test data\n",
      "              precision    recall  f1-score   support\n",
      "\n",
      "           0       0.99      0.99      0.99       761\n",
      "           1       0.92      0.86      0.89        65\n",
      "\n",
      "   micro avg       0.98      0.98      0.98       826\n",
      "   macro avg       0.95      0.93      0.94       826\n",
      "weighted avg       0.98      0.98      0.98       826\n",
      "\n"
     ]
    }
   ],
   "source": [
    "measures_test= classification_report(y_test, predicted_test) \n",
    "print(\"\\nTest data\")\n",
    "print(measures_test)"
   ]
  },
  {
   "cell_type": "markdown",
   "metadata": {},
   "source": [
    "# ROC Curve for the model "
   ]
  },
  {
   "cell_type": "code",
   "execution_count": 444,
   "metadata": {},
   "outputs": [
    {
     "data": {
      "image/png": "[encoded data removed]",
      "text/plain": [
       "<Figure size 432x288 with 1 Axes>"
      ]
     },
     "metadata": {
      "needs_background": "light"
     },
     "output_type": "display_data"
    },
    {
     "data": {
      "text/plain": [
       "(array([0.        , 0.00919842, 1.        ]),\n",
       " array([0.        , 0.89230769, 1.        ]),\n",
       " array([2, 1, 0], dtype=int64))"
      ]
     },
     "execution_count": 444,
     "metadata": {},
     "output_type": "execute_result"
    }
   ],
   "source": [
    "draw_roc(y_test, predicted_test)"
   ]
  },
  {
   "cell_type": "code",
   "execution_count": 87,
   "metadata": {},
   "outputs": [
    {
     "name": "stdout",
     "output_type": "stream",
     "text": [
      "age                            1\n",
      "sex                            0\n",
      "on_thyroxine                   0\n",
      "query_on_thyroxine             0\n",
      "on_antithyroid_medication      0\n",
      "sick                           0\n",
      "pregnant                       0\n",
      "thyroid_surgery                0\n",
      "I131_treatment                 0\n",
      "query_hypothyroid              0\n",
      "query_hyperthyroid             0\n",
      "lithium                        0\n",
      "goitre                         0\n",
      "tumor                          0\n",
      "hypopituitary                  0\n",
      "psych                          0\n",
      "TSH_measured                   0\n",
      "TSH                          369\n",
      "T3_measured                    0\n",
      "T3                           769\n",
      "TT4_measured                   0\n",
      "TT4                          231\n",
      "T4U_measured                   0\n",
      "T4U                          387\n",
      "FTI_measured                   0\n",
      "FTI                          385\n",
      "referral_source                0\n",
      "Class                          0\n",
      "dtype: int64\n"
     ]
    },
    {
     "data": {
      "text/plain": [
       "(3772, 28)"
      ]
     },
     "execution_count": 87,
     "metadata": {},
     "output_type": "execute_result"
    }
   ],
   "source": [
    "df2 = df.replace('?', np.NaN)\n",
    "print(df2.isnull().sum())\n",
    "df2.shape"
   ]
  },
  {
   "cell_type": "markdown",
   "metadata": {},
   "source": [
    "# Missing Values using Median"
   ]
  },
  {
   "cell_type": "code",
   "execution_count": 88,
   "metadata": {},
   "outputs": [
    {
     "data": {
      "text/plain": [
       "(3772, 28)"
      ]
     },
     "execution_count": 88,
     "metadata": {},
     "output_type": "execute_result"
    }
   ],
   "source": [
    "\n",
    "df3=df2.fillna(df2.median())\n",
    "df3.shape\n"
   ]
  },
  {
   "cell_type": "code",
   "execution_count": 89,
   "metadata": {},
   "outputs": [
    {
     "data": {
      "text/plain": [
       "(3772, 28)"
      ]
     },
     "execution_count": 89,
     "metadata": {},
     "output_type": "execute_result"
    }
   ],
   "source": [
    "df3.shape\n"
   ]
  },
  {
   "cell_type": "code",
   "execution_count": 90,
   "metadata": {},
   "outputs": [
    {
     "name": "stdout",
     "output_type": "stream",
     "text": [
      "There is 1 strongly correlated values with Class:\n",
      "T3_measured    0.121016\n",
      "Name: Class, dtype: float64\n"
     ]
    }
   ],
   "source": [
    "df3_num = df3.select_dtypes(include = ['float64','int64','int32'])\n",
    "df3_num_corr = df3_num.corr()['Class'][:-1] \n",
    "golden_features_list = df3_num_corr[abs(df3_num_corr) > 0.1].sort_values(ascending=False)\n",
    "print(\"There is {} strongly correlated values with Class:\\n{}\".format(len(golden_features_list), golden_features_list))"
   ]
  },
  {
   "cell_type": "code",
   "execution_count": 91,
   "metadata": {},
   "outputs": [
    {
     "name": "stdout",
     "output_type": "stream",
     "text": [
      "(3772, 27)\n",
      "(3772,)\n"
     ]
    }
   ],
   "source": [
    "feature_names1 =  feature_names.drop('Class')\n",
    "X              =  df3.loc[:,feature_names1] \n",
    "y              =  df3.loc[:,'Class']\n",
    "label_names    =  y.unique()\n",
    "print(X.shape)\n",
    "print(y.shape)"
   ]
  },
  {
   "cell_type": "code",
   "execution_count": 92,
   "metadata": {},
   "outputs": [
    {
     "data": {
      "text/html": [
       "<div>\n",
       "<style scoped>\n",
       "    .dataframe tbody tr th:only-of-type {\n",
       "        vertical-align: middle;\n",
       "    }\n",
       "\n",
       "    .dataframe tbody tr th {\n",
       "        vertical-align: top;\n",
       "    }\n",
       "\n",
       "    .dataframe thead th {\n",
       "        text-align: right;\n",
       "    }\n",
       "</style>\n",
       "<table border=\"1\" class=\"dataframe\">\n",
       "  <thead>\n",
       "    <tr style=\"text-align: right;\">\n",
       "      <th></th>\n",
       "      <th>age</th>\n",
       "      <th>sex</th>\n",
       "      <th>on_thyroxine</th>\n",
       "      <th>query_on_thyroxine</th>\n",
       "      <th>on_antithyroid_medication</th>\n",
       "      <th>sick</th>\n",
       "      <th>pregnant</th>\n",
       "      <th>thyroid_surgery</th>\n",
       "      <th>I131_treatment</th>\n",
       "      <th>query_hypothyroid</th>\n",
       "      <th>...</th>\n",
       "      <th>T3_measured</th>\n",
       "      <th>T3</th>\n",
       "      <th>TT4_measured</th>\n",
       "      <th>TT4</th>\n",
       "      <th>T4U_measured</th>\n",
       "      <th>T4U</th>\n",
       "      <th>FTI_measured</th>\n",
       "      <th>FTI</th>\n",
       "      <th>referral_source</th>\n",
       "      <th>Class</th>\n",
       "    </tr>\n",
       "  </thead>\n",
       "  <tbody>\n",
       "    <tr>\n",
       "      <th>0</th>\n",
       "      <td>41</td>\n",
       "      <td>1</td>\n",
       "      <td>0</td>\n",
       "      <td>0</td>\n",
       "      <td>0</td>\n",
       "      <td>0</td>\n",
       "      <td>0</td>\n",
       "      <td>0</td>\n",
       "      <td>0</td>\n",
       "      <td>0</td>\n",
       "      <td>...</td>\n",
       "      <td>1</td>\n",
       "      <td>2.5</td>\n",
       "      <td>1</td>\n",
       "      <td>125</td>\n",
       "      <td>1</td>\n",
       "      <td>1.14</td>\n",
       "      <td>1</td>\n",
       "      <td>109</td>\n",
       "      <td>1</td>\n",
       "      <td>0</td>\n",
       "    </tr>\n",
       "    <tr>\n",
       "      <th>1</th>\n",
       "      <td>23</td>\n",
       "      <td>1</td>\n",
       "      <td>0</td>\n",
       "      <td>0</td>\n",
       "      <td>0</td>\n",
       "      <td>0</td>\n",
       "      <td>0</td>\n",
       "      <td>0</td>\n",
       "      <td>0</td>\n",
       "      <td>0</td>\n",
       "      <td>...</td>\n",
       "      <td>1</td>\n",
       "      <td>2</td>\n",
       "      <td>1</td>\n",
       "      <td>102</td>\n",
       "      <td>0</td>\n",
       "      <td>NaN</td>\n",
       "      <td>0</td>\n",
       "      <td>NaN</td>\n",
       "      <td>4</td>\n",
       "      <td>0</td>\n",
       "    </tr>\n",
       "    <tr>\n",
       "      <th>2</th>\n",
       "      <td>46</td>\n",
       "      <td>2</td>\n",
       "      <td>0</td>\n",
       "      <td>0</td>\n",
       "      <td>0</td>\n",
       "      <td>0</td>\n",
       "      <td>0</td>\n",
       "      <td>0</td>\n",
       "      <td>0</td>\n",
       "      <td>0</td>\n",
       "      <td>...</td>\n",
       "      <td>0</td>\n",
       "      <td>NaN</td>\n",
       "      <td>1</td>\n",
       "      <td>109</td>\n",
       "      <td>1</td>\n",
       "      <td>0.91</td>\n",
       "      <td>1</td>\n",
       "      <td>120</td>\n",
       "      <td>4</td>\n",
       "      <td>0</td>\n",
       "    </tr>\n",
       "    <tr>\n",
       "      <th>3</th>\n",
       "      <td>70</td>\n",
       "      <td>1</td>\n",
       "      <td>1</td>\n",
       "      <td>0</td>\n",
       "      <td>0</td>\n",
       "      <td>0</td>\n",
       "      <td>0</td>\n",
       "      <td>0</td>\n",
       "      <td>0</td>\n",
       "      <td>0</td>\n",
       "      <td>...</td>\n",
       "      <td>1</td>\n",
       "      <td>1.9</td>\n",
       "      <td>1</td>\n",
       "      <td>175</td>\n",
       "      <td>0</td>\n",
       "      <td>NaN</td>\n",
       "      <td>0</td>\n",
       "      <td>NaN</td>\n",
       "      <td>4</td>\n",
       "      <td>0</td>\n",
       "    </tr>\n",
       "    <tr>\n",
       "      <th>4</th>\n",
       "      <td>70</td>\n",
       "      <td>1</td>\n",
       "      <td>0</td>\n",
       "      <td>0</td>\n",
       "      <td>0</td>\n",
       "      <td>0</td>\n",
       "      <td>0</td>\n",
       "      <td>0</td>\n",
       "      <td>0</td>\n",
       "      <td>0</td>\n",
       "      <td>...</td>\n",
       "      <td>1</td>\n",
       "      <td>1.2</td>\n",
       "      <td>1</td>\n",
       "      <td>61</td>\n",
       "      <td>1</td>\n",
       "      <td>0.87</td>\n",
       "      <td>1</td>\n",
       "      <td>70</td>\n",
       "      <td>3</td>\n",
       "      <td>0</td>\n",
       "    </tr>\n",
       "  </tbody>\n",
       "</table>\n",
       "<p>5 rows × 28 columns</p>\n",
       "</div>"
      ],
      "text/plain": [
       "  age  sex  on_thyroxine  query_on_thyroxine  on_antithyroid_medication  sick  \\\n",
       "0  41    1             0                   0                          0     0   \n",
       "1  23    1             0                   0                          0     0   \n",
       "2  46    2             0                   0                          0     0   \n",
       "3  70    1             1                   0                          0     0   \n",
       "4  70    1             0                   0                          0     0   \n",
       "\n",
       "   pregnant  thyroid_surgery  I131_treatment  query_hypothyroid  ...  \\\n",
       "0         0                0               0                  0  ...   \n",
       "1         0                0               0                  0  ...   \n",
       "2         0                0               0                  0  ...   \n",
       "3         0                0               0                  0  ...   \n",
       "4         0                0               0                  0  ...   \n",
       "\n",
       "   T3_measured   T3  TT4_measured  TT4  T4U_measured   T4U  FTI_measured  FTI  \\\n",
       "0            1  2.5             1  125             1  1.14             1  109   \n",
       "1            1    2             1  102             0   NaN             0  NaN   \n",
       "2            0  NaN             1  109             1  0.91             1  120   \n",
       "3            1  1.9             1  175             0   NaN             0  NaN   \n",
       "4            1  1.2             1   61             1  0.87             1   70   \n",
       "\n",
       "   referral_source Class  \n",
       "0                1     0  \n",
       "1                4     0  \n",
       "2                4     0  \n",
       "3                4     0  \n",
       "4                3     0  \n",
       "\n",
       "[5 rows x 28 columns]"
      ]
     },
     "execution_count": 92,
     "metadata": {},
     "output_type": "execute_result"
    }
   ],
   "source": [
    "seed      = 1\n",
    "test_size = 0.30\n",
    "X_train, X_test, y_train, y_test = train_test_split(X, y, test_size = 0.3, random_state = 1, stratify = y)\n",
    "df2.head()"
   ]
  },
  {
   "cell_type": "code",
   "execution_count": 93,
   "metadata": {},
   "outputs": [],
   "source": [
    "clf1   = DecisionTreeClassifier()\n",
    "\n",
    "# Train Decision Tree Classifer\n",
    "clf1    = clf1.fit(X_train,y_train)"
   ]
  },
  {
   "cell_type": "code",
   "execution_count": 94,
   "metadata": {},
   "outputs": [],
   "source": [
    "#Predict the response for test dataset\n",
    "predicted_test= clf1.predict(X_test)\n",
    "predicted_train=clf1.predict(X_train)"
   ]
  },
  {
   "cell_type": "code",
   "execution_count": 95,
   "metadata": {},
   "outputs": [
    {
     "name": "stdout",
     "output_type": "stream",
     "text": [
      "\n",
      "Test Data\n",
      "[[1055    8]\n",
      " [   7   62]]\n",
      "Training Accuracy: 100.000%\n",
      "Testing Accuracy: 98.675%\n"
     ]
    },
    {
     "data": {
      "image/png": "[encoded data removed]",
      "text/plain": [
       "<Figure size 432x288 with 2 Axes>"
      ]
     },
     "metadata": {
      "needs_background": "light"
     },
     "output_type": "display_data"
    }
   ],
   "source": [
    "matrix = confusion_matrix(y_test, predicted_test)\n",
    "print(\"\\nTest Data\")\n",
    "print(matrix)\n",
    "    \n",
    "accuracy_train = accuracy_score(y_train, predicted_train)\n",
    "accuracy_test = accuracy_score(y_test, predicted_test)\n",
    "print(\"Training Accuracy: %.3f%%\" % (accuracy_train * 100.0))\n",
    "print(\"Testing Accuracy: %.3f%%\" % (accuracy_test * 100.0))\n",
    "draw_cm(y_test, predicted_test)"
   ]
  },
  {
   "cell_type": "code",
   "execution_count": 96,
   "metadata": {},
   "outputs": [
    {
     "name": "stdout",
     "output_type": "stream",
     "text": [
      "\n",
      "Test data\n",
      "              precision    recall  f1-score   support\n",
      "\n",
      "           0       0.99      0.99      0.99      1063\n",
      "           1       0.89      0.90      0.89        69\n",
      "\n",
      "   micro avg       0.99      0.99      0.99      1132\n",
      "   macro avg       0.94      0.95      0.94      1132\n",
      "weighted avg       0.99      0.99      0.99      1132\n",
      "\n"
     ]
    }
   ],
   "source": [
    "measures_test= classification_report(y_test, predicted_test) \n",
    "print(\"\\nTest data\")\n",
    "print(measures_test)"
   ]
  },
  {
   "cell_type": "code",
   "execution_count": 97,
   "metadata": {},
   "outputs": [
    {
     "data": {
      "image/png": "[encoded data removed]",
      "text/plain": [
       "<Figure size 432x288 with 1 Axes>"
      ]
     },
     "metadata": {
      "needs_background": "light"
     },
     "output_type": "display_data"
    },
    {
     "data": {
      "text/plain": [
       "(array([0.        , 0.00752587, 1.        ]),\n",
       " array([0.        , 0.89855072, 1.        ]),\n",
       " array([2, 1, 0], dtype=int64))"
      ]
     },
     "execution_count": 97,
     "metadata": {},
     "output_type": "execute_result"
    }
   ],
   "source": [
    "draw_roc(y_test, predicted_test)"
   ]
  },
  {
   "cell_type": "markdown",
   "metadata": {},
   "source": [
    "# Plotting Feature Importances "
   ]
  },
  {
   "cell_type": "code",
   "execution_count": 80,
   "metadata": {},
   "outputs": [],
   "source": [
    "\n",
    "importances = clf.feature_importances_\n",
    "indices = np.argsort(importances)[::-1]\n",
    "names = [feature_names[i] for i in indices]"
   ]
  },
  {
   "cell_type": "code",
   "execution_count": 84,
   "metadata": {},
   "outputs": [
    {
     "data": {
      "image/png": "[encoded data removed]",
      "text/plain": [
       "<Figure size 432x288 with 1 Axes>"
      ]
     },
     "metadata": {
      "needs_background": "light"
     },
     "output_type": "display_data"
    }
   ],
   "source": [
    "plt.figure()\n",
    "plt.title(\"Feature Importance\")\n",
    "plt.bar(range(X.shape[1]), importances[indices])\n",
    "plt.xticks(range(X.shape[1]), names, rotation=90)\n",
    "plt.show()"
   ]
  },
  {
   "cell_type": "code",
   "execution_count": 98,
   "metadata": {},
   "outputs": [],
   "source": [
    "importances = clf1.feature_importances_\n",
    "indices = np.argsort(importances)[::-1]\n",
    "names = [feature_names[i] for i in indices]"
   ]
  },
  {
   "cell_type": "code",
   "execution_count": 99,
   "metadata": {},
   "outputs": [
    {
     "data": {
      "image/png": "[encoded data removed]",
      "text/plain": [
       "<Figure size 432x288 with 1 Axes>"
      ]
     },
     "metadata": {
      "needs_background": "light"
     },
     "output_type": "display_data"
    }
   ],
   "source": [
    "plt.figure()\n",
    "plt.title(\"Feature Importance\")\n",
    "plt.bar(range(X.shape[1]), importances[indices])\n",
    "plt.xticks(range(X.shape[1]), names, rotation=90)\n",
    "plt.show()"
   ]
  },
  {
   "cell_type": "code",
   "execution_count": null,
   "metadata": {},
   "outputs": [],
   "source": []
  }
 ],
 "metadata": {
  "kernelspec": {
   "display_name": "Python 3",
   "language": "python",
   "name": "python3"
  },
  "language_info": {
   "codemirror_mode": {
    "name": "ipython",
    "version": 3
   },
   "file_extension": ".py",
   "mimetype": "text/x-python",
   "name": "python",
   "nbconvert_exporter": "python",
   "pygments_lexer": "ipython3",
   "version": "3.7.3"
  }
 },
 "nbformat": 4,
 "nbformat_minor": 2
}
